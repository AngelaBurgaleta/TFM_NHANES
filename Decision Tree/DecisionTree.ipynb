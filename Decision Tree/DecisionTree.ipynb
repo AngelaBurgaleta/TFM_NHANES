{
  "nbformat": 4,
  "nbformat_minor": 0,
  "metadata": {
    "colab": {
      "name": "DecisionTree.ipynb",
      "provenance": [],
      "collapsed_sections": [
        "lz_QBX_15B-3"
      ]
    },
    "kernelspec": {
      "name": "python3",
      "display_name": "Python 3"
    },
    "language_info": {
      "name": "python"
    }
  },
  "cells": [
    {
      "cell_type": "code",
      "execution_count": 2,
      "metadata": {
        "id": "BV_w6kLHdnsh"
      },
      "outputs": [],
      "source": [
        "import tensorflow as tf\n",
        "from tensorflow import keras\n",
        "import matplotlib.pyplot as plt\n",
        "import matplotlib as mpl\n",
        "import numpy as np\n",
        "import pandas as pd\n",
        "import seaborn as sns\n",
        "from sklearn.preprocessing import StandardScaler\n",
        "from sklearn.preprocessing import MinMaxScaler \n",
        "from sklearn.decomposition import PCA\n",
        "from sklearn.model_selection import train_test_split\n",
        "from sklearn.linear_model import LogisticRegression\n",
        "from sklearn.pipeline import make_pipeline\n",
        "from sklearn.tree import DecisionTreeClassifier\n",
        "from sklearn import tree\n",
        "from sklearn.model_selection import cross_val_score, KFold\n",
        "from sklearn.pipeline import Pipeline\n",
        "from scipy.stats import sem\n",
        "from sklearn.model_selection import GridSearchCV\n",
        "from sklearn.tree import DecisionTreeClassifier\n",
        "from sklearn.metrics import roc_auc_score\n",
        "\n",
        "from sklearn.metrics import classification_report, recall_score, precision_score, make_scorer\n",
        "\n",
        "%matplotlib inline\n",
        "\n",
        "url_df = 'https://raw.githubusercontent.com/AngelaBurgaleta/TFM_NHANES/main/DATASETS%20DEFINITIVOS/PROCESSED/df_procesado_genderandage.csv'\n",
        "url_df45_sinoutliers = 'https://raw.githubusercontent.com/AngelaBurgaleta/TFM_NHANES/main/DATASETS%20DEFINITIVOS/PROCESSED/Sin_outliers/df_v45sinoutliers.csv'\n",
        "df = pd.read_csv(url_df45_sinoutliers)\n",
        "df = df.drop(['Unnamed: 0'], axis = 1)\n"
      ]
    },
    {
      "cell_type": "code",
      "source": [
        "y = df['MET_SYM']\n",
        "vars_descarte = ['REQ1', 'REQ2', 'REQ3', 'REQ4', 'REQ5', 'REQ_SUM', 'MET_SYM', 'BPXSY1', 'BPXDI1', 'BMXWAIST', 'LBXTR', 'BPQ090D', 'LBDHDD', 'BPQ040A', 'LBXGLU', 'DIQ070', 'BMXHT', 'BMXWT', 'SEQN', 'DPQ050', 'MCQ010', 'DBQ700', 'ALQ130', 'ALQ130_Tramos', 'PAQ665', 'PAQ620', 'PAQ605', 'BPQ050A']\n",
        "X = df.drop(vars_descarte, axis = 1)"
      ],
      "metadata": {
        "id": "zvezhM58drO5"
      },
      "execution_count": 3,
      "outputs": []
    },
    {
      "cell_type": "code",
      "source": [
        "vars_descarte_ms = ['REQ1', 'REQ2', 'REQ3', 'REQ4', 'REQ5', 'REQ_SUM', 'BPXSY1', 'BPXDI1', 'BMXWAIST', 'LBXTR', 'BPQ090D', 'LBDHDD', 'BPQ040A', 'LBXGLU', 'DIQ070', 'BMXHT', 'BMXWT', 'SEQN', 'DPQ050', 'MCQ010', 'DBQ700', 'ALQ130', 'ALQ130_Tramos', 'PAQ665', 'PAQ620', 'PAQ605', 'BPQ050A']\n",
        "df_ms = df.drop(vars_descarte_ms, axis = 1)"
      ],
      "metadata": {
        "id": "ZL4OPIJBqT4r"
      },
      "execution_count": null,
      "outputs": []
    },
    {
      "cell_type": "code",
      "source": [
        "#SIN PCA\n",
        "X_train, X_test, y_train, y_test = train_test_split(X, y, test_size=0.2, random_state=30)"
      ],
      "metadata": {
        "id": "CNBHcWiLqWLH"
      },
      "execution_count": null,
      "outputs": []
    },
    {
      "cell_type": "code",
      "source": [
        "#CON PCA\n",
        "#Normalización\n",
        "pca_pipe = make_pipeline(StandardScaler(), PCA())\n",
        "pca_pipe.fit(X)\n",
        "# Se extrae el modelo entrenado del pipeline\n",
        "modelo_pca = pca_pipe.named_steps['pca']\n",
        "#Aplicar PCA \n",
        "#fijamos componentes\n",
        "pca = PCA(n_components=26)\n",
        "X_pca = pca.fit_transform(X)\n",
        "X_pca.shape\n",
        "#Separar datos en train, test, entrada y salida despues del PCA\n",
        "X_train_pca, X_test_pca, y_train, y_test = train_test_split(X_pca, y, test_size=0.2, random_state=30)"
      ],
      "metadata": {
        "id": "iBnbrvq0dszF"
      },
      "execution_count": 4,
      "outputs": []
    },
    {
      "cell_type": "markdown",
      "source": [
        "#Decision Tree"
      ],
      "metadata": {
        "id": "Gfp8q_mPmlB1"
      }
    },
    {
      "cell_type": "markdown",
      "source": [
        "##Train Classifier"
      ],
      "metadata": {
        "id": "S3_udONm5zm_"
      }
    },
    {
      "cell_type": "code",
      "source": [
        "max_depth=3\n",
        "random_state=1\n",
        "\n",
        "# Create decision tree model\n",
        "model = tree.DecisionTreeClassifier(max_depth=max_depth, random_state=random_state)\n",
        "\n",
        "# Train the model using the training sets\n",
        "model.fit(X_train_pca, y_train) "
      ],
      "metadata": {
        "colab": {
          "base_uri": "https://localhost:8080/"
        },
        "id": "ZqA1O131f9MZ",
        "outputId": "8965c226-69c1-47bc-cc44-749eb3b781e1"
      },
      "execution_count": null,
      "outputs": [
        {
          "output_type": "execute_result",
          "data": {
            "text/plain": [
              "DecisionTreeClassifier(max_depth=3, random_state=1)"
            ]
          },
          "metadata": {},
          "execution_count": 5
        }
      ]
    },
    {
      "cell_type": "code",
      "source": [
        "print(\"Prediction \", model.predict(X_train_pca))\n",
        "print(\"Expected \", y_train)"
      ],
      "metadata": {
        "colab": {
          "base_uri": "https://localhost:8080/"
        },
        "id": "uNajfPenkv1T",
        "outputId": "465c9ccd-9b9d-4dca-f147-32a6f54e3699"
      },
      "execution_count": null,
      "outputs": [
        {
          "output_type": "stream",
          "name": "stdout",
          "text": [
            "Prediction  [0 0 0 ... 1 1 0]\n",
            "Expected  22405    0\n",
            "6084     0\n",
            "15709    0\n",
            "2570     0\n",
            "15713    1\n",
            "        ..\n",
            "500      0\n",
            "12077    1\n",
            "15277    0\n",
            "4517     1\n",
            "5925     0\n",
            "Name: MET_SYM, Length: 21492, dtype: int64\n"
          ]
        }
      ]
    },
    {
      "cell_type": "code",
      "source": [
        "# Print the \n",
        "print(\"Predicted probabilities\", model.predict_proba(X_train_pca[:10]))"
      ],
      "metadata": {
        "colab": {
          "base_uri": "https://localhost:8080/"
        },
        "id": "uXnIZis2k2-T",
        "outputId": "3baf127a-af2e-42fe-9945-11a4036a9769"
      },
      "execution_count": null,
      "outputs": [
        {
          "output_type": "stream",
          "name": "stdout",
          "text": [
            "Predicted probabilities [[0.95176227 0.04823773]\n",
            " [0.95176227 0.04823773]\n",
            " [0.84010695 0.15989305]\n",
            " [0.43979779 0.56020221]\n",
            " [0.4354603  0.5645397 ]\n",
            " [0.43979779 0.56020221]\n",
            " [0.95176227 0.04823773]\n",
            " [0.43979779 0.56020221]\n",
            " [0.95176227 0.04823773]\n",
            " [0.95176227 0.04823773]]\n"
          ]
        }
      ]
    },
    {
      "cell_type": "code",
      "source": [
        "# Evaluate Accuracy in training\n",
        "\n",
        "from sklearn import metrics\n",
        "y_train_pred = model.predict(X_train_pca)\n",
        "print(\"Accuracy in training\", metrics.accuracy_score(y_train, y_train_pred))"
      ],
      "metadata": {
        "colab": {
          "base_uri": "https://localhost:8080/"
        },
        "id": "FPPBkuduk7l6",
        "outputId": "ad43489f-d547-4960-e2cc-063b2b7814d7"
      },
      "execution_count": null,
      "outputs": [
        {
          "output_type": "stream",
          "name": "stdout",
          "text": [
            "Accuracy in training 0.7940163781872325\n"
          ]
        }
      ]
    },
    {
      "cell_type": "code",
      "source": [
        "# Now we evaluate error in testing\n",
        "y_test_pred = model.predict(X_test_pca)\n",
        "print(\"Accuracy in testing \", metrics.accuracy_score(y_test, y_test_pred))"
      ],
      "metadata": {
        "colab": {
          "base_uri": "https://localhost:8080/"
        },
        "id": "ugltnYUik_Zv",
        "outputId": "27beccdf-901a-47ae-b38f-ae194557124c"
      },
      "execution_count": null,
      "outputs": [
        {
          "output_type": "stream",
          "name": "stdout",
          "text": [
            "Accuracy in testing  0.7967615857063093\n"
          ]
        }
      ]
    },
    {
      "cell_type": "markdown",
      "source": [
        "##Evaluating the algorithm"
      ],
      "metadata": {
        "id": "GJU-hfSplNl8"
      }
    },
    {
      "cell_type": "code",
      "source": [
        "print(metrics.classification_report(y_test, y_test_pred))\n",
        "print(metrics.confusion_matrix(y_test, y_test_pred))"
      ],
      "metadata": {
        "colab": {
          "base_uri": "https://localhost:8080/"
        },
        "id": "xG1KpWGjlF79",
        "outputId": "9e7c40f3-da8b-4424-d2cd-9120cc1b83bb"
      },
      "execution_count": null,
      "outputs": [
        {
          "output_type": "stream",
          "name": "stdout",
          "text": [
            "              precision    recall  f1-score   support\n",
            "\n",
            "           0       0.91      0.74      0.81      3215\n",
            "           1       0.69      0.89      0.78      2158\n",
            "\n",
            "    accuracy                           0.80      5373\n",
            "   macro avg       0.80      0.81      0.80      5373\n",
            "weighted avg       0.82      0.80      0.80      5373\n",
            "\n",
            "[[2364  851]\n",
            " [ 241 1917]]\n"
          ]
        }
      ]
    },
    {
      "cell_type": "code",
      "source": [
        "print(metrics.confusion_matrix(y_test, y_test_pred))"
      ],
      "metadata": {
        "colab": {
          "base_uri": "https://localhost:8080/"
        },
        "id": "PrmHWlTJlVzI",
        "outputId": "f3606139-fec3-42b3-d261-94a2c33bcaf3"
      },
      "execution_count": null,
      "outputs": [
        {
          "output_type": "stream",
          "name": "stdout",
          "text": [
            "[[2364  851]\n",
            " [ 241 1917]]\n"
          ]
        }
      ]
    },
    {
      "cell_type": "markdown",
      "source": [
        "##K-fold cross validation"
      ],
      "metadata": {
        "id": "CJcAhSiilcO8"
      }
    },
    {
      "cell_type": "code",
      "source": [
        "# create a composite estimator made by a pipeline of preprocessing and the KNN model\n",
        "model = Pipeline([\n",
        "        ('scaler', StandardScaler()),\n",
        "        ('DecisionTree', DecisionTreeClassifier())\n",
        "])\n",
        "\n",
        "# create a k-fold cross validation iterator of k=10 folds\n",
        "cv = KFold(10, shuffle=True, random_state=33)\n",
        "\n",
        "# by default the score used is the one returned by score method of the estimator (accuracy)\n",
        "scores = cross_val_score(model, X_pca, y, cv=cv)\n",
        "print(scores)"
      ],
      "metadata": {
        "colab": {
          "base_uri": "https://localhost:8080/"
        },
        "id": "WZHCLXmelY7Q",
        "outputId": "c9fe98e3-0319-406e-d60b-26d03985347b"
      },
      "execution_count": null,
      "outputs": [
        {
          "output_type": "stream",
          "name": "stdout",
          "text": [
            "[0.78154075 0.7997767  0.79828805 0.79158913 0.7967994  0.78294862\n",
            " 0.78518243 0.79002234 0.78965004 0.78183172]\n"
          ]
        }
      ]
    },
    {
      "cell_type": "code",
      "source": [
        "\n",
        "def mean_score(scores):\n",
        "    return (\"Mean score: {0:.3f} (+/- {1:.3f})\").format(np.mean(scores), sem(scores))\n",
        "print(mean_score(scores))"
      ],
      "metadata": {
        "colab": {
          "base_uri": "https://localhost:8080/"
        },
        "id": "i02ayglbl9z8",
        "outputId": "ad6e01a0-3115-4b0b-9b75-4a59cbe48d4e"
      },
      "execution_count": null,
      "outputs": [
        {
          "output_type": "stream",
          "name": "stdout",
          "text": [
            "Mean score: 0.805 (+/- 0.003)\n"
          ]
        }
      ]
    },
    {
      "cell_type": "markdown",
      "source": [
        "#Model Tuning"
      ],
      "metadata": {
        "id": "2lCKNlYimnrd"
      }
    },
    {
      "cell_type": "markdown",
      "source": [
        "##Pipelines"
      ],
      "metadata": {
        "id": "6_FaM2KNmvyT"
      }
    },
    {
      "cell_type": "code",
      "source": [
        "model.named_steps"
      ],
      "metadata": {
        "colab": {
          "base_uri": "https://localhost:8080/"
        },
        "id": "hDuLVBRmmpE7",
        "outputId": "95aacec9-a6ac-47b9-cc12-b7faad0fc6d9"
      },
      "execution_count": null,
      "outputs": [
        {
          "output_type": "execute_result",
          "data": {
            "text/plain": [
              "{'DecisionTree': DecisionTreeClassifier(), 'scaler': StandardScaler()}"
            ]
          },
          "metadata": {},
          "execution_count": 13
        }
      ]
    },
    {
      "cell_type": "code",
      "source": [
        "model.steps"
      ],
      "metadata": {
        "colab": {
          "base_uri": "https://localhost:8080/"
        },
        "id": "zRXvs-ukmvM6",
        "outputId": "27a64718-b772-4a6f-84f5-b2493c870a8c"
      },
      "execution_count": null,
      "outputs": [
        {
          "output_type": "execute_result",
          "data": {
            "text/plain": [
              "[('scaler', StandardScaler()), ('DecisionTree', DecisionTreeClassifier())]"
            ]
          },
          "metadata": {},
          "execution_count": 14
        }
      ]
    },
    {
      "cell_type": "code",
      "source": [
        "model.get_params().keys()"
      ],
      "metadata": {
        "colab": {
          "base_uri": "https://localhost:8080/"
        },
        "id": "BbY_raOVmy_V",
        "outputId": "b7d188f4-008d-46ae-e399-61250db88c27"
      },
      "execution_count": null,
      "outputs": [
        {
          "output_type": "execute_result",
          "data": {
            "text/plain": [
              "dict_keys(['memory', 'steps', 'verbose', 'scaler', 'DecisionTree', 'scaler__copy', 'scaler__with_mean', 'scaler__with_std', 'DecisionTree__ccp_alpha', 'DecisionTree__class_weight', 'DecisionTree__criterion', 'DecisionTree__max_depth', 'DecisionTree__max_features', 'DecisionTree__max_leaf_nodes', 'DecisionTree__min_impurity_decrease', 'DecisionTree__min_samples_leaf', 'DecisionTree__min_samples_split', 'DecisionTree__min_weight_fraction_leaf', 'DecisionTree__random_state', 'DecisionTree__splitter'])"
            ]
          },
          "metadata": {},
          "execution_count": 15
        }
      ]
    },
    {
      "cell_type": "markdown",
      "source": [
        "##Tuning the algotihm"
      ],
      "metadata": {
        "id": "GhiIFl8ynAIa"
      }
    },
    {
      "cell_type": "code",
      "source": [
        "model.get_params()"
      ],
      "metadata": {
        "colab": {
          "base_uri": "https://localhost:8080/"
        },
        "id": "FbX2cK0Em3HV",
        "outputId": "71dc22bb-c67a-42c7-95fa-e9c33f26716e"
      },
      "execution_count": null,
      "outputs": [
        {
          "output_type": "execute_result",
          "data": {
            "text/plain": [
              "{'DecisionTree': DecisionTreeClassifier(),\n",
              " 'DecisionTree__ccp_alpha': 0.0,\n",
              " 'DecisionTree__class_weight': None,\n",
              " 'DecisionTree__criterion': 'gini',\n",
              " 'DecisionTree__max_depth': None,\n",
              " 'DecisionTree__max_features': None,\n",
              " 'DecisionTree__max_leaf_nodes': None,\n",
              " 'DecisionTree__min_impurity_decrease': 0.0,\n",
              " 'DecisionTree__min_samples_leaf': 1,\n",
              " 'DecisionTree__min_samples_split': 2,\n",
              " 'DecisionTree__min_weight_fraction_leaf': 0.0,\n",
              " 'DecisionTree__random_state': None,\n",
              " 'DecisionTree__splitter': 'best',\n",
              " 'memory': None,\n",
              " 'scaler': StandardScaler(),\n",
              " 'scaler__copy': True,\n",
              " 'scaler__with_mean': True,\n",
              " 'scaler__with_std': True,\n",
              " 'steps': [('scaler', StandardScaler()),\n",
              "  ('DecisionTree', DecisionTreeClassifier())],\n",
              " 'verbose': False}"
            ]
          },
          "metadata": {},
          "execution_count": 16
        }
      ]
    },
    {
      "cell_type": "markdown",
      "source": [
        "##Grid Search for Parameter optimization\n",
        "\n",
        "Changing manually the parameters to find their optimal values is not practical. Instead, we can consider to find the optimal value of the parameters as an optimization problem.\n",
        "\n",
        "The sklearn comes with several optimization techniques for this purpose, such as grid search and randomized search. In this notebook we are going to introduce the former one.\n",
        "\n",
        "The sklearn provides an object that, given data, computes the score during the fit of an estimator on a parameter grid and chooses the parameters to maximize the cross-validation score."
      ],
      "metadata": {
        "id": "IM2e-7gonFpv"
      }
    },
    {
      "cell_type": "code",
      "source": [
        "param_grid = {'max_depth': np.arange(3, 10)} \n",
        "\n",
        "gs = GridSearchCV(DecisionTreeClassifier(), param_grid)\n",
        "\n",
        "gs.fit(X_train_pca, y_train)\n",
        "\n",
        "# summarize the results of the grid search\n",
        "print(\"Best score: \", gs.best_score_)\n",
        "print(\"Best params: \", gs.best_params_)"
      ],
      "metadata": {
        "colab": {
          "base_uri": "https://localhost:8080/"
        },
        "id": "64q9F5D2nDP8",
        "outputId": "e8cd385a-d766-4fcf-ab9f-7756daf815b1"
      },
      "execution_count": null,
      "outputs": [
        {
          "output_type": "stream",
          "name": "stdout",
          "text": [
            "Best score:  0.8255628507111126\n",
            "Best params:  {'max_depth': 8}\n"
          ]
        }
      ]
    },
    {
      "cell_type": "code",
      "source": [
        "# We print the score for each value of max_depth\n",
        "for i, max_depth in enumerate(gs.cv_results_['params']):\n",
        "    print(\"%0.3f (+/-%0.03f) for %r\" % (gs.cv_results_['mean_test_score'][i],\n",
        "                                        gs.cv_results_['std_test_score'][i] * 2,\n",
        "                                        max_depth))"
      ],
      "metadata": {
        "colab": {
          "base_uri": "https://localhost:8080/"
        },
        "id": "wF5EKwzDnftv",
        "outputId": "44c83f4f-54e1-4971-8bcb-02b37cffc104"
      },
      "execution_count": null,
      "outputs": [
        {
          "output_type": "stream",
          "name": "stdout",
          "text": [
            "0.792 (+/-0.004) for {'max_depth': 3}\n",
            "0.799 (+/-0.011) for {'max_depth': 4}\n",
            "0.815 (+/-0.009) for {'max_depth': 5}\n",
            "0.814 (+/-0.005) for {'max_depth': 6}\n",
            "0.823 (+/-0.004) for {'max_depth': 7}\n",
            "0.826 (+/-0.003) for {'max_depth': 8}\n",
            "0.819 (+/-0.008) for {'max_depth': 9}\n"
          ]
        }
      ]
    },
    {
      "cell_type": "code",
      "source": [
        "#Ajuste de parámetros por validación cruzada\n",
        "#LLEVA TIEMPO\n",
        "\n",
        "from sklearn.metrics import classification_report, recall_score, precision_score, make_scorer\n",
        "\n",
        "#probamos parámetros\n",
        "tuned_parameters = [{'max_depth': np.arange(3, 10),\n",
        "#                     'max_weights': [1, 10, 100, 1000]},\n",
        "                     'criterion': ['gini', 'entropy'], \n",
        "                     'splitter': ['best', 'random'],\n",
        "                    # 'min_samples_leaf': [2, 5, 10],\n",
        "                     'class_weight':['balanced', None],\n",
        "                     'max_leaf_nodes': [None, 5, 10, 20]\n",
        "                    }]\n",
        "\n",
        "scores = ['precision', 'recall']\n",
        "\n",
        "for score in scores:\n",
        "    print(\"# Tuning hyper-parameters for %s\" % score)\n",
        "    print()\n",
        "\n",
        "    if score == 'precision':\n",
        "        scorer = make_scorer(precision_score, average='weighted', zero_division=0)\n",
        "    elif score == 'recall':\n",
        "        scorer = make_scorer(recall_score, average='weighted', zero_division=0)\n",
        "    \n",
        "    # cv = validación cruzada, por defecto iterador de 5, ajusto a 10\n",
        "    gs = GridSearchCV(DecisionTreeClassifier(), tuned_parameters, cv=10, scoring=scorer)\n",
        "    gs.fit(X_train_pca, y_train)\n",
        "\n",
        "    print(\"Best parameters set found on development set:\")\n",
        "    print()\n",
        "    print(gs.best_params_)\n",
        "    print()\n",
        "    print(\"Grid scores on development set:\")\n",
        "    print()\n",
        "    means = gs.cv_results_['mean_test_score']\n",
        "    stds = gs.cv_results_['std_test_score']\n",
        "\n",
        "    for mean_score, std_score, params in zip(means, stds, gs.cv_results_['params']):\n",
        "        print(\"%0.3f (+/-%0.03f) for %r\" % (mean_score, std_score * 2, params))\n",
        "    print()\n",
        "\n",
        "    print(\"Detailed classification report:\")\n",
        "    print()\n",
        "    print(\"The model is trained on the full development set.\")\n",
        "    print(\"The scores are computed on the full evaluation set.\")\n",
        "    print()\n",
        "    y_true, y_pred = y_test, gs.predict(X_test_pca)\n",
        "    print(classification_report(y_true, y_pred))\n",
        "    print()"
      ],
      "metadata": {
        "id": "_A-U8Fx_ntwX"
      },
      "execution_count": null,
      "outputs": []
    },
    {
      "cell_type": "code",
      "source": [
        "#Best parameters set found on development set:\n",
        "\n",
        "\n",
        "#{'class_weight': None, 'criterion': 'gini', 'max_depth': 7, 'max_leaf_nodes': None, 'splitter': 'best'}\n",
        "\n",
        "\n",
        "'''\n",
        "Detailed classification report:\n",
        "\n",
        "The model is trained on the full development set.\n",
        "The scores are computed on the full evaluation set.\n",
        "\n",
        "              precision    recall  f1-score   support\n",
        "\n",
        "           0       0.87      0.85      0.86      3215\n",
        "           1       0.78      0.81      0.79      2158\n",
        "\n",
        "    accuracy                           0.83      5373\n",
        "   macro avg       0.82      0.83      0.83      5373\n",
        "weighted avg       0.83      0.83      0.83      5373\n",
        "'''\n"
      ],
      "metadata": {
        "colab": {
          "base_uri": "https://localhost:8080/",
          "height": 52
        },
        "id": "n5U5X6f-uAAH",
        "outputId": "6708b7e9-c8e6-4632-b8d8-35f9b082d610"
      },
      "execution_count": null,
      "outputs": [
        {
          "output_type": "execute_result",
          "data": {
            "text/plain": [
              "'\\nDetailed classification report:\\n\\nThe model is trained on the full development set.\\nThe scores are computed on the full evaluation set.\\n\\n              precision    recall  f1-score   support\\n\\n           0       0.85      0.87      0.86      3215\\n           1       0.80      0.78      0.79      2158\\n\\n    accuracy                           0.83      5373\\n   macro avg       0.83      0.83      0.83      5373\\nweighted avg       0.83      0.83      0.83      5373\\n'"
            ],
            "application/vnd.google.colaboratory.intrinsic+json": {
              "type": "string"
            }
          },
          "metadata": {},
          "execution_count": 66
        }
      ]
    },
    {
      "cell_type": "markdown",
      "source": [
        "###Prepruning"
      ],
      "metadata": {
        "id": "Ule9jAp3DjX2"
      }
    },
    {
      "cell_type": "code",
      "source": [
        "#Ajuste de parámetros por validación cruzada\n",
        "#LLEVA TIEMPO\n",
        "\n",
        "from sklearn.metrics import classification_report, recall_score, precision_score, make_scorer\n",
        "\n",
        "#probamos parámetros\n",
        "tuned_parameters = [{ \"min_samples_split\": [2,5,7,10],\n",
        "                      \"min_samples_leaf\": [1,2,5]\n",
        "}]\n",
        "\n",
        "\n",
        "   \n",
        "\n",
        "scores = ['precision', 'recall']\n",
        "\n",
        "for score in scores:\n",
        "    print(\"# Tuning hyper-parameters for %s\" % score)\n",
        "    print()\n",
        "\n",
        "    if score == 'precision':\n",
        "        scorer = make_scorer(precision_score, average='weighted', zero_division=0)\n",
        "    elif score == 'recall':\n",
        "        scorer = make_scorer(recall_score, average='weighted', zero_division=0)\n",
        "    \n",
        "    # cv = validación cruzada, por defecto iterador de 5, ajusto a 10\n",
        "    gs = GridSearchCV(DecisionTreeClassifier(), tuned_parameters, cv=10, scoring=scorer)\n",
        "    gs.fit(X_train_pca, y_train)\n",
        "\n",
        "    print(\"Best parameters set found on development set:\")\n",
        "    print()\n",
        "    print(gs.best_params_)\n",
        "    print()\n",
        "    print(\"Grid scores on development set:\")\n",
        "    print()\n",
        "    means = gs.cv_results_['mean_test_score']\n",
        "    stds = gs.cv_results_['std_test_score']\n",
        "\n",
        "    for mean_score, std_score, params in zip(means, stds, gs.cv_results_['params']):\n",
        "        print(\"%0.3f (+/-%0.03f) for %r\" % (mean_score, std_score * 2, params))\n",
        "    print()\n",
        "\n",
        "    print(\"Detailed classification report:\")\n",
        "    print()\n",
        "    print(\"The model is trained on the full development set.\")\n",
        "    print(\"The scores are computed on the full evaluation set.\")\n",
        "    print()\n",
        "    y_true, y_pred = y_test, gs.predict(X_test_pca)\n",
        "    print(classification_report(y_true, y_pred))\n",
        "    print()"
      ],
      "metadata": {
        "colab": {
          "base_uri": "https://localhost:8080/"
        },
        "id": "jNqGt4eqDlZr",
        "outputId": "334a93d3-640d-4533-ac83-c8fbcbf9f257"
      },
      "execution_count": 5,
      "outputs": [
        {
          "output_type": "stream",
          "name": "stdout",
          "text": [
            "# Tuning hyper-parameters for precision\n",
            "\n",
            "Best parameters set found on development set:\n",
            "\n",
            "{'min_samples_leaf': 5, 'min_samples_split': 7}\n",
            "\n",
            "Grid scores on development set:\n",
            "\n",
            "0.788 (+/-0.014) for {'min_samples_leaf': 1, 'min_samples_split': 2}\n",
            "0.786 (+/-0.011) for {'min_samples_leaf': 1, 'min_samples_split': 5}\n",
            "0.788 (+/-0.014) for {'min_samples_leaf': 1, 'min_samples_split': 7}\n",
            "0.789 (+/-0.013) for {'min_samples_leaf': 1, 'min_samples_split': 10}\n",
            "0.790 (+/-0.012) for {'min_samples_leaf': 2, 'min_samples_split': 2}\n",
            "0.788 (+/-0.023) for {'min_samples_leaf': 2, 'min_samples_split': 5}\n",
            "0.790 (+/-0.017) for {'min_samples_leaf': 2, 'min_samples_split': 7}\n",
            "0.791 (+/-0.018) for {'min_samples_leaf': 2, 'min_samples_split': 10}\n",
            "0.799 (+/-0.015) for {'min_samples_leaf': 5, 'min_samples_split': 2}\n",
            "0.799 (+/-0.016) for {'min_samples_leaf': 5, 'min_samples_split': 5}\n",
            "0.799 (+/-0.017) for {'min_samples_leaf': 5, 'min_samples_split': 7}\n",
            "0.798 (+/-0.016) for {'min_samples_leaf': 5, 'min_samples_split': 10}\n",
            "\n",
            "Detailed classification report:\n",
            "\n",
            "The model is trained on the full development set.\n",
            "The scores are computed on the full evaluation set.\n",
            "\n",
            "              precision    recall  f1-score   support\n",
            "\n",
            "           0       0.83      0.83      0.83      3215\n",
            "           1       0.75      0.75      0.75      2158\n",
            "\n",
            "    accuracy                           0.80      5373\n",
            "   macro avg       0.79      0.79      0.79      5373\n",
            "weighted avg       0.80      0.80      0.80      5373\n",
            "\n",
            "\n",
            "# Tuning hyper-parameters for recall\n",
            "\n",
            "Best parameters set found on development set:\n",
            "\n",
            "{'min_samples_leaf': 5, 'min_samples_split': 10}\n",
            "\n",
            "Grid scores on development set:\n",
            "\n",
            "0.787 (+/-0.012) for {'min_samples_leaf': 1, 'min_samples_split': 2}\n",
            "0.789 (+/-0.014) for {'min_samples_leaf': 1, 'min_samples_split': 5}\n",
            "0.786 (+/-0.010) for {'min_samples_leaf': 1, 'min_samples_split': 7}\n",
            "0.788 (+/-0.016) for {'min_samples_leaf': 1, 'min_samples_split': 10}\n",
            "0.792 (+/-0.015) for {'min_samples_leaf': 2, 'min_samples_split': 2}\n",
            "0.792 (+/-0.014) for {'min_samples_leaf': 2, 'min_samples_split': 5}\n",
            "0.793 (+/-0.018) for {'min_samples_leaf': 2, 'min_samples_split': 7}\n",
            "0.792 (+/-0.018) for {'min_samples_leaf': 2, 'min_samples_split': 10}\n",
            "0.799 (+/-0.017) for {'min_samples_leaf': 5, 'min_samples_split': 2}\n",
            "0.798 (+/-0.015) for {'min_samples_leaf': 5, 'min_samples_split': 5}\n",
            "0.800 (+/-0.016) for {'min_samples_leaf': 5, 'min_samples_split': 7}\n",
            "0.800 (+/-0.014) for {'min_samples_leaf': 5, 'min_samples_split': 10}\n",
            "\n",
            "Detailed classification report:\n",
            "\n",
            "The model is trained on the full development set.\n",
            "The scores are computed on the full evaluation set.\n",
            "\n",
            "              precision    recall  f1-score   support\n",
            "\n",
            "           0       0.83      0.83      0.83      3215\n",
            "           1       0.75      0.75      0.75      2158\n",
            "\n",
            "    accuracy                           0.80      5373\n",
            "   macro avg       0.79      0.79      0.79      5373\n",
            "weighted avg       0.80      0.80      0.80      5373\n",
            "\n",
            "\n"
          ]
        }
      ]
    },
    {
      "cell_type": "code",
      "source": [
        "#Prepruning result\n",
        "'''\n",
        "Detailed classification report:\n",
        "\n",
        "The model is trained on the full development set.\n",
        "The scores are computed on the full evaluation set.\n",
        "\n",
        "              precision    recall  f1-score   support\n",
        "\n",
        "           0       0.83      0.83      0.83      3215\n",
        "           1       0.75      0.75      0.75      2158\n",
        "\n",
        "    accuracy                           0.80      5373\n",
        "   macro avg       0.79      0.79      0.79      5373\n",
        "weighted avg       0.80      0.80      0.80      5373\n",
        "\n",
        "Best parameters set found on development set:\n",
        "\n",
        "{'min_samples_leaf': 5, 'min_samples_split': 10}\n",
        "\n",
        "'''\n"
      ],
      "metadata": {
        "id": "dDsW2XPUFH0V"
      },
      "execution_count": null,
      "outputs": []
    },
    {
      "cell_type": "code",
      "source": [
        "from sklearn.metrics import roc_auc_score\n",
        "print(\"Param for GS\", gs.best_params_)\n",
        "print(\"CV score for GS\", gs.best_score_)\n",
        "print(\"Train AUC ROC Score for GS: \", roc_auc_score(y_train, gs.predict(X_train_pca)))\n",
        "print(\"Test AUC ROC Score for GS: \", roc_auc_score(y_test, gs.predict(X_test_pca)))"
      ],
      "metadata": {
        "colab": {
          "base_uri": "https://localhost:8080/"
        },
        "id": "0yeTQt7IFRhu",
        "outputId": "c30e2f4b-9427-4130-8171-b59ae5e4eb8e"
      },
      "execution_count": 9,
      "outputs": [
        {
          "output_type": "stream",
          "name": "stdout",
          "text": [
            "Param for GS {'min_samples_leaf': 5, 'min_samples_split': 10}\n",
            "CV score for GS 0.7999717986732606\n",
            "Train AUC ROC Score for GS:  0.9384218499092014\n",
            "Test AUC ROC Score for GS:  0.7874972073963997\n"
          ]
        }
      ]
    },
    {
      "cell_type": "markdown",
      "source": [
        "##Modelo tras ajuste de parametros"
      ],
      "metadata": {
        "id": "GRhakuvPxreF"
      }
    },
    {
      "cell_type": "code",
      "source": [
        "max_depth= 4\n",
        "max_leaf_nodes = None\n",
        "splitter = 'best'\n",
        "class_weigth = None\n",
        "criterion = 'gini'\n",
        "random_state = 1\n",
        "min_samples_leaf = 5\n",
        "min_samples_split = 10\n",
        "\n",
        "\n",
        "# Create decision tree model\n",
        "model = tree.DecisionTreeClassifier(max_depth=max_depth, random_state=random_state, splitter = splitter, criterion = criterion, min_samples_split= min_samples_split, min_samples_leaf = min_samples_leaf )\n",
        "\n",
        "# Train the model using the training sets\n",
        "model.fit(X_train_pca, y_train) "
      ],
      "metadata": {
        "colab": {
          "base_uri": "https://localhost:8080/"
        },
        "id": "MX_MRle4xqLV",
        "outputId": "a76934cb-aab0-4de2-d257-75fa4aede429"
      },
      "execution_count": 22,
      "outputs": [
        {
          "output_type": "execute_result",
          "data": {
            "text/plain": [
              "DecisionTreeClassifier(max_depth=4, min_samples_leaf=5, min_samples_split=10,\n",
              "                       random_state=1)"
            ]
          },
          "metadata": {},
          "execution_count": 22
        }
      ]
    },
    {
      "cell_type": "code",
      "source": [
        "print(\"Prediction \", model.predict(X_train_pca))\n",
        "print(\"Expected \", y_train)"
      ],
      "metadata": {
        "colab": {
          "base_uri": "https://localhost:8080/"
        },
        "id": "AvFevJihzDz1",
        "outputId": "aa584f9b-1a6c-42fc-a921-1c01a95f460f"
      },
      "execution_count": 12,
      "outputs": [
        {
          "output_type": "stream",
          "name": "stdout",
          "text": [
            "Prediction  [0 0 0 ... 1 1 0]\n",
            "Expected  22405    0\n",
            "6084     0\n",
            "15709    0\n",
            "2570     0\n",
            "15713    1\n",
            "        ..\n",
            "500      0\n",
            "12077    1\n",
            "15277    0\n",
            "4517     1\n",
            "5925     0\n",
            "Name: MET_SYM, Length: 21492, dtype: int64\n"
          ]
        }
      ]
    },
    {
      "cell_type": "code",
      "source": [
        "# Evaluate Accuracy in training\n",
        "\n",
        "from sklearn import metrics\n",
        "y_train_pred = model.predict(X_train_pca)\n",
        "print(\"Accuracy in training\", metrics.accuracy_score(y_train, y_train_pred))"
      ],
      "metadata": {
        "colab": {
          "base_uri": "https://localhost:8080/"
        },
        "id": "BeZLMZCszKGk",
        "outputId": "0c4f200b-1fb5-45f8-f654-5689ef8087cf"
      },
      "execution_count": 23,
      "outputs": [
        {
          "output_type": "stream",
          "name": "stdout",
          "text": [
            "Accuracy in training 0.8040666294435138\n"
          ]
        }
      ]
    },
    {
      "cell_type": "code",
      "source": [
        "#importancia de atributos \n",
        "\n",
        "feature_importances = model.feature_importances_"
      ],
      "metadata": {
        "id": "nbOOEfJQoIHB"
      },
      "execution_count": 24,
      "outputs": []
    },
    {
      "cell_type": "code",
      "source": [
        "print(feature_importances)"
      ],
      "metadata": {
        "colab": {
          "base_uri": "https://localhost:8080/"
        },
        "id": "pU6MEvocxD-5",
        "outputId": "6295e265-bbdb-4b25-be2c-e7f207367232"
      },
      "execution_count": null,
      "outputs": [
        {
          "output_type": "stream",
          "name": "stdout",
          "text": [
            "[0.49907256 0.09731549 0.05922866 0.00126755 0.0019815  0.0051323\n",
            " 0.00076867 0.00199947 0.07976459 0.00380227 0.03287549 0.01009683\n",
            " 0.00249284 0.00177462 0.14714072 0.00153653 0.00210227 0.0279627\n",
            " 0.00314414 0.00503515 0.0027685  0.00160631 0.00188766 0.00249033\n",
            " 0.00218199 0.00089427 0.0036766 ]\n"
          ]
        }
      ]
    },
    {
      "cell_type": "code",
      "source": [
        "X.columns"
      ],
      "metadata": {
        "colab": {
          "base_uri": "https://localhost:8080/"
        },
        "id": "huKf-KVSzZqA",
        "outputId": "e6987620-d971-4126-99cb-b5b7d9e436bd"
      },
      "execution_count": null,
      "outputs": [
        {
          "output_type": "execute_result",
          "data": {
            "text/plain": [
              "Index(['DIQ010', 'INQ020', 'INDFMMPI', 'INDFMMPC', 'BMXBMI', 'BPQ030',\n",
              "       'BPQ050A', 'LBXIN', 'MCQ080', 'MCQ220', 'MCQ300C', 'HIQ011', 'SMQ020',\n",
              "       'RIAGENDR', 'RIDAGEYR', 'RIDRETH3', 'DMDEDUC2', 'PAQ635', 'PAQ650',\n",
              "       'HSD010', 'SLQ050', 'DPQ020', 'DPQ030', 'DPQ040', 'RIDAGEYR_Tramos',\n",
              "       'Etnia_1.0', 'Etnia_2.0', 'Etnia_3.0', 'Etnia_4.0', 'Etnia_6.0',\n",
              "       'Etnia_7.0', 'WHI'],\n",
              "      dtype='object')"
            ]
          },
          "metadata": {},
          "execution_count": 89
        }
      ]
    },
    {
      "cell_type": "code",
      "source": [
        "print(metrics.classification_report(y_test, y_test_pred))\n",
        "print(' ')\n",
        "print('----------------')\n",
        "print(' ')\n",
        "print(metrics.confusion_matrix(y_test, y_test_pred))"
      ],
      "metadata": {
        "colab": {
          "base_uri": "https://localhost:8080/",
          "height": 235
        },
        "id": "6l_RPaeHzqkh",
        "outputId": "f6639835-f6e7-4d16-b467-0637735f65b8"
      },
      "execution_count": 15,
      "outputs": [
        {
          "output_type": "error",
          "ename": "NameError",
          "evalue": "ignored",
          "traceback": [
            "\u001b[0;31m---------------------------------------------------------------------------\u001b[0m",
            "\u001b[0;31mNameError\u001b[0m                                 Traceback (most recent call last)",
            "\u001b[0;32m<ipython-input-15-74c5d40ba00c>\u001b[0m in \u001b[0;36m<module>\u001b[0;34m()\u001b[0m\n\u001b[0;32m----> 1\u001b[0;31m \u001b[0mprint\u001b[0m\u001b[0;34m(\u001b[0m\u001b[0mmetrics\u001b[0m\u001b[0;34m.\u001b[0m\u001b[0mclassification_report\u001b[0m\u001b[0;34m(\u001b[0m\u001b[0my_test\u001b[0m\u001b[0;34m,\u001b[0m \u001b[0my_test_pred\u001b[0m\u001b[0;34m)\u001b[0m\u001b[0;34m)\u001b[0m\u001b[0;34m\u001b[0m\u001b[0;34m\u001b[0m\u001b[0m\n\u001b[0m\u001b[1;32m      2\u001b[0m \u001b[0mprint\u001b[0m\u001b[0;34m(\u001b[0m\u001b[0;34m' '\u001b[0m\u001b[0;34m)\u001b[0m\u001b[0;34m\u001b[0m\u001b[0;34m\u001b[0m\u001b[0m\n\u001b[1;32m      3\u001b[0m \u001b[0mprint\u001b[0m\u001b[0;34m(\u001b[0m\u001b[0;34m'----------------'\u001b[0m\u001b[0;34m)\u001b[0m\u001b[0;34m\u001b[0m\u001b[0;34m\u001b[0m\u001b[0m\n\u001b[1;32m      4\u001b[0m \u001b[0mprint\u001b[0m\u001b[0;34m(\u001b[0m\u001b[0;34m' '\u001b[0m\u001b[0;34m)\u001b[0m\u001b[0;34m\u001b[0m\u001b[0;34m\u001b[0m\u001b[0m\n\u001b[1;32m      5\u001b[0m \u001b[0mprint\u001b[0m\u001b[0;34m(\u001b[0m\u001b[0mmetrics\u001b[0m\u001b[0;34m.\u001b[0m\u001b[0mconfusion_matrix\u001b[0m\u001b[0;34m(\u001b[0m\u001b[0my_test\u001b[0m\u001b[0;34m,\u001b[0m \u001b[0my_test_pred\u001b[0m\u001b[0;34m)\u001b[0m\u001b[0;34m)\u001b[0m\u001b[0;34m\u001b[0m\u001b[0;34m\u001b[0m\u001b[0m\n",
            "\u001b[0;31mNameError\u001b[0m: name 'y_test_pred' is not defined"
          ]
        }
      ]
    },
    {
      "cell_type": "markdown",
      "source": [
        "##Postpruning"
      ],
      "metadata": {
        "id": "GZa3nOH8GaM1"
      }
    },
    {
      "cell_type": "code",
      "source": [
        "# Allow a decision tree to grow to its full depth\n",
        "clf = DecisionTreeClassifier(random_state=42)\n",
        "clf.fit(X_train_pca, y_train)\n",
        "\n",
        "# compute ccp_alpha values\n",
        "path = clf.cost_complexity_pruning_path(X_train_pca, y_train)\n",
        "ccp_alphas, impurities = path.ccp_alphas, path.impurities\n",
        "\n",
        "# train DT classifier for each ccp_alpha value\n",
        "clfs = []\n",
        "for ccp_alpha in ccp_alphas:\n",
        "    clf = DecisionTreeClassifier(random_state=42, ccp_alpha=ccp_alpha)\n",
        "    clf.fit(X_train_pca, y_train)\n",
        "    clfs.append(clf)\n",
        "\n",
        "# Plot train and test score for each of the above trained model    \n",
        "clfs = clfs[:-1]\n",
        "ccp_alphas = ccp_alphas[:-1]\n",
        "\n",
        "train_scores = [roc_auc_score(y_train, clf.predict(X_train_pca)) for clf in clfs]\n",
        "test_scores = [roc_auc_score(y_test, clf.predict(X_test_pca)) for clf in clfs]\n",
        "\n",
        "fig, ax = plt.subplots()\n",
        "ax.set_xlabel(\"alpha\")\n",
        "ax.set_ylabel(\"accuracy\")\n",
        "ax.set_title(\"AUC-ROC score vs alpha\")\n",
        "ax.plot(ccp_alphas, train_scores, marker='o', label=\"train\")\n",
        "ax.plot(ccp_alphas, test_scores, marker='o', label=\"test\")\n",
        "ax.legend()\n",
        "plt.show()"
      ],
      "metadata": {
        "colab": {
          "base_uri": "https://localhost:8080/",
          "height": 295
        },
        "id": "isb4ECRPGbyb",
        "outputId": "eae6538f-c5ef-4f74-8075-598d58c4fad8"
      },
      "execution_count": 16,
      "outputs": [
        {
          "output_type": "display_data",
          "data": {
            "text/plain": [
              "<Figure size 432x288 with 1 Axes>"
            ],
            "image/png": "[encoded data removed]"
          },
          "metadata": {
            "needs_background": "light"
          }
        }
      ]
    },
    {
      "cell_type": "markdown",
      "source": [
        "##roc curve\n",
        "\n",
        "https://www.projectpro.io/recipes/plot-roc-curve-in-python"
      ],
      "metadata": {
        "id": "eVqznSID27Id"
      }
    },
    {
      "cell_type": "code",
      "source": [
        "from sklearn.metrics import roc_curve, roc_auc_score"
      ],
      "metadata": {
        "id": "wqBd8Owb1TEk"
      },
      "execution_count": null,
      "outputs": []
    },
    {
      "cell_type": "code",
      "source": [
        "clf_tree = model"
      ],
      "metadata": {
        "id": "wPP2CHiN28fF"
      },
      "execution_count": null,
      "outputs": []
    },
    {
      "cell_type": "code",
      "source": [
        "y_score1 = clf_tree.predict_proba(X_test_pca)[:,1]\n"
      ],
      "metadata": {
        "id": "mUxIuluT3MVb"
      },
      "execution_count": null,
      "outputs": []
    },
    {
      "cell_type": "code",
      "source": [
        "false_positive_rate1, true_positive_rate1, threshold1 = roc_curve(y_test, y_score1)\n"
      ],
      "metadata": {
        "id": "TRWy-TBw3P-r"
      },
      "execution_count": null,
      "outputs": []
    },
    {
      "cell_type": "code",
      "source": [
        "print('roc_auc_score for DecisionTree: ', roc_auc_score(y_test, y_score1))"
      ],
      "metadata": {
        "colab": {
          "base_uri": "https://localhost:8080/"
        },
        "id": "aBNRMvnx3bDJ",
        "outputId": "e990c8d9-8ca2-445a-8ccb-6dae96eceed0"
      },
      "execution_count": null,
      "outputs": [
        {
          "output_type": "stream",
          "name": "stdout",
          "text": [
            "roc_auc_score for DecisionTree:  0.9078661337538214\n"
          ]
        }
      ]
    },
    {
      "cell_type": "code",
      "source": [
        "plt.subplots(1, figsize=(10,10))\n",
        "plt.title('Receiver Operating Characteristic - DecisionTree')\n",
        "plt.plot(false_positive_rate1, true_positive_rate1)\n",
        "plt.plot([0, 1], ls=\"--\")\n",
        "plt.plot([0, 0], [1, 0] , c=\".7\"), plt.plot([1, 1] , c=\".7\")\n",
        "plt.ylabel('True Positive Rate')\n",
        "plt.xlabel('False Positive Rate')\n",
        "plt.show()\n",
        "\n"
      ],
      "metadata": {
        "colab": {
          "base_uri": "https://localhost:8080/",
          "height": 621
        },
        "id": "EgAe6iju3e2m",
        "outputId": "c85172ab-5f11-436c-9051-9a386ea7aa0e"
      },
      "execution_count": null,
      "outputs": [
        {
          "output_type": "display_data",
          "data": {
            "text/plain": [
              "<Figure size 720x720 with 1 Axes>"
            ],
            "image/png": "[encoded data removed]"
          },
          "metadata": {
            "needs_background": "light"
          }
        }
      ]
    },
    {
      "cell_type": "code",
      "source": [
        "#tree train 7 test accuracy against max depth\n",
        "\n",
        "import numpy as np\n",
        "import matplotlib.pyplot as plt\n",
        "\n",
        "max_depth_list = [1,2,3,4,5, 6, 7, 8, 9]\n",
        "\n",
        "train_errors = [] # Log training errors for each model\n",
        "test_errors = [] # Log testing errors for each model\n",
        "\n",
        "for x in max_depth_list:\n",
        "    model = DecisionTreeClassifier(max_depth=x) \n",
        "    model.fit(X_train_pca,y_train)\n",
        "    y_train_pred = model.predict(X_train_pca)\n",
        "    y_test_pred = model.predict(X_test_pca)\n",
        "    train_errors.append(metrics.accuracy_score(y_train, y_train_pred))\n",
        "    test_errors.append(metrics.accuracy_score(y_test, y_test_pred))\n",
        "\n",
        "x = np.arange(len(max_depth_list)) + 1 # Create domain for plot\n",
        "plt.plot(x, train_errors, label='Training Error') # Plot training error over domain\n",
        "plt.plot(x, test_errors, label='Testing Error') # Plot testing error over domain\n",
        "plt.xlabel('Maximum Depth') # Label x-axis\n",
        "plt.ylabel('Total Error') # Label y-axis\n",
        "plt.legend() # Show plot labels as legend\n",
        "plt.show() # Show graph\n",
        "\n",
        "\n",
        "'''\n",
        "print(\"Accuracy in testing \", metrics.accuracy_score(y_test, y_test_pred))\n",
        "print(\"Accuracy in testing \", metrics.accuracy_score(y_test, y_test_pred))\n",
        "y_test_pred = model.predict(X_test_pca)\n",
        "\n",
        "y_train_pred = model.predict(X_train_pca)\n",
        "print(\"Accuracy in training\", metrics.accuracy_score(y_train, y_train_pred))\n",
        "\n",
        "\n",
        "As observed from the above plot, with an increase in max_depth training AUC-ROC score continuously increases, but the test AUC score remains constants after a value of max depth. \n",
        "The best-fit decision tree is at a max depth value of 5. Increase the max depth value further can cause an overfitting problem.\n",
        "'''"
      ],
      "metadata": {
        "colab": {
          "base_uri": "https://localhost:8080/",
          "height": 332
        },
        "id": "QR6L88LCInPe",
        "outputId": "c46217a5-3173-4414-e140-3038cde50bab"
      },
      "execution_count": 28,
      "outputs": [
        {
          "output_type": "display_data",
          "data": {
            "text/plain": [
              "<Figure size 432x288 with 1 Axes>"
            ],
            "image/png": "[encoded data removed]"
          },
          "metadata": {
            "needs_background": "light"
          }
        },
        {
          "output_type": "execute_result",
          "data": {
            "text/plain": [
              "'\\nprint(\"Accuracy in testing \", metrics.accuracy_score(y_test, y_test_pred))\\nprint(\"Accuracy in testing \", metrics.accuracy_score(y_test, y_test_pred))\\ny_test_pred = model.predict(X_test_pca)\\n\\ny_train_pred = model.predict(X_train_pca)\\nprint(\"Accuracy in training\", metrics.accuracy_score(y_train, y_train_pred))\\n\\n\\nAs observed from the above plot, with an increase in max_depth training AUC-ROC score continuously increases, but the test AUC score remains constants after a value of max depth. \\nThe best-fit decision tree is at a max depth value of 5. Increase the max depth value further can cause an overfitting problem.\\n'"
            ],
            "application/vnd.google.colaboratory.intrinsic+json": {
              "type": "string"
            }
          },
          "metadata": {},
          "execution_count": 28
        }
      ]
    },
    {
      "cell_type": "markdown",
      "source": [
        "#SIN PCA"
      ],
      "metadata": {
        "id": "lz_QBX_15B-3"
      }
    },
    {
      "cell_type": "code",
      "source": [
        "# create a composite estimator made by a pipeline of preprocessing and the KNN model\n",
        "model = Pipeline([\n",
        "        ('scaler', StandardScaler()),\n",
        "        ('DecisionTree', DecisionTreeClassifier())\n",
        "])\n",
        "\n",
        "# create a k-fold cross validation iterator of k=10 folds\n",
        "cv = KFold(10, shuffle=True, random_state=33)\n",
        "\n",
        "# by default the score used is the one returned by score method of the estimator (accuracy)\n",
        "scores = cross_val_score(model, X, y, cv=cv)\n",
        "print(scores)"
      ],
      "metadata": {
        "id": "cCibZZrW5DYE"
      },
      "execution_count": null,
      "outputs": []
    },
    {
      "cell_type": "code",
      "source": [
        "\n",
        "def mean_score(scores):\n",
        "    return (\"Mean score: {0:.3f} (+/- {1:.3f})\").format(np.mean(scores), sem(scores))\n",
        "print(mean_score(scores))"
      ],
      "metadata": {
        "id": "MMYNK26H6U-K"
      },
      "execution_count": null,
      "outputs": []
    },
    {
      "cell_type": "code",
      "source": [
        "#Ajuste de parámetros por validación cruzada\n",
        "#LLEVA TIEMPO\n",
        "\n",
        "from sklearn.metrics import classification_report, recall_score, precision_score, make_scorer\n",
        "\n",
        "#probamos parámetros\n",
        "tuned_parameters = [{'max_depth': np.arange(3, 10),\n",
        "#                     'max_weights': [1, 10, 100, 1000]},\n",
        "                     'criterion': ['gini', 'entropy'], \n",
        "                     'splitter': ['best', 'random'],\n",
        "                    # 'min_samples_leaf': [2, 5, 10],\n",
        "                     'class_weight':['balanced', None],\n",
        "                     'max_leaf_nodes': [None, 5, 10, 20]\n",
        "                    }]\n",
        "\n",
        "scores = ['precision', 'recall']\n",
        "\n",
        "for score in scores:\n",
        "    print(\"# Tuning hyper-parameters for %s\" % score)\n",
        "    print()\n",
        "\n",
        "    if score == 'precision':\n",
        "        scorer = make_scorer(precision_score, average='weighted', zero_division=0)\n",
        "    elif score == 'recall':\n",
        "        scorer = make_scorer(recall_score, average='weighted', zero_division=0)\n",
        "    \n",
        "    # cv = validación cruzada, por defecto iterador de 5, ajusto a 10\n",
        "    gs = GridSearchCV(DecisionTreeClassifier(), tuned_parameters, cv=10, scoring=scorer)\n",
        "    gs.fit(X_train, y_train)\n",
        "\n",
        "    print(\"Best parameters set found on development set:\")\n",
        "    print()\n",
        "    print(gs.best_params_)\n",
        "    print()\n",
        "    print(\"Grid scores on development set:\")\n",
        "    print()\n",
        "    means = gs.cv_results_['mean_test_score']\n",
        "    stds = gs.cv_results_['std_test_score']\n",
        "\n",
        "    for mean_score, std_score, params in zip(means, stds, gs.cv_results_['params']):\n",
        "        print(\"%0.3f (+/-%0.03f) for %r\" % (mean_score, std_score * 2, params))\n",
        "    print()\n",
        "\n",
        "    print(\"Detailed classification report:\")\n",
        "    print()\n",
        "    print(\"The model is trained on the full development set.\")\n",
        "    print(\"The scores are computed on the full evaluation set.\")\n",
        "    print()\n",
        "    y_true, y_pred = y_test, gs.predict(X_test_pca)\n",
        "    print(classification_report(y_true, y_pred))\n",
        "    print()"
      ],
      "metadata": {
        "id": "fPooA1zr6X8m"
      },
      "execution_count": null,
      "outputs": []
    },
    {
      "cell_type": "code",
      "source": [
        "#Best parameters set found on development set:\n",
        "\n",
        "#{'class_weight': None, 'criterion': 'entropy', 'max_depth': 8, 'max_leaf_nodes': None, 'splitter': 'best'}\n",
        "\n",
        "'''\n",
        "Detailed classification report:\n",
        "\n",
        "The model is trained on the full development set.\n",
        "The scores are computed on the full evaluation set.\n",
        "\n",
        "              precision    recall  f1-score   support\n",
        "\n",
        "           0       0.85      0.87      0.86      3215\n",
        "           1       0.80      0.78      0.79      2158\n",
        "\n",
        "    accuracy                           0.83      5373\n",
        "   macro avg       0.83      0.83      0.83      5373\n",
        "weighted avg       0.83      0.83      0.83      5373\n",
        "'''"
      ],
      "metadata": {
        "id": "79kP_4m46go4"
      },
      "execution_count": null,
      "outputs": []
    },
    {
      "cell_type": "code",
      "source": [
        "#Modelo tras ajuste de parámetros\n",
        "max_depth= 7\n",
        "max_leaf_nodes = None\n",
        "splitter = 'best'\n",
        "class_weigth = None\n",
        "criterion = 'gini'\n",
        "randome_state = 1\n",
        "\n",
        "\n",
        "# Create decision tree model\n",
        "model = tree.DecisionTreeClassifier(max_depth=max_depth, random_state=random_state, splitter = splitter, criterion = criterion )\n",
        "\n",
        "# Train the model using the training sets\n",
        "model.fit(X_train, y_train) "
      ],
      "metadata": {
        "colab": {
          "base_uri": "https://localhost:8080/"
        },
        "id": "wodsg92w6itW",
        "outputId": "5b00c572-551c-4d1e-f9b6-1c21583bf7e3"
      },
      "execution_count": null,
      "outputs": [
        {
          "output_type": "execute_result",
          "data": {
            "text/plain": [
              "DecisionTreeClassifier(max_depth=7, random_state=1)"
            ]
          },
          "metadata": {},
          "execution_count": 30
        }
      ]
    },
    {
      "cell_type": "code",
      "source": [
        "# Evaluate Accuracy in training\n",
        "\n",
        "from sklearn import metrics\n",
        "y_train_pred = model.predict(X_train)\n",
        "print(\"Accuracy in training\", metrics.accuracy_score(y_train, y_train_pred))"
      ],
      "metadata": {
        "colab": {
          "base_uri": "https://localhost:8080/"
        },
        "id": "Z8I20y1C6psx",
        "outputId": "6d1849dd-b6d3-4ccf-ead9-260b47058d50"
      },
      "execution_count": null,
      "outputs": [
        {
          "output_type": "stream",
          "name": "stdout",
          "text": [
            "Accuracy in training 0.8712544202493951\n"
          ]
        }
      ]
    },
    {
      "cell_type": "code",
      "source": [
        "#importancia de atributos \n",
        "\n",
        "feature_importances = model.feature_importances_\n",
        "print(feature_importances)"
      ],
      "metadata": {
        "colab": {
          "base_uri": "https://localhost:8080/"
        },
        "id": "1u6_sXPm6qM2",
        "outputId": "404fd65e-e409-491c-be3c-da3da0f8fe22"
      },
      "execution_count": null,
      "outputs": [
        {
          "output_type": "stream",
          "name": "stdout",
          "text": [
            "[2.14092159e-02 0.00000000e+00 7.87286312e-04 0.00000000e+00\n",
            " 3.03210552e-02 4.95809174e-01 9.74722746e-02 0.00000000e+00\n",
            " 0.00000000e+00 0.00000000e+00 7.29716352e-04 5.02831709e-04\n",
            " 5.05431669e-02 2.28073945e-01 0.00000000e+00 1.10446267e-03\n",
            " 0.00000000e+00 8.43301038e-04 4.98250353e-04 1.65454073e-03\n",
            " 0.00000000e+00 6.47364214e-04 5.19834167e-04 4.06734982e-04\n",
            " 0.00000000e+00 7.92512814e-06 0.00000000e+00 3.45582520e-04\n",
            " 3.62930544e-04 0.00000000e+00 6.79604070e-02]\n"
          ]
        }
      ]
    },
    {
      "cell_type": "code",
      "source": [
        "print(metrics.classification_report(y_test, y_test_pred))\n",
        "print(' ')\n",
        "print('----------------')\n",
        "print(' ')\n",
        "print(metrics.confusion_matrix(y_test, y_test_pred))"
      ],
      "metadata": {
        "colab": {
          "base_uri": "https://localhost:8080/"
        },
        "id": "S0DjOzfc6vVm",
        "outputId": "a27dab52-3e94-428c-d0b0-b2f0eacaa7d2"
      },
      "execution_count": null,
      "outputs": [
        {
          "output_type": "stream",
          "name": "stdout",
          "text": [
            "              precision    recall  f1-score   support\n",
            "\n",
            "           0       0.91      0.74      0.81      3215\n",
            "           1       0.69      0.89      0.78      2158\n",
            "\n",
            "    accuracy                           0.80      5373\n",
            "   macro avg       0.80      0.81      0.80      5373\n",
            "weighted avg       0.82      0.80      0.80      5373\n",
            "\n",
            " \n",
            "----------------\n",
            " \n",
            "[[2364  851]\n",
            " [ 241 1917]]\n"
          ]
        }
      ]
    },
    {
      "cell_type": "code",
      "source": [
        "#Visualizacion importancia de parametros \n",
        "# Creating a seaborn bar plot\n",
        "# view the feature scores\n",
        "\n",
        "feature_scores = pd.Series(model.feature_importances_, index=X_train.columns).sort_values(ascending=False)\n",
        "\n",
        "feature_scores\n",
        "f, ax = plt.subplots(figsize=(30, 24))\n",
        "ax = sns.barplot(x=feature_scores, y=feature_scores.index)\n",
        "ax.set_title(\"Visualize feature scores of the features\")\n",
        "ax.set_yticklabels(feature_scores.index)\n",
        "ax.set_xlabel(\"Feature importance score\")\n",
        "ax.set_ylabel(\"Features\")\n",
        "plt.show()"
      ],
      "metadata": {
        "id": "fhuNO_xiGu6H"
      },
      "execution_count": null,
      "outputs": []
    },
    {
      "cell_type": "markdown",
      "source": [
        "##roc curve in PCA\n",
        "\n",
        "https://www.projectpro.io/recipes/plot-roc-curve-in-python"
      ],
      "metadata": {
        "id": "Gt38eZ4H7Q4m"
      }
    },
    {
      "cell_type": "code",
      "source": [
        "from sklearn.metrics import roc_curve, roc_auc_score"
      ],
      "metadata": {
        "id": "M5nScre37Q4t"
      },
      "execution_count": null,
      "outputs": []
    },
    {
      "cell_type": "code",
      "source": [
        "clf_tree = model"
      ],
      "metadata": {
        "id": "QtM6U3Kb7Q4u"
      },
      "execution_count": null,
      "outputs": []
    },
    {
      "cell_type": "code",
      "source": [
        "y_score1 = clf_tree.predict_proba(X_test)[:,1]\n"
      ],
      "metadata": {
        "id": "6O--eseQ7Q4u"
      },
      "execution_count": null,
      "outputs": []
    },
    {
      "cell_type": "code",
      "source": [
        "false_positive_rate1, true_positive_rate1, threshold1 = roc_curve(y_test, y_score1)\n"
      ],
      "metadata": {
        "id": "bps76Kqh7Q4u"
      },
      "execution_count": null,
      "outputs": []
    },
    {
      "cell_type": "code",
      "source": [
        "print('roc_auc_score for DecisionTree: ', roc_auc_score(y_test, y_score1))"
      ],
      "metadata": {
        "colab": {
          "base_uri": "https://localhost:8080/"
        },
        "outputId": "5206556d-ffe6-4282-eef7-9e0a509f457e",
        "id": "_cfQNeI57Q4v"
      },
      "execution_count": null,
      "outputs": [
        {
          "output_type": "stream",
          "name": "stdout",
          "text": [
            "roc_auc_score for DecisionTree:  0.9268997992208097\n"
          ]
        }
      ]
    },
    {
      "cell_type": "code",
      "source": [
        "plt.subplots(1, figsize=(10,10))\n",
        "plt.title('Receiver Operating Characteristic - DecisionTree')\n",
        "plt.plot(false_positive_rate1, true_positive_rate1)\n",
        "plt.plot([0, 1], ls=\"--\")\n",
        "plt.plot([0, 0], [1, 0] , c=\".7\"), plt.plot([1, 1] , c=\".7\")\n",
        "plt.ylabel('True Positive Rate')\n",
        "plt.xlabel('False Positive Rate')\n",
        "plt.show()\n",
        "\n"
      ],
      "metadata": {
        "colab": {
          "base_uri": "https://localhost:8080/",
          "height": 621
        },
        "outputId": "36e6fc92-df2d-4def-8fbd-1463faf06eb3",
        "id": "tAZRgpr27Q4v"
      },
      "execution_count": null,
      "outputs": [
        {
          "output_type": "display_data",
          "data": {
            "text/plain": [
              "<Figure size 720x720 with 1 Axes>"
            ],
            "image/png": "[encoded data removed]"
          },
          "metadata": {
            "needs_background": "light"
          }
        }
      ]
    }
  ]
}