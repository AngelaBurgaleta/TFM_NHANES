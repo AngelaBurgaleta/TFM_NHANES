{
  "nbformat": 4,
  "nbformat_minor": 0,
  "metadata": {
    "colab": {
      "name": "PCA.ipynb",
      "provenance": [],
      "collapsed_sections": []
    },
    "kernelspec": {
      "name": "python3",
      "display_name": "Python 3"
    },
    "language_info": {
      "name": "python"
    }
  },
  "cells": [
    {
      "cell_type": "markdown",
      "source": [
        "#NHANES"
      ],
      "metadata": {
        "id": "OvBJjr4EjhB4"
      }
    },
    {
      "cell_type": "code",
      "source": [
        "import matplotlib.pyplot as plt\n",
        "import matplotlib as mpl\n",
        "import numpy as np\n",
        "import pandas as pd\n",
        "import seaborn as sns\n",
        "from sklearn.preprocessing import StandardScaler\n",
        "from sklearn.pipeline import make_pipeline\n",
        "from sklearn.preprocessing import MinMaxScaler \n",
        "from sklearn.decomposition import PCA\n",
        "from sklearn.model_selection import train_test_split\n",
        "from sklearn.linear_model import LogisticRegression\n",
        "%matplotlib inline\n",
        "\n",
        "'''\n",
        "url_df = 'https://raw.githubusercontent.com/AngelaBurgaleta/TFM_NHANES/main/DATASETS%20DEFINITIVOS/PROCESSED/df_procesado_genderandage.csv'\n",
        "\n",
        "df_original = pd.read_csv(url_df)\n",
        "df = df_original\n",
        "df = df.drop(['Unnamed: 0'], axis = 1)\n",
        "\n",
        "df_corr = df_original\n",
        "df = df.drop(columns=['SEQN', 'REQ1', 'REQ2', 'REQ3', 'REQ4', 'REQ5'])\n",
        "\n",
        "X = df.drop(columns=['SEQN', 'MET_SYM', 'REQ1', 'REQ2', 'REQ3', 'REQ4', 'REQ5'])\n",
        "y = df['MET_SYM']\n",
        "'''\n",
        "\n",
        "url_df = 'https://raw.githubusercontent.com/AngelaBurgaleta/TFM_NHANES/main/DATASETS%20DEFINITIVOS/PROCESSED/df_procesado_genderandage.csv'\n",
        "url_df45_sinoutliers = 'https://raw.githubusercontent.com/AngelaBurgaleta/TFM_NHANES/main/DATASETS%20DEFINITIVOS/PROCESSED/Sin_outliers/df_v45sinoutliers.csv'\n",
        "df = pd.read_csv(url_df45_sinoutliers)\n",
        "df = df.drop(['Unnamed: 0'], axis = 1)"
      ],
      "metadata": {
        "id": "Apuo_mc-kTn6"
      },
      "execution_count": null,
      "outputs": []
    },
    {
      "cell_type": "markdown",
      "source": [
        "#PCA EN LIMPIO"
      ],
      "metadata": {
        "id": "Zn56_XrM9MOl"
      }
    },
    {
      "cell_type": "code",
      "source": [
        "y.head"
      ],
      "metadata": {
        "colab": {
          "base_uri": "https://localhost:8080/"
        },
        "id": "LiSu4C3E_Yt5",
        "outputId": "ddc6dc77-3871-4a81-cd3e-2e502baafee7"
      },
      "execution_count": null,
      "outputs": [
        {
          "output_type": "execute_result",
          "data": {
            "text/plain": [
              "<bound method NDFrame.head of 0        0\n",
              "1        0\n",
              "2        0\n",
              "3        0\n",
              "4        0\n",
              "        ..\n",
              "26860    0\n",
              "26861    0\n",
              "26862    0\n",
              "26863    0\n",
              "26864    1\n",
              "Name: MET_SYM, Length: 26865, dtype: int64>"
            ]
          },
          "metadata": {},
          "execution_count": 72
        }
      ]
    },
    {
      "cell_type": "code",
      "source": [
        "y = df['MET_SYM']\n",
        "vars_descarte = ['SEQN', 'DPQ050', 'MCQ010', 'DBQ700', 'ALQ130', 'ALQ130_Tramos', 'PAQ665', 'PAQ620', 'PAQ605', 'BPQ050A']\n",
        "vars_x = ['REQ1', 'REQ2', 'REQ3', 'REQ4', 'REQ5', 'REQ_SUM', 'MET_SYM', 'BPXSY1', 'BPXDI1', 'BMXWAIST', 'LBXTR', 'BPQ090D', 'LBDHDD', 'BPQ040A', 'LBXGLU', 'DIQ070', 'BMXHT', 'BMXWT']\n",
        "df_descarte = df.drop(vars_descarte, axis = 1)\n",
        "df_x = df_descarte.drop(vars_x, axis = 1)\n",
        "X = df_x\n"
      ],
      "metadata": {
        "id": "oHAOLZOH9OBj"
      },
      "execution_count": null,
      "outputs": []
    },
    {
      "cell_type": "code",
      "source": [
        "#Normalización\n",
        "pca_pipe = make_pipeline(StandardScaler(), PCA())\n",
        "pca_pipe.fit(X)\n",
        "# Se extrae el modelo entrenado del pipeline\n",
        "modelo_pca = pca_pipe.named_steps['pca']\n"
      ],
      "metadata": {
        "id": "sJ8UQ8vi9fYl"
      },
      "execution_count": null,
      "outputs": []
    },
    {
      "cell_type": "code",
      "source": [
        "# Porcentaje de varianza explicada acumulada\n",
        "# ==============================================================================\n",
        "prop_varianza_acum = modelo_pca.explained_variance_ratio_.cumsum()\n",
        "print('------------------------------------------')\n",
        "print('Porcentaje de varianza explicada acumulada')\n",
        "print('------------------------------------------')\n",
        "print(prop_varianza_acum)\n",
        "\n",
        "fig, ax = plt.subplots(nrows=1, ncols=1, figsize=(18, 8))\n",
        "ax.plot(\n",
        "    np.arange(len(X.columns)) + 1,\n",
        "    prop_varianza_acum,\n",
        "    marker = 'o'\n",
        ")\n",
        "\n",
        "for x, y in zip(np.arange(len(X.columns)) + 1, prop_varianza_acum):\n",
        "    label = round(y, 2)\n",
        "    ax.annotate(\n",
        "        label,\n",
        "        (x,y),\n",
        "        textcoords=\"offset points\",\n",
        "        xytext=(0,10),\n",
        "        ha='center'\n",
        "    )\n",
        "    \n",
        "ax.set_ylim(0, 1.1)\n",
        "ax.set_xticks(np.arange(modelo_pca.n_components_) + 1)\n",
        "ax.set_title('Porcentaje de varianza explicada acumulada')\n",
        "ax.set_xlabel('Componente principal')\n",
        "ax.set_ylabel('Por. varianza acumulada');"
      ],
      "metadata": {
        "colab": {
          "base_uri": "https://localhost:8080/",
          "height": 669
        },
        "id": "la7MbSDx9uv9",
        "outputId": "f07fe069-2162-48a0-9b77-dc2ce05d6acf"
      },
      "execution_count": null,
      "outputs": [
        {
          "output_type": "stream",
          "name": "stdout",
          "text": [
            "------------------------------------------\n",
            "Porcentaje de varianza explicada acumulada\n",
            "------------------------------------------\n",
            "[0.15142961 0.2398115  0.30550992 0.36898453 0.42889241 0.47303806\n",
            " 0.51274813 0.55187934 0.58832083 0.62194539 0.6548191  0.68545082\n",
            " 0.7146337  0.74195358 0.76881624 0.79425252 0.81899857 0.84292218\n",
            " 0.86465051 0.88568411 0.90584514 0.92584802 0.94370383 0.96077604\n",
            " 0.97603253 0.9893589  0.99647057 0.99931596 1.         1.\n",
            " 1.        ]\n"
          ]
        },
        {
          "output_type": "display_data",
          "data": {
            "text/plain": [
              "<Figure size 1296x576 with 1 Axes>"
            ],
            "image/png": "[encoded data removed]"
          },
          "metadata": {
            "needs_background": "light"
          }
        }
      ]
    },
    {
      "cell_type": "code",
      "source": [
        "#Aplicar PCA \n",
        "#fijamos componentes\n",
        "pca = PCA(n_components=26)\n",
        "X_pca = pca.fit_transform(X)\n",
        "X_pca.shape"
      ],
      "metadata": {
        "colab": {
          "base_uri": "https://localhost:8080/"
        },
        "id": "jJV6yuA4-qod",
        "outputId": "aaf6d9dd-c95e-4f1d-e804-f17f3fdf3c1e"
      },
      "execution_count": null,
      "outputs": [
        {
          "output_type": "execute_result",
          "data": {
            "text/plain": [
              "(26865, 26)"
            ]
          },
          "metadata": {},
          "execution_count": 5
        }
      ]
    },
    {
      "cell_type": "code",
      "source": [
        "y"
      ],
      "metadata": {
        "colab": {
          "base_uri": "https://localhost:8080/"
        },
        "id": "B3pdswoF_GNF",
        "outputId": "ffe89a97-3213-4236-fd78-10da3e019400"
      },
      "execution_count": null,
      "outputs": [
        {
          "output_type": "execute_result",
          "data": {
            "text/plain": [
              "0        0\n",
              "1        0\n",
              "2        0\n",
              "3        0\n",
              "4        0\n",
              "        ..\n",
              "26860    0\n",
              "26861    0\n",
              "26862    0\n",
              "26863    0\n",
              "26864    1\n",
              "Name: MET_SYM, Length: 26865, dtype: int64"
            ]
          },
          "metadata": {},
          "execution_count": 73
        }
      ]
    },
    {
      "cell_type": "code",
      "source": [
        "#Separar datos en train, test, entrada y salida despues del PCA\n",
        "X_train_pca, X_test_pca, y_train, y_test = train_test_split(X_pca, y, test_size=0.2, random_state=30)"
      ],
      "metadata": {
        "id": "WSOP7dGM9n2k"
      },
      "execution_count": null,
      "outputs": []
    },
    {
      "cell_type": "markdown",
      "source": [
        "#Ciencia de datos"
      ],
      "metadata": {
        "id": "YkeG3mQe3Z_N"
      }
    },
    {
      "cell_type": "code",
      "source": [
        "from sklearn.pipeline import make_pipeline\n",
        "pca_pipe = make_pipeline(StandardScaler(), PCA())\n",
        "pca_pipe.fit(X)\n",
        "# Se extrae el modelo entrenado del pipeline\n",
        "modelo_pca = pca_pipe.named_steps['pca']\n"
      ],
      "metadata": {
        "id": "CLt5BTIx3cJ1"
      },
      "execution_count": null,
      "outputs": []
    },
    {
      "cell_type": "code",
      "source": [
        "X.shape"
      ],
      "metadata": {
        "colab": {
          "base_uri": "https://localhost:8080/"
        },
        "id": "ebZwUH2X4NYO",
        "outputId": "67619b4d-ef09-4bb1-810a-b0ddea22d5d6"
      },
      "execution_count": null,
      "outputs": [
        {
          "output_type": "execute_result",
          "data": {
            "text/plain": [
              "(26865, 34)"
            ]
          },
          "metadata": {},
          "execution_count": 32
        }
      ]
    },
    {
      "cell_type": "code",
      "source": [
        "# Porcentaje de varianza explicada acumulada\n",
        "# ==============================================================================\n",
        "prop_varianza_acum = modelo_pca.explained_variance_ratio_.cumsum()\n",
        "print('------------------------------------------')\n",
        "print('Porcentaje de varianza explicada acumulada')\n",
        "print('------------------------------------------')\n",
        "print(prop_varianza_acum)\n",
        "\n",
        "fig, ax = plt.subplots(nrows=1, ncols=1, figsize=(20, 10))\n",
        "ax.plot(\n",
        "    np.arange(len(X.columns)) + 1,\n",
        "    prop_varianza_acum,\n",
        "    marker = 'o'\n",
        ")\n",
        "\n",
        "for x, y in zip(np.arange(len(X.columns)) + 1, prop_varianza_acum):\n",
        "    label = round(y, 2)\n",
        "    ax.annotate(\n",
        "        label,\n",
        "        (x,y),\n",
        "        textcoords=\"offset points\",\n",
        "        xytext=(0,10),\n",
        "        ha='center'\n",
        "    )\n",
        "    \n",
        "ax.set_ylim(0, 1.1)\n",
        "ax.set_xticks(np.arange(modelo_pca.n_components_) + 1)\n",
        "ax.set_title('Porcentaje de varianza explicada acumulada')\n",
        "ax.set_xlabel('Componente principal')\n",
        "ax.set_ylabel('Por. varianza acumulada');"
      ],
      "metadata": {
        "colab": {
          "base_uri": "https://localhost:8080/",
          "height": 777
        },
        "id": "HxsY34cT4D7l",
        "outputId": "9c1a6da6-083b-4597-e76f-2dbe84819751"
      },
      "execution_count": null,
      "outputs": [
        {
          "output_type": "stream",
          "name": "stdout",
          "text": [
            "------------------------------------------\n",
            "Porcentaje de varianza explicada acumulada\n",
            "------------------------------------------\n",
            "[0.15642851 0.23959558 0.31291983 0.37300695 0.43053061 0.48603887\n",
            " 0.52560676 0.56317365 0.5966276  0.62838376 0.65890575 0.68721241\n",
            " 0.71467253 0.74175025 0.76704646 0.79143122 0.81468776 0.83745134\n",
            " 0.85839441 0.87852671 0.8976526  0.91601778 0.93230741 0.94797786\n",
            " 0.96288344 0.97505303 0.98362764 0.99013652 0.99638249 0.99918833\n",
            " 0.99981026 1.         1.         1.        ]\n"
          ]
        },
        {
          "output_type": "display_data",
          "data": {
            "text/plain": [
              "<Figure size 1440x720 with 1 Axes>"
            ],
            "image/png": "[encoded data removed]"
          },
          "metadata": {
            "needs_background": "light"
          }
        }
      ]
    },
    {
      "cell_type": "code",
      "source": [
        "# Proyección de las observaciones de entrenamiento\n",
        "# ==============================================================================\n",
        "proyecciones = pca_pipe.transform(X=datos)\n",
        "proyecciones = pd.DataFrame(\n",
        "    proyecciones,\n",
        "    columns = ['PC1', 'PC2', 'PC3', 'PC4'],\n",
        "    index   = datos.index\n",
        ")\n",
        "proyecciones.head()"
      ],
      "metadata": {
        "id": "7Pg5IB_H4pIu"
      },
      "execution_count": null,
      "outputs": []
    },
    {
      "cell_type": "code",
      "source": [
        ""
      ],
      "metadata": {
        "id": "9q69O-Qd4pOa"
      },
      "execution_count": null,
      "outputs": []
    },
    {
      "cell_type": "code",
      "source": [
        "df.shape\n",
        "vars_descarte = ['SEQN', 'DPQ050', 'MCQ010', 'DBQ700', 'ALQ130', 'ALQ130_Tramos', 'PAQ665', 'PAQ620', 'PAQ605']\n",
        "vars_x = ['REQ1', 'REQ2', 'REQ3', 'REQ4', 'REQ5', 'REQ_SUM', 'MET_SYM', 'BPXSY1', 'BPXDI1', 'BMXWAIST', 'LBXTR', 'BPQ090D', 'LBDHDD', 'BPQ040A', 'LBXGLU', 'DIQ070']"
      ],
      "metadata": {
        "id": "Lzub9jJVPAZ_"
      },
      "execution_count": null,
      "outputs": []
    },
    {
      "cell_type": "code",
      "source": [
        "df_descarte = df.drop(vars_descarte, axis = 1)\n",
        "df_x = df_descarte.drop(vars_x, axis = 1)"
      ],
      "metadata": {
        "id": "tzzZ13kGPDpD"
      },
      "execution_count": null,
      "outputs": []
    },
    {
      "cell_type": "code",
      "source": [
        "print('----------------------')\n",
        "print('Media de cada variable')\n",
        "print('----------------------')\n",
        "df_x.mean(axis = 0)"
      ],
      "metadata": {
        "colab": {
          "base_uri": "https://localhost:8080/"
        },
        "id": "cgD1iEGGzSrU",
        "outputId": "6981aa9c-e3d4-4766-f843-f718a6476920"
      },
      "execution_count": null,
      "outputs": [
        {
          "output_type": "stream",
          "name": "stdout",
          "text": [
            "----------------------\n",
            "Media de cada variable\n",
            "----------------------\n"
          ]
        },
        {
          "output_type": "execute_result",
          "data": {
            "text/plain": [
              "DIQ010               0.257510\n",
              "INQ020               0.774055\n",
              "INDFMMPI             2.195098\n",
              "INDFMMPC             2.164377\n",
              "BMXWT               79.365822\n",
              "BMXHT              166.579884\n",
              "BMXBMI              28.503432\n",
              "BPQ030               0.247608\n",
              "BPQ050A              1.767765\n",
              "LBXIN               11.750629\n",
              "MCQ080               0.317327\n",
              "MCQ220               0.079360\n",
              "MCQ300C              0.353248\n",
              "HIQ011               0.818165\n",
              "SMQ020               0.357305\n",
              "RIAGENDR             1.510702\n",
              "RIDAGEYR            44.005695\n",
              "RIDRETH3             3.380681\n",
              "DMDEDUC2             3.566425\n",
              "PAQ635               0.274707\n",
              "PAQ650               0.268826\n",
              "HSD010               2.807445\n",
              "SLQ050               0.227880\n",
              "DPQ020               0.264954\n",
              "DPQ030               0.467746\n",
              "DPQ040               0.571413\n",
              "RIDAGEYR_Tramos      5.012730\n",
              "Etnia_1.0            0.147069\n",
              "Etnia_2.0            0.104783\n",
              "Etnia_3.0            0.349190\n",
              "Etnia_4.0            0.228811\n",
              "Etnia_6.0            0.129797\n",
              "Etnia_7.0            0.040350\n",
              "WHI                  0.582129\n",
              "dtype: float64"
            ]
          },
          "metadata": {},
          "execution_count": 15
        }
      ]
    },
    {
      "cell_type": "code",
      "source": [
        "df_x.shape"
      ],
      "metadata": {
        "id": "VUIFsl5jibF9",
        "outputId": "04561386-b29c-45e1-b9f3-d37e40a1d49a",
        "colab": {
          "base_uri": "https://localhost:8080/"
        }
      },
      "execution_count": null,
      "outputs": [
        {
          "output_type": "execute_result",
          "data": {
            "text/plain": [
              "(26865, 34)"
            ]
          },
          "metadata": {},
          "execution_count": 16
        }
      ]
    },
    {
      "cell_type": "code",
      "source": [
        "df = df_descarte"
      ],
      "metadata": {
        "id": "0swT0dW0Pg-s"
      },
      "execution_count": null,
      "outputs": []
    },
    {
      "cell_type": "code",
      "source": [
        "X = df.drop(columns=['SEQN', 'MET_SYM', 'REQ1', 'REQ2', 'REQ3', 'REQ4', 'REQ5'])\n",
        "y = df['MET_SYM']"
      ],
      "metadata": {
        "id": "DOkQWt4ZPuui"
      },
      "execution_count": null,
      "outputs": []
    },
    {
      "cell_type": "code",
      "source": [
        "X = df_x"
      ],
      "metadata": {
        "id": "tVoT_WWZ2zzl"
      },
      "execution_count": null,
      "outputs": []
    },
    {
      "cell_type": "code",
      "source": [
        "X.shape"
      ],
      "metadata": {
        "colab": {
          "base_uri": "https://localhost:8080/"
        },
        "id": "eDA5VYejPwfG",
        "outputId": "98e621b9-53d0-4d5e-912b-74a11dc34d06"
      },
      "execution_count": null,
      "outputs": [
        {
          "output_type": "execute_result",
          "data": {
            "text/plain": [
              "(26865, 34)"
            ]
          },
          "metadata": {},
          "execution_count": 18
        }
      ]
    },
    {
      "cell_type": "code",
      "source": [
        "#1. NORMALIZACION\n",
        "scaler = StandardScaler()\n",
        "X_scaled = scaler.fit_transform(X)\n",
        "X_scaled\n",
        "\n",
        "#2. PCA\n",
        "#2.1 99% de variabilidad de los datos\n",
        "pca = PCA(0.99)\n",
        "X_pca = pca.fit_transform(X)\n",
        "X_pca.shape"
      ],
      "metadata": {
        "colab": {
          "base_uri": "https://localhost:8080/"
        },
        "id": "T14P8NBSQH2U",
        "outputId": "1083eb6b-2f03-4363-b787-79d3d5ccb6e7"
      },
      "execution_count": null,
      "outputs": [
        {
          "output_type": "execute_result",
          "data": {
            "text/plain": [
              "(26865, 5)"
            ]
          },
          "metadata": {},
          "execution_count": 19
        }
      ]
    },
    {
      "cell_type": "code",
      "source": [
        "#1. NORMALIZACION\n",
        "scaler = StandardScaler()\n",
        "X_scaled = scaler.fit_transform(X)\n",
        "X_scaled"
      ],
      "metadata": {
        "colab": {
          "base_uri": "https://localhost:8080/"
        },
        "id": "E7Xkuj313GXd",
        "outputId": "7c1d0ae3-f888-4a12-e6f1-edaa6c7587dd"
      },
      "execution_count": null,
      "outputs": [
        {
          "output_type": "execute_result",
          "data": {
            "text/plain": [
              "array([[-0.39467505,  0.54027501, -0.06622728, ..., -0.38620892,\n",
              "        -0.20505236, -1.10171422],\n",
              "       [-0.39467505,  0.54027501,  1.95335446, ...,  2.58927217,\n",
              "        -0.20505236, -1.96361903],\n",
              "       [-0.39467505,  0.54027501, -0.7556707 , ..., -0.38620892,\n",
              "        -0.20505236, -1.09395236],\n",
              "       ...,\n",
              "       [-0.39467505,  0.54027501,  1.95335446, ..., -0.38620892,\n",
              "        -0.20505236, -0.49926368],\n",
              "       [-0.39467505,  0.54027501,  0.17055127, ..., -0.38620892,\n",
              "        -0.20505236,  1.40295809],\n",
              "       [-0.39467505, -1.85090921, -0.44228732, ..., -0.38620892,\n",
              "        -0.20505236,  1.09997667]])"
            ]
          },
          "metadata": {},
          "execution_count": 24
        }
      ]
    },
    {
      "cell_type": "code",
      "source": [
        "#2.2 fijando n_components\n",
        "#2.2.1 primero ploteamos\n",
        "pca = PCA().fit(X_scaled)\n",
        "plt.plot(np.cumsum(pca.explained_variance_ratio_))\n",
        "plt.xlabel('number of components')\n",
        "plt.ylabel('cumulative explained variance')\n",
        "plt.grid()\n",
        "plt.show()\n",
        "#vamos a seleccionar n_components = 16\n",
        "#Seleccionamos tambien 5\n",
        "#Seleccionamos tambien 21"
      ],
      "metadata": {
        "colab": {
          "base_uri": "https://localhost:8080/",
          "height": 279
        },
        "id": "RLqC95Qx3JvE",
        "outputId": "7448a0a7-e50e-4cc8-89d3-fefa9763bf44"
      },
      "execution_count": null,
      "outputs": [
        {
          "output_type": "display_data",
          "data": {
            "text/plain": [
              "<Figure size 432x288 with 1 Axes>"
            ],
            "image/png": "[encoded data removed]"
          },
          "metadata": {
            "needs_background": "light"
          }
        }
      ]
    },
    {
      "cell_type": "code",
      "source": [
        "#2. PCA\n",
        "#2.1 99% de variabilidad de los datos\n",
        "pca = PCA(0.95)\n",
        "X_pca = pca.fit_transform(X)\n",
        "X_pca.shape"
      ],
      "metadata": {
        "colab": {
          "base_uri": "https://localhost:8080/"
        },
        "id": "73qbeyNB3OD0",
        "outputId": "8ace0fc7-91ab-4756-8198-351815ef888b"
      },
      "execution_count": null,
      "outputs": [
        {
          "output_type": "execute_result",
          "data": {
            "text/plain": [
              "(26865, 4)"
            ]
          },
          "metadata": {},
          "execution_count": 27
        }
      ]
    },
    {
      "cell_type": "code",
      "source": [
        "#LO INTRERESANTE\n",
        "\n",
        "#1. NORMALIZACION\n",
        "scaler = StandardScaler()\n",
        "X_scaled = scaler.fit_transform(X)\n",
        "X_scaled\n",
        "\n",
        "#2. PCA\n",
        "#2.1 99% de variabilidad de los datos\n",
        "pca = PCA(0.99)\n",
        "X_pca = pca.fit_transform(X)\n",
        "X_pca.shape\n",
        "\n",
        "#2.2 fijando n_components\n",
        "#2.2.1 primero ploteamos\n",
        "pca = PCA().fit(X_scaled)\n",
        "plt.plot(np.cumsum(pca.explained_variance_ratio_))\n",
        "plt.xlabel('number of components')\n",
        "plt.ylabel('cumulative explained variance')\n",
        "plt.grid()\n",
        "plt.show()\n",
        "#vamos a seleccionar n_components = 16\n",
        "#Seleccionamos tambien 5\n",
        "#Seleccionamos tambien 21\n",
        "\n",
        "#2.2.2 despues fijamos componentes\n",
        "pca = PCA(n_components=15)\n",
        "X_pca = pca.fit_transform(X)\n",
        "X_pca.shape\n",
        "\n",
        "# 3. Separar datos en train, test, entrada y salida despues del PCA\n",
        "X_train_pca, X_test_pca, y_train, y_test = train_test_split(X_pca, y, test_size=0.2, random_state=30)\n",
        "\n"
      ],
      "metadata": {
        "id": "X9bUN9lBEkaK",
        "colab": {
          "base_uri": "https://localhost:8080/",
          "height": 479
        },
        "outputId": "ec29aa0f-3324-4527-ac83-c3bd8c32010b"
      },
      "execution_count": null,
      "outputs": [
        {
          "output_type": "display_data",
          "data": {
            "text/plain": [
              "<Figure size 432x288 with 1 Axes>"
            ],
            "image/png": "[encoded data removed]"
          },
          "metadata": {
            "needs_background": "light"
          }
        },
        {
          "output_type": "error",
          "ename": "NameError",
          "evalue": "ignored",
          "traceback": [
            "\u001b[0;31m---------------------------------------------------------------------------\u001b[0m",
            "\u001b[0;31mNameError\u001b[0m                                 Traceback (most recent call last)",
            "\u001b[0;32m<ipython-input-22-90ac991f08b3>\u001b[0m in \u001b[0;36m<module>\u001b[0;34m()\u001b[0m\n\u001b[1;32m     30\u001b[0m \u001b[0;34m\u001b[0m\u001b[0m\n\u001b[1;32m     31\u001b[0m \u001b[0;31m# 3. Separar datos en train, test, entrada y salida despues del PCA\u001b[0m\u001b[0;34m\u001b[0m\u001b[0;34m\u001b[0m\u001b[0;34m\u001b[0m\u001b[0m\n\u001b[0;32m---> 32\u001b[0;31m \u001b[0mX_train_pca\u001b[0m\u001b[0;34m,\u001b[0m \u001b[0mX_test_pca\u001b[0m\u001b[0;34m,\u001b[0m \u001b[0my_train\u001b[0m\u001b[0;34m,\u001b[0m \u001b[0my_test\u001b[0m \u001b[0;34m=\u001b[0m \u001b[0mtrain_test_split\u001b[0m\u001b[0;34m(\u001b[0m\u001b[0mX_pca\u001b[0m\u001b[0;34m,\u001b[0m \u001b[0my\u001b[0m\u001b[0;34m,\u001b[0m \u001b[0mtest_size\u001b[0m\u001b[0;34m=\u001b[0m\u001b[0;36m0.2\u001b[0m\u001b[0;34m,\u001b[0m \u001b[0mrandom_state\u001b[0m\u001b[0;34m=\u001b[0m\u001b[0;36m30\u001b[0m\u001b[0;34m)\u001b[0m\u001b[0;34m\u001b[0m\u001b[0;34m\u001b[0m\u001b[0m\n\u001b[0m\u001b[1;32m     33\u001b[0m \u001b[0;34m\u001b[0m\u001b[0m\n",
            "\u001b[0;31mNameError\u001b[0m: name 'y' is not defined"
          ]
        }
      ]
    },
    {
      "cell_type": "markdown",
      "source": [
        "##Normalización y X_train x_test"
      ],
      "metadata": {
        "id": "uKkyMLgQsX-5"
      }
    },
    {
      "cell_type": "code",
      "source": [
        "#normalización\n",
        "scaler = StandardScaler()\n",
        "X_scaled = scaler.fit_transform(X)\n",
        "X_scaled\n",
        "\n"
      ],
      "metadata": {
        "colab": {
          "base_uri": "https://localhost:8080/"
        },
        "id": "uhz-XwMksbY3",
        "outputId": "50447e2f-f80d-47ae-f9b1-9b9f0cb04b46"
      },
      "execution_count": null,
      "outputs": [
        {
          "output_type": "execute_result",
          "data": {
            "text/plain": [
              "array([[-0.33698512,  0.26416032,  0.49058302, ..., -0.87218703,\n",
              "        -0.25531266, -0.94429773],\n",
              "       [-0.33698512,  0.26416032,  0.49058302, ..., -0.77910225,\n",
              "        -0.25531266, -0.94429773],\n",
              "       [-0.33698512,  0.26416032,  0.49058302, ..., -1.74949254,\n",
              "        -0.25531266, -0.94429773],\n",
              "       ...,\n",
              "       [-0.33698512,  0.26416032,  0.49058302, ..., -0.25897179,\n",
              "        -0.25531266, -0.94429773],\n",
              "       [-0.33698512,  0.26416032,  0.49058302, ...,  1.67723928,\n",
              "        -0.25531266,  0.24273464],\n",
              "       [-0.33698512,  0.26416032, -2.03839096, ...,  1.36884413,\n",
              "        -0.25531266,  1.42976702]])"
            ]
          },
          "metadata": {},
          "execution_count": 5
        }
      ]
    },
    {
      "cell_type": "code",
      "source": [
        "X_train, X_test, y_train, y_test = train_test_split(X_scaled, y, test_size=0.2, random_state=30)"
      ],
      "metadata": {
        "id": "kjc4tlwvsjA_"
      },
      "execution_count": null,
      "outputs": []
    },
    {
      "cell_type": "code",
      "source": [
        "X_train"
      ],
      "metadata": {
        "colab": {
          "base_uri": "https://localhost:8080/"
        },
        "id": "j9oToVVZDz8A",
        "outputId": "450d697d-9a35-4bf6-dbc9-d5b264216156"
      },
      "execution_count": null,
      "outputs": [
        {
          "output_type": "execute_result",
          "data": {
            "text/plain": [
              "array([[-0.33698512,  0.26416032,  0.49058302, ...,  1.68425027,\n",
              "        -0.25531266,  0.83625083],\n",
              "       [-0.33698512,  0.26416032,  0.49058302, ..., -0.4176527 ,\n",
              "         4.4627649 ,  0.24273464],\n",
              "       [-0.33698512,  0.26416032,  0.49058302, ...,  1.50052279,\n",
              "        -0.25531266,  0.24273464],\n",
              "       ...,\n",
              "       [-0.33698512,  0.26416032,  0.49058302, ..., -0.91104295,\n",
              "        -0.25531266, -0.94429773],\n",
              "       [-0.33698512,  0.26416032,  0.49058302, ..., -1.66761008,\n",
              "        -0.25531266, -0.94429773],\n",
              "       [-0.33698512,  0.26416032,  0.49058302, ..., -0.77943223,\n",
              "        -0.25531266, -0.94429773]])"
            ]
          },
          "metadata": {},
          "execution_count": 7
        }
      ]
    },
    {
      "cell_type": "code",
      "source": [
        "X_train.shape\n",
        "#X_train = X_train.to_csv(\"X_train.csv\")"
      ],
      "metadata": {
        "colab": {
          "base_uri": "https://localhost:8080/"
        },
        "id": "_uVwHPr5C7kI",
        "outputId": "2de39ebb-20a2-416e-ed27-371b76cd957e"
      },
      "execution_count": null,
      "outputs": [
        {
          "output_type": "execute_result",
          "data": {
            "text/plain": [
              "(30084, 52)"
            ]
          },
          "metadata": {},
          "execution_count": 8
        }
      ]
    },
    {
      "cell_type": "code",
      "source": [
        "X_test.shape"
      ],
      "metadata": {
        "colab": {
          "base_uri": "https://localhost:8080/"
        },
        "id": "AuaD3hfOC-y-",
        "outputId": "f7a5be93-0915-4dc5-c196-e216bbc7337d"
      },
      "execution_count": null,
      "outputs": [
        {
          "output_type": "execute_result",
          "data": {
            "text/plain": [
              "(5647, 33)"
            ]
          },
          "metadata": {},
          "execution_count": 9
        }
      ]
    },
    {
      "cell_type": "code",
      "source": [
        "pca = PCA(0.99)\n",
        "X_pca = pca.fit_transform(X)\n",
        "X_pca.shape"
      ],
      "metadata": {
        "colab": {
          "base_uri": "https://localhost:8080/"
        },
        "id": "CrdaGGGqsvze",
        "outputId": "e09f778e-00c7-4f49-c28f-35f369ec73c8"
      },
      "execution_count": null,
      "outputs": [
        {
          "output_type": "execute_result",
          "data": {
            "text/plain": [
              "(37606, 9)"
            ]
          },
          "metadata": {},
          "execution_count": 11
        }
      ]
    },
    {
      "cell_type": "code",
      "source": [
        "X_pca"
      ],
      "metadata": {
        "colab": {
          "base_uri": "https://localhost:8080/"
        },
        "id": "1vVdFaBsEA48",
        "outputId": "ab96569a-4712-4d62-d6e0-8a7d878aeaee"
      },
      "execution_count": null,
      "outputs": [
        {
          "output_type": "execute_result",
          "data": {
            "text/plain": [
              "array([[-3.40407761e+00, -5.84007407e+00,  1.94255032e+01, ...,\n",
              "        -1.17958405e+01, -3.92063553e+00,  1.54644736e+01],\n",
              "       [-6.54371803e+01,  7.03972446e+01, -1.06816743e+01, ...,\n",
              "         1.22620066e+00, -2.96366947e+00, -1.24880513e-01],\n",
              "       [-3.42405434e+01,  8.62302635e+00,  1.59766055e+01, ...,\n",
              "        -1.92487576e+01,  2.01446773e+01, -8.49350307e+00],\n",
              "       ...,\n",
              "       [-3.16480825e+01, -2.64582883e+01,  1.35212248e+00, ...,\n",
              "        -3.89436119e+00, -9.51122556e-01,  2.64211678e+00],\n",
              "       [-7.48121523e+00, -4.64863804e+01,  3.51981766e+01, ...,\n",
              "         2.64889257e+00,  5.97292005e-01, -8.99212516e+00],\n",
              "       [ 1.91438537e+02,  2.72353143e+01,  2.54012056e+01, ...,\n",
              "         1.35394277e+01,  4.87663322e+01,  7.09030115e+01]])"
            ]
          },
          "metadata": {},
          "execution_count": 12
        }
      ]
    },
    {
      "cell_type": "code",
      "source": [
        "pca.explained_variance_ratio_"
      ],
      "metadata": {
        "colab": {
          "base_uri": "https://localhost:8080/"
        },
        "id": "IaG3PHNrskmP",
        "outputId": "8b30523e-8dc4-4a4f-b021-1fdc0c3613ba"
      },
      "execution_count": null,
      "outputs": [
        {
          "output_type": "execute_result",
          "data": {
            "text/plain": [
              "array([0.56051299, 0.23162736, 0.05997623, 0.04354231, 0.03257129,\n",
              "       0.02115236, 0.01813409, 0.01376173, 0.01297895])"
            ]
          },
          "metadata": {},
          "execution_count": 13
        }
      ]
    },
    {
      "cell_type": "code",
      "source": [
        "pca.n_components_"
      ],
      "metadata": {
        "colab": {
          "base_uri": "https://localhost:8080/"
        },
        "id": "F2oe84gLs414",
        "outputId": "bc7c8e65-6c32-4c46-b11d-1964a0a04102"
      },
      "execution_count": null,
      "outputs": [
        {
          "output_type": "execute_result",
          "data": {
            "text/plain": [
              "9"
            ]
          },
          "metadata": {},
          "execution_count": 14
        }
      ]
    },
    {
      "cell_type": "code",
      "source": [
        "X_pca"
      ],
      "metadata": {
        "colab": {
          "base_uri": "https://localhost:8080/"
        },
        "id": "rRZPjtETtAtt",
        "outputId": "1c397a4e-c421-4f3f-aea5-d3d9f33a9536"
      },
      "execution_count": null,
      "outputs": [
        {
          "output_type": "execute_result",
          "data": {
            "text/plain": [
              "array([[-3.40407761e+00, -5.84007407e+00,  1.94255032e+01, ...,\n",
              "        -1.17958405e+01, -3.92063553e+00,  1.54644736e+01],\n",
              "       [-6.54371803e+01,  7.03972446e+01, -1.06816743e+01, ...,\n",
              "         1.22620066e+00, -2.96366947e+00, -1.24880513e-01],\n",
              "       [-3.42405434e+01,  8.62302635e+00,  1.59766055e+01, ...,\n",
              "        -1.92487576e+01,  2.01446773e+01, -8.49350307e+00],\n",
              "       ...,\n",
              "       [-3.16480825e+01, -2.64582883e+01,  1.35212248e+00, ...,\n",
              "        -3.89436119e+00, -9.51122556e-01,  2.64211678e+00],\n",
              "       [-7.48121523e+00, -4.64863804e+01,  3.51981766e+01, ...,\n",
              "         2.64889257e+00,  5.97292005e-01, -8.99212516e+00],\n",
              "       [ 1.91438537e+02,  2.72353143e+01,  2.54012056e+01, ...,\n",
              "         1.35394277e+01,  4.87663322e+01,  7.09030115e+01]])"
            ]
          },
          "metadata": {},
          "execution_count": 15
        }
      ]
    },
    {
      "cell_type": "code",
      "source": [
        "X_train_pca, X_test_pca, y_train, y_test = train_test_split(X_pca, y, test_size=0.2, random_state=30)"
      ],
      "metadata": {
        "id": "7OcEKfu_tFCP"
      },
      "execution_count": null,
      "outputs": []
    },
    {
      "cell_type": "code",
      "source": [
        "model = LogisticRegression(max_iter=1000)\n",
        "model.fit(X_train_pca, y_train)\n",
        "model.score(X_test_pca, y_test)"
      ],
      "metadata": {
        "colab": {
          "base_uri": "https://localhost:8080/"
        },
        "id": "7Y8V4JA2tHvW",
        "outputId": "bcc737cd-170b-4dfb-8faf-82c9dde24eda"
      },
      "execution_count": null,
      "outputs": [
        {
          "output_type": "execute_result",
          "data": {
            "text/plain": [
              "0.9016219090667376"
            ]
          },
          "metadata": {},
          "execution_count": 21
        }
      ]
    },
    {
      "cell_type": "code",
      "source": [
        "pca = PCA(n_components=15)\n",
        "X_pca = pca.fit_transform(X)\n",
        "X_pca.shape"
      ],
      "metadata": {
        "colab": {
          "base_uri": "https://localhost:8080/"
        },
        "id": "sxYwHJ5itMkw",
        "outputId": "d0988cbd-eae3-412e-d305-63603957ecc8"
      },
      "execution_count": null,
      "outputs": [
        {
          "output_type": "execute_result",
          "data": {
            "text/plain": [
              "(37606, 15)"
            ]
          },
          "metadata": {},
          "execution_count": 19
        }
      ]
    },
    {
      "cell_type": "code",
      "source": [
        "X_train_pca, X_test_pca, y_train, y_test = train_test_split(X_pca, y, test_size=0.2, random_state=30)\n",
        "\n",
        "model = LogisticRegression(max_iter=1000)\n",
        "model.fit(X_train_pca, y_train)\n",
        "model.score(X_test_pca, y_test)"
      ],
      "metadata": {
        "colab": {
          "base_uri": "https://localhost:8080/"
        },
        "id": "SkgSIWjotUmn",
        "outputId": "4c5e1c04-d0d2-46d9-af6e-fcda218315cf"
      },
      "execution_count": null,
      "outputs": [
        {
          "output_type": "execute_result",
          "data": {
            "text/plain": [
              "0.9016219090667376"
            ]
          },
          "metadata": {},
          "execution_count": 20
        }
      ]
    },
    {
      "cell_type": "markdown",
      "source": [
        "##Autovectores y autovalores\n",
        "\n",
        "los autovectores son las direcciones en las que la varianza de los datos es mayor.  Recordemos que, en teoría de probabilidad, la varianza  de una variable aleatoria es una medida de dispersión (definida como la esperanza del cuadrado de la desviación de dicha variable respecto a su media). Por tanto, las direcciones en las que la varianza es mayor,  representan la esencia principal de la información contenida en el dataset, por eso se les llama componentes principales. Al igual que un autovector es una dirección, el autovalor es un número, que representa el valor de la varianza sobre ese autovector.\n",
        "\n",
        "Si lo que queremos es reducir la dimensionalidad del dataset, perdiendo la menor información posible, descartaremos los autovectores cuyos autovalores sean más bajos, ya que son aquellos que menos información aportan al conjunto global. Para ello, lo que se hace es ordenarlos por parejas de autovector, autovalor."
      ],
      "metadata": {
        "id": "MdywnTapPNtT"
      }
    },
    {
      "cell_type": "code",
      "source": [
        "# Calculamos la matriz de covarianza\n",
        "\n",
        "print('NumPy covariance matrix: \\n%s' %np.cov(X_std.T))"
      ],
      "metadata": {
        "colab": {
          "base_uri": "https://localhost:8080/"
        },
        "id": "swgrV555PYC1",
        "outputId": "b5029827-5210-4094-fafe-28bbe3d2e09a"
      },
      "execution_count": null,
      "outputs": [
        {
          "output_type": "stream",
          "name": "stdout",
          "text": [
            "NumPy covariance matrix: \n",
            "[[ 1.00004224e+00  4.52919452e-01  5.13569668e-01  4.59408468e-01\n",
            "  -1.12743078e-01 -7.19732646e-02 -4.50892388e-02  9.59839232e-02\n",
            "   6.36058364e-02  1.54351190e-01  5.31089863e-02  1.58170600e-01\n",
            "   2.74354213e-01  1.45764577e-01  9.70272164e-02  1.66188951e-01\n",
            "   1.77666216e-01  7.58854630e-02  7.41856246e-02  1.64467823e-01\n",
            "   1.85425807e-01  3.85613531e-02  2.33132414e-01  6.50408902e-02\n",
            "   1.88110646e-01 -1.45362112e-01 -7.13345135e-02  3.45490159e-02\n",
            "   1.03985412e-01  1.56933345e-01]\n",
            " [ 4.52919452e-01  1.00004224e+00  5.82838475e-01  4.47258131e-01\n",
            "  -1.18125347e-01 -2.62118476e-02 -1.27645444e-02  1.14760004e-01\n",
            "   6.53861218e-02  2.03531567e-01  7.65121800e-02  1.86307872e-01\n",
            "   3.90685085e-01  1.33270983e-01  1.41485992e-01  2.09885202e-01\n",
            "   2.28261080e-01  8.76673455e-02  1.02622472e-01  1.80584745e-01\n",
            "   2.14040983e-01  3.43339610e-02  2.07677428e-01  6.69779809e-02\n",
            "   2.33675641e-01 -1.12981126e-01 -5.31370788e-02  3.84993298e-02\n",
            "   1.25669438e-01  1.91222221e-01]\n",
            " [ 5.13569668e-01  5.82838475e-01  1.00004224e+00  4.98035397e-01\n",
            "  -1.23495023e-01 -4.63684325e-03 -1.47510448e-02  1.34794889e-01\n",
            "   6.80694046e-02  2.43289642e-01  9.76625378e-02  2.08148093e-01\n",
            "   3.37728241e-01  1.53372458e-01  1.60672627e-01  2.58542278e-01\n",
            "   2.74903697e-01  9.11933533e-02  1.24960381e-01  2.13287372e-01\n",
            "   2.12159751e-01  1.52558934e-03  2.51819390e-01  1.04381125e-01\n",
            "   2.80619911e-01 -1.13219035e-01 -4.32668775e-02  3.67096700e-02\n",
            "   1.12593691e-01  2.36248187e-01]\n",
            " [ 4.59408468e-01  4.47258131e-01  4.98035397e-01  1.00004224e+00\n",
            "  -8.37109250e-02 -5.38683155e-02 -3.22222565e-02  9.13579488e-02\n",
            "   6.13260819e-02  2.07780208e-01  4.89776835e-02  1.68314209e-01\n",
            "   2.45457342e-01  2.09520482e-01  9.62359883e-02  2.15237735e-01\n",
            "   2.08884785e-01  6.59414261e-02  8.51588314e-02  1.45517273e-01\n",
            "   1.67302459e-01  3.45541517e-02  2.38593344e-01  9.23406715e-02\n",
            "   1.62599697e-01 -1.16377876e-01 -5.94704870e-02  4.64042063e-02\n",
            "   1.02923521e-01  1.93670871e-01]\n",
            " [-1.12743078e-01 -1.18125347e-01 -1.23495023e-01 -8.37109250e-02\n",
            "   1.00004224e+00  1.50878386e-01 -1.72202740e-03 -1.33416059e-01\n",
            "  -2.57858220e-02 -5.84192040e-02 -1.95127825e-01 -7.17898978e-02\n",
            "  -1.43242678e-01  5.18282171e-02 -5.38256932e-02 -7.48594810e-02\n",
            "  -1.29318689e-01  4.47186696e-02  2.02791978e-02 -2.29809213e-01\n",
            "  -1.62315724e-01  4.30030780e-02 -1.05547659e-01  9.94544802e-04\n",
            "  -3.65211638e-01  1.20691010e-01 -5.98623975e-02 -1.47205699e-02\n",
            "   2.92512553e-02 -1.23545140e-01]\n",
            " [-7.19732646e-02 -2.62118476e-02 -4.63684325e-03 -5.38683155e-02\n",
            "   1.50878386e-01  1.00004224e+00  2.42933346e-01  1.95975763e-02\n",
            "  -4.14102996e-02  6.10681949e-02  6.20075753e-02  4.10518098e-02\n",
            "   2.06361581e-02 -1.10594654e-01  1.20305387e-01  2.92932397e-02\n",
            "   5.82336599e-02  4.83541699e-03  5.44185278e-02  4.10836071e-02\n",
            "  -1.91651102e-02 -1.01927478e-01 -1.55589090e-01 -2.46830837e-02\n",
            "   1.49376827e-01  2.44242577e-01  1.62905438e-01 -2.21305325e-02\n",
            "  -3.69611619e-02 -1.95807125e-03]\n",
            " [-4.50892388e-02 -1.27645444e-02 -1.47510448e-02 -3.22222565e-02\n",
            "  -1.72202740e-03  2.42933346e-01  1.00004224e+00  1.93906396e-02\n",
            "  -2.22459688e-02  3.10674883e-02  6.84822443e-02  3.21436878e-02\n",
            "   3.47943568e-02 -7.87393439e-02  5.99786816e-02 -7.09423057e-03\n",
            "   2.78818570e-02 -3.10659120e-03  4.84829251e-02  3.22962188e-02\n",
            "  -1.25104659e-02 -7.83107525e-02 -1.05494032e-01  3.42628543e-03\n",
            "   1.28218336e-01  1.51177802e-01  1.10098342e-01 -2.31621151e-02\n",
            "  -4.13817731e-02 -2.75573224e-03]\n",
            " [ 9.59839232e-02  1.14760004e-01  1.34794889e-01  9.13579488e-02\n",
            "  -1.33416059e-01  1.95975763e-02  1.93906396e-02  1.00004224e+00\n",
            "   1.85838403e-02  2.54708447e-01  1.16616126e-01  2.72432631e-01\n",
            "   1.59402104e-01  3.17742961e-02  9.27133411e-02  2.27111608e-01\n",
            "   2.57215554e-01 -5.27062903e-03  1.83862171e-02  2.93764216e-01\n",
            "   1.26485806e-01 -4.87811554e-02  1.73421064e-01 -1.32079836e-02\n",
            "   3.30166356e-01 -1.14379678e-01  4.49052127e-02  1.10454998e-01\n",
            "  -2.28801501e-02  2.48965379e-01]\n",
            " [ 6.36058364e-02  6.53861218e-02  6.80694046e-02  6.13260819e-02\n",
            "  -2.57858220e-02 -4.14102996e-02 -2.22459688e-02  1.85838403e-02\n",
            "   1.00004224e+00  7.57559302e-02  1.64095937e-02  3.40798788e-02\n",
            "   1.07757464e-01  4.42557428e-02  9.92381130e-03  7.17995480e-02\n",
            "   4.30004875e-02  1.22610443e-02  2.11210164e-02  3.16221540e-02\n",
            "   2.38406950e-02 -1.37029093e-03  5.75673842e-02  1.94273897e-02\n",
            "  -3.22867404e-02  1.43734788e-02  3.22743795e-02  2.60816465e-02\n",
            "  -1.93830904e-03  4.51160526e-02]\n",
            " [ 1.54351190e-01  2.03531567e-01  2.43289642e-01  2.07780208e-01\n",
            "  -5.84192040e-02  6.10681949e-02  3.10674883e-02  2.54708447e-01\n",
            "   7.57559302e-02  1.00004224e+00  9.52416809e-02  2.73759060e-01\n",
            "   2.60794017e-01  1.66349121e-01  1.77070754e-01  6.05699585e-01\n",
            "   5.55001364e-01  8.38272374e-02  1.35009501e-01  3.08539071e-01\n",
            "   1.62241369e-01 -4.07171031e-02  1.91427583e-01  8.61887474e-02\n",
            "   3.03316353e-01 -4.87817378e-02  1.16592450e-02  1.53418714e-01\n",
            "   3.82828626e-02  5.46600941e-01]\n",
            " [ 5.31089863e-02  7.65121800e-02  9.76625378e-02  4.89776835e-02\n",
            "  -1.95127825e-01  6.20075753e-02  6.84822443e-02  1.16616126e-01\n",
            "   1.64095937e-02  9.52416809e-02  1.00004224e+00  7.55214955e-02\n",
            "   1.20539704e-01 -4.79719601e-02  7.65234985e-02  8.03377125e-02\n",
            "   1.30257200e-01  1.25970502e-03  3.92833516e-02  1.91241518e-01\n",
            "   1.33524351e-01 -7.98829477e-02  5.11318502e-02  1.59902595e-02\n",
            "   3.16166070e-01 -9.73318597e-03  6.97495840e-02  1.76555529e-02\n",
            "  -4.04714940e-02  1.10665465e-01]\n",
            " [ 1.58170600e-01  1.86307872e-01  2.08148093e-01  1.68314209e-01\n",
            "  -7.17898978e-02  4.10518098e-02  3.21436878e-02  2.72432631e-01\n",
            "   3.40798788e-02  2.73759060e-01  7.55214955e-02  1.00004224e+00\n",
            "   1.97397202e-01  8.37222715e-02  1.89292124e-01  3.08563998e-01\n",
            "   3.35368344e-01  9.80101306e-02  1.24542706e-01  2.41552008e-01\n",
            "   2.17650280e-01 -2.16744502e-02  1.31409327e-01  4.93432564e-02\n",
            "   3.60577156e-01 -1.27547326e-01 -4.06451557e-02  5.72499348e-02\n",
            "   6.99450987e-02  2.88259001e-01]\n",
            " [ 2.74354213e-01  3.90685085e-01  3.37728241e-01  2.45457342e-01\n",
            "  -1.43242678e-01  2.06361581e-02  3.47943568e-02  1.59402104e-01\n",
            "   1.07757464e-01  2.60794017e-01  1.20539704e-01  1.97397202e-01\n",
            "   1.00004224e+00  8.26242515e-02  1.49173456e-01  2.39544965e-01\n",
            "   2.63144039e-01  6.21720686e-02  1.11728985e-01  2.47748160e-01\n",
            "   2.24803002e-01 -2.89564497e-02  1.70579525e-01  7.34053066e-02\n",
            "   2.93932408e-01 -6.13639513e-02  3.89657830e-02  4.81449704e-02\n",
            "   4.37684766e-02  2.25174408e-01]\n",
            " [ 1.45764577e-01  1.33270983e-01  1.53372458e-01  2.09520482e-01\n",
            "   5.18282171e-02 -1.10594654e-01 -7.87393439e-02  3.17742961e-02\n",
            "   4.42557428e-02  1.66349121e-01 -4.79719601e-02  8.37222715e-02\n",
            "   8.26242515e-02  1.00004224e+00 -6.47955430e-03  1.82512130e-01\n",
            "   1.40710779e-01  6.95125858e-02  6.72802454e-02  2.72756344e-02\n",
            "   5.73380730e-02  1.04873311e-01  3.50437754e-01  2.51334005e-02\n",
            "  -9.54231810e-02 -1.59096129e-01 -9.78417342e-02  8.27445178e-02\n",
            "   1.06649396e-01  1.65701209e-01]\n",
            " [ 9.70272164e-02  1.41485992e-01  1.60672627e-01  9.62359883e-02\n",
            "  -5.38256932e-02  1.20305387e-01  5.99786816e-02  9.27133411e-02\n",
            "   9.92381130e-03  1.77070754e-01  7.65234985e-02  1.89292124e-01\n",
            "   1.49173456e-01 -6.47955430e-03  1.00004224e+00  3.95800108e-01\n",
            "   5.50479871e-01  2.11023773e-01  2.52713859e-01  1.45912439e-01\n",
            "   2.84569490e-01  2.29693752e-02 -1.01879305e-01 -3.00722225e-01\n",
            "   3.76249097e-01 -3.35853729e-02 -8.78930203e-02  1.01832251e-02\n",
            "   1.61156570e-01  8.29347882e-02]\n",
            " [ 1.66188951e-01  2.09885202e-01  2.58542278e-01  2.15237735e-01\n",
            "  -7.48594810e-02  2.92932397e-02 -7.09423057e-03  2.27111608e-01\n",
            "   7.17995480e-02  6.05699585e-01  8.03377125e-02  3.08563998e-01\n",
            "   2.39544965e-01  1.82512130e-01  3.95800108e-01  1.00004224e+00\n",
            "   8.85225118e-01  1.32678280e-01  1.76024617e-01  2.98995898e-01\n",
            "   2.04153367e-01 -1.38399055e-02  1.94202901e-01  6.04824771e-02\n",
            "   3.81364383e-01 -1.39017063e-01 -6.98975769e-02  2.18659990e-01\n",
            "   8.81641239e-02  8.18144668e-01]\n",
            " [ 1.77666216e-01  2.28261080e-01  2.74903697e-01  2.08884785e-01\n",
            "  -1.29318689e-01  5.82336599e-02  2.78818570e-02  2.57215554e-01\n",
            "   4.30004875e-02  5.55001364e-01  1.30257200e-01  3.35368344e-01\n",
            "   2.63144039e-01  1.40710779e-01  5.50479871e-01  8.85225118e-01\n",
            "   1.00004224e+00  1.58601804e-01  2.06420563e-01  3.46128726e-01\n",
            "   2.94630299e-01 -1.46848076e-02  1.74814209e-01 -1.44475192e-02\n",
            "   5.19792981e-01 -1.61142835e-01 -6.62566473e-02  1.90401447e-01\n",
            "   1.10813339e-01  8.71649079e-01]\n",
            " [ 7.58854630e-02  8.76673455e-02  9.11933533e-02  6.59414261e-02\n",
            "   4.47186696e-02  4.83541699e-03 -3.10659120e-03 -5.27062903e-03\n",
            "   1.22610443e-02  8.38272374e-02  1.25970502e-03  9.80101306e-02\n",
            "   6.21720686e-02  6.95125858e-02  2.11023773e-01  1.32678280e-01\n",
            "   1.58601804e-01  1.00004224e+00  4.55212472e-01  1.95410922e-02\n",
            "   1.74652844e-01  8.50918603e-02 -3.17359228e-03 -1.56713387e-01\n",
            "   9.08525056e-02 -9.33861183e-02 -1.18942848e-01 -9.16761599e-03\n",
            "   1.62643143e-01  6.59520924e-02]\n",
            " [ 7.41856246e-02  1.02622472e-01  1.24960381e-01  8.51588314e-02\n",
            "   2.02791978e-02  5.44185278e-02  4.84829251e-02  1.83862171e-02\n",
            "   2.11210164e-02  1.35009501e-01  3.92833516e-02  1.24542706e-01\n",
            "   1.11728985e-01  6.72802454e-02  2.52713859e-01  1.76024617e-01\n",
            "   2.06420563e-01  4.55212472e-01  1.00004224e+00  4.97282141e-02\n",
            "   1.68079590e-01  2.79435886e-02 -3.13818683e-02 -6.75958276e-02\n",
            "   1.46028747e-01 -3.27623048e-02 -8.00551148e-02 -6.80395232e-03\n",
            "   1.19562682e-01  1.00429005e-01]\n",
            " [ 1.64467823e-01  1.80584745e-01  2.13287372e-01  1.45517273e-01\n",
            "  -2.29809213e-01  4.10836071e-02  3.22962188e-02  2.93764216e-01\n",
            "   3.16221540e-02  3.08539071e-01  1.91241518e-01  2.41552008e-01\n",
            "   2.47748160e-01  2.72756344e-02  1.45912439e-01  2.98995898e-01\n",
            "   3.46128726e-01  1.95410922e-02  4.97282141e-02  1.00004224e+00\n",
            "   2.16876565e-01 -5.03445262e-02  1.99099648e-01  1.92918852e-02\n",
            "   4.92479076e-01 -1.38547609e-01  6.33055782e-02  7.42981175e-02\n",
            "   2.90204252e-03  3.23469569e-01]\n",
            " [ 1.85425807e-01  2.14040983e-01  2.12159751e-01  1.67302459e-01\n",
            "  -1.62315724e-01 -1.91651102e-02 -1.25104659e-02  1.26485806e-01\n",
            "   2.38406950e-02  1.62241369e-01  1.33524351e-01  2.17650280e-01\n",
            "   2.24803002e-01  5.73380730e-02  2.84569490e-01  2.04153367e-01\n",
            "   2.94630299e-01  1.74652844e-01  1.68079590e-01  2.16876565e-01\n",
            "   1.00004224e+00  9.00183578e-02  1.25189842e-01 -1.42934993e-01\n",
            "   4.03050776e-01 -2.05451825e-01 -8.40375003e-02  8.80725517e-03\n",
            "   2.05237542e-01  1.83707337e-01]\n",
            " [ 3.85613531e-02  3.43339610e-02  1.52558934e-03  3.45541517e-02\n",
            "   4.30030780e-02 -1.01927478e-01 -7.83107525e-02 -4.87811554e-02\n",
            "  -1.37029093e-03 -4.07171031e-02 -7.98829477e-02 -2.16744502e-02\n",
            "  -2.89564497e-02  1.04873311e-01  2.29693752e-02 -1.38399055e-02\n",
            "  -1.46848076e-02  8.50918603e-02  2.79435886e-02 -5.03445262e-02\n",
            "   9.00183578e-02  1.00004224e+00  6.01639455e-02 -1.38561532e-01\n",
            "  -1.41981439e-01 -1.38893003e-01 -1.20794001e-01  1.60211072e-02\n",
            "   8.22362015e-01 -3.34528457e-02]\n",
            " [ 2.33132414e-01  2.07677428e-01  2.51819390e-01  2.38593344e-01\n",
            "  -1.05547659e-01 -1.55589090e-01 -1.05494032e-01  1.73421064e-01\n",
            "   5.75673842e-02  1.91427583e-01  5.11318502e-02  1.31409327e-01\n",
            "   1.70579525e-01  3.50437754e-01 -1.01879305e-01  1.94202901e-01\n",
            "   1.74814209e-01 -3.17359228e-03 -3.13818683e-02  1.99099648e-01\n",
            "   1.25189842e-01  6.01639455e-02  1.00004224e+00  4.09366100e-02\n",
            "   1.03723069e-01 -2.67112626e-01 -6.89465904e-02  9.27749948e-02\n",
            "   3.64154127e-02  2.58403944e-01]\n",
            " [ 6.50408902e-02  6.69779809e-02  1.04381125e-01  9.23406715e-02\n",
            "   9.94544802e-04 -2.46830837e-02  3.42628543e-03 -1.32079836e-02\n",
            "   1.94273897e-02  8.61887474e-02  1.59902595e-02  4.93432564e-02\n",
            "   7.34053066e-02  2.51334005e-02 -3.00722225e-01  6.04824771e-02\n",
            "  -1.44475192e-02 -1.56713387e-01 -6.75958276e-02  1.92918852e-02\n",
            "  -1.42934993e-01 -1.38561532e-01  4.09366100e-02  1.00004224e+00\n",
            "   1.58780105e-02  2.00801327e-02  3.74019700e-02 -4.10309752e-03\n",
            "  -1.49005875e-01  1.66127444e-01]\n",
            " [ 1.88110646e-01  2.33675641e-01  2.80619911e-01  1.62599697e-01\n",
            "  -3.65211638e-01  1.49376827e-01  1.28218336e-01  3.30166356e-01\n",
            "  -3.22867404e-02  3.03316353e-01  3.16166070e-01  3.60577156e-01\n",
            "   2.93932408e-01 -9.54231810e-02  3.76249097e-01  3.81364383e-01\n",
            "   5.19792981e-01  9.08525056e-02  1.46028747e-01  4.92479076e-01\n",
            "   4.03050776e-01 -1.41981439e-01  1.03723069e-01  1.58780105e-02\n",
            "   1.00004224e+00 -2.42937218e-01  2.11470252e-02  7.21847391e-03\n",
            "   1.16059834e-02  4.04909546e-01]\n",
            " [-1.45362112e-01 -1.12981126e-01 -1.13219035e-01 -1.16377876e-01\n",
            "   1.20691010e-01  2.44242577e-01  1.51177802e-01 -1.14379678e-01\n",
            "   1.43734788e-02 -4.87817378e-02 -9.73318597e-03 -1.27547326e-01\n",
            "  -6.13639513e-02 -1.59096129e-01 -3.35853729e-02 -1.39017063e-01\n",
            "  -1.61142835e-01 -9.33861183e-02 -3.27623048e-02 -1.38547609e-01\n",
            "  -2.05451825e-01 -1.38893003e-01 -2.67112626e-01  2.00801327e-02\n",
            "  -2.42937218e-01  1.00004224e+00  2.04084450e-01 -1.86844566e-02\n",
            "  -1.18549840e-01 -1.77304648e-01]\n",
            " [-7.13345135e-02 -5.31370788e-02 -4.32668775e-02 -5.94704870e-02\n",
            "  -5.98623975e-02  1.62905438e-01  1.10098342e-01  4.49052127e-02\n",
            "   3.22743795e-02  1.16592450e-02  6.97495840e-02 -4.06451557e-02\n",
            "   3.89657830e-02 -9.78417342e-02 -8.78930203e-02 -6.98975769e-02\n",
            "  -6.62566473e-02 -1.18942848e-01 -8.00551148e-02  6.33055782e-02\n",
            "  -8.40375003e-02 -1.20794001e-01 -6.89465904e-02  3.74019700e-02\n",
            "   2.11470252e-02  2.04084450e-01  1.00004224e+00  5.04950478e-03\n",
            "  -1.50369194e-01 -3.13046467e-02]\n",
            " [ 3.45490159e-02  3.84993298e-02  3.67096700e-02  4.64042063e-02\n",
            "  -1.47205699e-02 -2.21305325e-02 -2.31621151e-02  1.10454998e-01\n",
            "   2.60816465e-02  1.53418714e-01  1.76555529e-02  5.72499348e-02\n",
            "   4.81449704e-02  8.27445178e-02  1.01832251e-02  2.18659990e-01\n",
            "   1.90401447e-01 -9.16761599e-03 -6.80395232e-03  7.42981175e-02\n",
            "   8.80725517e-03  1.60211072e-02  9.27749948e-02 -4.10309752e-03\n",
            "   7.21847391e-03 -1.86844566e-02  5.04950478e-03  1.00004224e+00\n",
            "  -6.89802860e-03  2.10527840e-01]\n",
            " [ 1.03985412e-01  1.25669438e-01  1.12593691e-01  1.02923521e-01\n",
            "   2.92512553e-02 -3.69611619e-02 -4.13817731e-02 -2.28801501e-02\n",
            "  -1.93830904e-03  3.82828626e-02 -4.04714940e-02  6.99450987e-02\n",
            "   4.37684766e-02  1.06649396e-01  1.61156570e-01  8.81641239e-02\n",
            "   1.10813339e-01  1.62643143e-01  1.19562682e-01  2.90204252e-03\n",
            "   2.05237542e-01  8.22362015e-01  3.64154127e-02 -1.49005875e-01\n",
            "   1.16059834e-02 -1.18549840e-01 -1.50369194e-01 -6.89802860e-03\n",
            "   1.00004224e+00  3.71788917e-02]\n",
            " [ 1.56933345e-01  1.91222221e-01  2.36248187e-01  1.93670871e-01\n",
            "  -1.23545140e-01 -1.95807125e-03 -2.75573224e-03  2.48965379e-01\n",
            "   4.51160526e-02  5.46600941e-01  1.10665465e-01  2.88259001e-01\n",
            "   2.25174408e-01  1.65701209e-01  8.29347882e-02  8.18144668e-01\n",
            "   8.71649079e-01  6.59520924e-02  1.00429005e-01  3.23469569e-01\n",
            "   1.83707337e-01 -3.34528457e-02  2.58403944e-01  1.66127444e-01\n",
            "   4.04909546e-01 -1.77304648e-01 -3.13046467e-02  2.10527840e-01\n",
            "   3.71788917e-02  1.00004224e+00]]\n"
          ]
        }
      ]
    },
    {
      "cell_type": "code",
      "source": [
        "#Calculamos los autovalores y autovectores de la matriz y los mostramos\n",
        "\n",
        "cov_mat = np.cov(X_std.T)\n",
        "\n",
        "eig_vals, eig_vecs = np.linalg.eig(cov_mat)\n",
        "\n",
        "print('Eigenvectors \\n%s' %eig_vecs)\n",
        "print('\\nEigenvalues \\n%s' %eig_vals)"
      ],
      "metadata": {
        "colab": {
          "base_uri": "https://localhost:8080/"
        },
        "id": "4dDdZ00TPeT7",
        "outputId": "f3d147a9-1d73-4890-f45c-abd6d55e9553"
      },
      "execution_count": null,
      "outputs": [
        {
          "output_type": "stream",
          "name": "stdout",
          "text": [
            "Eigenvectors \n",
            "[[ 1.93949680e-01 -2.26606820e-01  2.40911535e-01 -1.85958444e-01\n",
            "  -1.26109311e-01  1.40651488e-02  7.76182597e-04  3.20896091e-03\n",
            "   1.95841394e-04 -1.14845607e-01 -5.49164823e-02 -8.86617614e-02\n",
            "  -1.68437581e-02 -3.50295702e-02 -6.78115057e-02 -1.69401456e-01\n",
            "  -2.10120161e-02  1.73997822e-02  1.51432916e-01 -1.90372067e-01\n",
            "  -4.83791450e-02 -1.90568422e-02  2.53936944e-01 -1.93711868e-01\n",
            "   7.37613742e-01 -1.38699583e-01  7.26072164e-03  7.00394027e-02\n",
            "   1.02027971e-01 -1.09605872e-02]\n",
            " [ 2.20230685e-01 -1.95958976e-01  2.17217522e-01 -2.28844032e-01\n",
            "  -1.71933690e-01 -3.97072633e-02  7.07080465e-04  6.97376268e-03\n",
            "  -1.18053815e-02 -1.06383409e-01 -7.03233277e-02 -4.64422859e-02\n",
            "  -2.96467669e-02 -1.28558916e-02 -8.14870306e-02 -5.66345435e-01\n",
            "   2.20794055e-03  1.40755424e-02 -6.30517423e-02  4.89085057e-02\n",
            "   1.14973380e-01 -1.29831166e-01  1.47936375e-01 -2.66169581e-01\n",
            "  -5.23507019e-01  7.07891478e-03  1.16747434e-01 -7.10003949e-02\n",
            "  -3.04042480e-02 -1.10841363e-01]\n",
            " [ 2.41960272e-01 -1.76222241e-01  2.31941746e-01 -2.11253755e-01\n",
            "  -1.87839983e-01 -2.19566056e-02  1.54521112e-03 -5.92707277e-04\n",
            "  -4.36237592e-02 -1.13778101e-01 -2.62761527e-02 -4.95521120e-02\n",
            "   9.08655531e-02 -3.80346565e-02 -4.37896961e-02  7.56659274e-01\n",
            "   1.75122810e-02 -3.25083562e-02  9.75458708e-02 -9.08887118e-02\n",
            "   3.66499494e-03  1.04347020e-01  1.37110847e-01 -1.48728721e-01\n",
            "  -2.80226221e-01 -1.42258778e-01  1.26859384e-02 -1.68984067e-02\n",
            "  -3.88815936e-02 -4.87388954e-02]\n",
            " [ 1.99667286e-01 -2.13399728e-01  2.34842959e-01 -1.22717579e-01\n",
            "  -1.93793214e-01 -6.37836531e-03  1.01309844e-03 -8.60615825e-03\n",
            "  -6.20012906e-03 -9.30427761e-02 -1.81690144e-02 -9.38855141e-02\n",
            "  -2.02680975e-02 -7.14352601e-02  5.46030566e-03 -6.00117233e-02\n",
            "  -5.57258348e-03 -1.06229639e-02  2.34481986e-01 -9.60003926e-02\n",
            "  -1.76802082e-01 -9.86060813e-02 -4.47102330e-01  5.39405093e-01\n",
            "  -3.77991633e-02  3.63726694e-01 -4.48038420e-02  1.23076332e-01\n",
            "   2.37816583e-02  1.79156991e-01]\n",
            " [-1.12272797e-01 -6.66718698e-02 -1.20486385e-01  1.60457043e-01\n",
            "  -4.12445739e-01 -2.10226402e-03  4.60203661e-04  1.30011295e-02\n",
            "  -2.96860237e-02  2.26265895e-02  2.17761610e-01 -2.19905526e-01\n",
            "  -2.10742040e-01  2.37769720e-01 -7.02538087e-03  2.17209929e-02\n",
            "  -4.88506724e-02 -3.77166078e-01 -2.16601922e-01 -1.89563460e-01\n",
            "   8.90790490e-02 -3.66806691e-02 -4.77673489e-02  1.67260310e-02\n",
            "  -3.70621806e-02 -1.66805593e-01  3.51348100e-01  9.27308245e-02\n",
            "   3.47457698e-01  2.29039502e-01]\n",
            " [ 3.43982213e-03  2.41285384e-01 -1.33818026e-01 -2.01635647e-01\n",
            "  -2.87240688e-01 -2.63475358e-01 -7.55533000e-04 -9.84278940e-03\n",
            "  -7.64623026e-03  5.84120747e-02  2.30272506e-01 -1.93109460e-01\n",
            "   1.74469356e-01  2.77450515e-02  1.20640882e-01 -4.73498260e-02\n",
            "  -3.35612825e-02 -2.37735855e-01 -1.77999564e-01 -3.50945440e-01\n",
            "   3.97318896e-03 -3.30481149e-02  3.54575340e-02  2.50195053e-02\n",
            "   8.06128015e-02  1.72014681e-01 -2.78330319e-01 -1.70063011e-01\n",
            "  -4.18666959e-01 -2.36954839e-01]\n",
            " [ 4.50629778e-03  1.95777643e-01 -7.14379524e-02 -2.03125119e-01\n",
            "  -1.61545857e-01 -2.25844138e-01 -1.27648975e-03  9.16419415e-03\n",
            "   2.86733176e-03  1.06182007e-01  2.79034411e-01 -2.18956729e-02\n",
            "   6.81745944e-02 -1.35781350e-01  2.54615039e-01  7.38379853e-03\n",
            "  -4.98674631e-01  5.55696202e-01  1.03277244e-01  3.94297886e-02\n",
            "   5.61207478e-02  1.20446624e-02 -6.96478220e-03 -2.23644599e-02\n",
            "  -1.67084996e-02 -3.55998764e-02  2.03011939e-01  1.04639905e-01\n",
            "   1.71914557e-01  6.08758554e-02]\n",
            " [ 1.67743705e-01  1.28974643e-01  5.01589154e-02  1.60239726e-02\n",
            "   2.08390703e-01 -8.84583422e-02 -6.08836117e-04  3.07409294e-04\n",
            "   2.10188801e-02  2.63273990e-01  1.63448914e-01 -2.53902054e-01\n",
            "   8.14906077e-02  2.69770409e-01 -3.42747325e-01 -6.87827160e-03\n",
            "   2.01452789e-02 -4.60285333e-02  3.59537515e-01  8.39948404e-02\n",
            "   2.67048688e-01 -5.09705605e-02 -8.80245133e-02 -7.92751588e-02\n",
            "   3.62937646e-02 -4.28982540e-02  2.65200313e-01  1.43791554e-01\n",
            "  -4.14810655e-01  2.24278807e-01]\n",
            " [ 4.04250200e-02 -2.88701751e-02  7.15058442e-02  2.04577519e-02\n",
            "  -9.24892057e-02 -2.05422365e-02  1.25639974e-03 -1.13199361e-02\n",
            "  -3.08424173e-03  4.11169610e-01 -5.12704116e-01  3.26443819e-01\n",
            "  -6.18307473e-02  4.73333667e-01  1.79330269e-01 -6.64782004e-04\n",
            "  -3.31725110e-01 -3.14393806e-02  7.98040443e-02 -2.36998014e-01\n",
            "  -4.82235233e-02 -1.92353171e-02 -4.77402106e-03 -2.28646861e-02\n",
            "  -3.36385158e-02 -2.50511147e-03 -4.01880701e-02 -2.64747857e-02\n",
            "  -6.16305728e-02  1.74978712e-02]\n",
            " [ 2.65046542e-01  1.26880951e-01 -1.77611211e-02  2.03175624e-01\n",
            "  -1.44457364e-01 -8.77635645e-02 -7.22585708e-03 -1.06541992e-01\n",
            "  -2.86578909e-02  6.43618310e-02  1.02276896e-02  5.86575926e-02\n",
            "  -7.49086154e-02  3.36803390e-02  1.75065705e-02 -5.10986652e-02\n",
            "   1.11688660e-01 -2.96835433e-02  4.55682590e-02  9.87816425e-02\n",
            "   1.53399943e-01  5.46326226e-01  4.33935563e-01  1.12902860e-01\n",
            "  -2.03903229e-02  4.35810533e-01 -3.58552820e-02  2.49215278e-01\n",
            "   1.08594549e-01  1.16507175e-02]\n",
            " [ 9.80680390e-02  1.49865316e-01  4.17560592e-02 -1.98697464e-01\n",
            "   2.07944242e-01 -6.94011246e-02 -3.56398749e-04 -4.71976958e-04\n",
            "   1.16249686e-02  1.35811482e-01 -4.67467185e-03  2.24122969e-01\n",
            "   1.14447843e-01 -4.09484731e-01  1.51847063e-01 -1.98887857e-02\n",
            "  -2.29279973e-01 -6.50391576e-01  1.62803954e-01  1.33830933e-01\n",
            "  -2.81047798e-02 -1.74904114e-02  1.68869133e-02 -1.42924058e-02\n",
            "   2.15730919e-02  3.71040770e-02  2.50536666e-01 -4.03642770e-02\n",
            "   1.32876187e-01 -1.01706655e-02]\n",
            " [ 2.07063138e-01  5.22065315e-02 -2.76550244e-02 -2.44921355e-02\n",
            "   3.86299492e-02  1.64879008e-03 -5.81496026e-04 -1.28135501e-02\n",
            "  -1.58572152e-02  7.05717275e-02  2.76586716e-01 -7.22380201e-02\n",
            "   9.46499296e-02  4.26890957e-01 -2.20075354e-01  3.50274272e-03\n",
            "  -1.21971427e-01 -6.31429527e-02  6.71571639e-02  3.29874029e-01\n",
            "  -5.13426245e-01 -5.75424923e-02  4.43804236e-02  2.77752386e-02\n",
            "  -1.98300050e-03  2.43119906e-02 -8.97597968e-02 -1.47624286e-01\n",
            "   2.87269922e-01 -3.31611734e-01]\n",
            " [ 2.08065587e-01 -1.97951264e-02  1.39906107e-01 -1.80556314e-01\n",
            "  -7.65232106e-02 -7.42535941e-02 -6.20549816e-04 -1.14496836e-03\n",
            "   3.84436614e-03  1.15370677e-01 -9.91502220e-02  9.98750476e-02\n",
            "   2.35603136e-02  9.60102526e-02 -3.33375471e-02  1.31583337e-01\n",
            "   6.39074588e-02  6.74580246e-02 -5.36546265e-01  4.01195736e-01\n",
            "   3.80133857e-01 -7.54431499e-02 -1.67623437e-01  1.58597462e-01\n",
            "   2.66464741e-01  1.11640347e-01  1.72461839e-01 -2.28953532e-01\n",
            "   7.06290266e-03 -6.95939270e-02]\n",
            " [ 1.02150942e-01 -2.26280341e-01  9.12904161e-02  2.56902743e-01\n",
            "  -1.14984852e-01  8.14550611e-02 -1.24617896e-03  4.64073277e-03\n",
            "  -2.02661496e-02  3.33956010e-01  1.52772681e-01 -1.95299279e-01\n",
            "  -1.36404167e-01 -1.46222262e-01  3.88872360e-01  4.36590436e-02\n",
            "   3.47229246e-02 -1.26247525e-02  1.44560675e-03  2.92891275e-01\n",
            "  -1.77055219e-01 -1.34160120e-01  4.33981028e-02 -3.07207454e-01\n",
            "   3.56541310e-02  1.49700682e-01 -1.86821635e-01 -2.24626992e-01\n",
            "  -1.48018505e-01  3.37499688e-01]\n",
            " [ 1.83341459e-01  4.59806788e-02 -3.59436499e-01 -1.89707346e-01\n",
            "  -5.71111657e-02  1.07584371e-01 -3.41360768e-01 -1.63262652e-01\n",
            "  -4.75201928e-02 -1.64437654e-01 -2.72928224e-01 -2.52312389e-01\n",
            "   1.48995109e-01  6.07596128e-02  1.35333575e-01 -1.15719132e-01\n",
            "   3.02124956e-03 -1.77731442e-02  8.67589625e-02  1.24176150e-01\n",
            "  -5.82301841e-02  3.99690096e-01 -1.42034473e-01  3.96683924e-02\n",
            "   9.45021859e-03 -2.46783119e-01  1.25199010e-02 -3.01491266e-01\n",
            "  -1.90181352e-02  2.35488527e-01]\n",
            " [ 3.24363020e-01  1.29201627e-01 -1.36444935e-01  2.91601222e-01\n",
            "  -1.29172758e-01 -7.45669195e-03 -3.22355889e-02  8.06159841e-01\n",
            "   1.24893942e-01 -1.40014070e-01 -1.07474790e-01  4.48689920e-02\n",
            "   1.78959388e-01 -2.74148952e-02  7.49457830e-02 -1.32276891e-02\n",
            "   4.14786523e-02  1.64557365e-02  5.10940676e-02 -8.67883263e-03\n",
            "   3.29644608e-03 -7.02650111e-02 -4.15506998e-02 -1.55598669e-02\n",
            "   1.90282653e-02 -3.80619737e-02  6.50085338e-02 -7.29907938e-03\n",
            "  -5.80092410e-03 -4.14614055e-02]\n",
            " [ 3.48498334e-01  1.49358366e-01 -1.93078228e-01  2.00344132e-01\n",
            "  -6.47659480e-02  4.90566829e-03  7.36095243e-01 -3.41816860e-01\n",
            "  -6.02283080e-02 -1.70330926e-01 -1.18830716e-01  2.04504246e-03\n",
            "   3.74938241e-02 -3.65225129e-02  1.05487019e-01 -1.18597196e-02\n",
            "   3.65563527e-02  2.71354289e-02  4.01371694e-02 -1.93439644e-02\n",
            "  -1.99002198e-02 -1.17119724e-01 -1.03132293e-01 -3.19895997e-02\n",
            "   2.17974559e-02 -1.24561945e-01  7.79353694e-02 -4.11718077e-02\n",
            "  -3.00912043e-02 -2.57225641e-02]\n",
            " [ 9.25840566e-02 -1.36225595e-01 -2.91808974e-01 -1.19536310e-01\n",
            "  -1.56824730e-01  3.59734006e-01 -4.79080486e-04 -9.12845551e-04\n",
            "  -2.13871400e-02  2.77178695e-01  1.43100771e-01  2.07447055e-01\n",
            "   5.56025973e-03 -1.28825586e-01 -1.82063682e-01  2.06574348e-03\n",
            "   1.02594544e-01  5.35800170e-02  5.30591909e-02 -1.47888437e-01\n",
            "   6.16457030e-02  2.00554190e-01 -4.31348384e-01 -3.93646900e-01\n",
            "   4.62092678e-02  2.04879846e-01  2.81393865e-02  7.49100813e-02\n",
            "   7.49311883e-02 -2.22702764e-01]\n",
            " [ 1.14324842e-01 -6.20656696e-02 -2.67379552e-01 -1.49211832e-01\n",
            "  -2.20675578e-01  3.25375987e-01  6.04047833e-04  3.60440392e-03\n",
            "  -1.44087981e-02  2.56291526e-01  1.63938619e-01  2.89925975e-01\n",
            "   1.96915788e-03 -1.34120525e-01 -1.71696683e-01 -3.31498180e-02\n",
            "   8.17696082e-02  5.33176692e-02  6.29910927e-02  1.83082090e-02\n",
            "   2.46403437e-02 -2.27922667e-01  3.87906137e-01  4.20928530e-01\n",
            "  -4.31403859e-02 -2.57168672e-01 -7.54911182e-02 -6.96809516e-02\n",
            "  -1.16612624e-01  1.52166576e-01]\n",
            " [ 2.21838734e-01  1.39933314e-01  5.85310269e-02 -7.22484780e-02\n",
            "   2.35782096e-01 -1.02626757e-01 -2.14466873e-03 -1.68664714e-02\n",
            "   2.96624851e-02  1.36603133e-01  8.41361136e-02 -1.32534103e-02\n",
            "   2.15657723e-01  5.01867364e-02 -3.94040729e-02 -2.53379799e-02\n",
            "   1.30875843e-01 -2.84265446e-03 -3.69866283e-02 -2.38558662e-01\n",
            "   2.81601956e-01 -1.29950880e-01 -5.97551368e-02 -8.17711837e-02\n",
            "  -8.50169478e-02 -4.49873330e-02 -4.82729634e-01 -6.37453858e-02\n",
            "   5.02451313e-01  3.12202137e-01]\n",
            " [ 1.95838376e-01 -8.99663374e-02 -1.40888560e-01 -2.02362279e-01\n",
            "   2.05089700e-01  6.96301964e-02 -3.11469537e-03  2.30223311e-02\n",
            "  -2.77101896e-02  2.41819869e-02 -2.86375004e-02 -4.41408363e-02\n",
            "   1.77671027e-01  4.73454694e-02  1.07653330e-01 -6.22283338e-03\n",
            "  -3.37907854e-02 -3.34517134e-02 -4.74122360e-01  1.99429871e-02\n",
            "  -3.00927689e-01 -2.95725767e-02  2.31173826e-02 -6.40427551e-02\n",
            "  -2.75585006e-02 -4.26520334e-02 -1.49674167e-02  6.41736444e-01\n",
            "  -1.50574468e-01  1.86885649e-01]\n",
            " [ 9.49728134e-03 -4.16894154e-01 -2.63107495e-01  7.68810665e-02\n",
            "   1.19674822e-01 -4.69300854e-01 -1.45525224e-03  9.92255602e-02\n",
            "  -6.85939015e-01  1.48554828e-02  4.36186479e-02  1.39801191e-01\n",
            "   4.89541477e-02 -1.54231359e-02 -5.26588089e-02 -1.66267610e-02\n",
            "   2.51534577e-02  2.16206453e-03  4.82106612e-02 -9.23783054e-03\n",
            "   3.20380820e-02  8.95737505e-03 -9.32919917e-03  3.16429169e-02\n",
            "   2.15725566e-02 -1.86435507e-02  5.91385048e-03 -5.07656160e-02\n",
            "  -1.17034070e-03 -5.24066586e-03]\n",
            " [ 1.57412158e-01 -1.70462380e-01  2.40516690e-01  1.94635186e-01\n",
            "   1.39560094e-01  3.55359547e-02 -5.38097163e-03 -2.93385839e-03\n",
            "   2.97353289e-02  3.12689042e-01  1.51103074e-01 -1.71256790e-01\n",
            "  -1.93612245e-02 -9.65956909e-02  2.54046571e-01 -1.17404772e-01\n",
            "   3.50479024e-02 -6.04902745e-03 -4.32009406e-02 -8.16329494e-02\n",
            "   1.06355055e-01  2.82271390e-01 -1.38623428e-01  2.65149897e-01\n",
            "  -4.97625650e-02 -4.72446305e-01 -5.34354796e-02  9.27660840e-02\n",
            "  -1.54084237e-02 -4.03883505e-01]\n",
            " [ 1.76312027e-02  8.51168822e-02  3.24663993e-01  1.44770832e-01\n",
            "  -1.37201039e-01 -7.19748504e-02  6.97879003e-03 -3.33198853e-02\n",
            "  -5.15228273e-03 -2.05309051e-01  3.22588412e-01  5.18114167e-01\n",
            "   1.03579836e-01  5.97895534e-02 -1.26217518e-01 -1.15553205e-01\n",
            "  -8.54149962e-02 -3.67492167e-02 -1.25113646e-01  1.67511653e-02\n",
            "  -1.41827900e-01  3.13744733e-01 -1.88929848e-01 -8.61270343e-02\n",
            "   2.07624963e-02 -2.20489952e-01 -8.24900167e-02 -8.40305160e-02\n",
            "  -2.01050780e-01  3.05068951e-01]\n",
            " [ 2.79072173e-01  2.05660337e-01 -5.29121162e-02 -2.27826928e-01\n",
            "   2.58817128e-01  9.25906000e-03 -1.62071171e-03  1.70304799e-01\n",
            "  -1.09680877e-01 -9.98187890e-02  1.11288740e-01  3.33852501e-02\n",
            "  -8.01369340e-01  2.45950119e-02  2.50906476e-02  4.19064646e-02\n",
            "  -3.95983280e-02  1.23133873e-02 -5.50859729e-02 -1.26257615e-01\n",
            "  -4.87888184e-02  5.47596025e-02 -4.38148878e-02 -1.84505492e-03\n",
            "  -9.93791472e-03 -2.68422783e-02 -6.01155768e-02 -9.57757357e-02\n",
            "  -7.37226483e-02  3.63882985e-02]\n",
            " [-1.25900056e-01  2.00308077e-01 -1.88588752e-02 -1.15194197e-01\n",
            "  -3.74388801e-01 -2.33983975e-01 -3.65302474e-03  2.66932103e-02\n",
            "  -5.83038151e-02  5.45562208e-02 -1.87520019e-01  1.05470683e-02\n",
            "  -2.03065944e-01 -6.71144459e-02 -6.58592627e-02 -1.01697622e-02\n",
            "   1.11138700e-01 -1.16604555e-01  1.74552527e-01  4.21520433e-01\n",
            "   6.57348282e-02 -6.81559502e-02 -1.74234211e-01 -8.87210470e-02\n",
            "   2.29258788e-02 -2.69532234e-01 -3.79082548e-01  3.72384341e-01\n",
            "   2.51180209e-02 -7.38772324e-02]\n",
            " [-3.65381633e-02  2.34093274e-01  1.09897640e-01 -1.14733344e-01\n",
            "  -5.67651683e-02 -3.03884339e-01 -1.35958879e-03  4.80824766e-03\n",
            "   2.46794700e-02  3.23539739e-01 -1.17726844e-01  3.65840691e-02\n",
            "   1.44429139e-03 -1.09217301e-01 -1.75589678e-02 -2.47264974e-02\n",
            "   5.79635872e-01  1.66821199e-01 -4.01066517e-02 -1.54535290e-01\n",
            "  -4.05674460e-01  4.62642774e-02  8.32875738e-04 -1.31538642e-02\n",
            "  -1.87250634e-02 -6.25780464e-02  3.28261188e-01 -9.41120955e-02\n",
            "   8.56490036e-02  7.27897794e-02]\n",
            " [ 7.97880886e-02  4.09506965e-02  1.13213577e-02  2.42911121e-01\n",
            "  -4.13586839e-02 -9.73815337e-02 -5.01475835e-03 -1.60632954e-02\n",
            "   1.43233320e-02  1.92202246e-01 -2.53128935e-01 -2.34697454e-01\n",
            "  -6.34114471e-02 -3.96167015e-01 -5.74909681e-01  1.31440759e-02\n",
            "  -3.89700310e-01  3.89913678e-02 -2.48604241e-01 -8.11841402e-02\n",
            "  -1.51041284e-01  8.30585315e-02 -2.77863593e-03  1.65315290e-02\n",
            "  -2.09159243e-02 -1.96776491e-02 -9.49684533e-02 -9.18290863e-02\n",
            "   7.36918387e-04  5.76817752e-02]\n",
            " [ 7.42362615e-02 -3.98945921e-01 -3.10857985e-01 -5.07528235e-03\n",
            "   6.79991504e-02 -4.42736098e-01  3.18223369e-04 -9.00556803e-02\n",
            "   6.93294862e-01 -3.16311204e-02  5.74522074e-02  1.40931004e-01\n",
            "  -1.28779298e-01  7.86762282e-03 -3.56985735e-02  2.87970670e-02\n",
            "   1.51157873e-02 -2.37244188e-02  3.55805575e-02  1.90807430e-02\n",
            "  -2.30971333e-03  2.62981783e-02 -1.39568073e-02 -2.94285384e-03\n",
            "  -1.77869270e-03 -3.24060591e-02 -3.02049596e-02 -1.99649232e-02\n",
            "  -2.39064532e-02  9.77837593e-03]\n",
            " [ 3.08196197e-01  1.51523926e-01 -2.13742866e-02  3.45050004e-01\n",
            "  -4.35746173e-02 -5.17573792e-02 -5.83434873e-01 -3.80213929e-01\n",
            "  -5.25866282e-02 -1.21621159e-01  1.84085366e-02  1.57562066e-01\n",
            "  -4.58205855e-02 -7.44065985e-02  4.97357856e-02  5.46782689e-02\n",
            "   4.08836469e-02  4.29890278e-02  9.26392280e-05 -9.95799707e-02\n",
            "   6.47599067e-03 -3.83317074e-01 -4.88245251e-02 -6.53193244e-02\n",
            "   2.12708376e-02 -1.29183750e-02  9.17637353e-02  1.16572321e-01\n",
            "  -3.08000218e-02 -1.62923530e-01]]\n",
            "\n",
            "Eigenvalues \n",
            "[5.58801491e+00 2.40282957e+00 2.13885234e+00 1.84597488e+00\n",
            " 1.58273853e+00 1.34690354e+00 4.77761110e-03 1.28450163e-01\n",
            " 1.49969073e-01 1.07607966e+00 1.06346798e+00 1.02575200e+00\n",
            " 2.95921661e-01 9.51390311e-01 9.15068123e-01 3.92095007e-01\n",
            " 8.57765038e-01 8.26114098e-01 7.71393107e-01 7.39884383e-01\n",
            " 7.34473535e-01 4.72797422e-01 5.11684563e-01 5.27852718e-01\n",
            " 5.34195289e-01 5.48638992e-01 6.73205365e-01 6.48352740e-01\n",
            " 6.29916110e-01 6.16708321e-01]\n"
          ]
        }
      ]
    },
    {
      "cell_type": "code",
      "source": [
        "#Ordenar autovectores cuyos autovalores sean menores porque aportan menos informacion\n",
        "#  Hacemos una lista de parejas (autovector, autovalor) \n",
        "eig_pairs = [(np.abs(eig_vals[i]), eig_vecs[:,i]) for i in range(len(eig_vals))]\n",
        "\n",
        "# Ordenamos estas parejas den orden descendiente con la función sort\n",
        "eig_pairs.sort(key=lambda x: x[0], reverse=True)\n",
        "\n",
        "# Visualizamos la lista de autovalores en orden desdenciente\n",
        "print('Autovalores en orden descendiente:')\n",
        "for i in eig_pairs:\n",
        "    print(i[0])"
      ],
      "metadata": {
        "colab": {
          "base_uri": "https://localhost:8080/",
          "height": 234
        },
        "id": "zB54agDhPtiX",
        "outputId": "f5f35b23-1cd9-42fd-9e7b-8af38da48695"
      },
      "execution_count": null,
      "outputs": [
        {
          "output_type": "error",
          "ename": "NameError",
          "evalue": "ignored",
          "traceback": [
            "\u001b[0;31m---------------------------------------------------------------------------\u001b[0m",
            "\u001b[0;31mNameError\u001b[0m                                 Traceback (most recent call last)",
            "\u001b[0;32m<ipython-input-31-186901061d45>\u001b[0m in \u001b[0;36m<module>\u001b[0;34m()\u001b[0m\n\u001b[1;32m      1\u001b[0m \u001b[0;31m#Ordenar autovectores cuyos autovalores sean menores porque aportan menos informacion\u001b[0m\u001b[0;34m\u001b[0m\u001b[0;34m\u001b[0m\u001b[0;34m\u001b[0m\u001b[0m\n\u001b[1;32m      2\u001b[0m \u001b[0;31m#  Hacemos una lista de parejas (autovector, autovalor)\u001b[0m\u001b[0;34m\u001b[0m\u001b[0;34m\u001b[0m\u001b[0;34m\u001b[0m\u001b[0m\n\u001b[0;32m----> 3\u001b[0;31m \u001b[0meig_pairs\u001b[0m \u001b[0;34m=\u001b[0m \u001b[0;34m[\u001b[0m\u001b[0;34m(\u001b[0m\u001b[0mnp\u001b[0m\u001b[0;34m.\u001b[0m\u001b[0mabs\u001b[0m\u001b[0;34m(\u001b[0m\u001b[0meig_vals\u001b[0m\u001b[0;34m[\u001b[0m\u001b[0mi\u001b[0m\u001b[0;34m]\u001b[0m\u001b[0;34m)\u001b[0m\u001b[0;34m,\u001b[0m \u001b[0meig_vecs\u001b[0m\u001b[0;34m[\u001b[0m\u001b[0;34m:\u001b[0m\u001b[0;34m,\u001b[0m\u001b[0mi\u001b[0m\u001b[0;34m]\u001b[0m\u001b[0;34m)\u001b[0m \u001b[0;32mfor\u001b[0m \u001b[0mi\u001b[0m \u001b[0;32min\u001b[0m \u001b[0mrange\u001b[0m\u001b[0;34m(\u001b[0m\u001b[0mlen\u001b[0m\u001b[0;34m(\u001b[0m\u001b[0meig_vals\u001b[0m\u001b[0;34m)\u001b[0m\u001b[0;34m)\u001b[0m\u001b[0;34m]\u001b[0m\u001b[0;34m\u001b[0m\u001b[0;34m\u001b[0m\u001b[0m\n\u001b[0m\u001b[1;32m      4\u001b[0m \u001b[0;34m\u001b[0m\u001b[0m\n\u001b[1;32m      5\u001b[0m \u001b[0;31m# Ordenamos estas parejas den orden descendiente con la función sort\u001b[0m\u001b[0;34m\u001b[0m\u001b[0;34m\u001b[0m\u001b[0;34m\u001b[0m\u001b[0m\n",
            "\u001b[0;31mNameError\u001b[0m: name 'eig_vals' is not defined"
          ]
        }
      ]
    },
    {
      "cell_type": "markdown",
      "source": [
        "##Selección los autovectores correspondientes a las componentes principales\n",
        "\n",
        "Una vez ordenados los autovalores, que recordamos son una medida de la varianza de los datos, la cuestión es decidir, cuál es el menor número de autovectores o componentes principales, con el que podemos expresar “la esencia principal” de la información contenida en ese dataset. Para ello, usaremos un métrica que se conoce como “varianza explicada”, que muestra cuánta varianza se puede atribuir a cada una de estas componentes principales."
      ],
      "metadata": {
        "id": "Ek2y0c1DP3dp"
      }
    },
    {
      "cell_type": "code",
      "source": [
        "# A partir de los autovalores, calculamos la varianza explicada\n",
        "tot = sum(eig_vals)\n",
        "var_exp = [(i / tot)*100 for i in sorted(eig_vals, reverse=True)]\n",
        "cum_var_exp = np.cumsum(var_exp)\n",
        "\n",
        "# Representamos en un diagrama de barras la varianza explicada por cada autovalor, y la acumulada\n",
        "with plt.style.context('seaborn-pastel'):\n",
        "    plt.figure(figsize=(6, 4))\n",
        "\n",
        "    plt.bar(range(4), var_exp, alpha=0.5, align='center',\n",
        "            label='Varianza individual explicada', color='g')\n",
        "    plt.step(range(4), cum_var_exp, where='mid', linestyle='--', label='Varianza explicada acumulada')\n",
        "    plt.ylabel('Ratio de Varianza Explicada')\n",
        "    plt.xlabel('Componentes Principales')\n",
        "    plt.legend(loc='best')\n",
        "    plt.tight_layout()"
      ],
      "metadata": {
        "colab": {
          "base_uri": "https://localhost:8080/",
          "height": 667
        },
        "id": "adT68VI9QCo7",
        "outputId": "5feb2232-2c91-4b64-8e1b-02029a3a55ec"
      },
      "execution_count": null,
      "outputs": [
        {
          "output_type": "error",
          "ename": "ValueError",
          "evalue": "ignored",
          "traceback": [
            "\u001b[0;31m---------------------------------------------------------------------------\u001b[0m",
            "\u001b[0;31mValueError\u001b[0m                                Traceback (most recent call last)",
            "\u001b[0;32m<ipython-input-32-afe3327b74de>\u001b[0m in \u001b[0;36m<module>\u001b[0;34m()\u001b[0m\n\u001b[1;32m      9\u001b[0m \u001b[0;34m\u001b[0m\u001b[0m\n\u001b[1;32m     10\u001b[0m     plt.bar(range(4), var_exp, alpha=0.5, align='center',\n\u001b[0;32m---> 11\u001b[0;31m             label='Varianza individual explicada', color='g')\n\u001b[0m\u001b[1;32m     12\u001b[0m     \u001b[0mplt\u001b[0m\u001b[0;34m.\u001b[0m\u001b[0mstep\u001b[0m\u001b[0;34m(\u001b[0m\u001b[0mrange\u001b[0m\u001b[0;34m(\u001b[0m\u001b[0;36m4\u001b[0m\u001b[0;34m)\u001b[0m\u001b[0;34m,\u001b[0m \u001b[0mcum_var_exp\u001b[0m\u001b[0;34m,\u001b[0m \u001b[0mwhere\u001b[0m\u001b[0;34m=\u001b[0m\u001b[0;34m'mid'\u001b[0m\u001b[0;34m,\u001b[0m \u001b[0mlinestyle\u001b[0m\u001b[0;34m=\u001b[0m\u001b[0;34m'--'\u001b[0m\u001b[0;34m,\u001b[0m \u001b[0mlabel\u001b[0m\u001b[0;34m=\u001b[0m\u001b[0;34m'Varianza explicada acumulada'\u001b[0m\u001b[0;34m)\u001b[0m\u001b[0;34m\u001b[0m\u001b[0;34m\u001b[0m\u001b[0m\n\u001b[1;32m     13\u001b[0m     \u001b[0mplt\u001b[0m\u001b[0;34m.\u001b[0m\u001b[0mylabel\u001b[0m\u001b[0;34m(\u001b[0m\u001b[0;34m'Ratio de Varianza Explicada'\u001b[0m\u001b[0;34m)\u001b[0m\u001b[0;34m\u001b[0m\u001b[0;34m\u001b[0m\u001b[0m\n",
            "\u001b[0;32m/usr/local/lib/python3.7/dist-packages/matplotlib/pyplot.py\u001b[0m in \u001b[0;36mbar\u001b[0;34m(x, height, width, bottom, align, data, **kwargs)\u001b[0m\n\u001b[1;32m   2407\u001b[0m     return gca().bar(\n\u001b[1;32m   2408\u001b[0m         \u001b[0mx\u001b[0m\u001b[0;34m,\u001b[0m \u001b[0mheight\u001b[0m\u001b[0;34m,\u001b[0m \u001b[0mwidth\u001b[0m\u001b[0;34m=\u001b[0m\u001b[0mwidth\u001b[0m\u001b[0;34m,\u001b[0m \u001b[0mbottom\u001b[0m\u001b[0;34m=\u001b[0m\u001b[0mbottom\u001b[0m\u001b[0;34m,\u001b[0m \u001b[0malign\u001b[0m\u001b[0;34m=\u001b[0m\u001b[0malign\u001b[0m\u001b[0;34m,\u001b[0m\u001b[0;34m\u001b[0m\u001b[0;34m\u001b[0m\u001b[0m\n\u001b[0;32m-> 2409\u001b[0;31m         **({\"data\": data} if data is not None else {}), **kwargs)\n\u001b[0m\u001b[1;32m   2410\u001b[0m \u001b[0;34m\u001b[0m\u001b[0m\n\u001b[1;32m   2411\u001b[0m \u001b[0;34m\u001b[0m\u001b[0m\n",
            "\u001b[0;32m/usr/local/lib/python3.7/dist-packages/matplotlib/__init__.py\u001b[0m in \u001b[0;36minner\u001b[0;34m(ax, data, *args, **kwargs)\u001b[0m\n\u001b[1;32m   1563\u001b[0m     \u001b[0;32mdef\u001b[0m \u001b[0minner\u001b[0m\u001b[0;34m(\u001b[0m\u001b[0max\u001b[0m\u001b[0;34m,\u001b[0m \u001b[0;34m*\u001b[0m\u001b[0margs\u001b[0m\u001b[0;34m,\u001b[0m \u001b[0mdata\u001b[0m\u001b[0;34m=\u001b[0m\u001b[0;32mNone\u001b[0m\u001b[0;34m,\u001b[0m \u001b[0;34m**\u001b[0m\u001b[0mkwargs\u001b[0m\u001b[0;34m)\u001b[0m\u001b[0;34m:\u001b[0m\u001b[0;34m\u001b[0m\u001b[0;34m\u001b[0m\u001b[0m\n\u001b[1;32m   1564\u001b[0m         \u001b[0;32mif\u001b[0m \u001b[0mdata\u001b[0m \u001b[0;32mis\u001b[0m \u001b[0;32mNone\u001b[0m\u001b[0;34m:\u001b[0m\u001b[0;34m\u001b[0m\u001b[0;34m\u001b[0m\u001b[0m\n\u001b[0;32m-> 1565\u001b[0;31m             \u001b[0;32mreturn\u001b[0m \u001b[0mfunc\u001b[0m\u001b[0;34m(\u001b[0m\u001b[0max\u001b[0m\u001b[0;34m,\u001b[0m \u001b[0;34m*\u001b[0m\u001b[0mmap\u001b[0m\u001b[0;34m(\u001b[0m\u001b[0msanitize_sequence\u001b[0m\u001b[0;34m,\u001b[0m \u001b[0margs\u001b[0m\u001b[0;34m)\u001b[0m\u001b[0;34m,\u001b[0m \u001b[0;34m**\u001b[0m\u001b[0mkwargs\u001b[0m\u001b[0;34m)\u001b[0m\u001b[0;34m\u001b[0m\u001b[0;34m\u001b[0m\u001b[0m\n\u001b[0m\u001b[1;32m   1566\u001b[0m \u001b[0;34m\u001b[0m\u001b[0m\n\u001b[1;32m   1567\u001b[0m         \u001b[0mbound\u001b[0m \u001b[0;34m=\u001b[0m \u001b[0mnew_sig\u001b[0m\u001b[0;34m.\u001b[0m\u001b[0mbind\u001b[0m\u001b[0;34m(\u001b[0m\u001b[0max\u001b[0m\u001b[0;34m,\u001b[0m \u001b[0;34m*\u001b[0m\u001b[0margs\u001b[0m\u001b[0;34m,\u001b[0m \u001b[0;34m**\u001b[0m\u001b[0mkwargs\u001b[0m\u001b[0;34m)\u001b[0m\u001b[0;34m\u001b[0m\u001b[0;34m\u001b[0m\u001b[0m\n",
            "\u001b[0;32m/usr/local/lib/python3.7/dist-packages/matplotlib/axes/_axes.py\u001b[0m in \u001b[0;36mbar\u001b[0;34m(self, x, height, width, bottom, align, **kwargs)\u001b[0m\n\u001b[1;32m   2340\u001b[0m         x, height, width, y, linewidth = np.broadcast_arrays(\n\u001b[1;32m   2341\u001b[0m             \u001b[0;31m# Make args iterable too.\u001b[0m\u001b[0;34m\u001b[0m\u001b[0;34m\u001b[0m\u001b[0;34m\u001b[0m\u001b[0m\n\u001b[0;32m-> 2342\u001b[0;31m             np.atleast_1d(x), height, width, y, linewidth)\n\u001b[0m\u001b[1;32m   2343\u001b[0m \u001b[0;34m\u001b[0m\u001b[0m\n\u001b[1;32m   2344\u001b[0m         \u001b[0;31m# Now that units have been converted, set the tick locations.\u001b[0m\u001b[0;34m\u001b[0m\u001b[0;34m\u001b[0m\u001b[0;34m\u001b[0m\u001b[0m\n",
            "\u001b[0;32m<__array_function__ internals>\u001b[0m in \u001b[0;36mbroadcast_arrays\u001b[0;34m(*args, **kwargs)\u001b[0m\n",
            "\u001b[0;32m/usr/local/lib/python3.7/dist-packages/numpy/lib/stride_tricks.py\u001b[0m in \u001b[0;36mbroadcast_arrays\u001b[0;34m(subok, *args)\u001b[0m\n\u001b[1;32m    536\u001b[0m     \u001b[0margs\u001b[0m \u001b[0;34m=\u001b[0m \u001b[0;34m[\u001b[0m\u001b[0mnp\u001b[0m\u001b[0;34m.\u001b[0m\u001b[0marray\u001b[0m\u001b[0;34m(\u001b[0m\u001b[0m_m\u001b[0m\u001b[0;34m,\u001b[0m \u001b[0mcopy\u001b[0m\u001b[0;34m=\u001b[0m\u001b[0;32mFalse\u001b[0m\u001b[0;34m,\u001b[0m \u001b[0msubok\u001b[0m\u001b[0;34m=\u001b[0m\u001b[0msubok\u001b[0m\u001b[0;34m)\u001b[0m \u001b[0;32mfor\u001b[0m \u001b[0m_m\u001b[0m \u001b[0;32min\u001b[0m \u001b[0margs\u001b[0m\u001b[0;34m]\u001b[0m\u001b[0;34m\u001b[0m\u001b[0;34m\u001b[0m\u001b[0m\n\u001b[1;32m    537\u001b[0m \u001b[0;34m\u001b[0m\u001b[0m\n\u001b[0;32m--> 538\u001b[0;31m     \u001b[0mshape\u001b[0m \u001b[0;34m=\u001b[0m \u001b[0m_broadcast_shape\u001b[0m\u001b[0;34m(\u001b[0m\u001b[0;34m*\u001b[0m\u001b[0margs\u001b[0m\u001b[0;34m)\u001b[0m\u001b[0;34m\u001b[0m\u001b[0;34m\u001b[0m\u001b[0m\n\u001b[0m\u001b[1;32m    539\u001b[0m \u001b[0;34m\u001b[0m\u001b[0m\n\u001b[1;32m    540\u001b[0m     \u001b[0;32mif\u001b[0m \u001b[0mall\u001b[0m\u001b[0;34m(\u001b[0m\u001b[0marray\u001b[0m\u001b[0;34m.\u001b[0m\u001b[0mshape\u001b[0m \u001b[0;34m==\u001b[0m \u001b[0mshape\u001b[0m \u001b[0;32mfor\u001b[0m \u001b[0marray\u001b[0m \u001b[0;32min\u001b[0m \u001b[0margs\u001b[0m\u001b[0;34m)\u001b[0m\u001b[0;34m:\u001b[0m\u001b[0;34m\u001b[0m\u001b[0;34m\u001b[0m\u001b[0m\n",
            "\u001b[0;32m/usr/local/lib/python3.7/dist-packages/numpy/lib/stride_tricks.py\u001b[0m in \u001b[0;36m_broadcast_shape\u001b[0;34m(*args)\u001b[0m\n\u001b[1;32m    418\u001b[0m     \u001b[0;31m# use the old-iterator because np.nditer does not handle size 0 arrays\u001b[0m\u001b[0;34m\u001b[0m\u001b[0;34m\u001b[0m\u001b[0;34m\u001b[0m\u001b[0m\n\u001b[1;32m    419\u001b[0m     \u001b[0;31m# consistently\u001b[0m\u001b[0;34m\u001b[0m\u001b[0;34m\u001b[0m\u001b[0;34m\u001b[0m\u001b[0m\n\u001b[0;32m--> 420\u001b[0;31m     \u001b[0mb\u001b[0m \u001b[0;34m=\u001b[0m \u001b[0mnp\u001b[0m\u001b[0;34m.\u001b[0m\u001b[0mbroadcast\u001b[0m\u001b[0;34m(\u001b[0m\u001b[0;34m*\u001b[0m\u001b[0margs\u001b[0m\u001b[0;34m[\u001b[0m\u001b[0;34m:\u001b[0m\u001b[0;36m32\u001b[0m\u001b[0;34m]\u001b[0m\u001b[0;34m)\u001b[0m\u001b[0;34m\u001b[0m\u001b[0;34m\u001b[0m\u001b[0m\n\u001b[0m\u001b[1;32m    421\u001b[0m     \u001b[0;31m# unfortunately, it cannot handle 32 or more arguments directly\u001b[0m\u001b[0;34m\u001b[0m\u001b[0;34m\u001b[0m\u001b[0;34m\u001b[0m\u001b[0m\n\u001b[1;32m    422\u001b[0m     \u001b[0;32mfor\u001b[0m \u001b[0mpos\u001b[0m \u001b[0;32min\u001b[0m \u001b[0mrange\u001b[0m\u001b[0;34m(\u001b[0m\u001b[0;36m32\u001b[0m\u001b[0;34m,\u001b[0m \u001b[0mlen\u001b[0m\u001b[0;34m(\u001b[0m\u001b[0margs\u001b[0m\u001b[0;34m)\u001b[0m\u001b[0;34m,\u001b[0m \u001b[0;36m31\u001b[0m\u001b[0;34m)\u001b[0m\u001b[0;34m:\u001b[0m\u001b[0;34m\u001b[0m\u001b[0;34m\u001b[0m\u001b[0m\n",
            "\u001b[0;31mValueError\u001b[0m: shape mismatch: objects cannot be broadcast to a single shape"
          ]
        },
        {
          "output_type": "display_data",
          "data": {
            "text/plain": [
              "<Figure size 432x288 with 1 Axes>"
            ],
            "image/png": "[encoded data removed]"
          },
          "metadata": {
            "needs_background": "light"
          }
        }
      ]
    },
    {
      "cell_type": "markdown",
      "source": [
        "##Proyectamos los datos sobre un espacio de dimensionalidad menor"
      ],
      "metadata": {
        "id": "BfV3B3q0Qa4k"
      }
    },
    {
      "cell_type": "code",
      "source": [
        "#Generamos la matríz a partir de los pares autovalor-autovector\n",
        "matrix_w = np.hstack((eig_pairs[0][1].reshape(4,1),\n",
        "                      eig_pairs[1][1].reshape(4,1)))\n",
        "\n",
        "print('Matriz W:\\n', matrix_w)\n",
        "\n",
        "Y = X_std.dot(matrix_w)"
      ],
      "metadata": {
        "colab": {
          "base_uri": "https://localhost:8080/",
          "height": 235
        },
        "id": "NXi6HAZBQl08",
        "outputId": "d4ac49f9-6959-4184-f88b-3545e92f3195"
      },
      "execution_count": null,
      "outputs": [
        {
          "output_type": "error",
          "ename": "ValueError",
          "evalue": "ignored",
          "traceback": [
            "\u001b[0;31m---------------------------------------------------------------------------\u001b[0m",
            "\u001b[0;31mValueError\u001b[0m                                Traceback (most recent call last)",
            "\u001b[0;32m<ipython-input-33-a9b8c7450787>\u001b[0m in \u001b[0;36m<module>\u001b[0;34m()\u001b[0m\n\u001b[1;32m      1\u001b[0m \u001b[0;31m#Generamos la matríz a partir de los pares autovalor-autovector\u001b[0m\u001b[0;34m\u001b[0m\u001b[0;34m\u001b[0m\u001b[0;34m\u001b[0m\u001b[0m\n\u001b[0;32m----> 2\u001b[0;31m matrix_w = np.hstack((eig_pairs[0][1].reshape(4,1),\n\u001b[0m\u001b[1;32m      3\u001b[0m                       eig_pairs[1][1].reshape(4,1)))\n\u001b[1;32m      4\u001b[0m \u001b[0;34m\u001b[0m\u001b[0m\n\u001b[1;32m      5\u001b[0m \u001b[0mprint\u001b[0m\u001b[0;34m(\u001b[0m\u001b[0;34m'Matriz W:\\n'\u001b[0m\u001b[0;34m,\u001b[0m \u001b[0mmatrix_w\u001b[0m\u001b[0;34m)\u001b[0m\u001b[0;34m\u001b[0m\u001b[0;34m\u001b[0m\u001b[0m\n",
            "\u001b[0;31mValueError\u001b[0m: cannot reshape array of size 30 into shape (4,1)"
          ]
        }
      ]
    },
    {
      "cell_type": "markdown",
      "source": [
        "##Seleccionar n_components"
      ],
      "metadata": {
        "id": "VGQgi0f3Qp2a"
      }
    },
    {
      "cell_type": "code",
      "source": [
        "scaler = StandardScaler()\n",
        "X_rescaled = scaler.fit_transform(X)\n",
        "\n",
        "pca = PCA().fit(X_rescaled)\n",
        "plt.plot(np.cumsum(pca.explained_variance_ratio_))\n",
        "plt.xlabel('number of components')\n",
        "plt.ylabel('cumulative explained variance')\n",
        "plt.grid()\n",
        "plt.show()\n",
        "\n",
        "#vamos a seleccionar n_components = 16\n",
        "#Seleccionamos tambien 5\n",
        "#Seleccionamos tambien 21"
      ],
      "metadata": {
        "colab": {
          "base_uri": "https://localhost:8080/",
          "height": 278
        },
        "id": "lIvUAWpdSBUi",
        "outputId": "f9243e31-6598-4718-98e1-c4c46fbd8e7d"
      },
      "execution_count": null,
      "outputs": [
        {
          "output_type": "display_data",
          "data": {
            "text/plain": [
              "<Figure size 432x288 with 1 Axes>"
            ],
            "image/png": "[encoded data removed]"
          },
          "metadata": {
            "needs_background": "light"
          }
        }
      ]
    },
    {
      "cell_type": "code",
      "source": [
        "'''\n",
        "#Con MinMaxScaler tambien se podria estimar la varianza que queremos de salida\n",
        "scaler = MinMaxScaler()\n",
        "X_rescaled = scaler.fit_transform(X)\n",
        "\n",
        "pca = PCA().fit(data_rescaled)\n",
        "plt.plot(np.cumsum(pca.explained_variance_ratio_))\n",
        "plt.xlabel('number of components')\n",
        "plt.ylabel('cumulative explained variance')\n",
        "'''"
      ],
      "metadata": {
        "id": "g77w-9GGRB-b"
      },
      "execution_count": null,
      "outputs": []
    },
    {
      "cell_type": "markdown",
      "source": [
        "##PCA"
      ],
      "metadata": {
        "id": "mStwafsrSsjd"
      }
    },
    {
      "cell_type": "code",
      "source": [
        "pca =PCA(n_components = 16)\n",
        "pca.fit(X_rescaled)\n",
        "x_pca = pca.transform(X_rescaled)\n",
        "\n"
      ],
      "metadata": {
        "id": "qLmswJrTSxPk"
      },
      "execution_count": null,
      "outputs": []
    },
    {
      "cell_type": "code",
      "source": [
        "x_pca.shape"
      ],
      "metadata": {
        "colab": {
          "base_uri": "https://localhost:8080/"
        },
        "id": "U-8cR-lrTDrk",
        "outputId": "2da3bba9-7ee8-42a2-de66-a23d050de812"
      },
      "execution_count": null,
      "outputs": [
        {
          "output_type": "execute_result",
          "data": {
            "text/plain": [
              "(28231, 16)"
            ]
          },
          "metadata": {},
          "execution_count": 34
        }
      ]
    },
    {
      "cell_type": "code",
      "source": [
        "plt.figure(figsize = (8,6))\n",
        "plt.scatter(x_pca[:,4], x_pca[:,9], c=df['MET_SYM'])\n",
        "plt.xlabel('First principle component')\n",
        "plt.ylabel('Second principle component')"
      ],
      "metadata": {
        "colab": {
          "base_uri": "https://localhost:8080/",
          "height": 405
        },
        "id": "LkKVSQfDTLuZ",
        "outputId": "dd372b4e-9513-433c-8d0a-65f5fd8d43dc"
      },
      "execution_count": null,
      "outputs": [
        {
          "output_type": "execute_result",
          "data": {
            "text/plain": [
              "Text(0, 0.5, 'Second principle component')"
            ]
          },
          "metadata": {},
          "execution_count": 35
        },
        {
          "output_type": "display_data",
          "data": {
            "text/plain": [
              "<Figure size 576x432 with 1 Axes>"
            ],
            "image/png": "[encoded data removed]"
          },
          "metadata": {
            "needs_background": "light"
          }
        }
      ]
    }
  ]
}