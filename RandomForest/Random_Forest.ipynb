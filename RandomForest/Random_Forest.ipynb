{
  "nbformat": 4,
  "nbformat_minor": 0,
  "metadata": {
    "colab": {
      "name": "Random Forest.ipynb",
      "provenance": []
    },
    "kernelspec": {
      "name": "python3",
      "display_name": "Python 3"
    },
    "language_info": {
      "name": "python"
    }
  },
  "cells": [
    {
      "cell_type": "code",
      "execution_count": 13,
      "metadata": {
        "id": "POl28WjxgBQ8"
      },
      "outputs": [],
      "source": [
        "import tensorflow as tf\n",
        "from tensorflow import keras\n",
        "import matplotlib.pyplot as plt\n",
        "import matplotlib as mpl\n",
        "import numpy as np\n",
        "import pandas as pd\n",
        "import seaborn as sns\n",
        "from sklearn.preprocessing import StandardScaler\n",
        "from sklearn.preprocessing import MinMaxScaler \n",
        "from sklearn.decomposition import PCA\n",
        "from sklearn.model_selection import train_test_split\n",
        "from sklearn.linear_model import LogisticRegression\n",
        "from sklearn.pipeline import make_pipeline\n",
        "from sklearn.tree import DecisionTreeClassifier\n",
        "from sklearn import tree\n",
        "from sklearn.model_selection import cross_val_score, KFold\n",
        "from sklearn.pipeline import Pipeline\n",
        "from scipy.stats import sem\n",
        "from sklearn.model_selection import GridSearchCV\n",
        "from sklearn.metrics import roc_curve, roc_auc_score\n",
        "\n",
        "from sklearn.ensemble import RandomForestClassifier\n",
        "\n",
        "\n",
        "\n",
        "from sklearn.metrics import classification_report, recall_score, precision_score, make_scorer\n",
        "\n",
        "%matplotlib inline\n",
        "\n",
        "url_df = 'https://raw.githubusercontent.com/AngelaBurgaleta/TFM_NHANES/main/DATASETS%20DEFINITIVOS/PROCESSED/df_procesado_genderandage.csv'\n",
        "url_df45_sinoutliers = 'https://raw.githubusercontent.com/AngelaBurgaleta/TFM_NHANES/main/DATASETS%20DEFINITIVOS/PROCESSED/Sin_outliers/df_v45sinoutliers.csv'\n",
        "df = pd.read_csv(url_df45_sinoutliers)\n",
        "df = df.drop(['Unnamed: 0'], axis = 1)\n"
      ]
    },
    {
      "cell_type": "code",
      "source": [
        "y = df['MET_SYM']\n",
        "vars_descarte = ['REQ1', 'REQ2', 'REQ3', 'REQ4', 'REQ5', 'REQ_SUM', 'MET_SYM', 'BPXSY1', 'BPXDI1', 'BMXWAIST', 'LBXTR', 'BPQ090D', 'LBDHDD', 'BPQ040A', 'LBXGLU', 'DIQ070', 'BMXHT', 'BMXWT', 'SEQN', 'DPQ050', 'MCQ010', 'DBQ700', 'ALQ130', 'ALQ130_Tramos', 'PAQ665', 'PAQ620', 'PAQ605', 'BPQ050A']\n",
        "X = df.drop(vars_descarte, axis = 1)\n"
      ],
      "metadata": {
        "id": "LddKGH9CjS1P"
      },
      "execution_count": 14,
      "outputs": []
    },
    {
      "cell_type": "code",
      "source": [
        "vars_descarte_ms = ['REQ1', 'REQ2', 'REQ3', 'REQ4', 'REQ5', 'REQ_SUM', 'BPXSY1', 'BPXDI1', 'BMXWAIST', 'LBXTR', 'BPQ090D', 'LBDHDD', 'BPQ040A', 'LBXGLU', 'DIQ070', 'BMXHT', 'BMXWT', 'SEQN', 'DPQ050', 'MCQ010', 'DBQ700', 'ALQ130', 'ALQ130_Tramos', 'PAQ665', 'PAQ620', 'PAQ605', 'BPQ050A']\n",
        "df_ms = df.drop(vars_descarte_ms, axis = 1)"
      ],
      "metadata": {
        "id": "M20UbwlmjJFI"
      },
      "execution_count": 15,
      "outputs": []
    },
    {
      "cell_type": "code",
      "source": [
        "X.shape"
      ],
      "metadata": {
        "colab": {
          "base_uri": "https://localhost:8080/"
        },
        "id": "5ozJcjWAiMvX",
        "outputId": "4763c67a-a26d-4f36-e884-2e7fef68d60e"
      },
      "execution_count": null,
      "outputs": [
        {
          "output_type": "execute_result",
          "data": {
            "text/plain": [
              "(26865, 31)"
            ]
          },
          "metadata": {},
          "execution_count": 74
        }
      ]
    },
    {
      "cell_type": "code",
      "source": [
        "#SIN PCA\n",
        "X_train, X_test, y_train, y_test = train_test_split(X, y, test_size=0.2, random_state=30)"
      ],
      "metadata": {
        "id": "NMqxwr-XiGdj"
      },
      "execution_count": 16,
      "outputs": []
    },
    {
      "cell_type": "code",
      "source": [
        "#CON PCA\n",
        "#Normalización\n",
        "pca_pipe = make_pipeline(StandardScaler(), PCA())\n",
        "pca_pipe.fit(X)\n",
        "# Se extrae el modelo entrenado del pipeline\n",
        "modelo_pca = pca_pipe.named_steps['pca']\n",
        "#Aplicar PCA \n",
        "#fijamos componentes\n",
        "pca = PCA(n_components=26)\n",
        "X_pca = pca.fit_transform(X)\n",
        "X_pca.shape\n",
        "#Separar datos en train, test, entrada y salida despues del PCA\n",
        "X_train_pca, X_test_pca, y_train, y_test = train_test_split(X_pca, y, test_size=0.2, random_state=30)"
      ],
      "metadata": {
        "id": "4zKR2Od8gJIK"
      },
      "execution_count": 17,
      "outputs": []
    },
    {
      "cell_type": "markdown",
      "source": [
        "#Random forest default sin PCA\n",
        "\n",
        "https://www.kaggle.com/code/prashant111/random-forest-classifier-feature-importance/notebook"
      ],
      "metadata": {
        "id": "Pem_sbb_gQJW"
      }
    },
    {
      "cell_type": "code",
      "source": [
        "#10 arboles de decision\n",
        "# import Random Forest classifier\n",
        "\n",
        "\n",
        "\n",
        "\n",
        "# instantiate the classifier \n",
        "\n",
        "rfc = RandomForestClassifier(random_state=0)\n",
        "\n",
        "\n",
        "\n",
        "# fit the model\n",
        "\n",
        "rfc.fit(X_train, y_train)\n",
        "\n",
        "\n",
        "\n",
        "# Predict the Test set results\n",
        "\n",
        "y_pred = rfc.predict(X_test)\n",
        "\n",
        "\n",
        "\n",
        "# Check accuracy score \n",
        "\n",
        "from sklearn.metrics import accuracy_score\n",
        "\n",
        "print('Model accuracy score with 10 decision-trees : {0:0.4f}'. format(accuracy_score(y_test, y_pred)))"
      ],
      "metadata": {
        "colab": {
          "base_uri": "https://localhost:8080/"
        },
        "id": "QfIxoz1SgKNO",
        "outputId": "1b565f7c-297d-4ecf-eb2c-96032688a202"
      },
      "execution_count": null,
      "outputs": [
        {
          "output_type": "stream",
          "name": "stdout",
          "text": [
            "Model accuracy score with 10 decision-trees : 0.8762\n"
          ]
        }
      ]
    },
    {
      "cell_type": "code",
      "source": [
        "# instantiate the classifier with n_estimators = 100\n",
        "\n",
        "rfc_100 = RandomForestClassifier(n_estimators=100, random_state=0)\n",
        "\n",
        "\n",
        "\n",
        "# fit the model to the training set\n",
        "\n",
        "rfc_100.fit(X_train_pca, y_train)\n",
        "\n",
        "\n",
        "\n",
        "# Predict on the test set results\n",
        "\n",
        "y_pred_100 = rfc_100.predict(X_test_pca)\n",
        "\n",
        "\n",
        "\n",
        "# Check accuracy score \n",
        "\n",
        "print('Model accuracy score with 100 decision-trees : {0:0.4f}'. format(accuracy_score(y_test, y_pred_100)))"
      ],
      "metadata": {
        "colab": {
          "base_uri": "https://localhost:8080/"
        },
        "id": "reK26jKHgj3l",
        "outputId": "646031b3-a12d-4c6b-8da7-dfa1d7337b43"
      },
      "execution_count": null,
      "outputs": [
        {
          "output_type": "stream",
          "name": "stdout",
          "text": [
            "Model accuracy score with 100 decision-trees : 0.8653\n"
          ]
        }
      ]
    },
    {
      "cell_type": "code",
      "source": [
        "# create the classifier with n_estimators = 100\n",
        "\n",
        "clf = RandomForestClassifier(n_estimators=100, random_state=0)\n",
        "\n",
        "\n",
        "\n",
        "# fit the model to the training set\n",
        "\n",
        "clf.fit(X_train, y_train)"
      ],
      "metadata": {
        "colab": {
          "base_uri": "https://localhost:8080/"
        },
        "id": "Eb9szLbIhiZH",
        "outputId": "cf33b45b-b607-4a4c-c830-c6bef361db6e"
      },
      "execution_count": null,
      "outputs": [
        {
          "output_type": "execute_result",
          "data": {
            "text/plain": [
              "RandomForestClassifier(random_state=0)"
            ]
          },
          "metadata": {},
          "execution_count": 62
        }
      ]
    },
    {
      "cell_type": "code",
      "source": [
        "# view the feature scores\n",
        "\n",
        "feature_scores = pd.Series(clf.feature_importances_, index=X_train.columns).sort_values(ascending=False)\n",
        "\n",
        "feature_scores"
      ],
      "metadata": {
        "colab": {
          "base_uri": "https://localhost:8080/"
        },
        "id": "yDpBZXl2hTLa",
        "outputId": "0f146159-b55b-4f62-87a8-160235942dd3"
      },
      "execution_count": null,
      "outputs": [
        {
          "output_type": "execute_result",
          "data": {
            "text/plain": [
              "RIDAGEYR           0.154020\n",
              "BPQ030             0.129836\n",
              "LBXIN              0.112415\n",
              "WHI                0.111396\n",
              "RIDAGEYR_Tramos    0.095490\n",
              "BMXBMI             0.081498\n",
              "INDFMMPI           0.041595\n",
              "DIQ010             0.032298\n",
              "RIAGENDR           0.026672\n",
              "DMDEDUC2           0.021149\n",
              "HSD010             0.020262\n",
              "MCQ080             0.017623\n",
              "RIDRETH3           0.014828\n",
              "DPQ040             0.013059\n",
              "DPQ030             0.011906\n",
              "SMQ020             0.011242\n",
              "MCQ300C            0.010726\n",
              "INQ020             0.010686\n",
              "INDFMMPC           0.010532\n",
              "PAQ650             0.009691\n",
              "DPQ020             0.008719\n",
              "PAQ635             0.008198\n",
              "SLQ050             0.008032\n",
              "HIQ011             0.006890\n",
              "Etnia_3.0          0.006219\n",
              "Etnia_4.0          0.005788\n",
              "MCQ220             0.005140\n",
              "Etnia_2.0          0.004050\n",
              "Etnia_1.0          0.003966\n",
              "Etnia_6.0          0.003904\n",
              "Etnia_7.0          0.002169\n",
              "dtype: float64"
            ]
          },
          "metadata": {},
          "execution_count": 63
        }
      ]
    },
    {
      "cell_type": "code",
      "source": [
        "# Creating a seaborn bar plot\n",
        "\n",
        "f, ax = plt.subplots(figsize=(30, 24))\n",
        "ax = sns.barplot(x=feature_scores, y=feature_scores.index)\n",
        "ax.set_title(\"Visualize feature scores of the features\")\n",
        "ax.set_yticklabels(feature_scores.index)\n",
        "ax.set_xlabel(\"Feature importance score\")\n",
        "ax.set_ylabel(\"Features\")\n",
        "plt.show()"
      ],
      "metadata": {
        "colab": {
          "base_uri": "https://localhost:8080/",
          "height": 1000
        },
        "id": "s8cN_v0WhoCu",
        "outputId": "1c2da606-6416-4612-f194-243047d03395"
      },
      "execution_count": null,
      "outputs": [
        {
          "output_type": "display_data",
          "data": {
            "text/plain": [
              "<Figure size 2160x1728 with 1 Axes>"
            ],
            "image/png": "[encoded data removed]"
          },
          "metadata": {
            "needs_background": "light"
          }
        }
      ]
    },
    {
      "cell_type": "markdown",
      "source": [
        "##Grid Search"
      ],
      "metadata": {
        "id": "exsEX93Zq1Da"
      }
    },
    {
      "cell_type": "markdown",
      "source": [
        ""
      ],
      "metadata": {
        "id": "tz8Wg-boq1Ik"
      }
    },
    {
      "cell_type": "code",
      "source": [
        "param_grid = {'max_depth': np.arange(3, 10)} \n",
        "\n",
        "gs = GridSearchCV(RandomForestClassifier(), param_grid)\n",
        "\n",
        "gs.fit(X_train_pca, y_train)\n",
        "\n",
        "# summarize the results of the grid search\n",
        "print(\"Best score: \", gs.best_score_)\n",
        "print(\"Best params: \", gs.best_params_)"
      ],
      "metadata": {
        "id": "fSA1xCOFj-rd"
      },
      "execution_count": null,
      "outputs": []
    },
    {
      "cell_type": "code",
      "source": [
        "# We print the score for each value of max_depth\n",
        "for i, max_depth in enumerate(gs.cv_results_['params']):\n",
        "    print(\"%0.3f (+/-%0.03f) for %r\" % (gs.cv_results_['mean_test_score'][i],\n",
        "                                        gs.cv_results_['std_test_score'][i] * 2,\n",
        "                                        max_depth))"
      ],
      "metadata": {
        "colab": {
          "base_uri": "https://localhost:8080/"
        },
        "id": "oHlSgoEXq9wf",
        "outputId": "2c7ec5c5-cfc3-4b75-9022-856d38b7f788"
      },
      "execution_count": null,
      "outputs": [
        {
          "output_type": "stream",
          "name": "stdout",
          "text": [
            "0.836 (+/-0.009) for {'max_depth': 3}\n",
            "0.844 (+/-0.006) for {'max_depth': 4}\n",
            "0.846 (+/-0.007) for {'max_depth': 5}\n",
            "0.853 (+/-0.011) for {'max_depth': 6}\n",
            "0.857 (+/-0.005) for {'max_depth': 7}\n",
            "0.860 (+/-0.006) for {'max_depth': 8}\n",
            "0.863 (+/-0.005) for {'max_depth': 9}\n"
          ]
        }
      ]
    },
    {
      "cell_type": "code",
      "source": [
        "# create a composite estimator made by a pipeline of preprocessing and the RandomForest\n",
        "model = Pipeline([\n",
        "        ('scaler', StandardScaler()),\n",
        "        ('DecisionTree', RandomForestClassifier())\n",
        "])\n",
        "\n",
        "# create a k-fold cross validation iterator of k=10 folds\n",
        "cv = KFold(10, shuffle=True, random_state=33)\n",
        "\n",
        "# by default the score used is the one returned by score method of the estimator (accuracy)\n",
        "scores = cross_val_score(model, X, y, cv=cv)\n",
        "print(scores)"
      ],
      "metadata": {
        "colab": {
          "base_uri": "https://localhost:8080/"
        },
        "id": "lcJVTtoWtuJo",
        "outputId": "3999b2e3-ed83-47e4-9a46-4637bad45c29"
      },
      "execution_count": 22,
      "outputs": [
        {
          "output_type": "stream",
          "name": "stdout",
          "text": [
            "[0.86453294 0.87755862 0.86751023 0.86899888 0.85671753 0.85815339\n",
            " 0.8641102  0.87453462 0.86783321 0.85889799]\n"
          ]
        }
      ]
    },
    {
      "cell_type": "code",
      "source": [
        "model.get_params().keys()\n"
      ],
      "metadata": {
        "colab": {
          "base_uri": "https://localhost:8080/"
        },
        "id": "se-86H269Bv3",
        "outputId": "e7fbe900-cce1-4ad6-c918-f36f1fa3f4d0"
      },
      "execution_count": 23,
      "outputs": [
        {
          "output_type": "execute_result",
          "data": {
            "text/plain": [
              "dict_keys(['memory', 'steps', 'verbose', 'scaler', 'DecisionTree', 'scaler__copy', 'scaler__with_mean', 'scaler__with_std', 'DecisionTree__bootstrap', 'DecisionTree__ccp_alpha', 'DecisionTree__class_weight', 'DecisionTree__criterion', 'DecisionTree__max_depth', 'DecisionTree__max_features', 'DecisionTree__max_leaf_nodes', 'DecisionTree__max_samples', 'DecisionTree__min_impurity_decrease', 'DecisionTree__min_samples_leaf', 'DecisionTree__min_samples_split', 'DecisionTree__min_weight_fraction_leaf', 'DecisionTree__n_estimators', 'DecisionTree__n_jobs', 'DecisionTree__oob_score', 'DecisionTree__random_state', 'DecisionTree__verbose', 'DecisionTree__warm_start'])"
            ]
          },
          "metadata": {},
          "execution_count": 23
        }
      ]
    },
    {
      "cell_type": "code",
      "source": [
        "# Set the parameters by cross-validation\n",
        "#LLEVA TIEMPO\n",
        "\n",
        "from sklearn.metrics import classification_report, recall_score, precision_score, make_scorer\n",
        "\n",
        "# set of parameters to test\n",
        "tuned_parameters = [{'max_depth': np.arange(8, 10),\n",
        "   #                  'max_weights': [1, 10, 100, 1000]},\n",
        "                     'criterion':['gini', 'entropy'], \n",
        "                     'min_samples_split': range(2, 18, 2),\n",
        "                     'min_samples_leaf': [2, 5, 10],\n",
        "                \n",
        "                    }]\n",
        "\n",
        "scores = ['precision', 'recall']\n",
        "\n",
        "for score in scores:\n",
        "    print(\"# Tuning hyper-parameters for %s\" % score)\n",
        "    print()\n",
        "\n",
        "    if score == 'precision':\n",
        "        scorer = make_scorer(precision_score, average='weighted', zero_division=0)\n",
        "    elif score == 'recall':\n",
        "        scorer = make_scorer(recall_score, average='weighted', zero_division=0)\n",
        "    \n",
        "    # cv = the fold of the cross-validation cv, defaulted to 5\n",
        "    gs = GridSearchCV(RandomForestClassifier(), tuned_parameters, cv=10, scoring=scorer)\n",
        "    gs.fit(X_train, y_train)\n",
        "\n",
        "    print(\"Best parameters set found on development set:\")\n",
        "    print()\n",
        "    print(gs.best_params_)\n",
        "    print()\n",
        "    print(\"Grid scores on development set:\")\n",
        "    print()\n",
        "    means = gs.cv_results_['mean_test_score']\n",
        "    stds = gs.cv_results_['std_test_score']\n",
        "\n",
        "    for mean_score, std_score, params in zip(means, stds, gs.cv_results_['params']):\n",
        "        print(\"%0.3f (+/-%0.03f) for %r\" % (mean_score, std_score * 2, params))\n",
        "    print()\n",
        "\n",
        "    print(\"Detailed classification report:\")\n",
        "    print()\n",
        "    print(\"The model is trained on the full development set.\")\n",
        "    print(\"The scores are computed on the full evaluation set.\")\n",
        "    print()\n",
        "    y_true, y_pred = y_test, gs.predict(X_test)\n",
        "    print(classification_report(y_true, y_pred))\n",
        "    print()"
      ],
      "metadata": {
        "colab": {
          "base_uri": "https://localhost:8080/"
        },
        "id": "1lD_w8Q7rAyA",
        "outputId": "d708159d-2fc3-48cb-fb81-9645778d81f4"
      },
      "execution_count": 24,
      "outputs": [
        {
          "output_type": "stream",
          "name": "stdout",
          "text": [
            "# Tuning hyper-parameters for precision\n",
            "\n",
            "Best parameters set found on development set:\n",
            "\n",
            "{'criterion': 'entropy', 'max_depth': 9, 'min_samples_leaf': 10, 'min_samples_split': 14}\n",
            "\n",
            "Grid scores on development set:\n",
            "\n",
            "0.862 (+/-0.011) for {'criterion': 'gini', 'max_depth': 8, 'min_samples_leaf': 2, 'min_samples_split': 2}\n",
            "0.861 (+/-0.012) for {'criterion': 'gini', 'max_depth': 8, 'min_samples_leaf': 2, 'min_samples_split': 4}\n",
            "0.860 (+/-0.009) for {'criterion': 'gini', 'max_depth': 8, 'min_samples_leaf': 2, 'min_samples_split': 6}\n",
            "0.861 (+/-0.011) for {'criterion': 'gini', 'max_depth': 8, 'min_samples_leaf': 2, 'min_samples_split': 8}\n",
            "0.861 (+/-0.011) for {'criterion': 'gini', 'max_depth': 8, 'min_samples_leaf': 2, 'min_samples_split': 10}\n",
            "0.861 (+/-0.011) for {'criterion': 'gini', 'max_depth': 8, 'min_samples_leaf': 2, 'min_samples_split': 12}\n",
            "0.860 (+/-0.010) for {'criterion': 'gini', 'max_depth': 8, 'min_samples_leaf': 2, 'min_samples_split': 14}\n",
            "0.860 (+/-0.011) for {'criterion': 'gini', 'max_depth': 8, 'min_samples_leaf': 2, 'min_samples_split': 16}\n",
            "0.860 (+/-0.009) for {'criterion': 'gini', 'max_depth': 8, 'min_samples_leaf': 5, 'min_samples_split': 2}\n",
            "0.860 (+/-0.008) for {'criterion': 'gini', 'max_depth': 8, 'min_samples_leaf': 5, 'min_samples_split': 4}\n",
            "0.860 (+/-0.011) for {'criterion': 'gini', 'max_depth': 8, 'min_samples_leaf': 5, 'min_samples_split': 6}\n",
            "0.861 (+/-0.010) for {'criterion': 'gini', 'max_depth': 8, 'min_samples_leaf': 5, 'min_samples_split': 8}\n",
            "0.861 (+/-0.010) for {'criterion': 'gini', 'max_depth': 8, 'min_samples_leaf': 5, 'min_samples_split': 10}\n",
            "0.860 (+/-0.011) for {'criterion': 'gini', 'max_depth': 8, 'min_samples_leaf': 5, 'min_samples_split': 12}\n",
            "0.861 (+/-0.010) for {'criterion': 'gini', 'max_depth': 8, 'min_samples_leaf': 5, 'min_samples_split': 14}\n",
            "0.861 (+/-0.012) for {'criterion': 'gini', 'max_depth': 8, 'min_samples_leaf': 5, 'min_samples_split': 16}\n",
            "0.861 (+/-0.010) for {'criterion': 'gini', 'max_depth': 8, 'min_samples_leaf': 10, 'min_samples_split': 2}\n",
            "0.861 (+/-0.010) for {'criterion': 'gini', 'max_depth': 8, 'min_samples_leaf': 10, 'min_samples_split': 4}\n",
            "0.862 (+/-0.012) for {'criterion': 'gini', 'max_depth': 8, 'min_samples_leaf': 10, 'min_samples_split': 6}\n",
            "0.859 (+/-0.010) for {'criterion': 'gini', 'max_depth': 8, 'min_samples_leaf': 10, 'min_samples_split': 8}\n",
            "0.861 (+/-0.011) for {'criterion': 'gini', 'max_depth': 8, 'min_samples_leaf': 10, 'min_samples_split': 10}\n",
            "0.860 (+/-0.009) for {'criterion': 'gini', 'max_depth': 8, 'min_samples_leaf': 10, 'min_samples_split': 12}\n",
            "0.860 (+/-0.013) for {'criterion': 'gini', 'max_depth': 8, 'min_samples_leaf': 10, 'min_samples_split': 14}\n",
            "0.861 (+/-0.009) for {'criterion': 'gini', 'max_depth': 8, 'min_samples_leaf': 10, 'min_samples_split': 16}\n",
            "0.863 (+/-0.010) for {'criterion': 'gini', 'max_depth': 9, 'min_samples_leaf': 2, 'min_samples_split': 2}\n",
            "0.863 (+/-0.010) for {'criterion': 'gini', 'max_depth': 9, 'min_samples_leaf': 2, 'min_samples_split': 4}\n",
            "0.864 (+/-0.011) for {'criterion': 'gini', 'max_depth': 9, 'min_samples_leaf': 2, 'min_samples_split': 6}\n",
            "0.863 (+/-0.009) for {'criterion': 'gini', 'max_depth': 9, 'min_samples_leaf': 2, 'min_samples_split': 8}\n",
            "0.863 (+/-0.009) for {'criterion': 'gini', 'max_depth': 9, 'min_samples_leaf': 2, 'min_samples_split': 10}\n",
            "0.863 (+/-0.011) for {'criterion': 'gini', 'max_depth': 9, 'min_samples_leaf': 2, 'min_samples_split': 12}\n",
            "0.863 (+/-0.010) for {'criterion': 'gini', 'max_depth': 9, 'min_samples_leaf': 2, 'min_samples_split': 14}\n",
            "0.863 (+/-0.010) for {'criterion': 'gini', 'max_depth': 9, 'min_samples_leaf': 2, 'min_samples_split': 16}\n",
            "0.864 (+/-0.011) for {'criterion': 'gini', 'max_depth': 9, 'min_samples_leaf': 5, 'min_samples_split': 2}\n",
            "0.862 (+/-0.012) for {'criterion': 'gini', 'max_depth': 9, 'min_samples_leaf': 5, 'min_samples_split': 4}\n",
            "0.864 (+/-0.008) for {'criterion': 'gini', 'max_depth': 9, 'min_samples_leaf': 5, 'min_samples_split': 6}\n",
            "0.863 (+/-0.009) for {'criterion': 'gini', 'max_depth': 9, 'min_samples_leaf': 5, 'min_samples_split': 8}\n",
            "0.864 (+/-0.010) for {'criterion': 'gini', 'max_depth': 9, 'min_samples_leaf': 5, 'min_samples_split': 10}\n",
            "0.863 (+/-0.013) for {'criterion': 'gini', 'max_depth': 9, 'min_samples_leaf': 5, 'min_samples_split': 12}\n",
            "0.863 (+/-0.011) for {'criterion': 'gini', 'max_depth': 9, 'min_samples_leaf': 5, 'min_samples_split': 14}\n",
            "0.863 (+/-0.010) for {'criterion': 'gini', 'max_depth': 9, 'min_samples_leaf': 5, 'min_samples_split': 16}\n",
            "0.862 (+/-0.012) for {'criterion': 'gini', 'max_depth': 9, 'min_samples_leaf': 10, 'min_samples_split': 2}\n",
            "0.864 (+/-0.009) for {'criterion': 'gini', 'max_depth': 9, 'min_samples_leaf': 10, 'min_samples_split': 4}\n",
            "0.863 (+/-0.010) for {'criterion': 'gini', 'max_depth': 9, 'min_samples_leaf': 10, 'min_samples_split': 6}\n",
            "0.862 (+/-0.012) for {'criterion': 'gini', 'max_depth': 9, 'min_samples_leaf': 10, 'min_samples_split': 8}\n",
            "0.864 (+/-0.010) for {'criterion': 'gini', 'max_depth': 9, 'min_samples_leaf': 10, 'min_samples_split': 10}\n",
            "0.862 (+/-0.009) for {'criterion': 'gini', 'max_depth': 9, 'min_samples_leaf': 10, 'min_samples_split': 12}\n",
            "0.862 (+/-0.013) for {'criterion': 'gini', 'max_depth': 9, 'min_samples_leaf': 10, 'min_samples_split': 14}\n",
            "0.862 (+/-0.010) for {'criterion': 'gini', 'max_depth': 9, 'min_samples_leaf': 10, 'min_samples_split': 16}\n",
            "0.861 (+/-0.009) for {'criterion': 'entropy', 'max_depth': 8, 'min_samples_leaf': 2, 'min_samples_split': 2}\n",
            "0.861 (+/-0.011) for {'criterion': 'entropy', 'max_depth': 8, 'min_samples_leaf': 2, 'min_samples_split': 4}\n",
            "0.861 (+/-0.010) for {'criterion': 'entropy', 'max_depth': 8, 'min_samples_leaf': 2, 'min_samples_split': 6}\n",
            "0.862 (+/-0.011) for {'criterion': 'entropy', 'max_depth': 8, 'min_samples_leaf': 2, 'min_samples_split': 8}\n",
            "0.862 (+/-0.009) for {'criterion': 'entropy', 'max_depth': 8, 'min_samples_leaf': 2, 'min_samples_split': 10}\n",
            "0.861 (+/-0.010) for {'criterion': 'entropy', 'max_depth': 8, 'min_samples_leaf': 2, 'min_samples_split': 12}\n",
            "0.861 (+/-0.010) for {'criterion': 'entropy', 'max_depth': 8, 'min_samples_leaf': 2, 'min_samples_split': 14}\n",
            "0.861 (+/-0.010) for {'criterion': 'entropy', 'max_depth': 8, 'min_samples_leaf': 2, 'min_samples_split': 16}\n",
            "0.862 (+/-0.011) for {'criterion': 'entropy', 'max_depth': 8, 'min_samples_leaf': 5, 'min_samples_split': 2}\n",
            "0.861 (+/-0.010) for {'criterion': 'entropy', 'max_depth': 8, 'min_samples_leaf': 5, 'min_samples_split': 4}\n",
            "0.862 (+/-0.011) for {'criterion': 'entropy', 'max_depth': 8, 'min_samples_leaf': 5, 'min_samples_split': 6}\n",
            "0.861 (+/-0.011) for {'criterion': 'entropy', 'max_depth': 8, 'min_samples_leaf': 5, 'min_samples_split': 8}\n",
            "0.860 (+/-0.007) for {'criterion': 'entropy', 'max_depth': 8, 'min_samples_leaf': 5, 'min_samples_split': 10}\n",
            "0.861 (+/-0.008) for {'criterion': 'entropy', 'max_depth': 8, 'min_samples_leaf': 5, 'min_samples_split': 12}\n",
            "0.862 (+/-0.010) for {'criterion': 'entropy', 'max_depth': 8, 'min_samples_leaf': 5, 'min_samples_split': 14}\n",
            "0.861 (+/-0.010) for {'criterion': 'entropy', 'max_depth': 8, 'min_samples_leaf': 5, 'min_samples_split': 16}\n",
            "0.861 (+/-0.010) for {'criterion': 'entropy', 'max_depth': 8, 'min_samples_leaf': 10, 'min_samples_split': 2}\n",
            "0.862 (+/-0.009) for {'criterion': 'entropy', 'max_depth': 8, 'min_samples_leaf': 10, 'min_samples_split': 4}\n",
            "0.863 (+/-0.011) for {'criterion': 'entropy', 'max_depth': 8, 'min_samples_leaf': 10, 'min_samples_split': 6}\n",
            "0.861 (+/-0.009) for {'criterion': 'entropy', 'max_depth': 8, 'min_samples_leaf': 10, 'min_samples_split': 8}\n",
            "0.862 (+/-0.010) for {'criterion': 'entropy', 'max_depth': 8, 'min_samples_leaf': 10, 'min_samples_split': 10}\n",
            "0.861 (+/-0.010) for {'criterion': 'entropy', 'max_depth': 8, 'min_samples_leaf': 10, 'min_samples_split': 12}\n",
            "0.862 (+/-0.009) for {'criterion': 'entropy', 'max_depth': 8, 'min_samples_leaf': 10, 'min_samples_split': 14}\n",
            "0.862 (+/-0.010) for {'criterion': 'entropy', 'max_depth': 8, 'min_samples_leaf': 10, 'min_samples_split': 16}\n",
            "0.864 (+/-0.010) for {'criterion': 'entropy', 'max_depth': 9, 'min_samples_leaf': 2, 'min_samples_split': 2}\n",
            "0.863 (+/-0.010) for {'criterion': 'entropy', 'max_depth': 9, 'min_samples_leaf': 2, 'min_samples_split': 4}\n",
            "0.863 (+/-0.011) for {'criterion': 'entropy', 'max_depth': 9, 'min_samples_leaf': 2, 'min_samples_split': 6}\n",
            "0.864 (+/-0.009) for {'criterion': 'entropy', 'max_depth': 9, 'min_samples_leaf': 2, 'min_samples_split': 8}\n",
            "0.864 (+/-0.012) for {'criterion': 'entropy', 'max_depth': 9, 'min_samples_leaf': 2, 'min_samples_split': 10}\n",
            "0.864 (+/-0.010) for {'criterion': 'entropy', 'max_depth': 9, 'min_samples_leaf': 2, 'min_samples_split': 12}\n",
            "0.863 (+/-0.007) for {'criterion': 'entropy', 'max_depth': 9, 'min_samples_leaf': 2, 'min_samples_split': 14}\n",
            "0.864 (+/-0.010) for {'criterion': 'entropy', 'max_depth': 9, 'min_samples_leaf': 2, 'min_samples_split': 16}\n",
            "0.863 (+/-0.010) for {'criterion': 'entropy', 'max_depth': 9, 'min_samples_leaf': 5, 'min_samples_split': 2}\n",
            "0.864 (+/-0.011) for {'criterion': 'entropy', 'max_depth': 9, 'min_samples_leaf': 5, 'min_samples_split': 4}\n",
            "0.862 (+/-0.009) for {'criterion': 'entropy', 'max_depth': 9, 'min_samples_leaf': 5, 'min_samples_split': 6}\n",
            "0.863 (+/-0.009) for {'criterion': 'entropy', 'max_depth': 9, 'min_samples_leaf': 5, 'min_samples_split': 8}\n",
            "0.864 (+/-0.011) for {'criterion': 'entropy', 'max_depth': 9, 'min_samples_leaf': 5, 'min_samples_split': 10}\n",
            "0.862 (+/-0.011) for {'criterion': 'entropy', 'max_depth': 9, 'min_samples_leaf': 5, 'min_samples_split': 12}\n",
            "0.863 (+/-0.011) for {'criterion': 'entropy', 'max_depth': 9, 'min_samples_leaf': 5, 'min_samples_split': 14}\n",
            "0.863 (+/-0.010) for {'criterion': 'entropy', 'max_depth': 9, 'min_samples_leaf': 5, 'min_samples_split': 16}\n",
            "0.864 (+/-0.010) for {'criterion': 'entropy', 'max_depth': 9, 'min_samples_leaf': 10, 'min_samples_split': 2}\n",
            "0.863 (+/-0.010) for {'criterion': 'entropy', 'max_depth': 9, 'min_samples_leaf': 10, 'min_samples_split': 4}\n",
            "0.863 (+/-0.010) for {'criterion': 'entropy', 'max_depth': 9, 'min_samples_leaf': 10, 'min_samples_split': 6}\n",
            "0.863 (+/-0.009) for {'criterion': 'entropy', 'max_depth': 9, 'min_samples_leaf': 10, 'min_samples_split': 8}\n",
            "0.864 (+/-0.009) for {'criterion': 'entropy', 'max_depth': 9, 'min_samples_leaf': 10, 'min_samples_split': 10}\n",
            "0.863 (+/-0.011) for {'criterion': 'entropy', 'max_depth': 9, 'min_samples_leaf': 10, 'min_samples_split': 12}\n",
            "0.865 (+/-0.009) for {'criterion': 'entropy', 'max_depth': 9, 'min_samples_leaf': 10, 'min_samples_split': 14}\n",
            "0.863 (+/-0.010) for {'criterion': 'entropy', 'max_depth': 9, 'min_samples_leaf': 10, 'min_samples_split': 16}\n",
            "\n",
            "Detailed classification report:\n",
            "\n",
            "The model is trained on the full development set.\n",
            "The scores are computed on the full evaluation set.\n",
            "\n",
            "              precision    recall  f1-score   support\n",
            "\n",
            "           0       0.89      0.88      0.88      3215\n",
            "           1       0.82      0.85      0.83      2158\n",
            "\n",
            "    accuracy                           0.86      5373\n",
            "   macro avg       0.86      0.86      0.86      5373\n",
            "weighted avg       0.86      0.86      0.86      5373\n",
            "\n",
            "\n",
            "# Tuning hyper-parameters for recall\n",
            "\n",
            "Best parameters set found on development set:\n",
            "\n",
            "{'criterion': 'gini', 'max_depth': 9, 'min_samples_leaf': 2, 'min_samples_split': 6}\n",
            "\n",
            "Grid scores on development set:\n",
            "\n",
            "0.860 (+/-0.010) for {'criterion': 'gini', 'max_depth': 8, 'min_samples_leaf': 2, 'min_samples_split': 2}\n",
            "0.860 (+/-0.010) for {'criterion': 'gini', 'max_depth': 8, 'min_samples_leaf': 2, 'min_samples_split': 4}\n",
            "0.860 (+/-0.011) for {'criterion': 'gini', 'max_depth': 8, 'min_samples_leaf': 2, 'min_samples_split': 6}\n",
            "0.859 (+/-0.011) for {'criterion': 'gini', 'max_depth': 8, 'min_samples_leaf': 2, 'min_samples_split': 8}\n",
            "0.860 (+/-0.009) for {'criterion': 'gini', 'max_depth': 8, 'min_samples_leaf': 2, 'min_samples_split': 10}\n",
            "0.861 (+/-0.009) for {'criterion': 'gini', 'max_depth': 8, 'min_samples_leaf': 2, 'min_samples_split': 12}\n",
            "0.862 (+/-0.011) for {'criterion': 'gini', 'max_depth': 8, 'min_samples_leaf': 2, 'min_samples_split': 14}\n",
            "0.862 (+/-0.011) for {'criterion': 'gini', 'max_depth': 8, 'min_samples_leaf': 2, 'min_samples_split': 16}\n",
            "0.860 (+/-0.009) for {'criterion': 'gini', 'max_depth': 8, 'min_samples_leaf': 5, 'min_samples_split': 2}\n",
            "0.862 (+/-0.011) for {'criterion': 'gini', 'max_depth': 8, 'min_samples_leaf': 5, 'min_samples_split': 4}\n",
            "0.862 (+/-0.012) for {'criterion': 'gini', 'max_depth': 8, 'min_samples_leaf': 5, 'min_samples_split': 6}\n",
            "0.861 (+/-0.010) for {'criterion': 'gini', 'max_depth': 8, 'min_samples_leaf': 5, 'min_samples_split': 8}\n",
            "0.862 (+/-0.013) for {'criterion': 'gini', 'max_depth': 8, 'min_samples_leaf': 5, 'min_samples_split': 10}\n",
            "0.861 (+/-0.010) for {'criterion': 'gini', 'max_depth': 8, 'min_samples_leaf': 5, 'min_samples_split': 12}\n",
            "0.861 (+/-0.011) for {'criterion': 'gini', 'max_depth': 8, 'min_samples_leaf': 5, 'min_samples_split': 14}\n",
            "0.861 (+/-0.011) for {'criterion': 'gini', 'max_depth': 8, 'min_samples_leaf': 5, 'min_samples_split': 16}\n",
            "0.860 (+/-0.009) for {'criterion': 'gini', 'max_depth': 8, 'min_samples_leaf': 10, 'min_samples_split': 2}\n",
            "0.860 (+/-0.012) for {'criterion': 'gini', 'max_depth': 8, 'min_samples_leaf': 10, 'min_samples_split': 4}\n",
            "0.860 (+/-0.009) for {'criterion': 'gini', 'max_depth': 8, 'min_samples_leaf': 10, 'min_samples_split': 6}\n",
            "0.861 (+/-0.014) for {'criterion': 'gini', 'max_depth': 8, 'min_samples_leaf': 10, 'min_samples_split': 8}\n",
            "0.859 (+/-0.010) for {'criterion': 'gini', 'max_depth': 8, 'min_samples_leaf': 10, 'min_samples_split': 10}\n",
            "0.861 (+/-0.010) for {'criterion': 'gini', 'max_depth': 8, 'min_samples_leaf': 10, 'min_samples_split': 12}\n",
            "0.861 (+/-0.008) for {'criterion': 'gini', 'max_depth': 8, 'min_samples_leaf': 10, 'min_samples_split': 14}\n",
            "0.861 (+/-0.011) for {'criterion': 'gini', 'max_depth': 8, 'min_samples_leaf': 10, 'min_samples_split': 16}\n",
            "0.863 (+/-0.009) for {'criterion': 'gini', 'max_depth': 9, 'min_samples_leaf': 2, 'min_samples_split': 2}\n",
            "0.863 (+/-0.011) for {'criterion': 'gini', 'max_depth': 9, 'min_samples_leaf': 2, 'min_samples_split': 4}\n",
            "0.864 (+/-0.010) for {'criterion': 'gini', 'max_depth': 9, 'min_samples_leaf': 2, 'min_samples_split': 6}\n",
            "0.863 (+/-0.010) for {'criterion': 'gini', 'max_depth': 9, 'min_samples_leaf': 2, 'min_samples_split': 8}\n",
            "0.863 (+/-0.010) for {'criterion': 'gini', 'max_depth': 9, 'min_samples_leaf': 2, 'min_samples_split': 10}\n",
            "0.863 (+/-0.009) for {'criterion': 'gini', 'max_depth': 9, 'min_samples_leaf': 2, 'min_samples_split': 12}\n",
            "0.863 (+/-0.009) for {'criterion': 'gini', 'max_depth': 9, 'min_samples_leaf': 2, 'min_samples_split': 14}\n",
            "0.863 (+/-0.012) for {'criterion': 'gini', 'max_depth': 9, 'min_samples_leaf': 2, 'min_samples_split': 16}\n",
            "0.863 (+/-0.010) for {'criterion': 'gini', 'max_depth': 9, 'min_samples_leaf': 5, 'min_samples_split': 2}\n",
            "0.863 (+/-0.011) for {'criterion': 'gini', 'max_depth': 9, 'min_samples_leaf': 5, 'min_samples_split': 4}\n",
            "0.863 (+/-0.009) for {'criterion': 'gini', 'max_depth': 9, 'min_samples_leaf': 5, 'min_samples_split': 6}\n",
            "0.862 (+/-0.008) for {'criterion': 'gini', 'max_depth': 9, 'min_samples_leaf': 5, 'min_samples_split': 8}\n",
            "0.863 (+/-0.011) for {'criterion': 'gini', 'max_depth': 9, 'min_samples_leaf': 5, 'min_samples_split': 10}\n",
            "0.863 (+/-0.009) for {'criterion': 'gini', 'max_depth': 9, 'min_samples_leaf': 5, 'min_samples_split': 12}\n",
            "0.862 (+/-0.010) for {'criterion': 'gini', 'max_depth': 9, 'min_samples_leaf': 5, 'min_samples_split': 14}\n",
            "0.863 (+/-0.009) for {'criterion': 'gini', 'max_depth': 9, 'min_samples_leaf': 5, 'min_samples_split': 16}\n",
            "0.862 (+/-0.011) for {'criterion': 'gini', 'max_depth': 9, 'min_samples_leaf': 10, 'min_samples_split': 2}\n",
            "0.863 (+/-0.010) for {'criterion': 'gini', 'max_depth': 9, 'min_samples_leaf': 10, 'min_samples_split': 4}\n",
            "0.863 (+/-0.009) for {'criterion': 'gini', 'max_depth': 9, 'min_samples_leaf': 10, 'min_samples_split': 6}\n",
            "0.862 (+/-0.010) for {'criterion': 'gini', 'max_depth': 9, 'min_samples_leaf': 10, 'min_samples_split': 8}\n",
            "0.863 (+/-0.009) for {'criterion': 'gini', 'max_depth': 9, 'min_samples_leaf': 10, 'min_samples_split': 10}\n",
            "0.863 (+/-0.010) for {'criterion': 'gini', 'max_depth': 9, 'min_samples_leaf': 10, 'min_samples_split': 12}\n",
            "0.862 (+/-0.009) for {'criterion': 'gini', 'max_depth': 9, 'min_samples_leaf': 10, 'min_samples_split': 14}\n",
            "0.863 (+/-0.009) for {'criterion': 'gini', 'max_depth': 9, 'min_samples_leaf': 10, 'min_samples_split': 16}\n",
            "0.861 (+/-0.012) for {'criterion': 'entropy', 'max_depth': 8, 'min_samples_leaf': 2, 'min_samples_split': 2}\n",
            "0.861 (+/-0.011) for {'criterion': 'entropy', 'max_depth': 8, 'min_samples_leaf': 2, 'min_samples_split': 4}\n",
            "0.859 (+/-0.011) for {'criterion': 'entropy', 'max_depth': 8, 'min_samples_leaf': 2, 'min_samples_split': 6}\n",
            "0.862 (+/-0.010) for {'criterion': 'entropy', 'max_depth': 8, 'min_samples_leaf': 2, 'min_samples_split': 8}\n",
            "0.861 (+/-0.010) for {'criterion': 'entropy', 'max_depth': 8, 'min_samples_leaf': 2, 'min_samples_split': 10}\n",
            "0.861 (+/-0.011) for {'criterion': 'entropy', 'max_depth': 8, 'min_samples_leaf': 2, 'min_samples_split': 12}\n",
            "0.860 (+/-0.011) for {'criterion': 'entropy', 'max_depth': 8, 'min_samples_leaf': 2, 'min_samples_split': 14}\n",
            "0.862 (+/-0.010) for {'criterion': 'entropy', 'max_depth': 8, 'min_samples_leaf': 2, 'min_samples_split': 16}\n",
            "0.860 (+/-0.008) for {'criterion': 'entropy', 'max_depth': 8, 'min_samples_leaf': 5, 'min_samples_split': 2}\n",
            "0.861 (+/-0.014) for {'criterion': 'entropy', 'max_depth': 8, 'min_samples_leaf': 5, 'min_samples_split': 4}\n",
            "0.861 (+/-0.009) for {'criterion': 'entropy', 'max_depth': 8, 'min_samples_leaf': 5, 'min_samples_split': 6}\n",
            "0.862 (+/-0.010) for {'criterion': 'entropy', 'max_depth': 8, 'min_samples_leaf': 5, 'min_samples_split': 8}\n",
            "0.861 (+/-0.011) for {'criterion': 'entropy', 'max_depth': 8, 'min_samples_leaf': 5, 'min_samples_split': 10}\n",
            "0.861 (+/-0.008) for {'criterion': 'entropy', 'max_depth': 8, 'min_samples_leaf': 5, 'min_samples_split': 12}\n",
            "0.861 (+/-0.010) for {'criterion': 'entropy', 'max_depth': 8, 'min_samples_leaf': 5, 'min_samples_split': 14}\n",
            "0.860 (+/-0.010) for {'criterion': 'entropy', 'max_depth': 8, 'min_samples_leaf': 5, 'min_samples_split': 16}\n",
            "0.861 (+/-0.012) for {'criterion': 'entropy', 'max_depth': 8, 'min_samples_leaf': 10, 'min_samples_split': 2}\n",
            "0.859 (+/-0.011) for {'criterion': 'entropy', 'max_depth': 8, 'min_samples_leaf': 10, 'min_samples_split': 4}\n",
            "0.862 (+/-0.008) for {'criterion': 'entropy', 'max_depth': 8, 'min_samples_leaf': 10, 'min_samples_split': 6}\n",
            "0.861 (+/-0.008) for {'criterion': 'entropy', 'max_depth': 8, 'min_samples_leaf': 10, 'min_samples_split': 8}\n",
            "0.861 (+/-0.010) for {'criterion': 'entropy', 'max_depth': 8, 'min_samples_leaf': 10, 'min_samples_split': 10}\n",
            "0.861 (+/-0.009) for {'criterion': 'entropy', 'max_depth': 8, 'min_samples_leaf': 10, 'min_samples_split': 12}\n",
            "0.860 (+/-0.010) for {'criterion': 'entropy', 'max_depth': 8, 'min_samples_leaf': 10, 'min_samples_split': 14}\n",
            "0.861 (+/-0.011) for {'criterion': 'entropy', 'max_depth': 8, 'min_samples_leaf': 10, 'min_samples_split': 16}\n",
            "0.863 (+/-0.010) for {'criterion': 'entropy', 'max_depth': 9, 'min_samples_leaf': 2, 'min_samples_split': 2}\n",
            "0.862 (+/-0.011) for {'criterion': 'entropy', 'max_depth': 9, 'min_samples_leaf': 2, 'min_samples_split': 4}\n",
            "0.863 (+/-0.010) for {'criterion': 'entropy', 'max_depth': 9, 'min_samples_leaf': 2, 'min_samples_split': 6}\n",
            "0.863 (+/-0.011) for {'criterion': 'entropy', 'max_depth': 9, 'min_samples_leaf': 2, 'min_samples_split': 8}\n",
            "0.863 (+/-0.012) for {'criterion': 'entropy', 'max_depth': 9, 'min_samples_leaf': 2, 'min_samples_split': 10}\n",
            "0.862 (+/-0.011) for {'criterion': 'entropy', 'max_depth': 9, 'min_samples_leaf': 2, 'min_samples_split': 12}\n",
            "0.862 (+/-0.012) for {'criterion': 'entropy', 'max_depth': 9, 'min_samples_leaf': 2, 'min_samples_split': 14}\n",
            "0.863 (+/-0.010) for {'criterion': 'entropy', 'max_depth': 9, 'min_samples_leaf': 2, 'min_samples_split': 16}\n",
            "0.863 (+/-0.010) for {'criterion': 'entropy', 'max_depth': 9, 'min_samples_leaf': 5, 'min_samples_split': 2}\n",
            "0.863 (+/-0.011) for {'criterion': 'entropy', 'max_depth': 9, 'min_samples_leaf': 5, 'min_samples_split': 4}\n",
            "0.864 (+/-0.007) for {'criterion': 'entropy', 'max_depth': 9, 'min_samples_leaf': 5, 'min_samples_split': 6}\n",
            "0.863 (+/-0.010) for {'criterion': 'entropy', 'max_depth': 9, 'min_samples_leaf': 5, 'min_samples_split': 8}\n",
            "0.862 (+/-0.009) for {'criterion': 'entropy', 'max_depth': 9, 'min_samples_leaf': 5, 'min_samples_split': 10}\n",
            "0.863 (+/-0.009) for {'criterion': 'entropy', 'max_depth': 9, 'min_samples_leaf': 5, 'min_samples_split': 12}\n",
            "0.862 (+/-0.011) for {'criterion': 'entropy', 'max_depth': 9, 'min_samples_leaf': 5, 'min_samples_split': 14}\n",
            "0.863 (+/-0.010) for {'criterion': 'entropy', 'max_depth': 9, 'min_samples_leaf': 5, 'min_samples_split': 16}\n",
            "0.862 (+/-0.011) for {'criterion': 'entropy', 'max_depth': 9, 'min_samples_leaf': 10, 'min_samples_split': 2}\n",
            "0.863 (+/-0.011) for {'criterion': 'entropy', 'max_depth': 9, 'min_samples_leaf': 10, 'min_samples_split': 4}\n",
            "0.863 (+/-0.009) for {'criterion': 'entropy', 'max_depth': 9, 'min_samples_leaf': 10, 'min_samples_split': 6}\n",
            "0.863 (+/-0.010) for {'criterion': 'entropy', 'max_depth': 9, 'min_samples_leaf': 10, 'min_samples_split': 8}\n",
            "0.863 (+/-0.010) for {'criterion': 'entropy', 'max_depth': 9, 'min_samples_leaf': 10, 'min_samples_split': 10}\n",
            "0.862 (+/-0.010) for {'criterion': 'entropy', 'max_depth': 9, 'min_samples_leaf': 10, 'min_samples_split': 12}\n",
            "0.864 (+/-0.009) for {'criterion': 'entropy', 'max_depth': 9, 'min_samples_leaf': 10, 'min_samples_split': 14}\n",
            "0.864 (+/-0.011) for {'criterion': 'entropy', 'max_depth': 9, 'min_samples_leaf': 10, 'min_samples_split': 16}\n",
            "\n",
            "Detailed classification report:\n",
            "\n",
            "The model is trained on the full development set.\n",
            "The scores are computed on the full evaluation set.\n",
            "\n",
            "              precision    recall  f1-score   support\n",
            "\n",
            "           0       0.89      0.87      0.88      3215\n",
            "           1       0.82      0.84      0.83      2158\n",
            "\n",
            "    accuracy                           0.86      5373\n",
            "   macro avg       0.85      0.86      0.86      5373\n",
            "weighted avg       0.86      0.86      0.86      5373\n",
            "\n",
            "\n"
          ]
        }
      ]
    },
    {
      "cell_type": "code",
      "source": [
        "'''\n",
        "# Tuning hyper-parameters for precision\n",
        "\n",
        "Best parameters set found on development set:\n",
        "\n",
        "{'criterion': 'gini', 'max_depth': 9, 'min_samples_leaf': 2, 'min_samples_split': 6}\n",
        "\n",
        "Grid scores on development set:\n",
        "\n",
        "Detailed classification report:\n",
        "\n",
        "The model is trained on the full development set.\n",
        "The scores are computed on the full evaluation set.\n",
        "\n",
        "              precision    recall  f1-score   support\n",
        "\n",
        "           0       0.89      0.87      0.88      3215\n",
        "           1       0.82      0.84      0.83      2158\n",
        "\n",
        "    accuracy                           0.86      5373\n",
        "   macro avg       0.85      0.86      0.86      5373\n",
        "weighted avg       0.86      0.86      0.86      5373\n",
        "\n",
        "\n",
        "'''"
      ],
      "metadata": {
        "id": "1O4tkHT8VfAQ"
      },
      "execution_count": null,
      "outputs": []
    },
    {
      "cell_type": "markdown",
      "source": [
        "##Random Forest con parametros ajustados sin PCA"
      ],
      "metadata": {
        "id": "Kvq5kkYoKRLA"
      }
    },
    {
      "cell_type": "code",
      "source": [
        "#Modelo tras ajuste de parámetros\n",
        "max_depth = 9\n",
        "min_samples_split = 6\n",
        "min_samples_leaf = 2\n",
        "criterion = 'gini'\n",
        "random_state = 1\n",
        "\n",
        "# Create random forest\n",
        "model = tree.DecisionTreeClassifier(max_depth=max_depth, random_state=random_state, min_samples_split = min_samples_split, criterion = criterion, min_samples_leaf = min_samples_leaf)\n",
        "\n",
        "# Train the model using the training sets\n",
        "model.fit(X_train, y_train) "
      ],
      "metadata": {
        "id": "hxXsUrmYsbsQ",
        "colab": {
          "base_uri": "https://localhost:8080/"
        },
        "outputId": "67d7b472-8e12-4053-9273-f0979e08bc22"
      },
      "execution_count": 25,
      "outputs": [
        {
          "output_type": "execute_result",
          "data": {
            "text/plain": [
              "DecisionTreeClassifier(max_depth=9, min_samples_leaf=2, min_samples_split=6,\n",
              "                       random_state=1)"
            ]
          },
          "metadata": {},
          "execution_count": 25
        }
      ]
    },
    {
      "cell_type": "code",
      "source": [
        "# Evaluate Accuracy in training\n",
        "\n",
        "from sklearn import metrics\n",
        "y_train_pred = model.predict(X_train)\n",
        "print(\"Accuracy in training\", metrics.accuracy_score(y_train, y_train_pred))"
      ],
      "metadata": {
        "colab": {
          "base_uri": "https://localhost:8080/"
        },
        "id": "uVtBC7EfLD2v",
        "outputId": "e68d7daf-447a-4474-e395-c29f5bcfc4f2"
      },
      "execution_count": 26,
      "outputs": [
        {
          "output_type": "stream",
          "name": "stdout",
          "text": [
            "Accuracy in training 0.8867950865438302\n"
          ]
        }
      ]
    },
    {
      "cell_type": "markdown",
      "source": [
        "##roc curve de random forest sin PCA con parámetros ajustados"
      ],
      "metadata": {
        "id": "WqdjWkE6LVBt"
      }
    },
    {
      "cell_type": "code",
      "source": [
        "from sklearn.metrics import roc_curve, roc_auc_score\n",
        "clf_tree = model\n",
        "\n",
        "y_score1 = clf_tree.predict_proba(X_test)[:,1]\n",
        "\n",
        "false_positive_rate1, true_positive_rate1, threshold1 = roc_curve(y_test, y_score1)\n",
        "\n",
        "print('roc_auc_score for DecisionTree: ', roc_auc_score(y_test, y_score1))\n",
        "\n",
        "plt.subplots(1, figsize=(10,10))\n",
        "plt.title('Receiver Operating Characteristic - DecisionTree')\n",
        "plt.plot(false_positive_rate1, true_positive_rate1)\n",
        "plt.plot([0, 1], ls=\"--\")\n",
        "plt.plot([0, 0], [1, 0] , c=\".7\"), plt.plot([1, 1] , c=\".7\")\n",
        "plt.ylabel('True Positive Rate')\n",
        "plt.xlabel('False Positive Rate')\n",
        "plt.show()\n"
      ],
      "metadata": {
        "colab": {
          "base_uri": "https://localhost:8080/",
          "height": 638
        },
        "id": "GKNZa5G7LX4e",
        "outputId": "e437646a-52ac-4010-921f-983de8deb205"
      },
      "execution_count": 28,
      "outputs": [
        {
          "output_type": "stream",
          "name": "stdout",
          "text": [
            "roc_auc_score for DecisionTree:  0.9176579028159535\n"
          ]
        },
        {
          "output_type": "display_data",
          "data": {
            "text/plain": [
              "<Figure size 720x720 with 1 Axes>"
            ],
            "image/png": "[encoded data removed]"
          },
          "metadata": {
            "needs_background": "light"
          }
        }
      ]
    }
  ]
}