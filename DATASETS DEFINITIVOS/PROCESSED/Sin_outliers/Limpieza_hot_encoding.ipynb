{
  "nbformat": 4,
  "nbformat_minor": 0,
  "metadata": {
    "colab": {
      "name": "Limpieza_hot_encoding.ipynb",
      "provenance": []
    },
    "kernelspec": {
      "name": "python3",
      "display_name": "Python 3"
    },
    "language_info": {
      "name": "python"
    }
  },
  "cells": [
    {
      "cell_type": "code",
      "execution_count": 94,
      "metadata": {
        "id": "7eapsPi46DX9"
      },
      "outputs": [],
      "source": [
        "#imports\n",
        "import numpy as np\n",
        "import pandas as pd\n",
        "import seaborn as sns\n",
        "import matplotlib.pyplot as plt\n",
        "%matplotlib inline \n",
        "\n",
        "url_df_raw = \"https://raw.githubusercontent.com/AngelaBurgaleta/TFM_NHANES/main/DATASETS%20DEFINITIVOS/RAW/df_raw.csv\"\n",
        "url_df_clean_v1 = \"https://raw.githubusercontent.com/AngelaBurgaleta/TFM_NHANES/main/DATASETS%20DEFINITIVOS/PROCESSED/df_procesado_genderandage.csv\"\n",
        "url_df45 = 'https://raw.githubusercontent.com/AngelaBurgaleta/TFM_NHANES/main/DATASETS%20DEFINITIVOS/PROCESSED/Con_outliers/df_v45.csv'\n",
        "#df = pd.read_csv(url_df_clean_v1)\n",
        "#df = df.drop(['Unnamed: 0'], axis = 1)\n",
        "df_raw = pd.read_csv(url_df_raw)\n",
        "df = pd.read_csv(url_df45)\n"
      ]
    },
    {
      "cell_type": "code",
      "source": [
        "df = df.drop(['Unnamed: 0'], axis = 1)"
      ],
      "metadata": {
        "id": "blOZGA8c3DY7"
      },
      "execution_count": 95,
      "outputs": []
    },
    {
      "cell_type": "markdown",
      "source": [
        "#LIMPIEZA DEFINITIVA\n"
      ],
      "metadata": {
        "id": "W7QQ3fwQ15sH"
      }
    },
    {
      "cell_type": "code",
      "source": [
        "#GRUPOS POR EDAD\n",
        "df['RIDAGEYR'].describe()\n",
        "\n",
        "df.loc[(df['RIDAGEYR'] <= 5) & (df['RIDAGEYR'] >= 1), 'RIDAGEYR_Tramos'] = int(1)\n",
        "df.loc[(df['RIDAGEYR'] <= 12) & (df['RIDAGEYR'] >= 5), 'RIDAGEYR_Tramos'] = int(2)\n",
        "df.loc[(df['RIDAGEYR'] <= 20) & (df['RIDAGEYR'] > 12), 'RIDAGEYR_Tramos'] = int(3)\n",
        "df.loc[(df['RIDAGEYR'] <= 35) & (df['RIDAGEYR'] > 20), 'RIDAGEYR_Tramos'] = int(4)\n",
        "df.loc[(df['RIDAGEYR'] <= 50) & (df['RIDAGEYR'] > 35), 'RIDAGEYR_Tramos'] = int(5)\n",
        "df.loc[(df['RIDAGEYR'] <= 65) & (df['RIDAGEYR'] > 50), 'RIDAGEYR_Tramos'] = int(6)\n",
        "df.loc[(df['RIDAGEYR'] <= 80) & (df['RIDAGEYR'] > 65), 'RIDAGEYR_Tramos'] = int(7)\n",
        "\n",
        "#dataset por male y female\n",
        "df_male = df[df['RIAGENDR']==1]\n",
        "df_female = df[df['RIAGENDR']==2]\n",
        "\n",
        "\n",
        "\n",
        "\n",
        "df.loc[(df['RIDAGEYR'] <= 5) & (df['RIDAGEYR'] >= 1), 'RIDAGEYR_Tramos'] = int(1)\n",
        "df.loc[(df['RIDAGEYR'] <= 12) & (df['RIDAGEYR'] >= 5), 'RIDAGEYR_Tramos'] = int(2)\n",
        "df.loc[(df['RIDAGEYR'] <= 20) & (df['RIDAGEYR'] > 12), 'RIDAGEYR_Tramos'] = int(3)\n",
        "df.loc[(df['RIDAGEYR'] <= 35) & (df['RIDAGEYR'] > 20), 'RIDAGEYR_Tramos'] = int(4)\n",
        "df.loc[(df['RIDAGEYR'] <= 50) & (df['RIDAGEYR'] > 35), 'RIDAGEYR_Tramos'] = int(5)\n",
        "df.loc[(df['RIDAGEYR'] <= 65) & (df['RIDAGEYR'] > 50), 'RIDAGEYR_Tramos'] = int(6)\n",
        "df.loc[(df['RIDAGEYR'] <= 80) & (df['RIDAGEYR'] > 65), 'RIDAGEYR_Tramos'] = int(7)\n",
        "\n",
        "#Descarto personas menores de 12 años\n",
        "Delete_index = df[df['RIDAGEYR'] <= 12 ].index\n",
        "df = df.drop(Delete_index)\n",
        "\n",
        "#dataset por male y female\n",
        "df_male = df[df['RIAGENDR']==1]\n",
        "df_female = df[df['RIAGENDR']==2]\n",
        "\n",
        "#RIDRETH3: one hot encoding\n",
        "RIDRETH_dummies = pd.get_dummies(df.RIDRETH3, prefix= 'Etnia')\n",
        "df = pd.concat([df, RIDRETH_dummies], axis = 1)\n",
        "\n",
        "\n",
        "#Limpieza DIQ010: el doctor te ha dicho que tienes diabetes (0 no 1 BORDERLINE 2 si)\n",
        "df['DIQ010'] = df['DIQ010'].fillna(0)\n",
        "df['DIQ010'] = df.DIQ010.replace({9: 0})\n",
        "df['DIQ010'] = df.DIQ010.replace({7: 0})\n",
        "df['DIQ010'] = df.DIQ010.replace({2: 0})\n",
        "df['DIQ010'] = df.DIQ010.replace({1: 2})\n",
        "df['DIQ010'] = df.DIQ010.replace({3: 1})\n",
        "\n",
        "\n",
        "#--------------------------------------REQ5 SM\n",
        "#DIQ070: pastillas para glucosa elevada  0 no 1 si (REQ5)\n",
        "df['DIQ070'] = df['DIQ070'].fillna(2)\n",
        "df['DIQ070'] = df.DIQ070.replace({9: 2})\n",
        "df['DIQ070'] = df.DIQ070.replace({7: 2})\n",
        "#--------------------------------------REQ5 SM\n",
        "\n",
        "#INQ020: ingresos salariales en casa\n",
        "df['INQ020'] = df['INQ020'].fillna(1)\n",
        "df['INQ020'] = df.INQ020.replace({9: 0})\n",
        "df['INQ020'] = df.INQ020.replace({7: 0})\n",
        "df['INQ020'] = df.INQ020.replace({2: 0})\n",
        "\n",
        "#INDFMMPI: limpieza indice de pobreza de 0 a 4.99 y 5 para 5  o má. \n",
        "#Se rellenan los valores con la media 2.1\n",
        "df['INDFMMPI'] = df['INDFMMPI'].fillna(2.1)\n",
        "df['INDFMMPI'] = df.INDFMMPI.replace({5.397605e-79: 0})\n",
        "\n",
        "#INDFMMPC: limpieza cat pobreza con la moda 3\n",
        "df['INDFMMPC'] = df.INDFMMPC.replace({7: 3})\n",
        "df['INDFMMPC'] = df.INDFMMPC.replace({9: 3})\n",
        "df['INDFMMPC'] = df['INDFMMPC'].fillna(3)\n",
        "\n",
        "#BPXSY1 moda 116\n",
        "df['BPXSY1']= df['BPXSY1'].fillna(116)\n",
        "\n",
        "#BPXDI1 moda 68\n",
        "df['BPXDI1']= df['BPXDI1'].fillna(68)\n",
        "\n",
        "#BMXWT mediana peso 72.3 en hombres y 62.8 en mujeres CAMBIAR\n",
        "df['BMXWT'][(df['RIDAGEYR_Tramos'] ==1) & (df['RIAGENDR'] == 1)]= df['BMXWT'].fillna(14.6)\n",
        "df['BMXWT'][(df['RIDAGEYR_Tramos'] ==1) & (df['RIAGENDR'] == 2)]= df['BMXWT'].fillna(14.1)\n",
        "\n",
        "df['BMXWT'][(df['RIDAGEYR_Tramos'] ==2) & (df['RIAGENDR'] == 1)]= df['BMXWT'].fillna(31.2)\n",
        "df['BMXWT'][(df['RIDAGEYR_Tramos'] ==2) & (df['RIAGENDR'] == 2)]= df['BMXWT'].fillna(32.3)\n",
        "\n",
        "df['BMXWT'][(df['RIDAGEYR_Tramos'] ==3) & (df['RIAGENDR'] == 1)]= df['BMXWT'].fillna(68.1)\n",
        "df['BMXWT'][(df['RIDAGEYR_Tramos'] ==3) & (df['RIAGENDR'] == 2)]= df['BMXWT'].fillna(60.1)\n",
        "\n",
        "df['BMXWT'][(df['RIDAGEYR_Tramos'] ==4) & (df['RIAGENDR'] == 1)]= df['BMXWT'].fillna(82.8)\n",
        "df['BMXWT'][(df['RIDAGEYR_Tramos'] ==4) & (df['RIAGENDR'] == 2)]= df['BMXWT'].fillna(70.8)\n",
        "\n",
        "df['BMXWT'][(df['RIDAGEYR_Tramos'] ==5) & (df['RIAGENDR'] == 1)]= df['BMXWT'].fillna(86.8)\n",
        "df['BMXWT'][(df['RIDAGEYR_Tramos'] ==5) & (df['RIAGENDR'] == 2)]= df['BMXWT'].fillna(75)\n",
        "\n",
        "df['BMXWT'][(df['RIDAGEYR_Tramos'] ==6) & (df['RIAGENDR'] == 1)]= df['BMXWT'].fillna(84)\n",
        "df['BMXWT'][(df['RIDAGEYR_Tramos'] ==6) & (df['RIAGENDR'] == 2)]= df['BMXWT'].fillna(74.9)\n",
        "\n",
        "df['BMXWT'][(df['RIDAGEYR_Tramos'] ==7) & (df['RIAGENDR'] == 1)]= df['BMXWT'].fillna(81)\n",
        "df['BMXWT'][(df['RIDAGEYR_Tramos'] ==7) & (df['RIAGENDR'] == 2)]= df['BMXWT'].fillna(70.1)\n",
        "\n",
        "\n",
        "#BMXHT mediana altura 169.8 en hombres y 157.4 en mujeres CAMBIAR\n",
        "df['BMXHT'][(df['RIDAGEYR_Tramos'] ==1) & (df['RIAGENDR'] == 1)]= df['BMXHT'].fillna(99)\n",
        "df['BMXHT'][(df['RIDAGEYR_Tramos'] ==1) & (df['RIAGENDR'] == 2)]= df['BMXHT'].fillna(97.05)\n",
        "\n",
        "df['BMXHT'][(df['RIDAGEYR_Tramos'] ==2) & (df['RIAGENDR'] == 1)]= df['BMXHT'].fillna(133.4)\n",
        "df['BMXHT'][(df['RIDAGEYR_Tramos'] ==2) & (df['RIAGENDR'] == 2)]= df['BMXHT'].fillna(133.7)\n",
        "\n",
        "df['BMXHT'][(df['RIDAGEYR_Tramos'] ==3) & (df['RIAGENDR'] == 1)]= df['BMXHT'].fillna(172)\n",
        "df['BMXHT'][(df['RIDAGEYR_Tramos'] ==3) & (df['RIAGENDR'] == 2)]= df['BMXHT'].fillna(160.8)\n",
        "\n",
        "df['BMXHT'][(df['RIDAGEYR_Tramos'] ==4) & (df['RIAGENDR'] == 1)]= df['BMXHT'].fillna(175.4)\n",
        "df['BMXHT'][(df['RIDAGEYR_Tramos'] ==4) & (df['RIAGENDR'] == 2)]= df['BMXHT'].fillna(161.7)\n",
        "\n",
        "df['BMXHT'][(df['RIDAGEYR_Tramos'] ==5) & (df['RIAGENDR'] == 1)]= df['BMXHT'].fillna(174.6)\n",
        "df['BMXHT'][(df['RIDAGEYR_Tramos'] ==5) & (df['RIAGENDR'] == 2)]= df['BMXHT'].fillna(161.45)\n",
        "\n",
        "df['BMXHT'][(df['RIDAGEYR_Tramos'] ==6) & (df['RIAGENDR'] == 1)]= df['BMXHT'].fillna(173.1)\n",
        "df['BMXHT'][(df['RIDAGEYR_Tramos'] ==6) & (df['RIAGENDR'] == 2)]= df['BMXHT'].fillna(159.7)\n",
        "\n",
        "df['BMXHT'][(df['RIDAGEYR_Tramos'] ==7) & (df['RIAGENDR'] == 1)]= df['BMXHT'].fillna(171.2)\n",
        "df['BMXHT'][(df['RIDAGEYR_Tramos'] ==7) & (df['RIAGENDR'] == 2)]= df['BMXHT'].fillna(156.8)\n",
        "\n",
        "#BMXBMI: moda CAMBIAR\n",
        "df['BMXBMI'][(df['RIDAGEYR_Tramos'] ==1) & (df['RIAGENDR'] == 1)]= df['BMXBMI'].fillna(16.2)\n",
        "df['BMXBMI'][(df['RIDAGEYR_Tramos'] ==1) & (df['RIAGENDR'] == 2)]= df['BMXBMI'].fillna(16.2)\n",
        "\n",
        "df['BMXBMI'][(df['RIDAGEYR_Tramos'] ==2) & (df['RIAGENDR'] == 1)]= df['BMXBMI'].fillna(17.25)\n",
        "df['BMXBMI'][(df['RIDAGEYR_Tramos'] ==2) & (df['RIAGENDR'] == 2)]= df['BMXBMI'].fillna(17.8)\n",
        "\n",
        "df['BMXBMI'][(df['RIDAGEYR_Tramos'] ==3) & (df['RIAGENDR'] == 1)]= df['BMXBMI'].fillna(23)\n",
        "df['BMXBMI'][(df['RIDAGEYR_Tramos'] ==3) & (df['RIAGENDR'] == 2)]= df['BMXBMI'].fillna(23.2)\n",
        "\n",
        "df['BMXBMI'][(df['RIDAGEYR_Tramos'] ==4) & (df['RIAGENDR'] == 1)]= df['BMXBMI'].fillna(27)\n",
        "df['BMXBMI'][(df['RIDAGEYR_Tramos'] ==4) & (df['RIAGENDR'] == 2)]= df['BMXBMI'].fillna(27.2)\n",
        "\n",
        "df['BMXBMI'][(df['RIDAGEYR_Tramos'] ==5) & (df['RIAGENDR'] == 1)]= df['BMXBMI'].fillna(28.4)\n",
        "df['BMXBMI'][(df['RIDAGEYR_Tramos'] ==5) & (df['RIAGENDR'] == 2)]= df['BMXBMI'].fillna(29.05)\n",
        "\n",
        "df['BMXBMI'][(df['RIDAGEYR_Tramos'] ==6) & (df['RIAGENDR'] == 1)]= df['BMXBMI'].fillna(28.1)\n",
        "df['BMXBMI'][(df['RIDAGEYR_Tramos'] ==6) & (df['RIAGENDR'] == 2)]= df['BMXBMI'].fillna(29.4)\n",
        "\n",
        "df['BMXBMI'][(df['RIDAGEYR_Tramos'] ==7) & (df['RIAGENDR'] == 1)]= df['BMXBMI'].fillna(27.65)\n",
        "df['BMXBMI'][(df['RIDAGEYR_Tramos'] ==7) & (df['RIAGENDR'] == 2)]= df['BMXBMI'].fillna(28.5)\n",
        "\n",
        "#BMXWAIST: moediana CAMBIAR\n",
        "df['BMXWAIST'][(df['RIDAGEYR_Tramos'] ==1) & (df['RIAGENDR'] == 1)]= df['BMXWAIST'].fillna(50)\n",
        "df['BMXWAIST'][(df['RIDAGEYR_Tramos'] ==1) & (df['RIAGENDR'] == 2)]= df['BMXWAIST'].fillna(49.7)\n",
        "\n",
        "df['BMXWAIST'][(df['RIDAGEYR_Tramos'] ==2) & (df['RIAGENDR'] == 1)]= df['BMXWAIST'].fillna(60.7)\n",
        "df['BMXWAIST'][(df['RIDAGEYR_Tramos'] ==2) & (df['RIAGENDR'] == 2)]= df['BMXWAIST'].fillna(62.7)\n",
        "\n",
        "df['BMXWAIST'][(df['RIDAGEYR_Tramos'] ==3) & (df['RIAGENDR'] == 1)]= df['BMXWAIST'].fillna(79.5)\n",
        "df['BMXWAIST'][(df['RIDAGEYR_Tramos'] ==3) & (df['RIAGENDR'] == 2)]= df['BMXWAIST'].fillna(79.2)\n",
        "\n",
        "df['BMXWAIST'][(df['RIDAGEYR_Tramos'] ==4) & (df['RIAGENDR'] == 1)]= df['BMXWAIST'].fillna(93.3)\n",
        "df['BMXWAIST'][(df['RIDAGEYR_Tramos'] ==4) & (df['RIAGENDR'] == 2)]= df['BMXWAIST'].fillna(91.2)\n",
        "\n",
        "df['BMXWAIST'][(df['RIDAGEYR_Tramos'] ==5) & (df['RIAGENDR'] == 1)]= df['BMXWAIST'].fillna(100)\n",
        "df['BMXWAIST'][(df['RIDAGEYR_Tramos'] ==5) & (df['RIAGENDR'] == 2)]= df['BMXWAIST'].fillna(96.4)\n",
        "\n",
        "df['BMXWAIST'][(df['RIDAGEYR_Tramos'] ==6) & (df['RIAGENDR'] == 1)]= df['BMXWAIST'].fillna(101.5)\n",
        "df['BMXWAIST'][(df['RIDAGEYR_Tramos'] ==6) & (df['RIAGENDR'] == 2)]= df['BMXWAIST'].fillna(99.4)\n",
        "\n",
        "df['BMXWAIST'][(df['RIDAGEYR_Tramos'] ==7) & (df['RIAGENDR'] == 1)]= df['BMXWAIST'].fillna(103.7)\n",
        "df['BMXWAIST'][(df['RIDAGEYR_Tramos'] ==7) & (df['RIAGENDR'] == 2)]= df['BMXWAIST'].fillna(99.2)\n",
        "\n",
        "\n",
        "\n",
        "#waist height index---------\n",
        "df.loc[:, 'WHI'] = df['BMXWAIST'] / df['BMXHT']\n",
        "df['WHI'].isna().sum()\n",
        "#--------------------\n",
        "\n",
        "#BPQ030 te han dicho que tienes la presión sanguinea alta más de dos veces\n",
        "df['BPQ030'] = df['BPQ030'].fillna(0)\n",
        "df['BPQ030'] = df.BPQ030.replace({2: 0})\n",
        "df['BPQ030'] = df.BPQ030.replace({7: 0})\n",
        "df['BPQ030'] = df.BPQ030.replace({9: 0})\n",
        "\n",
        "#---------------------------------------------------------------\n",
        "#BPQ040A tomar pastillas para el colesterol HDL bajo (req3 MS)\n",
        "df['BPQ040A']= df['BPQ040A'].fillna(2)\n",
        "df['BPQ040A'] = df.BPQ040A.replace({9: 2})\n",
        "\n",
        "#BPQ050A tomar pastillas para la presión sanguinea elevada (req4 MS)\n",
        "df['BPQ050A']= df['BPQ050A'].fillna(2)\n",
        "df['BPQ050A'] = df.BPQ050A.replace({9: 2})\n",
        "\n",
        "#BPQ090D tomar medicamentos para el colesterol elevado (REQ2 ms)\n",
        "df['BPQ090D'] = df['BPQ090D'].fillna(2)\n",
        "df['BPQ090D'] = df.BPQ090D.replace({9: 2})\n",
        "#--------------------------------------------------------------\n",
        "\n",
        "#LBXGLU: glucosa en ayunas elevada, se rellena con la moda CAMBIAR\n",
        "df['LBXGLU'][(df['RIDAGEYR_Tramos'] ==1) & (df['RIAGENDR'] == 1)]= df['LBXGLU'].fillna(90)\n",
        "df['LBXGLU'][(df['RIDAGEYR_Tramos'] ==1) & (df['RIAGENDR'] == 2)]= df['LBXGLU'].fillna(90)\n",
        "\n",
        "df['LBXGLU'][(df['RIDAGEYR_Tramos'] ==2) & (df['RIAGENDR'] == 1)]= df['LBXGLU'].fillna(96)\n",
        "df['LBXGLU'][(df['RIDAGEYR_Tramos'] ==2) & (df['RIAGENDR'] == 2)]= df['LBXGLU'].fillna(95)\n",
        "\n",
        "df['LBXGLU'][(df['RIDAGEYR_Tramos'] ==3) & (df['RIAGENDR'] == 1)]= df['LBXGLU'].fillna(97)\n",
        "df['LBXGLU'][(df['RIDAGEYR_Tramos'] ==3) & (df['RIAGENDR'] == 2)]= df['LBXGLU'].fillna(93)\n",
        "\n",
        "df['LBXGLU'][(df['RIDAGEYR_Tramos'] ==4) & (df['RIAGENDR'] == 1)]= df['LBXGLU'].fillna(98)\n",
        "df['LBXGLU'][(df['RIDAGEYR_Tramos'] ==4) & (df['RIAGENDR'] == 2)]= df['LBXGLU'].fillna(94)\n",
        "\n",
        "df['LBXGLU'][(df['RIDAGEYR_Tramos'] ==5) & (df['RIAGENDR'] == 1)]= df['LBXGLU'].fillna(102)\n",
        "df['LBXGLU'][(df['RIDAGEYR_Tramos'] ==5) & (df['RIAGENDR'] == 2)]= df['LBXGLU'].fillna(97)\n",
        "\n",
        "df['LBXGLU'][(df['RIDAGEYR_Tramos'] ==6) & (df['RIAGENDR'] == 1)]= df['LBXGLU'].fillna(107)\n",
        "df['LBXGLU'][(df['RIDAGEYR_Tramos'] ==6) & (df['RIAGENDR'] == 2)]= df['LBXGLU'].fillna(103)\n",
        "\n",
        "df['LBXGLU'][(df['RIDAGEYR_Tramos'] ==7) & (df['RIAGENDR'] == 1)]= df['LBXGLU'].fillna(111)\n",
        "df['LBXGLU'][(df['RIDAGEYR_Tramos'] ==7) & (df['RIAGENDR'] == 2)]= df['LBXGLU'].fillna(106)\n",
        "\n",
        "#LBXIN: insulina en uU/mL moda CAMBIAR\n",
        "df['LBXIN'][(df['RIDAGEYR_Tramos'] ==1) & (df['RIAGENDR'] == 1)]= df['LBXIN'].fillna(5.24)\n",
        "df['LBXIN'][(df['RIDAGEYR_Tramos'] ==1) & (df['RIAGENDR'] == 2)]= df['LBXIN'].fillna(6.17)\n",
        "\n",
        "df['LBXIN'][(df['RIDAGEYR_Tramos'] ==2) & (df['RIAGENDR'] == 1)]= df['LBXIN'].fillna(9.1)\n",
        "df['LBXIN'][(df['RIDAGEYR_Tramos'] ==2) & (df['RIAGENDR'] == 2)]= df['LBXIN'].fillna(9.89)\n",
        "\n",
        "df['LBXIN'][(df['RIDAGEYR_Tramos'] ==3) & (df['RIAGENDR'] == 1)]= df['LBXIN'].fillna(9.77)\n",
        "df['LBXIN'][(df['RIDAGEYR_Tramos'] ==3) & (df['RIAGENDR'] == 2)]= df['LBXIN'].fillna(11.49)\n",
        "\n",
        "df['LBXIN'][(df['RIDAGEYR_Tramos'] ==4) & (df['RIAGENDR'] == 1)]= df['LBXIN'].fillna(8.8)\n",
        "df['LBXIN'][(df['RIDAGEYR_Tramos'] ==4) & (df['RIAGENDR'] == 2)]= df['LBXIN'].fillna(9.55)\n",
        "\n",
        "df['LBXIN'][(df['RIDAGEYR_Tramos'] ==5) & (df['RIAGENDR'] == 1)]= df['LBXIN'].fillna(9.99)\n",
        "df['LBXIN'][(df['RIDAGEYR_Tramos'] ==5) & (df['RIAGENDR'] == 2)]= df['LBXIN'].fillna(9.27)\n",
        "\n",
        "df['LBXIN'][(df['RIDAGEYR_Tramos'] ==6) & (df['RIAGENDR'] == 1)]= df['LBXIN'].fillna(10.04)\n",
        "df['LBXIN'][(df['RIDAGEYR_Tramos'] ==6) & (df['RIAGENDR'] == 2)]= df['LBXIN'].fillna(10.445)\n",
        "\n",
        "df['LBXIN'][(df['RIDAGEYR_Tramos'] ==7) & (df['RIAGENDR'] == 1)]= df['LBXIN'].fillna(9.89)\n",
        "df['LBXIN'][(df['RIDAGEYR_Tramos'] ==7) & (df['RIAGENDR'] == 2)]= df['LBXIN'].fillna(9.98)\n",
        "\n",
        "#MCQ010: el doctor dice que tienes sobrepeso      \n",
        "df['MCQ010'] = df['MCQ010'].fillna(0)\n",
        "df['MCQ010'] = df.MCQ010.replace({9: 0})\n",
        "df['MCQ010'] = df.MCQ010.replace({7: 0})\n",
        "df['MCQ010'] = df.MCQ010.replace({2: 0})\n",
        "\n",
        "#MCQ080: el doctor dice que tienes asma     \n",
        "df['MCQ080'] = df['MCQ080'].fillna(0)\n",
        "df['MCQ080'] = df.MCQ080.replace({9: 0})\n",
        "df['MCQ080'] = df.MCQ080.replace({7: 0})\n",
        "df['MCQ080'] = df.MCQ080.replace({2: 0})\n",
        "\n",
        "#MCQ220: el doctor dice que tienes cancer alguna vez      \n",
        "df['MCQ220'] = df['MCQ220'].fillna(0)\n",
        "df['MCQ220'] = df.MCQ220.replace({9: 0})\n",
        "df['MCQ220'] = df.MCQ220.replace({7: 0})\n",
        "df['MCQ220'] = df.MCQ220.replace({2: 0})\n",
        "\n",
        "#MCQ300C: cerca relativamente a tener diabetes \n",
        "df['MCQ300C'] = df['MCQ300C'].fillna(0)\n",
        "df['MCQ300C'] = df.MCQ300C.replace({9: 0})\n",
        "df['MCQ300C'] = df.MCQ300C.replace({7: 0})\n",
        "df['MCQ300C'] = df.MCQ300C.replace({2: 0})\n",
        "\n",
        "#HIQ011: seguro sanitario   \n",
        "df['HIQ011'] = df.HIQ011.replace({9: 1})\n",
        "df['HIQ011'] = df.HIQ011.replace({7: 1})\n",
        "df['HIQ011'] = df.HIQ011.replace({2: 0})\n",
        "\n",
        "\n",
        "#LBDHDD: colesterol hdl diferente en mujeres y hombres moda 55 para mujeres y 48 en hombres CAMBIAR\n",
        "df['LBDHDD'][(df['RIDAGEYR_Tramos'] ==1) & (df['RIAGENDR'] == 1)]= df['LBDHDD'].fillna(56)\n",
        "df['LBDHDD'][(df['RIDAGEYR_Tramos'] ==1) & (df['RIAGENDR'] == 2)]= df['LBDHDD'].fillna(53)\n",
        "\n",
        "df['LBDHDD'][(df['RIDAGEYR_Tramos'] ==2) & (df['RIAGENDR'] == 1)]= df['LBDHDD'].fillna(56)\n",
        "df['LBDHDD'][(df['RIDAGEYR_Tramos'] ==2) & (df['RIAGENDR'] == 2)]= df['LBDHDD'].fillna(53)\n",
        "\n",
        "df['LBDHDD'][(df['RIDAGEYR_Tramos'] ==3) & (df['RIAGENDR'] == 1)]= df['LBDHDD'].fillna(49)\n",
        "df['LBDHDD'][(df['RIDAGEYR_Tramos'] ==3) & (df['RIAGENDR'] == 2)]= df['LBDHDD'].fillna(53)\n",
        "\n",
        "df['LBDHDD'][(df['RIDAGEYR_Tramos'] ==4) & (df['RIAGENDR'] == 1)]= df['LBDHDD'].fillna(46)\n",
        "df['LBDHDD'][(df['RIDAGEYR_Tramos'] ==4) & (df['RIAGENDR'] == 2)]= df['LBDHDD'].fillna(53)\n",
        "\n",
        "df['LBDHDD'][(df['RIDAGEYR_Tramos'] ==5) & (df['RIAGENDR'] == 1)]= df['LBDHDD'].fillna(45)\n",
        "df['LBDHDD'][(df['RIDAGEYR_Tramos'] ==5) & (df['RIAGENDR'] == 2)]= df['LBDHDD'].fillna(54)\n",
        "\n",
        "df['LBDHDD'][(df['RIDAGEYR_Tramos'] ==6) & (df['RIAGENDR'] == 1)]= df['LBDHDD'].fillna(46)\n",
        "df['LBDHDD'][(df['RIDAGEYR_Tramos'] ==6) & (df['RIAGENDR'] == 2)]= df['LBDHDD'].fillna(56)\n",
        "\n",
        "df['LBDHDD'][(df['RIDAGEYR_Tramos'] ==7) & (df['RIAGENDR'] == 1)]= df['LBDHDD'].fillna(47)\n",
        "df['LBDHDD'][(df['RIDAGEYR_Tramos'] ==7) & (df['RIAGENDR'] == 2)]= df['LBDHDD'].fillna(57)\n",
        "\n",
        "\n",
        "#SMQ020:ha fumado 100 cigarrillos en su vida    \n",
        "df['SMQ020'] = df['SMQ020'].fillna(0)\n",
        "df['SMQ020'] = df.SMQ020.replace({9: 0})\n",
        "df['SMQ020'] = df.SMQ020.replace({7: 0})\n",
        "df['SMQ020'] = df.SMQ020.replace({2: 0})\n",
        "\n",
        "\n",
        "#LBXTR: FUNCION SEXO Y EDAD\n",
        "df['LBXTR'][(df['RIDAGEYR_Tramos'] ==1) & (df['RIAGENDR'] == 1)]= df['LBXTR'].fillna(53)\n",
        "df['LBXTR'][(df['RIDAGEYR_Tramos'] ==1) & (df['RIAGENDR'] == 2)]= df['LBXTR'].fillna(64)\n",
        "\n",
        "df['LBXTR'][(df['RIDAGEYR_Tramos'] ==2) & (df['RIAGENDR'] == 1)]= df['LBXTR'].fillna(53)\n",
        "df['LBXTR'][(df['RIDAGEYR_Tramos'] ==2) & (df['RIAGENDR'] == 2)]= df['LBXTR'].fillna(72)\n",
        "\n",
        "df['LBXTR'][(df['RIDAGEYR_Tramos'] ==3) & (df['RIAGENDR'] == 1)]= df['LBXTR'].fillna(64)\n",
        "df['LBXTR'][(df['RIDAGEYR_Tramos'] ==3) & (df['RIAGENDR'] == 2)]= df['LBXTR'].fillna(62)\n",
        "\n",
        "df['LBXTR'][(df['RIDAGEYR_Tramos'] ==4) & (df['RIAGENDR'] == 1)]= df['LBXTR'].fillna(93)\n",
        "df['LBXTR'][(df['RIDAGEYR_Tramos'] ==4) & (df['RIAGENDR'] == 2)]= df['LBXTR'].fillna(73)\n",
        "\n",
        "df['LBXTR'][(df['RIDAGEYR_Tramos'] ==5) & (df['RIAGENDR'] == 1)]= df['LBXTR'].fillna(112.5)\n",
        "df['LBXTR'][(df['RIDAGEYR_Tramos'] ==5) & (df['RIAGENDR'] == 2)]= df['LBXTR'].fillna(87)\n",
        "\n",
        "df['LBXTR'][(df['RIDAGEYR_Tramos'] ==6) & (df['RIAGENDR'] == 1)]= df['LBXTR'].fillna(106)\n",
        "df['LBXTR'][(df['RIDAGEYR_Tramos'] ==6) & (df['RIAGENDR'] == 2)]= df['LBXTR'].fillna(102)\n",
        "\n",
        "df['LBXTR'][(df['RIDAGEYR_Tramos'] ==7) & (df['RIAGENDR'] == 1)]= df['LBXTR'].fillna(97)\n",
        "df['LBXTR'][(df['RIDAGEYR_Tramos'] ==7) & (df['RIAGENDR'] == 2)]= df['LBXTR'].fillna(105)\n",
        "\n",
        "\n",
        "\n",
        "#DMDEDUC2: nivel educativo se trunca a some college CAMBIAR\n",
        "df['DMDEDUC2'] = df.DMDEDUC2.replace({7: 4})\n",
        "df['DMDEDUC2'] = df.DMDEDUC2.replace({9: 4})\n",
        "df['DMDEDUC2'] = df['DMDEDUC2'].fillna(4)\n",
        "\n",
        "#PAQ605\n",
        "df['PAQ605'] = df['PAQ605'].fillna(0)\n",
        "df['PAQ605'] = df.PAQ605.replace({9: 0})\n",
        "df['PAQ605'] = df.PAQ605.replace({7: 0})\n",
        "df['PAQ605'] = df.PAQ605.replace({2: 0})\n",
        "\n",
        "#PAQ620     \n",
        "df['PAQ620'] = df['PAQ620'].fillna(0)\n",
        "df['PAQ620'] = df.PAQ620.replace({9: 0})\n",
        "df['PAQ620'] = df.PAQ620.replace({7: 0})\n",
        "df['PAQ620'] = df.PAQ620.replace({2: 0})\n",
        "\n",
        "#PAQ635    \n",
        "df['PAQ635'] = df['PAQ635'].fillna(0)\n",
        "df['PAQ635'] = df.PAQ635.replace({9: 0})\n",
        "df['PAQ635'] = df.PAQ635.replace({7: 0})\n",
        "df['PAQ635'] = df.PAQ635.replace({2: 0})\n",
        "\n",
        "#PAQ650   \n",
        "df['PAQ650'] = df['PAQ650'].fillna(0)\n",
        "df['PAQ650'] = df.PAQ650.replace({9: 0})\n",
        "df['PAQ650'] = df.PAQ650.replace({7: 0})\n",
        "df['PAQ650'] = df.PAQ650.replace({2: 0})\n",
        "\n",
        "#PAQ665      \n",
        "df['PAQ665'] = df['PAQ665'].fillna(0)\n",
        "df['PAQ665'] = df.PAQ665.replace({9: 0})\n",
        "df['PAQ665'] = df.PAQ665.replace({7: 0})\n",
        "df['PAQ665'] = df.PAQ665.replace({2: 0})\n",
        "\n",
        "#HSD010: salud del paciente se rellena con buena 3\n",
        "df['HSD010'] = df['HSD010'].fillna(3)\n",
        "df['HSD010'] = df.HSD010.replace({9: 3})\n",
        "df['HSD010'] = df.HSD010.replace({7: 3})\n",
        "\n",
        "#ALQ130: numero bebida alcoholica los ultimos 12 meses CAMBIAR\n",
        "#LIMPIEZA ALQ130 POR ALQ130_Tramos\n",
        "#reemplazar valores nulos por la media y valores de no contestar por 0\n",
        "df['ALQ130'] = df.ALQ130.replace({999: 0})\n",
        "df['ALQ130'] = df.ALQ130.replace({777: 0})\n",
        "df['ALQ130'] = df['ALQ130'].fillna(3)\n",
        "\n",
        "#hacer tramos con la frecuencia de toma de bebidas alcoholicas\n",
        "df.loc[(df['ALQ130'] == 0), 'ALQ130_Tramos'] = int(0)\n",
        "df.loc[(df['ALQ130'] <= 3) & (df['ALQ130'] >= 1), 'ALQ130_Tramos'] = int(1)\n",
        "df.loc[(df['ALQ130'] <= 6) & (df['ALQ130'] >= 4), 'ALQ130_Tramos'] = int(2)\n",
        "df.loc[(df['ALQ130'] <= 10) & (df['ALQ130'] >= 7), 'ALQ130_Tramos'] = int(3)\n",
        "df.loc[(df['ALQ130'] <= 14) & (df['ALQ130'] >= 11), 'ALQ130_Tramos'] = int(4)\n",
        "df.loc[(df['ALQ130'] >= 15), 'ALQ130_Tramos'] = int(5)\n",
        "\n",
        "#DBQ700 \n",
        "df['DBQ700'] = df.DBQ700.replace({9: 3})\n",
        "df['DBQ700'] = df.DBQ700.replace({7: 3})\n",
        "df['DBQ700'] = df['DBQ700'].fillna(3)\n",
        "\n",
        "#SLQ050 \n",
        "df['SLQ050'] = df['SLQ050'].fillna(0)\n",
        "df['SLQ050'] = df.SLQ050.replace({9: 0})\n",
        "df['SLQ050'] = df.SLQ050.replace({7: 0})\n",
        "df['SLQ050'] = df.SLQ050.replace({2: 0})\n",
        "\n",
        "\n",
        "#DPQ020: depresion, con cuanta frecuencia el paciente esta desesperanzado\n",
        "df['DPQ020'] = df['DPQ020'].fillna(0)\n",
        "df['DPQ020'] = df['DPQ020'].astype(int, errors = 'raise')\n",
        "df['DPQ020'] = df.DPQ020.replace({9: 0})\n",
        "df['DPQ020'] = df.DPQ020.replace({7: 0})\n",
        "\n",
        "#DPQ030: problemas para dormir o dormir demasiado \n",
        "df['DPQ030'] = df['DPQ030'].fillna(0)\n",
        "df['DPQ030'] = df['DPQ030'].astype(int, errors = 'raise')\n",
        "df['DPQ030'] = df.DPQ030.replace({9: 0})\n",
        "df['DPQ030'] = df.DPQ030.replace({7: 0})\n",
        "\n",
        "#DPQ040: cansado o con poca energía\n",
        "df['DPQ040'] = df['DPQ040'].fillna(0)\n",
        "df['DPQ040'] = df['DPQ040'].astype(int, errors = 'raise')\n",
        "df['DPQ040'] = df.DPQ040.replace({9: 0})\n",
        "df['DPQ040'] = df.DPQ040.replace({7: 0})\n",
        "\n",
        "#DPQ050: poco apetito o comer en exceso   \n",
        "df['DPQ050'] = df['DPQ050'].fillna(0)\n",
        "df['DPQ050'] = df['DPQ050'].astype(int, errors = 'raise')\n",
        "df['DPQ050'] = df.DPQ050.replace({9: 0})\n",
        "df['DPQ050'] = df.DPQ050.replace({7: 0})  \n",
        "\n",
        "#One hot encoding\n",
        "\n"
      ],
      "metadata": {
        "colab": {
          "base_uri": "https://localhost:8080/"
        },
        "id": "9uYgk94Q18bo",
        "outputId": "7a702d34-26db-47f0-af1a-3bbf419e06b4"
      },
      "execution_count": 34,
      "outputs": [
        {
          "output_type": "stream",
          "name": "stderr",
          "text": [
            "/usr/local/lib/python3.7/dist-packages/ipykernel_launcher.py:79: SettingWithCopyWarning: \n",
            "A value is trying to be set on a copy of a slice from a DataFrame\n",
            "\n",
            "See the caveats in the documentation: https://pandas.pydata.org/pandas-docs/stable/user_guide/indexing.html#returning-a-view-versus-a-copy\n",
            "/usr/local/lib/python3.7/dist-packages/ipykernel_launcher.py:80: SettingWithCopyWarning: \n",
            "A value is trying to be set on a copy of a slice from a DataFrame\n",
            "\n",
            "See the caveats in the documentation: https://pandas.pydata.org/pandas-docs/stable/user_guide/indexing.html#returning-a-view-versus-a-copy\n",
            "/usr/local/lib/python3.7/dist-packages/ipykernel_launcher.py:82: SettingWithCopyWarning: \n",
            "A value is trying to be set on a copy of a slice from a DataFrame\n",
            "\n",
            "See the caveats in the documentation: https://pandas.pydata.org/pandas-docs/stable/user_guide/indexing.html#returning-a-view-versus-a-copy\n",
            "/usr/local/lib/python3.7/dist-packages/ipykernel_launcher.py:83: SettingWithCopyWarning: \n",
            "A value is trying to be set on a copy of a slice from a DataFrame\n",
            "\n",
            "See the caveats in the documentation: https://pandas.pydata.org/pandas-docs/stable/user_guide/indexing.html#returning-a-view-versus-a-copy\n",
            "/usr/local/lib/python3.7/dist-packages/ipykernel_launcher.py:85: SettingWithCopyWarning: \n",
            "A value is trying to be set on a copy of a slice from a DataFrame\n",
            "\n",
            "See the caveats in the documentation: https://pandas.pydata.org/pandas-docs/stable/user_guide/indexing.html#returning-a-view-versus-a-copy\n",
            "/usr/local/lib/python3.7/dist-packages/ipykernel_launcher.py:86: SettingWithCopyWarning: \n",
            "A value is trying to be set on a copy of a slice from a DataFrame\n",
            "\n",
            "See the caveats in the documentation: https://pandas.pydata.org/pandas-docs/stable/user_guide/indexing.html#returning-a-view-versus-a-copy\n",
            "/usr/local/lib/python3.7/dist-packages/ipykernel_launcher.py:88: SettingWithCopyWarning: \n",
            "A value is trying to be set on a copy of a slice from a DataFrame\n",
            "\n",
            "See the caveats in the documentation: https://pandas.pydata.org/pandas-docs/stable/user_guide/indexing.html#returning-a-view-versus-a-copy\n",
            "/usr/local/lib/python3.7/dist-packages/ipykernel_launcher.py:89: SettingWithCopyWarning: \n",
            "A value is trying to be set on a copy of a slice from a DataFrame\n",
            "\n",
            "See the caveats in the documentation: https://pandas.pydata.org/pandas-docs/stable/user_guide/indexing.html#returning-a-view-versus-a-copy\n",
            "/usr/local/lib/python3.7/dist-packages/ipykernel_launcher.py:91: SettingWithCopyWarning: \n",
            "A value is trying to be set on a copy of a slice from a DataFrame\n",
            "\n",
            "See the caveats in the documentation: https://pandas.pydata.org/pandas-docs/stable/user_guide/indexing.html#returning-a-view-versus-a-copy\n",
            "/usr/local/lib/python3.7/dist-packages/ipykernel_launcher.py:92: SettingWithCopyWarning: \n",
            "A value is trying to be set on a copy of a slice from a DataFrame\n",
            "\n",
            "See the caveats in the documentation: https://pandas.pydata.org/pandas-docs/stable/user_guide/indexing.html#returning-a-view-versus-a-copy\n",
            "/usr/local/lib/python3.7/dist-packages/ipykernel_launcher.py:94: SettingWithCopyWarning: \n",
            "A value is trying to be set on a copy of a slice from a DataFrame\n",
            "\n",
            "See the caveats in the documentation: https://pandas.pydata.org/pandas-docs/stable/user_guide/indexing.html#returning-a-view-versus-a-copy\n",
            "/usr/local/lib/python3.7/dist-packages/ipykernel_launcher.py:95: SettingWithCopyWarning: \n",
            "A value is trying to be set on a copy of a slice from a DataFrame\n",
            "\n",
            "See the caveats in the documentation: https://pandas.pydata.org/pandas-docs/stable/user_guide/indexing.html#returning-a-view-versus-a-copy\n",
            "/usr/local/lib/python3.7/dist-packages/ipykernel_launcher.py:97: SettingWithCopyWarning: \n",
            "A value is trying to be set on a copy of a slice from a DataFrame\n",
            "\n",
            "See the caveats in the documentation: https://pandas.pydata.org/pandas-docs/stable/user_guide/indexing.html#returning-a-view-versus-a-copy\n",
            "/usr/local/lib/python3.7/dist-packages/ipykernel_launcher.py:98: SettingWithCopyWarning: \n",
            "A value is trying to be set on a copy of a slice from a DataFrame\n",
            "\n",
            "See the caveats in the documentation: https://pandas.pydata.org/pandas-docs/stable/user_guide/indexing.html#returning-a-view-versus-a-copy\n",
            "/usr/local/lib/python3.7/dist-packages/ipykernel_launcher.py:102: SettingWithCopyWarning: \n",
            "A value is trying to be set on a copy of a slice from a DataFrame\n",
            "\n",
            "See the caveats in the documentation: https://pandas.pydata.org/pandas-docs/stable/user_guide/indexing.html#returning-a-view-versus-a-copy\n",
            "/usr/local/lib/python3.7/dist-packages/ipykernel_launcher.py:103: SettingWithCopyWarning: \n",
            "A value is trying to be set on a copy of a slice from a DataFrame\n",
            "\n",
            "See the caveats in the documentation: https://pandas.pydata.org/pandas-docs/stable/user_guide/indexing.html#returning-a-view-versus-a-copy\n",
            "/usr/local/lib/python3.7/dist-packages/ipykernel_launcher.py:105: SettingWithCopyWarning: \n",
            "A value is trying to be set on a copy of a slice from a DataFrame\n",
            "\n",
            "See the caveats in the documentation: https://pandas.pydata.org/pandas-docs/stable/user_guide/indexing.html#returning-a-view-versus-a-copy\n",
            "/usr/local/lib/python3.7/dist-packages/ipykernel_launcher.py:106: SettingWithCopyWarning: \n",
            "A value is trying to be set on a copy of a slice from a DataFrame\n",
            "\n",
            "See the caveats in the documentation: https://pandas.pydata.org/pandas-docs/stable/user_guide/indexing.html#returning-a-view-versus-a-copy\n",
            "/usr/local/lib/python3.7/dist-packages/ipykernel_launcher.py:108: SettingWithCopyWarning: \n",
            "A value is trying to be set on a copy of a slice from a DataFrame\n",
            "\n",
            "See the caveats in the documentation: https://pandas.pydata.org/pandas-docs/stable/user_guide/indexing.html#returning-a-view-versus-a-copy\n",
            "/usr/local/lib/python3.7/dist-packages/ipykernel_launcher.py:109: SettingWithCopyWarning: \n",
            "A value is trying to be set on a copy of a slice from a DataFrame\n",
            "\n",
            "See the caveats in the documentation: https://pandas.pydata.org/pandas-docs/stable/user_guide/indexing.html#returning-a-view-versus-a-copy\n",
            "/usr/local/lib/python3.7/dist-packages/ipykernel_launcher.py:111: SettingWithCopyWarning: \n",
            "A value is trying to be set on a copy of a slice from a DataFrame\n",
            "\n",
            "See the caveats in the documentation: https://pandas.pydata.org/pandas-docs/stable/user_guide/indexing.html#returning-a-view-versus-a-copy\n",
            "/usr/local/lib/python3.7/dist-packages/ipykernel_launcher.py:112: SettingWithCopyWarning: \n",
            "A value is trying to be set on a copy of a slice from a DataFrame\n",
            "\n",
            "See the caveats in the documentation: https://pandas.pydata.org/pandas-docs/stable/user_guide/indexing.html#returning-a-view-versus-a-copy\n",
            "/usr/local/lib/python3.7/dist-packages/ipykernel_launcher.py:114: SettingWithCopyWarning: \n",
            "A value is trying to be set on a copy of a slice from a DataFrame\n",
            "\n",
            "See the caveats in the documentation: https://pandas.pydata.org/pandas-docs/stable/user_guide/indexing.html#returning-a-view-versus-a-copy\n",
            "/usr/local/lib/python3.7/dist-packages/ipykernel_launcher.py:115: SettingWithCopyWarning: \n",
            "A value is trying to be set on a copy of a slice from a DataFrame\n",
            "\n",
            "See the caveats in the documentation: https://pandas.pydata.org/pandas-docs/stable/user_guide/indexing.html#returning-a-view-versus-a-copy\n",
            "/usr/local/lib/python3.7/dist-packages/ipykernel_launcher.py:117: SettingWithCopyWarning: \n",
            "A value is trying to be set on a copy of a slice from a DataFrame\n",
            "\n",
            "See the caveats in the documentation: https://pandas.pydata.org/pandas-docs/stable/user_guide/indexing.html#returning-a-view-versus-a-copy\n",
            "/usr/local/lib/python3.7/dist-packages/ipykernel_launcher.py:118: SettingWithCopyWarning: \n",
            "A value is trying to be set on a copy of a slice from a DataFrame\n",
            "\n",
            "See the caveats in the documentation: https://pandas.pydata.org/pandas-docs/stable/user_guide/indexing.html#returning-a-view-versus-a-copy\n",
            "/usr/local/lib/python3.7/dist-packages/ipykernel_launcher.py:120: SettingWithCopyWarning: \n",
            "A value is trying to be set on a copy of a slice from a DataFrame\n",
            "\n",
            "See the caveats in the documentation: https://pandas.pydata.org/pandas-docs/stable/user_guide/indexing.html#returning-a-view-versus-a-copy\n",
            "/usr/local/lib/python3.7/dist-packages/ipykernel_launcher.py:121: SettingWithCopyWarning: \n",
            "A value is trying to be set on a copy of a slice from a DataFrame\n",
            "\n",
            "See the caveats in the documentation: https://pandas.pydata.org/pandas-docs/stable/user_guide/indexing.html#returning-a-view-versus-a-copy\n",
            "/usr/local/lib/python3.7/dist-packages/ipykernel_launcher.py:124: SettingWithCopyWarning: \n",
            "A value is trying to be set on a copy of a slice from a DataFrame\n",
            "\n",
            "See the caveats in the documentation: https://pandas.pydata.org/pandas-docs/stable/user_guide/indexing.html#returning-a-view-versus-a-copy\n",
            "/usr/local/lib/python3.7/dist-packages/ipykernel_launcher.py:125: SettingWithCopyWarning: \n",
            "A value is trying to be set on a copy of a slice from a DataFrame\n",
            "\n",
            "See the caveats in the documentation: https://pandas.pydata.org/pandas-docs/stable/user_guide/indexing.html#returning-a-view-versus-a-copy\n",
            "/usr/local/lib/python3.7/dist-packages/ipykernel_launcher.py:127: SettingWithCopyWarning: \n",
            "A value is trying to be set on a copy of a slice from a DataFrame\n",
            "\n",
            "See the caveats in the documentation: https://pandas.pydata.org/pandas-docs/stable/user_guide/indexing.html#returning-a-view-versus-a-copy\n",
            "/usr/local/lib/python3.7/dist-packages/ipykernel_launcher.py:128: SettingWithCopyWarning: \n",
            "A value is trying to be set on a copy of a slice from a DataFrame\n",
            "\n",
            "See the caveats in the documentation: https://pandas.pydata.org/pandas-docs/stable/user_guide/indexing.html#returning-a-view-versus-a-copy\n",
            "/usr/local/lib/python3.7/dist-packages/ipykernel_launcher.py:130: SettingWithCopyWarning: \n",
            "A value is trying to be set on a copy of a slice from a DataFrame\n",
            "\n",
            "See the caveats in the documentation: https://pandas.pydata.org/pandas-docs/stable/user_guide/indexing.html#returning-a-view-versus-a-copy\n",
            "/usr/local/lib/python3.7/dist-packages/ipykernel_launcher.py:131: SettingWithCopyWarning: \n",
            "A value is trying to be set on a copy of a slice from a DataFrame\n",
            "\n",
            "See the caveats in the documentation: https://pandas.pydata.org/pandas-docs/stable/user_guide/indexing.html#returning-a-view-versus-a-copy\n",
            "/usr/local/lib/python3.7/dist-packages/ipykernel_launcher.py:133: SettingWithCopyWarning: \n",
            "A value is trying to be set on a copy of a slice from a DataFrame\n",
            "\n",
            "See the caveats in the documentation: https://pandas.pydata.org/pandas-docs/stable/user_guide/indexing.html#returning-a-view-versus-a-copy\n",
            "/usr/local/lib/python3.7/dist-packages/ipykernel_launcher.py:134: SettingWithCopyWarning: \n",
            "A value is trying to be set on a copy of a slice from a DataFrame\n",
            "\n",
            "See the caveats in the documentation: https://pandas.pydata.org/pandas-docs/stable/user_guide/indexing.html#returning-a-view-versus-a-copy\n",
            "/usr/local/lib/python3.7/dist-packages/ipykernel_launcher.py:136: SettingWithCopyWarning: \n",
            "A value is trying to be set on a copy of a slice from a DataFrame\n",
            "\n",
            "See the caveats in the documentation: https://pandas.pydata.org/pandas-docs/stable/user_guide/indexing.html#returning-a-view-versus-a-copy\n",
            "/usr/local/lib/python3.7/dist-packages/ipykernel_launcher.py:137: SettingWithCopyWarning: \n",
            "A value is trying to be set on a copy of a slice from a DataFrame\n",
            "\n",
            "See the caveats in the documentation: https://pandas.pydata.org/pandas-docs/stable/user_guide/indexing.html#returning-a-view-versus-a-copy\n",
            "/usr/local/lib/python3.7/dist-packages/ipykernel_launcher.py:139: SettingWithCopyWarning: \n",
            "A value is trying to be set on a copy of a slice from a DataFrame\n",
            "\n",
            "See the caveats in the documentation: https://pandas.pydata.org/pandas-docs/stable/user_guide/indexing.html#returning-a-view-versus-a-copy\n",
            "/usr/local/lib/python3.7/dist-packages/ipykernel_launcher.py:140: SettingWithCopyWarning: \n",
            "A value is trying to be set on a copy of a slice from a DataFrame\n",
            "\n",
            "See the caveats in the documentation: https://pandas.pydata.org/pandas-docs/stable/user_guide/indexing.html#returning-a-view-versus-a-copy\n",
            "/usr/local/lib/python3.7/dist-packages/ipykernel_launcher.py:142: SettingWithCopyWarning: \n",
            "A value is trying to be set on a copy of a slice from a DataFrame\n",
            "\n",
            "See the caveats in the documentation: https://pandas.pydata.org/pandas-docs/stable/user_guide/indexing.html#returning-a-view-versus-a-copy\n",
            "/usr/local/lib/python3.7/dist-packages/ipykernel_launcher.py:143: SettingWithCopyWarning: \n",
            "A value is trying to be set on a copy of a slice from a DataFrame\n",
            "\n",
            "See the caveats in the documentation: https://pandas.pydata.org/pandas-docs/stable/user_guide/indexing.html#returning-a-view-versus-a-copy\n",
            "/usr/local/lib/python3.7/dist-packages/ipykernel_launcher.py:146: SettingWithCopyWarning: \n",
            "A value is trying to be set on a copy of a slice from a DataFrame\n",
            "\n",
            "See the caveats in the documentation: https://pandas.pydata.org/pandas-docs/stable/user_guide/indexing.html#returning-a-view-versus-a-copy\n",
            "/usr/local/lib/python3.7/dist-packages/ipykernel_launcher.py:147: SettingWithCopyWarning: \n",
            "A value is trying to be set on a copy of a slice from a DataFrame\n",
            "\n",
            "See the caveats in the documentation: https://pandas.pydata.org/pandas-docs/stable/user_guide/indexing.html#returning-a-view-versus-a-copy\n",
            "/usr/local/lib/python3.7/dist-packages/ipykernel_launcher.py:149: SettingWithCopyWarning: \n",
            "A value is trying to be set on a copy of a slice from a DataFrame\n",
            "\n",
            "See the caveats in the documentation: https://pandas.pydata.org/pandas-docs/stable/user_guide/indexing.html#returning-a-view-versus-a-copy\n",
            "/usr/local/lib/python3.7/dist-packages/ipykernel_launcher.py:150: SettingWithCopyWarning: \n",
            "A value is trying to be set on a copy of a slice from a DataFrame\n",
            "\n",
            "See the caveats in the documentation: https://pandas.pydata.org/pandas-docs/stable/user_guide/indexing.html#returning-a-view-versus-a-copy\n",
            "/usr/local/lib/python3.7/dist-packages/ipykernel_launcher.py:152: SettingWithCopyWarning: \n",
            "A value is trying to be set on a copy of a slice from a DataFrame\n",
            "\n",
            "See the caveats in the documentation: https://pandas.pydata.org/pandas-docs/stable/user_guide/indexing.html#returning-a-view-versus-a-copy\n",
            "/usr/local/lib/python3.7/dist-packages/ipykernel_launcher.py:153: SettingWithCopyWarning: \n",
            "A value is trying to be set on a copy of a slice from a DataFrame\n",
            "\n",
            "See the caveats in the documentation: https://pandas.pydata.org/pandas-docs/stable/user_guide/indexing.html#returning-a-view-versus-a-copy\n",
            "/usr/local/lib/python3.7/dist-packages/ipykernel_launcher.py:155: SettingWithCopyWarning: \n",
            "A value is trying to be set on a copy of a slice from a DataFrame\n",
            "\n",
            "See the caveats in the documentation: https://pandas.pydata.org/pandas-docs/stable/user_guide/indexing.html#returning-a-view-versus-a-copy\n",
            "/usr/local/lib/python3.7/dist-packages/ipykernel_launcher.py:156: SettingWithCopyWarning: \n",
            "A value is trying to be set on a copy of a slice from a DataFrame\n",
            "\n",
            "See the caveats in the documentation: https://pandas.pydata.org/pandas-docs/stable/user_guide/indexing.html#returning-a-view-versus-a-copy\n",
            "/usr/local/lib/python3.7/dist-packages/ipykernel_launcher.py:158: SettingWithCopyWarning: \n",
            "A value is trying to be set on a copy of a slice from a DataFrame\n",
            "\n",
            "See the caveats in the documentation: https://pandas.pydata.org/pandas-docs/stable/user_guide/indexing.html#returning-a-view-versus-a-copy\n",
            "/usr/local/lib/python3.7/dist-packages/ipykernel_launcher.py:159: SettingWithCopyWarning: \n",
            "A value is trying to be set on a copy of a slice from a DataFrame\n",
            "\n",
            "See the caveats in the documentation: https://pandas.pydata.org/pandas-docs/stable/user_guide/indexing.html#returning-a-view-versus-a-copy\n",
            "/usr/local/lib/python3.7/dist-packages/ipykernel_launcher.py:161: SettingWithCopyWarning: \n",
            "A value is trying to be set on a copy of a slice from a DataFrame\n",
            "\n",
            "See the caveats in the documentation: https://pandas.pydata.org/pandas-docs/stable/user_guide/indexing.html#returning-a-view-versus-a-copy\n",
            "/usr/local/lib/python3.7/dist-packages/ipykernel_launcher.py:162: SettingWithCopyWarning: \n",
            "A value is trying to be set on a copy of a slice from a DataFrame\n",
            "\n",
            "See the caveats in the documentation: https://pandas.pydata.org/pandas-docs/stable/user_guide/indexing.html#returning-a-view-versus-a-copy\n",
            "/usr/local/lib/python3.7/dist-packages/ipykernel_launcher.py:164: SettingWithCopyWarning: \n",
            "A value is trying to be set on a copy of a slice from a DataFrame\n",
            "\n",
            "See the caveats in the documentation: https://pandas.pydata.org/pandas-docs/stable/user_guide/indexing.html#returning-a-view-versus-a-copy\n",
            "/usr/local/lib/python3.7/dist-packages/ipykernel_launcher.py:165: SettingWithCopyWarning: \n",
            "A value is trying to be set on a copy of a slice from a DataFrame\n",
            "\n",
            "See the caveats in the documentation: https://pandas.pydata.org/pandas-docs/stable/user_guide/indexing.html#returning-a-view-versus-a-copy\n",
            "/usr/local/lib/python3.7/dist-packages/ipykernel_launcher.py:195: SettingWithCopyWarning: \n",
            "A value is trying to be set on a copy of a slice from a DataFrame\n",
            "\n",
            "See the caveats in the documentation: https://pandas.pydata.org/pandas-docs/stable/user_guide/indexing.html#returning-a-view-versus-a-copy\n",
            "/usr/local/lib/python3.7/dist-packages/ipykernel_launcher.py:196: SettingWithCopyWarning: \n",
            "A value is trying to be set on a copy of a slice from a DataFrame\n",
            "\n",
            "See the caveats in the documentation: https://pandas.pydata.org/pandas-docs/stable/user_guide/indexing.html#returning-a-view-versus-a-copy\n",
            "/usr/local/lib/python3.7/dist-packages/ipykernel_launcher.py:198: SettingWithCopyWarning: \n",
            "A value is trying to be set on a copy of a slice from a DataFrame\n",
            "\n",
            "See the caveats in the documentation: https://pandas.pydata.org/pandas-docs/stable/user_guide/indexing.html#returning-a-view-versus-a-copy\n",
            "/usr/local/lib/python3.7/dist-packages/ipykernel_launcher.py:199: SettingWithCopyWarning: \n",
            "A value is trying to be set on a copy of a slice from a DataFrame\n",
            "\n",
            "See the caveats in the documentation: https://pandas.pydata.org/pandas-docs/stable/user_guide/indexing.html#returning-a-view-versus-a-copy\n",
            "/usr/local/lib/python3.7/dist-packages/ipykernel_launcher.py:201: SettingWithCopyWarning: \n",
            "A value is trying to be set on a copy of a slice from a DataFrame\n",
            "\n",
            "See the caveats in the documentation: https://pandas.pydata.org/pandas-docs/stable/user_guide/indexing.html#returning-a-view-versus-a-copy\n",
            "/usr/local/lib/python3.7/dist-packages/ipykernel_launcher.py:202: SettingWithCopyWarning: \n",
            "A value is trying to be set on a copy of a slice from a DataFrame\n",
            "\n",
            "See the caveats in the documentation: https://pandas.pydata.org/pandas-docs/stable/user_guide/indexing.html#returning-a-view-versus-a-copy\n",
            "/usr/local/lib/python3.7/dist-packages/ipykernel_launcher.py:204: SettingWithCopyWarning: \n",
            "A value is trying to be set on a copy of a slice from a DataFrame\n",
            "\n",
            "See the caveats in the documentation: https://pandas.pydata.org/pandas-docs/stable/user_guide/indexing.html#returning-a-view-versus-a-copy\n",
            "/usr/local/lib/python3.7/dist-packages/ipykernel_launcher.py:205: SettingWithCopyWarning: \n",
            "A value is trying to be set on a copy of a slice from a DataFrame\n",
            "\n",
            "See the caveats in the documentation: https://pandas.pydata.org/pandas-docs/stable/user_guide/indexing.html#returning-a-view-versus-a-copy\n",
            "/usr/local/lib/python3.7/dist-packages/ipykernel_launcher.py:207: SettingWithCopyWarning: \n",
            "A value is trying to be set on a copy of a slice from a DataFrame\n",
            "\n",
            "See the caveats in the documentation: https://pandas.pydata.org/pandas-docs/stable/user_guide/indexing.html#returning-a-view-versus-a-copy\n",
            "/usr/local/lib/python3.7/dist-packages/ipykernel_launcher.py:208: SettingWithCopyWarning: \n",
            "A value is trying to be set on a copy of a slice from a DataFrame\n",
            "\n",
            "See the caveats in the documentation: https://pandas.pydata.org/pandas-docs/stable/user_guide/indexing.html#returning-a-view-versus-a-copy\n",
            "/usr/local/lib/python3.7/dist-packages/ipykernel_launcher.py:210: SettingWithCopyWarning: \n",
            "A value is trying to be set on a copy of a slice from a DataFrame\n",
            "\n",
            "See the caveats in the documentation: https://pandas.pydata.org/pandas-docs/stable/user_guide/indexing.html#returning-a-view-versus-a-copy\n",
            "/usr/local/lib/python3.7/dist-packages/ipykernel_launcher.py:211: SettingWithCopyWarning: \n",
            "A value is trying to be set on a copy of a slice from a DataFrame\n",
            "\n",
            "See the caveats in the documentation: https://pandas.pydata.org/pandas-docs/stable/user_guide/indexing.html#returning-a-view-versus-a-copy\n",
            "/usr/local/lib/python3.7/dist-packages/ipykernel_launcher.py:213: SettingWithCopyWarning: \n",
            "A value is trying to be set on a copy of a slice from a DataFrame\n",
            "\n",
            "See the caveats in the documentation: https://pandas.pydata.org/pandas-docs/stable/user_guide/indexing.html#returning-a-view-versus-a-copy\n",
            "/usr/local/lib/python3.7/dist-packages/ipykernel_launcher.py:214: SettingWithCopyWarning: \n",
            "A value is trying to be set on a copy of a slice from a DataFrame\n",
            "\n",
            "See the caveats in the documentation: https://pandas.pydata.org/pandas-docs/stable/user_guide/indexing.html#returning-a-view-versus-a-copy\n",
            "/usr/local/lib/python3.7/dist-packages/ipykernel_launcher.py:217: SettingWithCopyWarning: \n",
            "A value is trying to be set on a copy of a slice from a DataFrame\n",
            "\n",
            "See the caveats in the documentation: https://pandas.pydata.org/pandas-docs/stable/user_guide/indexing.html#returning-a-view-versus-a-copy\n",
            "/usr/local/lib/python3.7/dist-packages/ipykernel_launcher.py:218: SettingWithCopyWarning: \n",
            "A value is trying to be set on a copy of a slice from a DataFrame\n",
            "\n",
            "See the caveats in the documentation: https://pandas.pydata.org/pandas-docs/stable/user_guide/indexing.html#returning-a-view-versus-a-copy\n",
            "/usr/local/lib/python3.7/dist-packages/ipykernel_launcher.py:220: SettingWithCopyWarning: \n",
            "A value is trying to be set on a copy of a slice from a DataFrame\n",
            "\n",
            "See the caveats in the documentation: https://pandas.pydata.org/pandas-docs/stable/user_guide/indexing.html#returning-a-view-versus-a-copy\n",
            "/usr/local/lib/python3.7/dist-packages/ipykernel_launcher.py:221: SettingWithCopyWarning: \n",
            "A value is trying to be set on a copy of a slice from a DataFrame\n",
            "\n",
            "See the caveats in the documentation: https://pandas.pydata.org/pandas-docs/stable/user_guide/indexing.html#returning-a-view-versus-a-copy\n",
            "/usr/local/lib/python3.7/dist-packages/ipykernel_launcher.py:223: SettingWithCopyWarning: \n",
            "A value is trying to be set on a copy of a slice from a DataFrame\n",
            "\n",
            "See the caveats in the documentation: https://pandas.pydata.org/pandas-docs/stable/user_guide/indexing.html#returning-a-view-versus-a-copy\n",
            "/usr/local/lib/python3.7/dist-packages/ipykernel_launcher.py:224: SettingWithCopyWarning: \n",
            "A value is trying to be set on a copy of a slice from a DataFrame\n",
            "\n",
            "See the caveats in the documentation: https://pandas.pydata.org/pandas-docs/stable/user_guide/indexing.html#returning-a-view-versus-a-copy\n",
            "/usr/local/lib/python3.7/dist-packages/ipykernel_launcher.py:226: SettingWithCopyWarning: \n",
            "A value is trying to be set on a copy of a slice from a DataFrame\n",
            "\n",
            "See the caveats in the documentation: https://pandas.pydata.org/pandas-docs/stable/user_guide/indexing.html#returning-a-view-versus-a-copy\n",
            "/usr/local/lib/python3.7/dist-packages/ipykernel_launcher.py:227: SettingWithCopyWarning: \n",
            "A value is trying to be set on a copy of a slice from a DataFrame\n",
            "\n",
            "See the caveats in the documentation: https://pandas.pydata.org/pandas-docs/stable/user_guide/indexing.html#returning-a-view-versus-a-copy\n",
            "/usr/local/lib/python3.7/dist-packages/ipykernel_launcher.py:229: SettingWithCopyWarning: \n",
            "A value is trying to be set on a copy of a slice from a DataFrame\n",
            "\n",
            "See the caveats in the documentation: https://pandas.pydata.org/pandas-docs/stable/user_guide/indexing.html#returning-a-view-versus-a-copy\n",
            "/usr/local/lib/python3.7/dist-packages/ipykernel_launcher.py:230: SettingWithCopyWarning: \n",
            "A value is trying to be set on a copy of a slice from a DataFrame\n",
            "\n",
            "See the caveats in the documentation: https://pandas.pydata.org/pandas-docs/stable/user_guide/indexing.html#returning-a-view-versus-a-copy\n",
            "/usr/local/lib/python3.7/dist-packages/ipykernel_launcher.py:232: SettingWithCopyWarning: \n",
            "A value is trying to be set on a copy of a slice from a DataFrame\n",
            "\n",
            "See the caveats in the documentation: https://pandas.pydata.org/pandas-docs/stable/user_guide/indexing.html#returning-a-view-versus-a-copy\n",
            "/usr/local/lib/python3.7/dist-packages/ipykernel_launcher.py:233: SettingWithCopyWarning: \n",
            "A value is trying to be set on a copy of a slice from a DataFrame\n",
            "\n",
            "See the caveats in the documentation: https://pandas.pydata.org/pandas-docs/stable/user_guide/indexing.html#returning-a-view-versus-a-copy\n",
            "/usr/local/lib/python3.7/dist-packages/ipykernel_launcher.py:235: SettingWithCopyWarning: \n",
            "A value is trying to be set on a copy of a slice from a DataFrame\n",
            "\n",
            "See the caveats in the documentation: https://pandas.pydata.org/pandas-docs/stable/user_guide/indexing.html#returning-a-view-versus-a-copy\n",
            "/usr/local/lib/python3.7/dist-packages/ipykernel_launcher.py:236: SettingWithCopyWarning: \n",
            "A value is trying to be set on a copy of a slice from a DataFrame\n",
            "\n",
            "See the caveats in the documentation: https://pandas.pydata.org/pandas-docs/stable/user_guide/indexing.html#returning-a-view-versus-a-copy\n",
            "/usr/local/lib/python3.7/dist-packages/ipykernel_launcher.py:269: SettingWithCopyWarning: \n",
            "A value is trying to be set on a copy of a slice from a DataFrame\n",
            "\n",
            "See the caveats in the documentation: https://pandas.pydata.org/pandas-docs/stable/user_guide/indexing.html#returning-a-view-versus-a-copy\n",
            "/usr/local/lib/python3.7/dist-packages/ipykernel_launcher.py:270: SettingWithCopyWarning: \n",
            "A value is trying to be set on a copy of a slice from a DataFrame\n",
            "\n",
            "See the caveats in the documentation: https://pandas.pydata.org/pandas-docs/stable/user_guide/indexing.html#returning-a-view-versus-a-copy\n",
            "/usr/local/lib/python3.7/dist-packages/ipykernel_launcher.py:272: SettingWithCopyWarning: \n",
            "A value is trying to be set on a copy of a slice from a DataFrame\n",
            "\n",
            "See the caveats in the documentation: https://pandas.pydata.org/pandas-docs/stable/user_guide/indexing.html#returning-a-view-versus-a-copy\n",
            "/usr/local/lib/python3.7/dist-packages/ipykernel_launcher.py:273: SettingWithCopyWarning: \n",
            "A value is trying to be set on a copy of a slice from a DataFrame\n",
            "\n",
            "See the caveats in the documentation: https://pandas.pydata.org/pandas-docs/stable/user_guide/indexing.html#returning-a-view-versus-a-copy\n",
            "/usr/local/lib/python3.7/dist-packages/ipykernel_launcher.py:275: SettingWithCopyWarning: \n",
            "A value is trying to be set on a copy of a slice from a DataFrame\n",
            "\n",
            "See the caveats in the documentation: https://pandas.pydata.org/pandas-docs/stable/user_guide/indexing.html#returning-a-view-versus-a-copy\n",
            "/usr/local/lib/python3.7/dist-packages/ipykernel_launcher.py:276: SettingWithCopyWarning: \n",
            "A value is trying to be set on a copy of a slice from a DataFrame\n",
            "\n",
            "See the caveats in the documentation: https://pandas.pydata.org/pandas-docs/stable/user_guide/indexing.html#returning-a-view-versus-a-copy\n",
            "/usr/local/lib/python3.7/dist-packages/ipykernel_launcher.py:278: SettingWithCopyWarning: \n",
            "A value is trying to be set on a copy of a slice from a DataFrame\n",
            "\n",
            "See the caveats in the documentation: https://pandas.pydata.org/pandas-docs/stable/user_guide/indexing.html#returning-a-view-versus-a-copy\n",
            "/usr/local/lib/python3.7/dist-packages/ipykernel_launcher.py:279: SettingWithCopyWarning: \n",
            "A value is trying to be set on a copy of a slice from a DataFrame\n",
            "\n",
            "See the caveats in the documentation: https://pandas.pydata.org/pandas-docs/stable/user_guide/indexing.html#returning-a-view-versus-a-copy\n",
            "/usr/local/lib/python3.7/dist-packages/ipykernel_launcher.py:281: SettingWithCopyWarning: \n",
            "A value is trying to be set on a copy of a slice from a DataFrame\n",
            "\n",
            "See the caveats in the documentation: https://pandas.pydata.org/pandas-docs/stable/user_guide/indexing.html#returning-a-view-versus-a-copy\n",
            "/usr/local/lib/python3.7/dist-packages/ipykernel_launcher.py:282: SettingWithCopyWarning: \n",
            "A value is trying to be set on a copy of a slice from a DataFrame\n",
            "\n",
            "See the caveats in the documentation: https://pandas.pydata.org/pandas-docs/stable/user_guide/indexing.html#returning-a-view-versus-a-copy\n",
            "/usr/local/lib/python3.7/dist-packages/ipykernel_launcher.py:284: SettingWithCopyWarning: \n",
            "A value is trying to be set on a copy of a slice from a DataFrame\n",
            "\n",
            "See the caveats in the documentation: https://pandas.pydata.org/pandas-docs/stable/user_guide/indexing.html#returning-a-view-versus-a-copy\n",
            "/usr/local/lib/python3.7/dist-packages/ipykernel_launcher.py:285: SettingWithCopyWarning: \n",
            "A value is trying to be set on a copy of a slice from a DataFrame\n",
            "\n",
            "See the caveats in the documentation: https://pandas.pydata.org/pandas-docs/stable/user_guide/indexing.html#returning-a-view-versus-a-copy\n",
            "/usr/local/lib/python3.7/dist-packages/ipykernel_launcher.py:287: SettingWithCopyWarning: \n",
            "A value is trying to be set on a copy of a slice from a DataFrame\n",
            "\n",
            "See the caveats in the documentation: https://pandas.pydata.org/pandas-docs/stable/user_guide/indexing.html#returning-a-view-versus-a-copy\n",
            "/usr/local/lib/python3.7/dist-packages/ipykernel_launcher.py:288: SettingWithCopyWarning: \n",
            "A value is trying to be set on a copy of a slice from a DataFrame\n",
            "\n",
            "See the caveats in the documentation: https://pandas.pydata.org/pandas-docs/stable/user_guide/indexing.html#returning-a-view-versus-a-copy\n",
            "/usr/local/lib/python3.7/dist-packages/ipykernel_launcher.py:299: SettingWithCopyWarning: \n",
            "A value is trying to be set on a copy of a slice from a DataFrame\n",
            "\n",
            "See the caveats in the documentation: https://pandas.pydata.org/pandas-docs/stable/user_guide/indexing.html#returning-a-view-versus-a-copy\n",
            "/usr/local/lib/python3.7/dist-packages/ipykernel_launcher.py:300: SettingWithCopyWarning: \n",
            "A value is trying to be set on a copy of a slice from a DataFrame\n",
            "\n",
            "See the caveats in the documentation: https://pandas.pydata.org/pandas-docs/stable/user_guide/indexing.html#returning-a-view-versus-a-copy\n",
            "/usr/local/lib/python3.7/dist-packages/ipykernel_launcher.py:302: SettingWithCopyWarning: \n",
            "A value is trying to be set on a copy of a slice from a DataFrame\n",
            "\n",
            "See the caveats in the documentation: https://pandas.pydata.org/pandas-docs/stable/user_guide/indexing.html#returning-a-view-versus-a-copy\n",
            "/usr/local/lib/python3.7/dist-packages/ipykernel_launcher.py:303: SettingWithCopyWarning: \n",
            "A value is trying to be set on a copy of a slice from a DataFrame\n",
            "\n",
            "See the caveats in the documentation: https://pandas.pydata.org/pandas-docs/stable/user_guide/indexing.html#returning-a-view-versus-a-copy\n",
            "/usr/local/lib/python3.7/dist-packages/ipykernel_launcher.py:305: SettingWithCopyWarning: \n",
            "A value is trying to be set on a copy of a slice from a DataFrame\n",
            "\n",
            "See the caveats in the documentation: https://pandas.pydata.org/pandas-docs/stable/user_guide/indexing.html#returning-a-view-versus-a-copy\n",
            "/usr/local/lib/python3.7/dist-packages/ipykernel_launcher.py:306: SettingWithCopyWarning: \n",
            "A value is trying to be set on a copy of a slice from a DataFrame\n",
            "\n",
            "See the caveats in the documentation: https://pandas.pydata.org/pandas-docs/stable/user_guide/indexing.html#returning-a-view-versus-a-copy\n",
            "/usr/local/lib/python3.7/dist-packages/ipykernel_launcher.py:308: SettingWithCopyWarning: \n",
            "A value is trying to be set on a copy of a slice from a DataFrame\n",
            "\n",
            "See the caveats in the documentation: https://pandas.pydata.org/pandas-docs/stable/user_guide/indexing.html#returning-a-view-versus-a-copy\n",
            "/usr/local/lib/python3.7/dist-packages/ipykernel_launcher.py:309: SettingWithCopyWarning: \n",
            "A value is trying to be set on a copy of a slice from a DataFrame\n",
            "\n",
            "See the caveats in the documentation: https://pandas.pydata.org/pandas-docs/stable/user_guide/indexing.html#returning-a-view-versus-a-copy\n",
            "/usr/local/lib/python3.7/dist-packages/ipykernel_launcher.py:311: SettingWithCopyWarning: \n",
            "A value is trying to be set on a copy of a slice from a DataFrame\n",
            "\n",
            "See the caveats in the documentation: https://pandas.pydata.org/pandas-docs/stable/user_guide/indexing.html#returning-a-view-versus-a-copy\n",
            "/usr/local/lib/python3.7/dist-packages/ipykernel_launcher.py:312: SettingWithCopyWarning: \n",
            "A value is trying to be set on a copy of a slice from a DataFrame\n",
            "\n",
            "See the caveats in the documentation: https://pandas.pydata.org/pandas-docs/stable/user_guide/indexing.html#returning-a-view-versus-a-copy\n",
            "/usr/local/lib/python3.7/dist-packages/ipykernel_launcher.py:314: SettingWithCopyWarning: \n",
            "A value is trying to be set on a copy of a slice from a DataFrame\n",
            "\n",
            "See the caveats in the documentation: https://pandas.pydata.org/pandas-docs/stable/user_guide/indexing.html#returning-a-view-versus-a-copy\n",
            "/usr/local/lib/python3.7/dist-packages/ipykernel_launcher.py:315: SettingWithCopyWarning: \n",
            "A value is trying to be set on a copy of a slice from a DataFrame\n",
            "\n",
            "See the caveats in the documentation: https://pandas.pydata.org/pandas-docs/stable/user_guide/indexing.html#returning-a-view-versus-a-copy\n",
            "/usr/local/lib/python3.7/dist-packages/ipykernel_launcher.py:317: SettingWithCopyWarning: \n",
            "A value is trying to be set on a copy of a slice from a DataFrame\n",
            "\n",
            "See the caveats in the documentation: https://pandas.pydata.org/pandas-docs/stable/user_guide/indexing.html#returning-a-view-versus-a-copy\n",
            "/usr/local/lib/python3.7/dist-packages/ipykernel_launcher.py:318: SettingWithCopyWarning: \n",
            "A value is trying to be set on a copy of a slice from a DataFrame\n",
            "\n",
            "See the caveats in the documentation: https://pandas.pydata.org/pandas-docs/stable/user_guide/indexing.html#returning-a-view-versus-a-copy\n"
          ]
        }
      ]
    },
    {
      "cell_type": "code",
      "source": [
        "#PREVALENCIA SM\n",
        "#CONDICIONES DE SINDROME METABOLICO\n",
        "#CONDICIONES Y AÑADIR FILAS DE REQUISITOS\n",
        "\n",
        "#CONDICION REQUISITO 1\n",
        "\n",
        "condiciones_REQ1 = [((df['RIAGENDR'] == 2) & (df['BMXWAIST']>= 102)) | ((df['RIAGENDR'] == 1) & (df['BMXWAIST']>= 88)),\n",
        "                     ((df['RIAGENDR'] == 2) & (df['BMXWAIST']< 102)) | ((df['RIAGENDR'] == 1) & (df['BMXWAIST']< 88)),\n",
        "                    ]\n",
        "                                                  \n",
        "opciones_REQ1 = [1, 0]\n",
        "\n",
        "df['REQ1'] = np.select(condiciones_REQ1, opciones_REQ1)\n",
        "\n",
        "\n",
        "#CONDICION REQUISITO 2\n",
        "\n",
        "condiciones_REQ2 = [(df['LBXTR'] >= 150) | (df['BPQ090D'] == 1),\n",
        "                     (df['LBXTR'] < 150) | (df['BPQ090D'] == 2) \n",
        "                    ]\n",
        "                                                  \n",
        "opciones_REQ2 = [1, 0]\n",
        "\n",
        "df['REQ2'] = np.select(condiciones_REQ2, opciones_REQ2)\n",
        "\n",
        "#CONDICION REQUISITO 3\n",
        "\n",
        "condiciones_REQ3 = [((df['RIAGENDR'] == 2) & (df['LBDHDD']<= 50 )) | ((df['RIAGENDR'] == 1) & (df['LBDHDD'] <= 40)) | (df['BPQ040A'] == 1) ,\n",
        "                     ((df['RIAGENDR'] == 2) & (df['LBDHDD']> 50)) | ((df['RIAGENDR'] == 1) & (df['LBDHDD'] > 40)) | (df['BPQ040A'] == 2),\n",
        "                    ]\n",
        "                                                  \n",
        "opciones_REQ3 = [1, 0]\n",
        "\n",
        "df['REQ3'] = np.select(condiciones_REQ3, opciones_REQ3)\n",
        "\n",
        "\n",
        "\n",
        "#CONDICION REQUISITO 4\n",
        "\n",
        "\n",
        "condiciones_REQ4 = [(df['BPXSY1'] >= 130) | (df['BPXDI1'] >= 85) | (df['BPQ050A'] == 1),\n",
        "                     (df['BPXSY1'] < 130) | (df['BPXDI1'] < 85) | (df['BPQ050A'] == 2)\n",
        "                    ]\n",
        "                                                  \n",
        "opciones_REQ4 = [1, 0]\n",
        "\n",
        "df['REQ4'] = np.select(condiciones_REQ4, opciones_REQ4)\n",
        "\n",
        "#CONDICION REQUISITO 5\n",
        "\n",
        "condiciones_REQ5 = [(df['LBXGLU'] >= 100) | (df['DIQ070'] == 1),\n",
        "                     (df['LBXGLU'] < 100) | (df['DIQ070'] == 2)\n",
        "                    ]\n",
        "                                                  \n",
        "opciones_REQ5 = [1, 0]\n",
        "\n",
        "df['REQ5'] = np.select(condiciones_REQ5, opciones_REQ5)\n",
        "\n",
        "#SUMA DE REQUISITOS POR FILA\n",
        "df['REQ_SUM'] = df['REQ1'] + df['REQ2'] + df['REQ3'] + df['REQ4'] + df['REQ5']\n",
        "\n",
        "#ENCODING METSYM 1 ES QUE TIENE Y 0 ES QUE NO\n",
        "condiciones_METSYM = [(df['REQ_SUM'] >= 3),\n",
        "                     (df['REQ_SUM'] < 3)\n",
        "                    ]\n",
        "                                                  \n",
        "opciones_METSYM = [1, 0]\n",
        "\n",
        "df['MET_SYM'] = np.select(condiciones_METSYM, opciones_METSYM)"
      ],
      "metadata": {
        "id": "GcKX5K2R2xyh"
      },
      "execution_count": 35,
      "outputs": []
    },
    {
      "cell_type": "code",
      "source": [
        "#Porcentaje y export\n",
        "#PREVALENCIA EN PORCENTAJE\n",
        "\n",
        "#porcentaje de los que presentan sindrome metabolico\n",
        "porcentaje_METSYM_1112 = 100 * df['MET_SYM'].value_counts() / len(df['MET_SYM'])\n",
        "#conteo de valores\n",
        "df['MET_SYM'].value_counts()\n",
        "print(\"porcentaje SM: \", porcentaje_METSYM_1112)\n",
        "#df.to_csv('df.csv')"
      ],
      "metadata": {
        "colab": {
          "base_uri": "https://localhost:8080/"
        },
        "id": "HHlWVrxg26rS",
        "outputId": "fb695036-200b-40e9-af6a-827be384c94a"
      },
      "execution_count": 36,
      "outputs": [
        {
          "output_type": "stream",
          "name": "stdout",
          "text": [
            "porcentaje SM:  0    58.601002\n",
            "1    41.398998\n",
            "Name: MET_SYM, dtype: float64\n"
          ]
        }
      ]
    },
    {
      "cell_type": "code",
      "source": [
        "df = df.drop(['Unnamed: 0'], axis = 1)"
      ],
      "metadata": {
        "id": "f_pt0hQ1NbCq"
      },
      "execution_count": 37,
      "outputs": []
    },
    {
      "cell_type": "code",
      "source": [
        "df.to_csv('df_v45.csv')"
      ],
      "metadata": {
        "id": "-48D3yxG5sTz"
      },
      "execution_count": 40,
      "outputs": []
    },
    {
      "cell_type": "code",
      "source": [
        "df.isna().sum(\n",
        ")"
      ],
      "metadata": {
        "colab": {
          "base_uri": "https://localhost:8080/"
        },
        "id": "tmi1yHQcOB8K",
        "outputId": "7dbd2b89-8993-46d3-a413-035bf84e2b91"
      },
      "execution_count": 38,
      "outputs": [
        {
          "output_type": "execute_result",
          "data": {
            "text/plain": [
              "SEQN               0\n",
              "DIQ010             0\n",
              "DIQ070             0\n",
              "INQ020             0\n",
              "INDFMMPI           0\n",
              "INDFMMPC           0\n",
              "BPXSY1             0\n",
              "BPXDI1             0\n",
              "BMXWT              0\n",
              "BMXHT              0\n",
              "BMXBMI             0\n",
              "BMXWAIST           0\n",
              "BPQ030             0\n",
              "BPQ040A            0\n",
              "BPQ050A            0\n",
              "BPQ090D            0\n",
              "LBXGLU             0\n",
              "LBXIN              0\n",
              "MCQ010             0\n",
              "MCQ080             0\n",
              "MCQ220             0\n",
              "MCQ300C            0\n",
              "HIQ011             0\n",
              "LBDHDD             0\n",
              "SMQ020             0\n",
              "LBXTR              0\n",
              "RIAGENDR           0\n",
              "RIDAGEYR           0\n",
              "RIDRETH3           0\n",
              "DMDEDUC2           0\n",
              "PAQ605             0\n",
              "PAQ620             0\n",
              "PAQ635             0\n",
              "PAQ650             0\n",
              "PAQ665             0\n",
              "HSD010             0\n",
              "ALQ130             0\n",
              "DBQ700             0\n",
              "SLQ050             0\n",
              "DPQ020             0\n",
              "DPQ030             0\n",
              "DPQ040             0\n",
              "DPQ050             0\n",
              "RIDAGEYR_Tramos    0\n",
              "Etnia_1.0          0\n",
              "Etnia_2.0          0\n",
              "Etnia_3.0          0\n",
              "Etnia_4.0          0\n",
              "Etnia_6.0          0\n",
              "Etnia_7.0          0\n",
              "WHI                0\n",
              "ALQ130_Tramos      0\n",
              "REQ1               0\n",
              "REQ2               0\n",
              "REQ3               0\n",
              "REQ4               0\n",
              "REQ5               0\n",
              "REQ_SUM            0\n",
              "MET_SYM            0\n",
              "dtype: int64"
            ]
          },
          "metadata": {},
          "execution_count": 38
        }
      ]
    },
    {
      "cell_type": "markdown",
      "source": [
        "##Detección de outliers"
      ],
      "metadata": {
        "id": "G5nAEBud7LKJ"
      }
    },
    {
      "cell_type": "code",
      "source": [
        "df.shape"
      ],
      "metadata": {
        "colab": {
          "base_uri": "https://localhost:8080/"
        },
        "id": "yQwGPz_bx7nv",
        "outputId": "6fc4180b-1a56-4832-c528-a5125db3d311"
      },
      "execution_count": 96,
      "outputs": [
        {
          "output_type": "execute_result",
          "data": {
            "text/plain": [
              "(27148, 59)"
            ]
          },
          "metadata": {},
          "execution_count": 96
        }
      ]
    },
    {
      "cell_type": "code",
      "source": [
        "df_v3 = df"
      ],
      "metadata": {
        "id": "6cVpmJdfyCg9"
      },
      "execution_count": 101,
      "outputs": []
    },
    {
      "cell_type": "code",
      "source": [
        "df_v3.shape\n",
        "df_v3.to_csv('df_v45sinoutliers.csv')"
      ],
      "metadata": {
        "id": "hm5t1vT2yM_A"
      },
      "execution_count": 111,
      "outputs": []
    },
    {
      "cell_type": "code",
      "source": [
        "27148 - 26865"
      ],
      "metadata": {
        "colab": {
          "base_uri": "https://localhost:8080/"
        },
        "id": "255NSU6byPhe",
        "outputId": "1459056a-d489-418e-db4b-447e57ed5f9d"
      },
      "execution_count": 109,
      "outputs": [
        {
          "output_type": "execute_result",
          "data": {
            "text/plain": [
              "283"
            ]
          },
          "metadata": {},
          "execution_count": 109
        }
      ]
    },
    {
      "cell_type": "code",
      "source": [
        "#Porcentaje y export\n",
        "#PREVALENCIA EN PORCENTAJE\n",
        "\n",
        "#porcentaje de los que presentan sindrome metabolico\n",
        "porcentaje_METSYM_1112 = 100 * df_v3['MET_SYM'].value_counts() / len(df_v3['MET_SYM'])\n",
        "#conteo de valores\n",
        "df_v3['MET_SYM'].value_counts()\n",
        "print(\"porcentaje SM: \", porcentaje_METSYM_1112)\n",
        "#df.to_csv('df.csv')"
      ],
      "metadata": {
        "colab": {
          "base_uri": "https://localhost:8080/"
        },
        "id": "q1-1T8-VyWjB",
        "outputId": "b6038ea6-904c-4531-a55e-a855b8356134"
      },
      "execution_count": 110,
      "outputs": [
        {
          "output_type": "stream",
          "name": "stdout",
          "text": [
            "porcentaje SM:  0    58.525963\n",
            "1    41.474037\n",
            "Name: MET_SYM, dtype: float64\n"
          ]
        }
      ]
    },
    {
      "cell_type": "markdown",
      "source": [
        "###LBXIN"
      ],
      "metadata": {
        "id": "pmmQGFBt958D"
      }
    },
    {
      "cell_type": "code",
      "source": [
        "#PERIMETRO ABDOMINAL\n",
        "#Presión sanguínea\n",
        "sns.set_theme(style=\"whitegrid\")\n",
        "fig, ax = plt.subplots(figsize = (6, 8))\n",
        "#df = sns.load_dataset(\"df\")\n",
        "ax = sns.boxplot(data = df, x=df['DIQ010'], y=df[\"LBXIN\"], palette=\"Set2\", linewidth=0.4, width=0.5)"
      ],
      "metadata": {
        "colab": {
          "base_uri": "https://localhost:8080/",
          "height": 502
        },
        "id": "Y4dgpa1_8O-p",
        "outputId": "17d68679-961d-4137-b01e-077e01e67992"
      },
      "execution_count": 97,
      "outputs": [
        {
          "output_type": "display_data",
          "data": {
            "text/plain": [
              "<Figure size 432x576 with 1 Axes>"
            ],
            "image/png": "[encoded data removed]"
          },
          "metadata": {}
        }
      ]
    },
    {
      "cell_type": "code",
      "source": [
        "Delete_in = df[df['LBXIN'] <= df['LBXIN'].quantile(0.01) ].index\n",
        "Delete_in2 = df[df['LBXIN'] >= df['LBXIN'].quantile(0.99)].index\n",
        "df_v3 = df.drop(Delete_in)\n",
        "df_v3 = df.drop(Delete_in2)\n",
        "\n",
        "#PERIMETRO ABDOMINAL\n",
        "#Presión sanguínea\n",
        "sns.set_theme(style=\"whitegrid\")\n",
        "fig, ax = plt.subplots(figsize = (6, 8))\n",
        "#df = sns.load_dataset(\"df\")\n",
        "ax = sns.boxplot(data = df_v3, x=df_v3['DIQ010'], y=df_v3[\"LBXIN\"], palette=\"Set2\", linewidth=0.4, width=0.5)"
      ],
      "metadata": {
        "colab": {
          "base_uri": "https://localhost:8080/",
          "height": 502
        },
        "id": "xqn5ZeKU9L5j",
        "outputId": "2a5c081a-e9a0-4553-d714-1596783dca08"
      },
      "execution_count": 102,
      "outputs": [
        {
          "output_type": "display_data",
          "data": {
            "text/plain": [
              "<Figure size 432x576 with 1 Axes>"
            ],
            "image/png": "[encoded data removed]"
          },
          "metadata": {}
        }
      ]
    },
    {
      "cell_type": "markdown",
      "source": [
        "###LBXGLU"
      ],
      "metadata": {
        "id": "S57z235C99vB"
      }
    },
    {
      "cell_type": "code",
      "source": [
        "#PERIMETRO ABDOMINAL\n",
        "#Presión sanguínea\n",
        "sns.set_theme(style=\"whitegrid\")\n",
        "fig, ax = plt.subplots(figsize = (6, 8))\n",
        "#df = sns.load_dataset(\"df\")\n",
        "ax = sns.boxplot(data = df, x=df['DIQ010'], y=df[\"LBXGLU\"], palette=\"Set2\", linewidth=0.4, width=0.5)"
      ],
      "metadata": {
        "colab": {
          "base_uri": "https://localhost:8080/",
          "height": 505
        },
        "id": "L0PG81U_-BnA",
        "outputId": "1d36a1ed-86f7-4e00-d5a2-1e153725e645"
      },
      "execution_count": 99,
      "outputs": [
        {
          "output_type": "display_data",
          "data": {
            "text/plain": [
              "<Figure size 432x576 with 1 Axes>"
            ],
            "image/png": "[encoded data removed]"
          },
          "metadata": {}
        }
      ]
    },
    {
      "cell_type": "code",
      "source": [
        "Delete_in = df[df['LBXGLU'] <= df['LBXGLU'].quantile(0.01) ].index\n",
        "Delete_in2 = df[df['LBXGLU'] >= df['LBXGLU'].quantile(0.99)].index\n",
        "df_v3 = df.drop(Delete_in)\n",
        "df_v3 = df.drop(Delete_in2)\n",
        "\n",
        "#PERIMETRO ABDOMINAL\n",
        "#Presión sanguínea\n",
        "sns.set_theme(style=\"whitegrid\")\n",
        "fig, ax = plt.subplots(figsize = (6, 8))\n",
        "#df = sns.load_dataset(\"df\")\n",
        "ax = sns.boxplot(data = df_v3, x=df_v3['DIQ010'], y=df_v3[\"LBXGLU\"], palette=\"Set2\", linewidth=0.4, width=0.5)"
      ],
      "metadata": {
        "colab": {
          "base_uri": "https://localhost:8080/",
          "height": 502
        },
        "id": "iVgShH7F-F14",
        "outputId": "f009418f-617c-4eda-d83f-b2c1af9d7315"
      },
      "execution_count": 103,
      "outputs": [
        {
          "output_type": "display_data",
          "data": {
            "text/plain": [
              "<Figure size 432x576 with 1 Axes>"
            ],
            "image/png": "[encoded data removed]"
          },
          "metadata": {}
        }
      ]
    },
    {
      "cell_type": "markdown",
      "source": [
        "###BMXBMI"
      ],
      "metadata": {
        "id": "c7YR3zT1Dfvy"
      }
    },
    {
      "cell_type": "code",
      "source": [
        "#PERIMETRO ABDOMINAL\n",
        "#Presión sanguínea\n",
        "sns.set_theme(style=\"whitegrid\")\n",
        "fig, ax = plt.subplots(figsize = (6, 8))\n",
        "#df = sns.load_dataset(\"df\")\n",
        "ax = sns.boxplot(data = df, x=df['MCQ080'], y=df[\"BMXBMI\"], palette=\"Set2\", linewidth=0.5, width=0.3)"
      ],
      "metadata": {
        "colab": {
          "base_uri": "https://localhost:8080/",
          "height": 502
        },
        "id": "mmFzG1Vs8buE",
        "outputId": "a56537c0-baca-4fec-a382-b5bbc11cc716"
      },
      "execution_count": 56,
      "outputs": [
        {
          "output_type": "display_data",
          "data": {
            "text/plain": [
              "<Figure size 432x576 with 1 Axes>"
            ],
            "image/png": "[encoded data removed]"
          },
          "metadata": {}
        }
      ]
    },
    {
      "cell_type": "code",
      "source": [
        "Delete_bmi = df[df['BMXBMI'] <= df['BMXBMI'].quantile(0.01) ].index\n",
        "Delete_bmi2 = df[df['BMXBMI'] >= df['BMXBMI'].quantile(0.99)].index\n",
        "df_v3 = df.drop(Delete_bmi)\n",
        "df_v3 = df.drop(Delete_bmi2)\n",
        "\n",
        "#PERIMETRO ABDOMINAL\n",
        "#Presión sanguínea\n",
        "sns.set_theme(style=\"whitegrid\")\n",
        "fig, ax = plt.subplots(figsize = (6, 8))\n",
        "#df = sns.load_dataset(\"df\")\n",
        "ax = sns.boxplot(data = df_v3, x=df_v3['MCQ080'], y=df_v3[\"BMXBMI\"], palette=\"Set2\", linewidth=0.4, width=0.5)\n"
      ],
      "metadata": {
        "colab": {
          "base_uri": "https://localhost:8080/",
          "height": 502
        },
        "id": "tbg9fFXZDqkj",
        "outputId": "7f9019da-3403-4a43-e5f5-1896a7ae19aa"
      },
      "execution_count": 58,
      "outputs": [
        {
          "output_type": "display_data",
          "data": {
            "text/plain": [
              "<Figure size 432x576 with 1 Axes>"
            ],
            "image/png": "[encoded data removed]"
          },
          "metadata": {}
        }
      ]
    },
    {
      "cell_type": "markdown",
      "source": [
        "###BPXSY1"
      ],
      "metadata": {
        "id": "-4cNthJWEUcC"
      }
    },
    {
      "cell_type": "code",
      "source": [
        "#PERIMETRO ABDOMINAL\n",
        "#Presión sanguínea\n",
        "sns.set_theme(style=\"whitegrid\")\n",
        "fig, ax = plt.subplots(figsize = (6, 8))\n",
        "#df = sns.load_dataset(\"df\")\n",
        "ax = sns.boxplot(data = df, x=df['RIDAGEYR_Tramos'], y=df[\"BPXSY1\"], palette=\"Set2\", linewidth=0.5, width=0.3)"
      ],
      "metadata": {
        "colab": {
          "base_uri": "https://localhost:8080/",
          "height": 502
        },
        "id": "G-t6m4zjEWga",
        "outputId": "c5b5e8f6-3d2c-44c0-f64a-7597b3f28095"
      },
      "execution_count": 61,
      "outputs": [
        {
          "output_type": "display_data",
          "data": {
            "text/plain": [
              "<Figure size 432x576 with 1 Axes>"
            ],
            "image/png": "[encoded data removed]"
          },
          "metadata": {}
        }
      ]
    },
    {
      "cell_type": "code",
      "source": [
        "Delete_sy = df[df['BPXSY1'] <= df['BPXSY1'].quantile(0.01) ].index\n",
        "Delete_sy2 = df[df['BPXSY1'] >= df['BPXSY1'].quantile(0.99)].index\n",
        "df_v3 = df.drop(Delete_sy)\n",
        "df_v3 = df.drop(Delete_sy2)\n",
        "\n",
        "#PERIMETRO ABDOMINAL\n",
        "#Presión sanguínea\n",
        "sns.set_theme(style=\"whitegrid\")\n",
        "fig, ax = plt.subplots(figsize = (6, 8))\n",
        "#df = sns.load_dataset(\"df\")\n",
        "ax = sns.boxplot(data = df_v3, x=df_v3['RIDAGEYR_Tramos'], y=df_v3[\"BPXSY1\"], palette=\"Set2\", linewidth=0.4, width=0.5)"
      ],
      "metadata": {
        "colab": {
          "base_uri": "https://localhost:8080/",
          "height": 502
        },
        "id": "aXALGLmAEmWl",
        "outputId": "6f9f4533-dd6d-4a28-9ddd-f1fe7e52288c"
      },
      "execution_count": 104,
      "outputs": [
        {
          "output_type": "display_data",
          "data": {
            "text/plain": [
              "<Figure size 432x576 with 1 Axes>"
            ],
            "image/png": "[encoded data removed]"
          },
          "metadata": {}
        }
      ]
    },
    {
      "cell_type": "markdown",
      "source": [
        "###BPXDI1"
      ],
      "metadata": {
        "id": "t7O89EfoFEse"
      }
    },
    {
      "cell_type": "code",
      "source": [
        "#PERIMETRO ABDOMINAL\n",
        "#Presión sanguínea\n",
        "sns.set_theme(style=\"whitegrid\")\n",
        "fig, ax = plt.subplots(figsize = (6, 8))\n",
        "#df = sns.load_dataset(\"df\")\n",
        "ax = sns.boxplot(data = df, x=df['DIQ010'], y=df[\"BPXDI1\"], palette=\"Set2\", linewidth=0.5, width=0.3)"
      ],
      "metadata": {
        "colab": {
          "base_uri": "https://localhost:8080/",
          "height": 502
        },
        "id": "rXe80p9pFIdj",
        "outputId": "770ed2a5-0b33-4bc6-e99d-058c962253fb"
      },
      "execution_count": 67,
      "outputs": [
        {
          "output_type": "display_data",
          "data": {
            "text/plain": [
              "<Figure size 432x576 with 1 Axes>"
            ],
            "image/png": "[encoded data removed]"
          },
          "metadata": {}
        }
      ]
    },
    {
      "cell_type": "code",
      "source": [
        "Deletedi = df[df['BPXDI1'] <= df['BPXDI1'].quantile(0.01) ].index\n",
        "Deletedi2 = df[df['BPXDI1'] >= df['BPXDI1'].quantile(0.99)].index\n",
        "df_v3 = df.drop(Deletedi)\n",
        "df_v3 = df.drop(Deletedi2)\n",
        "\n",
        "#PERIMETRO ABDOMINAL\n",
        "#Presión sanguínea\n",
        "sns.set_theme(style=\"whitegrid\")\n",
        "fig, ax = plt.subplots(figsize = (6, 8))\n",
        "#df = sns.load_dataset(\"df\")\n",
        "ax = sns.boxplot(data = df_v3, x=df_v3['DIQ010'], y=df_v3[\"BPXDI1\"], palette=\"Set2\", linewidth=0.4, width=0.5)"
      ],
      "metadata": {
        "colab": {
          "base_uri": "https://localhost:8080/",
          "height": 502
        },
        "id": "18HTnHc-FL6K",
        "outputId": "484e75c0-de50-4a43-a69c-bcecac51028c"
      },
      "execution_count": 105,
      "outputs": [
        {
          "output_type": "display_data",
          "data": {
            "text/plain": [
              "<Figure size 432x576 with 1 Axes>"
            ],
            "image/png": "[encoded data removed]"
          },
          "metadata": {}
        }
      ]
    },
    {
      "cell_type": "markdown",
      "source": [
        "###LBXTR"
      ],
      "metadata": {
        "id": "WUvrPn1PF5Se"
      }
    },
    {
      "cell_type": "code",
      "source": [
        "#PERIMETRO ABDOMINAL\n",
        "#Presión sanguínea\n",
        "sns.set_theme(style=\"whitegrid\")\n",
        "fig, ax = plt.subplots(figsize = (6, 8))\n",
        "#df = sns.load_dataset(\"df\")\n",
        "ax = sns.boxplot(data = df, x=df['RIAGENDR'], y=df[\"LBXTR\"], palette=\"Set2\", linewidth=0.5, width=0.3)"
      ],
      "metadata": {
        "colab": {
          "base_uri": "https://localhost:8080/",
          "height": 502
        },
        "id": "91S4XykNIkaG",
        "outputId": "fb5ba592-578c-4b34-c538-9ca01c80acf7"
      },
      "execution_count": 80,
      "outputs": [
        {
          "output_type": "display_data",
          "data": {
            "text/plain": [
              "<Figure size 432x576 with 1 Axes>"
            ],
            "image/png": "[encoded data removed]"
          },
          "metadata": {}
        }
      ]
    },
    {
      "cell_type": "code",
      "source": [
        "Delete_tr = df[df['LBXTR'] <= df['LBXTR'].quantile(0.01) ].index\n",
        "Delete_tr2 = df[df['LBXTR'] >= df['LBXTR'].quantile(0.99)].index\n",
        "df_v3 = df.drop(Delete_tr)\n",
        "df_v3 = df.drop(Delete_tr2)\n",
        "\n",
        "#PERIMETRO ABDOMINAL\n",
        "#Presión sanguínea\n",
        "sns.set_theme(style=\"whitegrid\")\n",
        "fig, ax = plt.subplots(figsize = (6, 8))\n",
        "#df = sns.load_dataset(\"df\")\n",
        "ax = sns.boxplot(data = df_v3, x=df_v3['RIAGENDR'], y=df_v3[\"LBXTR\"], palette=\"Set2\", linewidth=0.4, width=0.5)"
      ],
      "metadata": {
        "colab": {
          "base_uri": "https://localhost:8080/",
          "height": 502
        },
        "id": "XuMTAUHQIpno",
        "outputId": "0268d7a2-7ac2-4320-a834-3139eb132c76"
      },
      "execution_count": 106,
      "outputs": [
        {
          "output_type": "display_data",
          "data": {
            "text/plain": [
              "<Figure size 432x576 with 1 Axes>"
            ],
            "image/png": "[encoded data removed]"
          },
          "metadata": {}
        }
      ]
    },
    {
      "cell_type": "markdown",
      "source": [
        "###LBHDD"
      ],
      "metadata": {
        "id": "uzWT5JG6Izvr"
      }
    },
    {
      "cell_type": "code",
      "source": [
        "df['LBXTR'].describe()"
      ],
      "metadata": {
        "colab": {
          "base_uri": "https://localhost:8080/"
        },
        "id": "Wozms6OQI78F",
        "outputId": "678a8519-dd25-423d-e643-b8c3a0d9d2ec"
      },
      "execution_count": 74,
      "outputs": [
        {
          "output_type": "execute_result",
          "data": {
            "text/plain": [
              "count    27148.000000\n",
              "mean        99.533207\n",
              "std         67.539680\n",
              "min         10.000000\n",
              "25%         70.000000\n",
              "50%         93.000000\n",
              "75%        106.000000\n",
              "max       4233.000000\n",
              "Name: LBXTR, dtype: float64"
            ]
          },
          "metadata": {},
          "execution_count": 74
        }
      ]
    },
    {
      "cell_type": "code",
      "source": [
        "#PERIMETRO ABDOMINAL\n",
        "#Presión sanguínea\n",
        "sns.set_theme(style=\"whitegrid\")\n",
        "fig, ax = plt.subplots(figsize = (6, 8))\n",
        "#df = sns.load_dataset(\"df\")\n",
        "ax = sns.boxplot(data = df, x=df['RIAGENDR'], y=df[\"LBDHDD\"], palette=\"Set2\", linewidth=0.5, width=0.3)"
      ],
      "metadata": {
        "colab": {
          "base_uri": "https://localhost:8080/",
          "height": 502
        },
        "id": "So5MXYRpI1pZ",
        "outputId": "4b65e0b7-5712-4b32-a297-e397b67826c6"
      },
      "execution_count": 93,
      "outputs": [
        {
          "output_type": "display_data",
          "data": {
            "text/plain": [
              "<Figure size 432x576 with 1 Axes>"
            ],
            "image/png": "[encoded data removed]"
          },
          "metadata": {}
        }
      ]
    },
    {
      "cell_type": "code",
      "source": [
        "Delete_hdd = df[df['LBDHDD'] <= df['LBDHDD'].quantile(0.01) ].index\n",
        "Delete_hdd2 = df[df['LBDHDD'] >= df['LBDHDD'].quantile(0.99)].index\n",
        "df_v3 = df.drop(Delete_hdd)\n",
        "df_v3 = df.drop(Delete_hdd2)\n",
        "\n",
        "#PERIMETRO ABDOMINAL\n",
        "#Presión sanguínea\n",
        "sns.set_theme(style=\"whitegrid\")\n",
        "fig, ax = plt.subplots(figsize = (6, 8))\n",
        "#df = sns.load_dataset(\"df\")\n",
        "ax = sns.boxplot(data = df_v3, x=df_v3['RIAGENDR'], y=df_v3[\"LBDHDD\"], palette=\"Set2\", linewidth=0.4, width=0.5)"
      ],
      "metadata": {
        "colab": {
          "base_uri": "https://localhost:8080/",
          "height": 502
        },
        "id": "EWpXCdCjI2Gz",
        "outputId": "3abac56a-d7ea-44de-bab2-9453ce4e33b7"
      },
      "execution_count": 107,
      "outputs": [
        {
          "output_type": "display_data",
          "data": {
            "text/plain": [
              "<Figure size 432x576 with 1 Axes>"
            ],
            "image/png": "[encoded data removed]"
          },
          "metadata": {}
        }
      ]
    },
    {
      "cell_type": "markdown",
      "source": [
        "##Boxplot para deteccion de outliers\n"
      ],
      "metadata": {
        "id": "Plk9PCfeDXjF"
      }
    },
    {
      "cell_type": "code",
      "source": [
        "#LBXGLU\n",
        "#Presión sanguínea\n",
        "sns.set_theme(style=\"whitegrid\")\n",
        "fig, ax = plt.subplots(figsize = (20, 10))\n",
        "#df = sns.load_dataset(\"df\")\n",
        "ax = sns.boxplot(data = df, orient = 'h', x=df[\"LBXGLU\"], palette=\"Blues\")"
      ],
      "metadata": {
        "colab": {
          "base_uri": "https://localhost:8080/",
          "height": 610
        },
        "id": "EImHjFWdDUqn",
        "outputId": "91df3f56-ceb7-43e1-aa82-9fffa828fee8"
      },
      "execution_count": null,
      "outputs": [
        {
          "output_type": "display_data",
          "data": {
            "text/plain": [
              "<Figure size 1440x720 with 1 Axes>"
            ],
            "image/png": "[encoded data removed]"
          },
          "metadata": {}
        }
      ]
    },
    {
      "cell_type": "code",
      "source": [
        "#LBXIN\n",
        "#Presión sanguínea\n",
        "sns.set_theme(style=\"whitegrid\")\n",
        "fig, ax = plt.subplots(figsize = (20, 10))\n",
        "#df = sns.load_dataset(\"df\")\n",
        "ax = sns.boxplot(data = df, orient = 'h', x=df[\"LBXIN\"], palette=\"Blues\")"
      ],
      "metadata": {
        "colab": {
          "base_uri": "https://localhost:8080/",
          "height": 610
        },
        "id": "ioGB8_3NECNT",
        "outputId": "22a1a74b-ced6-4f69-c7de-896fd04ecd88"
      },
      "execution_count": null,
      "outputs": [
        {
          "output_type": "display_data",
          "data": {
            "text/plain": [
              "<Figure size 1440x720 with 1 Axes>"
            ],
            "image/png": "[encoded data removed]"
          },
          "metadata": {}
        }
      ]
    },
    {
      "cell_type": "code",
      "source": [
        "#BMXBMI\n",
        "#IMC\n",
        "sns.set_theme(style=\"whitegrid\")\n",
        "fig, ax = plt.subplots(figsize = (20, 10))\n",
        "#df = sns.load_dataset(\"df\")\n",
        "ax = sns.boxplot(data = df, orient = 'h', x=df[\"BMXBMI\"], palette=\"Blues\")\n"
      ],
      "metadata": {
        "id": "Jys_thRGD_vN",
        "colab": {
          "base_uri": "https://localhost:8080/",
          "height": 610
        },
        "outputId": "21d88938-48ba-4c9b-e2ff-c8a431e5923c"
      },
      "execution_count": null,
      "outputs": [
        {
          "output_type": "display_data",
          "data": {
            "text/plain": [
              "<Figure size 1440x720 with 1 Axes>"
            ],
            "image/png": "[encoded data removed]"
          },
          "metadata": {}
        }
      ]
    },
    {
      "cell_type": "code",
      "source": [
        "#BPXDI1\n",
        "#Presión sanguínea\n",
        "sns.set_theme(style=\"whitegrid\")\n",
        "fig, ax = plt.subplots(figsize = (20, 10))\n",
        "#df = sns.load_dataset(\"df\")\n",
        "ax = sns.boxplot(data = df, orient = 'h', x=df[\"BPXDI1\"], palette=\"Blues\")"
      ],
      "metadata": {
        "colab": {
          "base_uri": "https://localhost:8080/",
          "height": 610
        },
        "id": "z2HD0YDL3tX9",
        "outputId": "2b3635eb-6b43-4552-c7f6-ddac2851f648"
      },
      "execution_count": null,
      "outputs": [
        {
          "output_type": "display_data",
          "data": {
            "text/plain": [
              "<Figure size 1440x720 with 1 Axes>"
            ],
            "image/png": "[encoded data removed]"
          },
          "metadata": {}
        }
      ]
    },
    {
      "cell_type": "code",
      "source": [
        "#BPXSY1\n",
        "#Presión sanguínea\n",
        "sns.set_theme(style=\"whitegrid\")\n",
        "fig, ax = plt.subplots(figsize = (20, 10))\n",
        "#df = sns.load_dataset(\"df\")\n",
        "ax = sns.boxplot(data = df, orient = 'h', x=df[\"BPXSY1\"], palette=\"Blues\")"
      ],
      "metadata": {
        "colab": {
          "base_uri": "https://localhost:8080/",
          "height": 610
        },
        "id": "8VtlL2jhzjjs",
        "outputId": "475f0116-82bb-406f-b886-725f46eb32dd"
      },
      "execution_count": null,
      "outputs": [
        {
          "output_type": "display_data",
          "data": {
            "text/plain": [
              "<Figure size 1440x720 with 1 Axes>"
            ],
            "image/png": "[encoded data removed]"
          },
          "metadata": {}
        }
      ]
    },
    {
      "cell_type": "code",
      "source": [
        "#BPXSY1\n",
        "#Presión sanguínea\n",
        "sns.set_theme(style=\"whitegrid\")\n",
        "fig, ax = plt.subplots(figsize = (20, 10))\n",
        "#df = sns.load_dataset(\"df\")\n",
        "ax = sns.boxplot(data = df, orient = 'h', x=df[\"BPXSY1\"], palette=\"Blues\")"
      ],
      "metadata": {
        "colab": {
          "base_uri": "https://localhost:8080/",
          "height": 610
        },
        "id": "mho3OiyAzo7i",
        "outputId": "76eeb3c2-ef69-4ed5-907b-45cfc4ce6c8e"
      },
      "execution_count": null,
      "outputs": [
        {
          "output_type": "display_data",
          "data": {
            "text/plain": [
              "<Figure size 1440x720 with 1 Axes>"
            ],
            "image/png": "[encoded data removed]"
          },
          "metadata": {}
        }
      ]
    },
    {
      "cell_type": "code",
      "source": [
        "#LBXTR\n",
        "#Presión sanguínea\n",
        "sns.set_theme(style=\"whitegrid\")\n",
        "fig, ax = plt.subplots(figsize = (20, 10))\n",
        "#df = sns.load_dataset(\"df\")\n",
        "ax = sns.boxplot(data = df, orient = 'h', x=df[\"LBXTR\"], palette=\"Blues\")"
      ],
      "metadata": {
        "colab": {
          "base_uri": "https://localhost:8080/",
          "height": 610
        },
        "id": "8COJTm4I0Yg_",
        "outputId": "8479c974-2c7b-4083-b5d0-7ce92884756d"
      },
      "execution_count": null,
      "outputs": [
        {
          "output_type": "display_data",
          "data": {
            "text/plain": [
              "<Figure size 1440x720 with 1 Axes>"
            ],
            "image/png": "[encoded data removed]"
          },
          "metadata": {}
        }
      ]
    },
    {
      "cell_type": "code",
      "source": [
        "#LBDHDD\n",
        "#Presión sanguínea\n",
        "sns.set_theme(style=\"whitegrid\")\n",
        "fig, ax = plt.subplots(figsize = (20, 10))\n",
        "#df = sns.load_dataset(\"df\")\n",
        "ax = sns.boxplot(data = df, orient = 'h', x=df[\"LBDHDD\"], palette=\"Blues\")"
      ],
      "metadata": {
        "colab": {
          "base_uri": "https://localhost:8080/",
          "height": 610
        },
        "id": "-n4Yk-sW0cMD",
        "outputId": "f755ea74-1b64-422a-b6d0-39df80f6e9bd"
      },
      "execution_count": null,
      "outputs": [
        {
          "output_type": "display_data",
          "data": {
            "text/plain": [
              "<Figure size 1440x720 with 1 Axes>"
            ],
            "image/png": "[encoded data removed]"
          },
          "metadata": {}
        }
      ]
    },
    {
      "cell_type": "code",
      "source": [
        "#BMXWAIST\n",
        "#Presión sanguínea\n",
        "sns.set_theme(style=\"whitegrid\")\n",
        "fig, ax = plt.subplots(figsize = (20, 10))\n",
        "#df = sns.load_dataset(\"df\")\n",
        "ax = sns.boxplot(data = df, orient = 'h', x=df[\"BMXWAIST\"], palette=\"Blues\")"
      ],
      "metadata": {
        "colab": {
          "base_uri": "https://localhost:8080/",
          "height": 610
        },
        "id": "mhC4j_2D57WM",
        "outputId": "6025bb24-8180-4dc3-ae38-ce73c9d6a19a"
      },
      "execution_count": null,
      "outputs": [
        {
          "output_type": "display_data",
          "data": {
            "text/plain": [
              "<Figure size 1440x720 with 1 Axes>"
            ],
            "image/png": "[encoded data removed]"
          },
          "metadata": {}
        }
      ]
    },
    {
      "cell_type": "code",
      "source": [
        "df_v3['BMXBMI'].describe()\n"
      ],
      "metadata": {
        "colab": {
          "base_uri": "https://localhost:8080/"
        },
        "id": "-FGg1FDN5-lk",
        "outputId": "313e8987-e689-4daf-ec04-d8d7ccf0549a"
      },
      "execution_count": null,
      "outputs": [
        {
          "output_type": "execute_result",
          "data": {
            "text/plain": [
              "count    26865.000000\n",
              "mean        28.503432\n",
              "std          7.069902\n",
              "min         13.200000\n",
              "25%         23.500000\n",
              "50%         27.600000\n",
              "75%         31.900000\n",
              "max         86.200000\n",
              "Name: BMXBMI, dtype: float64"
            ]
          },
          "metadata": {},
          "execution_count": 24
        }
      ]
    },
    {
      "cell_type": "markdown",
      "source": [
        "##ELIMINAR OUTLIERS"
      ],
      "metadata": {
        "id": "u2_sm-p70sPd"
      }
    },
    {
      "cell_type": "code",
      "source": [
        "#BORRAR OUTLIERS\n",
        "Delete_bmi = df[df['BMXBMI'] <= df['BMXBMI'].quantile(0.01) ].index\n",
        "Delete_bmi2 = df[df['BMXBMI'] >= df['BMXBMI'].quantile(0.99)].index\n",
        "Delete_di = df[df['BPXDI1'] <= df['BPXDI1'].quantile(0.01) ].index\n",
        "Delete_di2 = df[df['BPXDI1'] >= df['BPXDI1'].quantile(0.99)].index\n",
        "Delete_in = df[df['LBXIN'] <= df['LBXIN'].quantile(0.01) ].index\n",
        "Delete_in2 = df[df['LBXIN'] >= df['LBXIN'].quantile(0.99)].index\n",
        "Delete_glu = df[df['LBXGLU'] <= df['LBXGLU'].quantile(0.01) ].index\n",
        "Delete_glu2 = df[df['LBXGLU'] >= df['LBXGLU'].quantile(0.99)].index\n",
        "Delete_tr = df[df['LBXTR'] <= df['LBXTR'].quantile(0.01) ].index\n",
        "Delete_tr2 = df[df['LBXTR'] >= df['LBXTR'].quantile(0.99)].index\n",
        "Delete_hdd = df[df['LBDHDD'] <= df['LBDHDD'].quantile(0.01) ].index\n",
        "Delete_hdd2 = df[df['LBDHDD'] >= df['LBDHDD'].quantile(0.99)].index\n",
        "df_v3 = df.drop(Delete_glu)\n",
        "df_v3 = df.drop(Delete_glu2)\n",
        "df_v3 = df.drop(Delete_in)\n",
        "df_v3 = df.drop(Delete_in2)\n",
        "df_v3 = df.drop(Delete_di)\n",
        "df_v3 = df.drop(Delete_di2)\n",
        "df_v3 = df.drop(Delete_bmi)\n",
        "df_v3 = df.drop(Delete_bmi2)\n",
        "df_v3 = df.drop(Delete_tr)\n",
        "df_v3 = df.drop(Delete_tr2)\n",
        "df_v3 = df.drop(Delete_hdd)\n",
        "df_v3 = df.drop(Delete_hdd2)\n"
      ],
      "metadata": {
        "id": "4wA_Yw0D0zFj"
      },
      "execution_count": null,
      "outputs": []
    },
    {
      "cell_type": "code",
      "source": [
        "df.shape"
      ],
      "metadata": {
        "colab": {
          "base_uri": "https://localhost:8080/"
        },
        "id": "cgvJIfq-1KNe",
        "outputId": "c05455dd-7bbf-4125-a699-5a7e7ae72915"
      },
      "execution_count": null,
      "outputs": [
        {
          "output_type": "execute_result",
          "data": {
            "text/plain": [
              "(27148, 59)"
            ]
          },
          "metadata": {},
          "execution_count": 34
        }
      ]
    },
    {
      "cell_type": "code",
      "source": [
        "df_v3.shape"
      ],
      "metadata": {
        "colab": {
          "base_uri": "https://localhost:8080/"
        },
        "id": "jj_R4WlF1HlT",
        "outputId": "11fc128b-1f9f-43c1-9a05-f2edf15c05ca"
      },
      "execution_count": null,
      "outputs": [
        {
          "output_type": "execute_result",
          "data": {
            "text/plain": [
              "(26845, 59)"
            ]
          },
          "metadata": {},
          "execution_count": 35
        }
      ]
    },
    {
      "cell_type": "code",
      "source": [
        "df_v3.to_csv('df_v3sinoutliersMS.csv')"
      ],
      "metadata": {
        "id": "fr2gpQIL1W5s"
      },
      "execution_count": null,
      "outputs": []
    },
    {
      "cell_type": "code",
      "source": [
        "df['LBXTR'].describe()"
      ],
      "metadata": {
        "colab": {
          "base_uri": "https://localhost:8080/"
        },
        "id": "FXkBBfoZ1Lpn",
        "outputId": "1ff95bd1-9fe5-4be6-b708-7792c05aad15"
      },
      "execution_count": null,
      "outputs": [
        {
          "output_type": "execute_result",
          "data": {
            "text/plain": [
              "count    27148.000000\n",
              "mean        99.533207\n",
              "std         67.539680\n",
              "min         10.000000\n",
              "25%         70.000000\n",
              "50%         93.000000\n",
              "75%        106.000000\n",
              "max       4233.000000\n",
              "Name: LBXTR, dtype: float64"
            ]
          },
          "metadata": {},
          "execution_count": 16
        }
      ]
    },
    {
      "cell_type": "markdown",
      "source": [
        "##ONE HOT ENCODING"
      ],
      "metadata": {
        "id": "LT4tj0WJ90xn"
      }
    },
    {
      "cell_type": "code",
      "source": [
        "df"
      ],
      "metadata": {
        "colab": {
          "base_uri": "https://localhost:8080/",
          "height": 424
        },
        "id": "YJ8-tNNOBf5B",
        "outputId": "f53d7a20-458e-4288-ca0b-78863b0e4c46"
      },
      "execution_count": null,
      "outputs": [
        {
          "output_type": "execute_result",
          "data": {
            "text/plain": [
              "         SEQN  DIQ010  DIQ070  INQ020  INDFMMPI  INDFMMPC  BPXSY1  BPXDI1  \\\n",
              "0       62161     0.0     2.0     1.0      2.10       3.0   110.0    82.0   \n",
              "2       62163     0.0     2.0     1.0      5.00       3.0   112.0    38.0   \n",
              "3       62164     0.0     2.0     1.0      1.11       1.0   116.0    56.0   \n",
              "4       62165     0.0     2.0     0.0      0.50       1.0   110.0    64.0   \n",
              "7       62169     0.0     2.0     0.0      0.38       1.0   124.0    80.0   \n",
              "...       ...     ...     ...     ...       ...       ...     ...     ...   \n",
              "37601  102952     2.0     1.0     0.0      0.95       1.0   136.0    74.0   \n",
              "37602  102953     0.0     2.0     1.0      2.10       3.0   124.0    76.0   \n",
              "37603  102954     0.0     2.0     1.0      5.00       3.0   116.0    66.0   \n",
              "37604  102955     0.0     2.0     1.0      2.44       3.0   114.0    62.0   \n",
              "37605  102956     0.0     2.0     0.0      1.56       2.0   150.0    98.0   \n",
              "\n",
              "       BMXWT  BMXHT  ...  Etnia_7.0       WHI  ALQ130_Tramos  REQ1  REQ2  \\\n",
              "0       69.2  172.3  ...          0  0.470110            1.0     0     0   \n",
              "2       49.4  168.9  ...          0  0.382475            1.0     0     0   \n",
              "3       67.2  170.1  ...          0  0.470899            1.0     0     0   \n",
              "4       69.1  159.4  ...          0  0.543915            1.0     0     0   \n",
              "7       54.6  164.8  ...          0  0.422330            1.0     0     0   \n",
              "...      ...    ...  ...        ...       ...            ...   ...   ...   \n",
              "37601   49.0  156.5  ...          0  0.525240            1.0     0     0   \n",
              "37602   97.4  164.9  ...          0  0.696180            4.0     1     0   \n",
              "37603   69.1  162.6  ...          0  0.531365            1.0     0     0   \n",
              "37604  111.9  156.6  ...          0  0.724777            1.0     1     0   \n",
              "37605  111.5  175.8  ...          0  0.693970            1.0     1     1   \n",
              "\n",
              "       REQ3  REQ4  REQ5  REQ_SUM  MET_SYM  \n",
              "0         0     0     0        0        0  \n",
              "2         0     0     0        0        0  \n",
              "3         1     0     0        1        0  \n",
              "4         0     0     0        0        0  \n",
              "7         0     0     1        1        0  \n",
              "...     ...   ...   ...      ...      ...  \n",
              "37601     0     1     1        2        0  \n",
              "37602     0     0     1        2        0  \n",
              "37603     0     0     0        0        0  \n",
              "37604     1     0     0        2        0  \n",
              "37605     1     1     0        4        1  \n",
              "\n",
              "[27148 rows x 59 columns]"
            ],
            "text/html": [
              "\n",
              "  <div id=\"df-c42d5987-92fa-4e4d-a279-1dc701ea93d7\">\n",
              "    <div class=\"colab-df-container\">\n",
              "      <div>\n",
              "<style scoped>\n",
              "    .dataframe tbody tr th:only-of-type {\n",
              "        vertical-align: middle;\n",
              "    }\n",
              "\n",
              "    .dataframe tbody tr th {\n",
              "        vertical-align: top;\n",
              "    }\n",
              "\n",
              "    .dataframe thead th {\n",
              "        text-align: right;\n",
              "    }\n",
              "</style>\n",
              "<table border=\"1\" class=\"dataframe\">\n",
              "  <thead>\n",
              "    <tr style=\"text-align: right;\">\n",
              "      <th></th>\n",
              "      <th>SEQN</th>\n",
              "      <th>DIQ010</th>\n",
              "      <th>DIQ070</th>\n",
              "      <th>INQ020</th>\n",
              "      <th>INDFMMPI</th>\n",
              "      <th>INDFMMPC</th>\n",
              "      <th>BPXSY1</th>\n",
              "      <th>BPXDI1</th>\n",
              "      <th>BMXWT</th>\n",
              "      <th>BMXHT</th>\n",
              "      <th>...</th>\n",
              "      <th>Etnia_7.0</th>\n",
              "      <th>WHI</th>\n",
              "      <th>ALQ130_Tramos</th>\n",
              "      <th>REQ1</th>\n",
              "      <th>REQ2</th>\n",
              "      <th>REQ3</th>\n",
              "      <th>REQ4</th>\n",
              "      <th>REQ5</th>\n",
              "      <th>REQ_SUM</th>\n",
              "      <th>MET_SYM</th>\n",
              "    </tr>\n",
              "  </thead>\n",
              "  <tbody>\n",
              "    <tr>\n",
              "      <th>0</th>\n",
              "      <td>62161</td>\n",
              "      <td>0.0</td>\n",
              "      <td>2.0</td>\n",
              "      <td>1.0</td>\n",
              "      <td>2.10</td>\n",
              "      <td>3.0</td>\n",
              "      <td>110.0</td>\n",
              "      <td>82.0</td>\n",
              "      <td>69.2</td>\n",
              "      <td>172.3</td>\n",
              "      <td>...</td>\n",
              "      <td>0</td>\n",
              "      <td>0.470110</td>\n",
              "      <td>1.0</td>\n",
              "      <td>0</td>\n",
              "      <td>0</td>\n",
              "      <td>0</td>\n",
              "      <td>0</td>\n",
              "      <td>0</td>\n",
              "      <td>0</td>\n",
              "      <td>0</td>\n",
              "    </tr>\n",
              "    <tr>\n",
              "      <th>2</th>\n",
              "      <td>62163</td>\n",
              "      <td>0.0</td>\n",
              "      <td>2.0</td>\n",
              "      <td>1.0</td>\n",
              "      <td>5.00</td>\n",
              "      <td>3.0</td>\n",
              "      <td>112.0</td>\n",
              "      <td>38.0</td>\n",
              "      <td>49.4</td>\n",
              "      <td>168.9</td>\n",
              "      <td>...</td>\n",
              "      <td>0</td>\n",
              "      <td>0.382475</td>\n",
              "      <td>1.0</td>\n",
              "      <td>0</td>\n",
              "      <td>0</td>\n",
              "      <td>0</td>\n",
              "      <td>0</td>\n",
              "      <td>0</td>\n",
              "      <td>0</td>\n",
              "      <td>0</td>\n",
              "    </tr>\n",
              "    <tr>\n",
              "      <th>3</th>\n",
              "      <td>62164</td>\n",
              "      <td>0.0</td>\n",
              "      <td>2.0</td>\n",
              "      <td>1.0</td>\n",
              "      <td>1.11</td>\n",
              "      <td>1.0</td>\n",
              "      <td>116.0</td>\n",
              "      <td>56.0</td>\n",
              "      <td>67.2</td>\n",
              "      <td>170.1</td>\n",
              "      <td>...</td>\n",
              "      <td>0</td>\n",
              "      <td>0.470899</td>\n",
              "      <td>1.0</td>\n",
              "      <td>0</td>\n",
              "      <td>0</td>\n",
              "      <td>1</td>\n",
              "      <td>0</td>\n",
              "      <td>0</td>\n",
              "      <td>1</td>\n",
              "      <td>0</td>\n",
              "    </tr>\n",
              "    <tr>\n",
              "      <th>4</th>\n",
              "      <td>62165</td>\n",
              "      <td>0.0</td>\n",
              "      <td>2.0</td>\n",
              "      <td>0.0</td>\n",
              "      <td>0.50</td>\n",
              "      <td>1.0</td>\n",
              "      <td>110.0</td>\n",
              "      <td>64.0</td>\n",
              "      <td>69.1</td>\n",
              "      <td>159.4</td>\n",
              "      <td>...</td>\n",
              "      <td>0</td>\n",
              "      <td>0.543915</td>\n",
              "      <td>1.0</td>\n",
              "      <td>0</td>\n",
              "      <td>0</td>\n",
              "      <td>0</td>\n",
              "      <td>0</td>\n",
              "      <td>0</td>\n",
              "      <td>0</td>\n",
              "      <td>0</td>\n",
              "    </tr>\n",
              "    <tr>\n",
              "      <th>7</th>\n",
              "      <td>62169</td>\n",
              "      <td>0.0</td>\n",
              "      <td>2.0</td>\n",
              "      <td>0.0</td>\n",
              "      <td>0.38</td>\n",
              "      <td>1.0</td>\n",
              "      <td>124.0</td>\n",
              "      <td>80.0</td>\n",
              "      <td>54.6</td>\n",
              "      <td>164.8</td>\n",
              "      <td>...</td>\n",
              "      <td>0</td>\n",
              "      <td>0.422330</td>\n",
              "      <td>1.0</td>\n",
              "      <td>0</td>\n",
              "      <td>0</td>\n",
              "      <td>0</td>\n",
              "      <td>0</td>\n",
              "      <td>1</td>\n",
              "      <td>1</td>\n",
              "      <td>0</td>\n",
              "    </tr>\n",
              "    <tr>\n",
              "      <th>...</th>\n",
              "      <td>...</td>\n",
              "      <td>...</td>\n",
              "      <td>...</td>\n",
              "      <td>...</td>\n",
              "      <td>...</td>\n",
              "      <td>...</td>\n",
              "      <td>...</td>\n",
              "      <td>...</td>\n",
              "      <td>...</td>\n",
              "      <td>...</td>\n",
              "      <td>...</td>\n",
              "      <td>...</td>\n",
              "      <td>...</td>\n",
              "      <td>...</td>\n",
              "      <td>...</td>\n",
              "      <td>...</td>\n",
              "      <td>...</td>\n",
              "      <td>...</td>\n",
              "      <td>...</td>\n",
              "      <td>...</td>\n",
              "      <td>...</td>\n",
              "    </tr>\n",
              "    <tr>\n",
              "      <th>37601</th>\n",
              "      <td>102952</td>\n",
              "      <td>2.0</td>\n",
              "      <td>1.0</td>\n",
              "      <td>0.0</td>\n",
              "      <td>0.95</td>\n",
              "      <td>1.0</td>\n",
              "      <td>136.0</td>\n",
              "      <td>74.0</td>\n",
              "      <td>49.0</td>\n",
              "      <td>156.5</td>\n",
              "      <td>...</td>\n",
              "      <td>0</td>\n",
              "      <td>0.525240</td>\n",
              "      <td>1.0</td>\n",
              "      <td>0</td>\n",
              "      <td>0</td>\n",
              "      <td>0</td>\n",
              "      <td>1</td>\n",
              "      <td>1</td>\n",
              "      <td>2</td>\n",
              "      <td>0</td>\n",
              "    </tr>\n",
              "    <tr>\n",
              "      <th>37602</th>\n",
              "      <td>102953</td>\n",
              "      <td>0.0</td>\n",
              "      <td>2.0</td>\n",
              "      <td>1.0</td>\n",
              "      <td>2.10</td>\n",
              "      <td>3.0</td>\n",
              "      <td>124.0</td>\n",
              "      <td>76.0</td>\n",
              "      <td>97.4</td>\n",
              "      <td>164.9</td>\n",
              "      <td>...</td>\n",
              "      <td>0</td>\n",
              "      <td>0.696180</td>\n",
              "      <td>4.0</td>\n",
              "      <td>1</td>\n",
              "      <td>0</td>\n",
              "      <td>0</td>\n",
              "      <td>0</td>\n",
              "      <td>1</td>\n",
              "      <td>2</td>\n",
              "      <td>0</td>\n",
              "    </tr>\n",
              "    <tr>\n",
              "      <th>37603</th>\n",
              "      <td>102954</td>\n",
              "      <td>0.0</td>\n",
              "      <td>2.0</td>\n",
              "      <td>1.0</td>\n",
              "      <td>5.00</td>\n",
              "      <td>3.0</td>\n",
              "      <td>116.0</td>\n",
              "      <td>66.0</td>\n",
              "      <td>69.1</td>\n",
              "      <td>162.6</td>\n",
              "      <td>...</td>\n",
              "      <td>0</td>\n",
              "      <td>0.531365</td>\n",
              "      <td>1.0</td>\n",
              "      <td>0</td>\n",
              "      <td>0</td>\n",
              "      <td>0</td>\n",
              "      <td>0</td>\n",
              "      <td>0</td>\n",
              "      <td>0</td>\n",
              "      <td>0</td>\n",
              "    </tr>\n",
              "    <tr>\n",
              "      <th>37604</th>\n",
              "      <td>102955</td>\n",
              "      <td>0.0</td>\n",
              "      <td>2.0</td>\n",
              "      <td>1.0</td>\n",
              "      <td>2.44</td>\n",
              "      <td>3.0</td>\n",
              "      <td>114.0</td>\n",
              "      <td>62.0</td>\n",
              "      <td>111.9</td>\n",
              "      <td>156.6</td>\n",
              "      <td>...</td>\n",
              "      <td>0</td>\n",
              "      <td>0.724777</td>\n",
              "      <td>1.0</td>\n",
              "      <td>1</td>\n",
              "      <td>0</td>\n",
              "      <td>1</td>\n",
              "      <td>0</td>\n",
              "      <td>0</td>\n",
              "      <td>2</td>\n",
              "      <td>0</td>\n",
              "    </tr>\n",
              "    <tr>\n",
              "      <th>37605</th>\n",
              "      <td>102956</td>\n",
              "      <td>0.0</td>\n",
              "      <td>2.0</td>\n",
              "      <td>0.0</td>\n",
              "      <td>1.56</td>\n",
              "      <td>2.0</td>\n",
              "      <td>150.0</td>\n",
              "      <td>98.0</td>\n",
              "      <td>111.5</td>\n",
              "      <td>175.8</td>\n",
              "      <td>...</td>\n",
              "      <td>0</td>\n",
              "      <td>0.693970</td>\n",
              "      <td>1.0</td>\n",
              "      <td>1</td>\n",
              "      <td>1</td>\n",
              "      <td>1</td>\n",
              "      <td>1</td>\n",
              "      <td>0</td>\n",
              "      <td>4</td>\n",
              "      <td>1</td>\n",
              "    </tr>\n",
              "  </tbody>\n",
              "</table>\n",
              "<p>27148 rows × 59 columns</p>\n",
              "</div>\n",
              "      <button class=\"colab-df-convert\" onclick=\"convertToInteractive('df-c42d5987-92fa-4e4d-a279-1dc701ea93d7')\"\n",
              "              title=\"Convert this dataframe to an interactive table.\"\n",
              "              style=\"display:none;\">\n",
              "        \n",
              "  <svg xmlns=\"http://www.w3.org/2000/svg\" height=\"24px\"viewBox=\"0 0 24 24\"\n",
              "       width=\"24px\">\n",
              "    <path d=\"M0 0h24v24H0V0z\" fill=\"none\"/>\n",
              "    <path d=\"M18.56 5.44l.94 2.06.94-2.06 2.06-.94-2.06-.94-.94-2.06-.94 2.06-2.06.94zm-11 1L8.5 8.5l.94-2.06 2.06-.94-2.06-.94L8.5 2.5l-.94 2.06-2.06.94zm10 10l.94 2.06.94-2.06 2.06-.94-2.06-.94-.94-2.06-.94 2.06-2.06.94z\"/><path d=\"M17.41 7.96l-1.37-1.37c-.4-.4-.92-.59-1.43-.59-.52 0-1.04.2-1.43.59L10.3 9.45l-7.72 7.72c-.78.78-.78 2.05 0 2.83L4 21.41c.39.39.9.59 1.41.59.51 0 1.02-.2 1.41-.59l7.78-7.78 2.81-2.81c.8-.78.8-2.07 0-2.86zM5.41 20L4 18.59l7.72-7.72 1.47 1.35L5.41 20z\"/>\n",
              "  </svg>\n",
              "      </button>\n",
              "      \n",
              "  <style>\n",
              "    .colab-df-container {\n",
              "      display:flex;\n",
              "      flex-wrap:wrap;\n",
              "      gap: 12px;\n",
              "    }\n",
              "\n",
              "    .colab-df-convert {\n",
              "      background-color: #E8F0FE;\n",
              "      border: none;\n",
              "      border-radius: 50%;\n",
              "      cursor: pointer;\n",
              "      display: none;\n",
              "      fill: #1967D2;\n",
              "      height: 32px;\n",
              "      padding: 0 0 0 0;\n",
              "      width: 32px;\n",
              "    }\n",
              "\n",
              "    .colab-df-convert:hover {\n",
              "      background-color: #E2EBFA;\n",
              "      box-shadow: 0px 1px 2px rgba(60, 64, 67, 0.3), 0px 1px 3px 1px rgba(60, 64, 67, 0.15);\n",
              "      fill: #174EA6;\n",
              "    }\n",
              "\n",
              "    [theme=dark] .colab-df-convert {\n",
              "      background-color: #3B4455;\n",
              "      fill: #D2E3FC;\n",
              "    }\n",
              "\n",
              "    [theme=dark] .colab-df-convert:hover {\n",
              "      background-color: #434B5C;\n",
              "      box-shadow: 0px 1px 3px 1px rgba(0, 0, 0, 0.15);\n",
              "      filter: drop-shadow(0px 1px 2px rgba(0, 0, 0, 0.3));\n",
              "      fill: #FFFFFF;\n",
              "    }\n",
              "  </style>\n",
              "\n",
              "      <script>\n",
              "        const buttonEl =\n",
              "          document.querySelector('#df-c42d5987-92fa-4e4d-a279-1dc701ea93d7 button.colab-df-convert');\n",
              "        buttonEl.style.display =\n",
              "          google.colab.kernel.accessAllowed ? 'block' : 'none';\n",
              "\n",
              "        async function convertToInteractive(key) {\n",
              "          const element = document.querySelector('#df-c42d5987-92fa-4e4d-a279-1dc701ea93d7');\n",
              "          const dataTable =\n",
              "            await google.colab.kernel.invokeFunction('convertToInteractive',\n",
              "                                                     [key], {});\n",
              "          if (!dataTable) return;\n",
              "\n",
              "          const docLinkHtml = 'Like what you see? Visit the ' +\n",
              "            '<a target=\"_blank\" href=https://colab.research.google.com/notebooks/data_table.ipynb>data table notebook</a>'\n",
              "            + ' to learn more about interactive tables.';\n",
              "          element.innerHTML = '';\n",
              "          dataTable['output_type'] = 'display_data';\n",
              "          await google.colab.output.renderOutput(dataTable, element);\n",
              "          const docLink = document.createElement('div');\n",
              "          docLink.innerHTML = docLinkHtml;\n",
              "          element.appendChild(docLink);\n",
              "        }\n",
              "      </script>\n",
              "    </div>\n",
              "  </div>\n",
              "  "
            ]
          },
          "metadata": {},
          "execution_count": 18
        }
      ]
    },
    {
      "cell_type": "code",
      "source": [
        "import scipy.stats as stats\n",
        "insulina = df['LBXIN']\n",
        "len(stats.zscore(insulina))"
      ],
      "metadata": {
        "id": "C6X8wDSfBqQa",
        "colab": {
          "base_uri": "https://localhost:8080/"
        },
        "outputId": "9767f778-c0c7-4edf-fdd8-aaa9c299566d"
      },
      "execution_count": null,
      "outputs": [
        {
          "output_type": "execute_result",
          "data": {
            "text/plain": [
              "27148"
            ]
          },
          "metadata": {},
          "execution_count": 20
        }
      ]
    },
    {
      "cell_type": "code",
      "source": [
        "df.isna().sum()"
      ],
      "metadata": {
        "colab": {
          "base_uri": "https://localhost:8080/"
        },
        "id": "P3jF9PVo6qZ7",
        "outputId": "e2f89826-eda2-44c2-95c9-0f7037699033"
      },
      "execution_count": null,
      "outputs": [
        {
          "output_type": "execute_result",
          "data": {
            "text/plain": [
              "SEQN               0\n",
              "DIQ010             0\n",
              "DIQ070             0\n",
              "INQ020             0\n",
              "INDFMMPI           0\n",
              "INDFMMPC           0\n",
              "BPXSY1             0\n",
              "BPXDI1             0\n",
              "BMXWT              0\n",
              "BMXHT              0\n",
              "BMXBMI             0\n",
              "BMXWAIST           0\n",
              "BPQ030             0\n",
              "BPQ040A            0\n",
              "BPQ050A            0\n",
              "BPQ090D            0\n",
              "LBXGLU             0\n",
              "LBXIN              0\n",
              "MCQ010             0\n",
              "MCQ080             0\n",
              "MCQ220             0\n",
              "MCQ300C            0\n",
              "HIQ011             0\n",
              "LBDHDD             0\n",
              "SMQ020             0\n",
              "LBXTR              0\n",
              "RIAGENDR           0\n",
              "RIDAGEYR           0\n",
              "RIDRETH3           0\n",
              "DMDEDUC2           0\n",
              "PAQ605             0\n",
              "PAQ620             0\n",
              "PAQ635             0\n",
              "PAQ650             0\n",
              "PAQ665             0\n",
              "HSD010             0\n",
              "ALQ130             0\n",
              "DBQ700             0\n",
              "SLQ050             0\n",
              "DPQ020             0\n",
              "DPQ030             0\n",
              "DPQ040             0\n",
              "DPQ050             0\n",
              "RIDAGEYR_Tramos    0\n",
              "Etnia_1.0          0\n",
              "Etnia_2.0          0\n",
              "Etnia_3.0          0\n",
              "Etnia_4.0          0\n",
              "Etnia_6.0          0\n",
              "Etnia_7.0          0\n",
              "WHI                0\n",
              "ALQ130_Tramos      0\n",
              "REQ1               0\n",
              "REQ2               0\n",
              "REQ3               0\n",
              "REQ4               0\n",
              "REQ5               0\n",
              "REQ_SUM            0\n",
              "MET_SYM            0\n",
              "dtype: int64"
            ]
          },
          "metadata": {},
          "execution_count": 23
        }
      ]
    },
    {
      "cell_type": "code",
      "source": [
        "stats.zscore(insulina)"
      ],
      "metadata": {
        "colab": {
          "base_uri": "https://localhost:8080/"
        },
        "id": "eMQw36gb6xzJ",
        "outputId": "f578b9b0-e18c-448c-8336-368513ae4dcc"
      },
      "execution_count": null,
      "outputs": [
        {
          "output_type": "execute_result",
          "data": {
            "text/plain": [
              "array([ 0.55108879, -0.1540952 , -0.65121815, ..., -0.17633073,\n",
              "       -0.01750551,  7.46633898])"
            ]
          },
          "metadata": {},
          "execution_count": 22
        }
      ]
    },
    {
      "cell_type": "code",
      "source": [
        "df.apply(stats.zscore)"
      ],
      "metadata": {
        "colab": {
          "base_uri": "https://localhost:8080/",
          "height": 424
        },
        "id": "YH4xRDwx63gO",
        "outputId": "5bf20d26-3b54-41d9-feff-94019cddd747"
      },
      "execution_count": null,
      "outputs": [
        {
          "output_type": "execute_result",
          "data": {
            "text/plain": [
              "           SEQN    DIQ010    DIQ070    INQ020  INDFMMPI  INDFMMPC    BPXSY1  \\\n",
              "0     -1.769217 -0.403182  0.314887  0.542042 -0.067424  0.913287 -0.659605   \n",
              "2     -1.769048 -0.403182  0.314887  0.542042  1.951005  0.913287 -0.545507   \n",
              "3     -1.768964 -0.403182  0.314887  0.542042 -0.756473 -1.275344 -0.317312   \n",
              "4     -1.768880 -0.403182  0.314887 -1.844876 -1.181040 -1.275344 -0.659605   \n",
              "7     -1.768542 -0.403182  0.314887 -1.844876 -1.264561 -1.275344  0.139079   \n",
              "...         ...       ...       ...       ...       ...       ...       ...   \n",
              "37601  1.672116  2.480270 -3.175743 -1.844876 -0.867835 -1.275344  0.823666   \n",
              "37602  1.672201 -0.403182  0.314887  0.542042 -0.067424  0.913287  0.139079   \n",
              "37603  1.672285 -0.403182  0.314887  0.542042  1.951005  0.913287 -0.317312   \n",
              "37604  1.672370 -0.403182  0.314887  0.542042  0.169220  0.913287 -0.431410   \n",
              "37605  1.672454 -0.403182  0.314887 -1.844876 -0.443269 -0.181029  1.622350   \n",
              "\n",
              "         BPXDI1     BMXWT     BMXHT  ...  Etnia_7.0       WHI  ALQ130_Tramos  \\\n",
              "0      1.043448 -0.459824  0.582017  ...  -0.204816 -1.097618      -0.304337   \n",
              "2     -2.441204 -1.368043  0.237614  ...  -0.204816 -1.960177      -0.304337   \n",
              "3     -1.015665 -0.551564  0.359168  ...  -0.204816 -1.089850      -0.304337   \n",
              "4     -0.382091 -0.464411 -0.724688  ...  -0.204816 -0.371192      -0.304337   \n",
              "7      0.885055 -1.129521 -0.177695  ...  -0.204816 -1.567898      -0.304337   \n",
              "...         ...       ...       ...  ...        ...       ...            ...   \n",
              "37601  0.409875 -1.386391 -1.018443  ...  -0.204816 -0.555002      -0.304337   \n",
              "37602  0.568268  0.833699 -0.167566  ...  -0.204816  1.127487       5.785687   \n",
              "37603 -0.223698 -0.464411 -0.400544  ...  -0.204816 -0.494710      -0.304337   \n",
              "37604 -0.540485  1.498809 -1.008314  ...  -0.204816  1.408956      -0.304337   \n",
              "37605  2.310595  1.480461  0.936549  ...  -0.204816  1.105744      -0.304337   \n",
              "\n",
              "           REQ1      REQ2      REQ3      REQ4      REQ5   REQ_SUM   MET_SYM  \n",
              "0     -1.009772 -0.614704 -0.957510 -0.795651 -1.011410 -1.297024 -0.840509  \n",
              "2     -1.009772 -0.614704 -0.957510 -0.795651 -1.011410 -1.297024 -0.840509  \n",
              "3     -1.009772 -0.614704  1.044375 -0.795651 -1.011410 -0.693961 -0.840509  \n",
              "4     -1.009772 -0.614704 -0.957510 -0.795651 -1.011410 -1.297024 -0.840509  \n",
              "7     -1.009772 -0.614704 -0.957510 -0.795651  0.988718 -0.693961 -0.840509  \n",
              "...         ...       ...       ...       ...       ...       ...       ...  \n",
              "37601 -1.009772 -0.614704 -0.957510  1.256832  0.988718 -0.090899 -0.840509  \n",
              "37602  0.990322 -0.614704 -0.957510 -0.795651  0.988718 -0.090899 -0.840509  \n",
              "37603 -1.009772 -0.614704 -0.957510 -0.795651 -1.011410 -1.297024 -0.840509  \n",
              "37604  0.990322 -0.614704  1.044375 -0.795651 -1.011410 -0.090899 -0.840509  \n",
              "37605  0.990322  1.626799  1.044375  1.256832 -1.011410  1.115225  1.189755  \n",
              "\n",
              "[27148 rows x 59 columns]"
            ],
            "text/html": [
              "\n",
              "  <div id=\"df-19048318-9ce2-4b5c-b457-68f1e492f32e\">\n",
              "    <div class=\"colab-df-container\">\n",
              "      <div>\n",
              "<style scoped>\n",
              "    .dataframe tbody tr th:only-of-type {\n",
              "        vertical-align: middle;\n",
              "    }\n",
              "\n",
              "    .dataframe tbody tr th {\n",
              "        vertical-align: top;\n",
              "    }\n",
              "\n",
              "    .dataframe thead th {\n",
              "        text-align: right;\n",
              "    }\n",
              "</style>\n",
              "<table border=\"1\" class=\"dataframe\">\n",
              "  <thead>\n",
              "    <tr style=\"text-align: right;\">\n",
              "      <th></th>\n",
              "      <th>SEQN</th>\n",
              "      <th>DIQ010</th>\n",
              "      <th>DIQ070</th>\n",
              "      <th>INQ020</th>\n",
              "      <th>INDFMMPI</th>\n",
              "      <th>INDFMMPC</th>\n",
              "      <th>BPXSY1</th>\n",
              "      <th>BPXDI1</th>\n",
              "      <th>BMXWT</th>\n",
              "      <th>BMXHT</th>\n",
              "      <th>...</th>\n",
              "      <th>Etnia_7.0</th>\n",
              "      <th>WHI</th>\n",
              "      <th>ALQ130_Tramos</th>\n",
              "      <th>REQ1</th>\n",
              "      <th>REQ2</th>\n",
              "      <th>REQ3</th>\n",
              "      <th>REQ4</th>\n",
              "      <th>REQ5</th>\n",
              "      <th>REQ_SUM</th>\n",
              "      <th>MET_SYM</th>\n",
              "    </tr>\n",
              "  </thead>\n",
              "  <tbody>\n",
              "    <tr>\n",
              "      <th>0</th>\n",
              "      <td>-1.769217</td>\n",
              "      <td>-0.403182</td>\n",
              "      <td>0.314887</td>\n",
              "      <td>0.542042</td>\n",
              "      <td>-0.067424</td>\n",
              "      <td>0.913287</td>\n",
              "      <td>-0.659605</td>\n",
              "      <td>1.043448</td>\n",
              "      <td>-0.459824</td>\n",
              "      <td>0.582017</td>\n",
              "      <td>...</td>\n",
              "      <td>-0.204816</td>\n",
              "      <td>-1.097618</td>\n",
              "      <td>-0.304337</td>\n",
              "      <td>-1.009772</td>\n",
              "      <td>-0.614704</td>\n",
              "      <td>-0.957510</td>\n",
              "      <td>-0.795651</td>\n",
              "      <td>-1.011410</td>\n",
              "      <td>-1.297024</td>\n",
              "      <td>-0.840509</td>\n",
              "    </tr>\n",
              "    <tr>\n",
              "      <th>2</th>\n",
              "      <td>-1.769048</td>\n",
              "      <td>-0.403182</td>\n",
              "      <td>0.314887</td>\n",
              "      <td>0.542042</td>\n",
              "      <td>1.951005</td>\n",
              "      <td>0.913287</td>\n",
              "      <td>-0.545507</td>\n",
              "      <td>-2.441204</td>\n",
              "      <td>-1.368043</td>\n",
              "      <td>0.237614</td>\n",
              "      <td>...</td>\n",
              "      <td>-0.204816</td>\n",
              "      <td>-1.960177</td>\n",
              "      <td>-0.304337</td>\n",
              "      <td>-1.009772</td>\n",
              "      <td>-0.614704</td>\n",
              "      <td>-0.957510</td>\n",
              "      <td>-0.795651</td>\n",
              "      <td>-1.011410</td>\n",
              "      <td>-1.297024</td>\n",
              "      <td>-0.840509</td>\n",
              "    </tr>\n",
              "    <tr>\n",
              "      <th>3</th>\n",
              "      <td>-1.768964</td>\n",
              "      <td>-0.403182</td>\n",
              "      <td>0.314887</td>\n",
              "      <td>0.542042</td>\n",
              "      <td>-0.756473</td>\n",
              "      <td>-1.275344</td>\n",
              "      <td>-0.317312</td>\n",
              "      <td>-1.015665</td>\n",
              "      <td>-0.551564</td>\n",
              "      <td>0.359168</td>\n",
              "      <td>...</td>\n",
              "      <td>-0.204816</td>\n",
              "      <td>-1.089850</td>\n",
              "      <td>-0.304337</td>\n",
              "      <td>-1.009772</td>\n",
              "      <td>-0.614704</td>\n",
              "      <td>1.044375</td>\n",
              "      <td>-0.795651</td>\n",
              "      <td>-1.011410</td>\n",
              "      <td>-0.693961</td>\n",
              "      <td>-0.840509</td>\n",
              "    </tr>\n",
              "    <tr>\n",
              "      <th>4</th>\n",
              "      <td>-1.768880</td>\n",
              "      <td>-0.403182</td>\n",
              "      <td>0.314887</td>\n",
              "      <td>-1.844876</td>\n",
              "      <td>-1.181040</td>\n",
              "      <td>-1.275344</td>\n",
              "      <td>-0.659605</td>\n",
              "      <td>-0.382091</td>\n",
              "      <td>-0.464411</td>\n",
              "      <td>-0.724688</td>\n",
              "      <td>...</td>\n",
              "      <td>-0.204816</td>\n",
              "      <td>-0.371192</td>\n",
              "      <td>-0.304337</td>\n",
              "      <td>-1.009772</td>\n",
              "      <td>-0.614704</td>\n",
              "      <td>-0.957510</td>\n",
              "      <td>-0.795651</td>\n",
              "      <td>-1.011410</td>\n",
              "      <td>-1.297024</td>\n",
              "      <td>-0.840509</td>\n",
              "    </tr>\n",
              "    <tr>\n",
              "      <th>7</th>\n",
              "      <td>-1.768542</td>\n",
              "      <td>-0.403182</td>\n",
              "      <td>0.314887</td>\n",
              "      <td>-1.844876</td>\n",
              "      <td>-1.264561</td>\n",
              "      <td>-1.275344</td>\n",
              "      <td>0.139079</td>\n",
              "      <td>0.885055</td>\n",
              "      <td>-1.129521</td>\n",
              "      <td>-0.177695</td>\n",
              "      <td>...</td>\n",
              "      <td>-0.204816</td>\n",
              "      <td>-1.567898</td>\n",
              "      <td>-0.304337</td>\n",
              "      <td>-1.009772</td>\n",
              "      <td>-0.614704</td>\n",
              "      <td>-0.957510</td>\n",
              "      <td>-0.795651</td>\n",
              "      <td>0.988718</td>\n",
              "      <td>-0.693961</td>\n",
              "      <td>-0.840509</td>\n",
              "    </tr>\n",
              "    <tr>\n",
              "      <th>...</th>\n",
              "      <td>...</td>\n",
              "      <td>...</td>\n",
              "      <td>...</td>\n",
              "      <td>...</td>\n",
              "      <td>...</td>\n",
              "      <td>...</td>\n",
              "      <td>...</td>\n",
              "      <td>...</td>\n",
              "      <td>...</td>\n",
              "      <td>...</td>\n",
              "      <td>...</td>\n",
              "      <td>...</td>\n",
              "      <td>...</td>\n",
              "      <td>...</td>\n",
              "      <td>...</td>\n",
              "      <td>...</td>\n",
              "      <td>...</td>\n",
              "      <td>...</td>\n",
              "      <td>...</td>\n",
              "      <td>...</td>\n",
              "      <td>...</td>\n",
              "    </tr>\n",
              "    <tr>\n",
              "      <th>37601</th>\n",
              "      <td>1.672116</td>\n",
              "      <td>2.480270</td>\n",
              "      <td>-3.175743</td>\n",
              "      <td>-1.844876</td>\n",
              "      <td>-0.867835</td>\n",
              "      <td>-1.275344</td>\n",
              "      <td>0.823666</td>\n",
              "      <td>0.409875</td>\n",
              "      <td>-1.386391</td>\n",
              "      <td>-1.018443</td>\n",
              "      <td>...</td>\n",
              "      <td>-0.204816</td>\n",
              "      <td>-0.555002</td>\n",
              "      <td>-0.304337</td>\n",
              "      <td>-1.009772</td>\n",
              "      <td>-0.614704</td>\n",
              "      <td>-0.957510</td>\n",
              "      <td>1.256832</td>\n",
              "      <td>0.988718</td>\n",
              "      <td>-0.090899</td>\n",
              "      <td>-0.840509</td>\n",
              "    </tr>\n",
              "    <tr>\n",
              "      <th>37602</th>\n",
              "      <td>1.672201</td>\n",
              "      <td>-0.403182</td>\n",
              "      <td>0.314887</td>\n",
              "      <td>0.542042</td>\n",
              "      <td>-0.067424</td>\n",
              "      <td>0.913287</td>\n",
              "      <td>0.139079</td>\n",
              "      <td>0.568268</td>\n",
              "      <td>0.833699</td>\n",
              "      <td>-0.167566</td>\n",
              "      <td>...</td>\n",
              "      <td>-0.204816</td>\n",
              "      <td>1.127487</td>\n",
              "      <td>5.785687</td>\n",
              "      <td>0.990322</td>\n",
              "      <td>-0.614704</td>\n",
              "      <td>-0.957510</td>\n",
              "      <td>-0.795651</td>\n",
              "      <td>0.988718</td>\n",
              "      <td>-0.090899</td>\n",
              "      <td>-0.840509</td>\n",
              "    </tr>\n",
              "    <tr>\n",
              "      <th>37603</th>\n",
              "      <td>1.672285</td>\n",
              "      <td>-0.403182</td>\n",
              "      <td>0.314887</td>\n",
              "      <td>0.542042</td>\n",
              "      <td>1.951005</td>\n",
              "      <td>0.913287</td>\n",
              "      <td>-0.317312</td>\n",
              "      <td>-0.223698</td>\n",
              "      <td>-0.464411</td>\n",
              "      <td>-0.400544</td>\n",
              "      <td>...</td>\n",
              "      <td>-0.204816</td>\n",
              "      <td>-0.494710</td>\n",
              "      <td>-0.304337</td>\n",
              "      <td>-1.009772</td>\n",
              "      <td>-0.614704</td>\n",
              "      <td>-0.957510</td>\n",
              "      <td>-0.795651</td>\n",
              "      <td>-1.011410</td>\n",
              "      <td>-1.297024</td>\n",
              "      <td>-0.840509</td>\n",
              "    </tr>\n",
              "    <tr>\n",
              "      <th>37604</th>\n",
              "      <td>1.672370</td>\n",
              "      <td>-0.403182</td>\n",
              "      <td>0.314887</td>\n",
              "      <td>0.542042</td>\n",
              "      <td>0.169220</td>\n",
              "      <td>0.913287</td>\n",
              "      <td>-0.431410</td>\n",
              "      <td>-0.540485</td>\n",
              "      <td>1.498809</td>\n",
              "      <td>-1.008314</td>\n",
              "      <td>...</td>\n",
              "      <td>-0.204816</td>\n",
              "      <td>1.408956</td>\n",
              "      <td>-0.304337</td>\n",
              "      <td>0.990322</td>\n",
              "      <td>-0.614704</td>\n",
              "      <td>1.044375</td>\n",
              "      <td>-0.795651</td>\n",
              "      <td>-1.011410</td>\n",
              "      <td>-0.090899</td>\n",
              "      <td>-0.840509</td>\n",
              "    </tr>\n",
              "    <tr>\n",
              "      <th>37605</th>\n",
              "      <td>1.672454</td>\n",
              "      <td>-0.403182</td>\n",
              "      <td>0.314887</td>\n",
              "      <td>-1.844876</td>\n",
              "      <td>-0.443269</td>\n",
              "      <td>-0.181029</td>\n",
              "      <td>1.622350</td>\n",
              "      <td>2.310595</td>\n",
              "      <td>1.480461</td>\n",
              "      <td>0.936549</td>\n",
              "      <td>...</td>\n",
              "      <td>-0.204816</td>\n",
              "      <td>1.105744</td>\n",
              "      <td>-0.304337</td>\n",
              "      <td>0.990322</td>\n",
              "      <td>1.626799</td>\n",
              "      <td>1.044375</td>\n",
              "      <td>1.256832</td>\n",
              "      <td>-1.011410</td>\n",
              "      <td>1.115225</td>\n",
              "      <td>1.189755</td>\n",
              "    </tr>\n",
              "  </tbody>\n",
              "</table>\n",
              "<p>27148 rows × 59 columns</p>\n",
              "</div>\n",
              "      <button class=\"colab-df-convert\" onclick=\"convertToInteractive('df-19048318-9ce2-4b5c-b457-68f1e492f32e')\"\n",
              "              title=\"Convert this dataframe to an interactive table.\"\n",
              "              style=\"display:none;\">\n",
              "        \n",
              "  <svg xmlns=\"http://www.w3.org/2000/svg\" height=\"24px\"viewBox=\"0 0 24 24\"\n",
              "       width=\"24px\">\n",
              "    <path d=\"M0 0h24v24H0V0z\" fill=\"none\"/>\n",
              "    <path d=\"M18.56 5.44l.94 2.06.94-2.06 2.06-.94-2.06-.94-.94-2.06-.94 2.06-2.06.94zm-11 1L8.5 8.5l.94-2.06 2.06-.94-2.06-.94L8.5 2.5l-.94 2.06-2.06.94zm10 10l.94 2.06.94-2.06 2.06-.94-2.06-.94-.94-2.06-.94 2.06-2.06.94z\"/><path d=\"M17.41 7.96l-1.37-1.37c-.4-.4-.92-.59-1.43-.59-.52 0-1.04.2-1.43.59L10.3 9.45l-7.72 7.72c-.78.78-.78 2.05 0 2.83L4 21.41c.39.39.9.59 1.41.59.51 0 1.02-.2 1.41-.59l7.78-7.78 2.81-2.81c.8-.78.8-2.07 0-2.86zM5.41 20L4 18.59l7.72-7.72 1.47 1.35L5.41 20z\"/>\n",
              "  </svg>\n",
              "      </button>\n",
              "      \n",
              "  <style>\n",
              "    .colab-df-container {\n",
              "      display:flex;\n",
              "      flex-wrap:wrap;\n",
              "      gap: 12px;\n",
              "    }\n",
              "\n",
              "    .colab-df-convert {\n",
              "      background-color: #E8F0FE;\n",
              "      border: none;\n",
              "      border-radius: 50%;\n",
              "      cursor: pointer;\n",
              "      display: none;\n",
              "      fill: #1967D2;\n",
              "      height: 32px;\n",
              "      padding: 0 0 0 0;\n",
              "      width: 32px;\n",
              "    }\n",
              "\n",
              "    .colab-df-convert:hover {\n",
              "      background-color: #E2EBFA;\n",
              "      box-shadow: 0px 1px 2px rgba(60, 64, 67, 0.3), 0px 1px 3px 1px rgba(60, 64, 67, 0.15);\n",
              "      fill: #174EA6;\n",
              "    }\n",
              "\n",
              "    [theme=dark] .colab-df-convert {\n",
              "      background-color: #3B4455;\n",
              "      fill: #D2E3FC;\n",
              "    }\n",
              "\n",
              "    [theme=dark] .colab-df-convert:hover {\n",
              "      background-color: #434B5C;\n",
              "      box-shadow: 0px 1px 3px 1px rgba(0, 0, 0, 0.15);\n",
              "      filter: drop-shadow(0px 1px 2px rgba(0, 0, 0, 0.3));\n",
              "      fill: #FFFFFF;\n",
              "    }\n",
              "  </style>\n",
              "\n",
              "      <script>\n",
              "        const buttonEl =\n",
              "          document.querySelector('#df-19048318-9ce2-4b5c-b457-68f1e492f32e button.colab-df-convert');\n",
              "        buttonEl.style.display =\n",
              "          google.colab.kernel.accessAllowed ? 'block' : 'none';\n",
              "\n",
              "        async function convertToInteractive(key) {\n",
              "          const element = document.querySelector('#df-19048318-9ce2-4b5c-b457-68f1e492f32e');\n",
              "          const dataTable =\n",
              "            await google.colab.kernel.invokeFunction('convertToInteractive',\n",
              "                                                     [key], {});\n",
              "          if (!dataTable) return;\n",
              "\n",
              "          const docLinkHtml = 'Like what you see? Visit the ' +\n",
              "            '<a target=\"_blank\" href=https://colab.research.google.com/notebooks/data_table.ipynb>data table notebook</a>'\n",
              "            + ' to learn more about interactive tables.';\n",
              "          element.innerHTML = '';\n",
              "          dataTable['output_type'] = 'display_data';\n",
              "          await google.colab.output.renderOutput(dataTable, element);\n",
              "          const docLink = document.createElement('div');\n",
              "          docLink.innerHTML = docLinkHtml;\n",
              "          element.appendChild(docLink);\n",
              "        }\n",
              "      </script>\n",
              "    </div>\n",
              "  </div>\n",
              "  "
            ]
          },
          "metadata": {},
          "execution_count": 27
        }
      ]
    },
    {
      "cell_type": "code",
      "source": [
        "df['LBXGLU'].quantile(0.99)"
      ],
      "metadata": {
        "colab": {
          "base_uri": "https://localhost:8080/"
        },
        "id": "tMglZx1m76kR",
        "outputId": "6d801175-788f-483f-9029-029f1a47ceb1"
      },
      "execution_count": null,
      "outputs": [
        {
          "output_type": "execute_result",
          "data": {
            "text/plain": [
              "220.0"
            ]
          },
          "metadata": {},
          "execution_count": 34
        }
      ]
    },
    {
      "cell_type": "code",
      "source": [
        "df['LBXGLU'].quantile(0.01)"
      ],
      "metadata": {
        "colab": {
          "base_uri": "https://localhost:8080/"
        },
        "id": "c7itEWDv8Z9x",
        "outputId": "310ec072-931f-4231-fe0d-33b50dac37e1"
      },
      "execution_count": null,
      "outputs": [
        {
          "output_type": "execute_result",
          "data": {
            "text/plain": [
              "80.0"
            ]
          },
          "metadata": {},
          "execution_count": 62
        }
      ]
    },
    {
      "cell_type": "code",
      "source": [
        "df_v3['BMXBMI'].describe()"
      ],
      "metadata": {
        "colab": {
          "base_uri": "https://localhost:8080/"
        },
        "id": "mL0IdUd38g0b",
        "outputId": "6d225cbd-407f-404a-ec3b-cf4799ca8547"
      },
      "execution_count": null,
      "outputs": [
        {
          "output_type": "execute_result",
          "data": {
            "text/plain": [
              "count    26876.000000\n",
              "mean        28.170036\n",
              "std          6.449744\n",
              "min         13.200000\n",
              "25%         23.500000\n",
              "50%         27.400000\n",
              "75%         31.700000\n",
              "max         51.100000\n",
              "Name: BMXBMI, dtype: float64"
            ]
          },
          "metadata": {},
          "execution_count": 73
        }
      ]
    },
    {
      "cell_type": "code",
      "source": [
        "#BORRAR OUTLIERS\n",
        "Delete_bmi = df[df['BMXBMI'] <= df['BMXBMI'].quantile(0.01) ].index\n",
        "Delete_bmi2 = df[df['BMXBMI'] >= df['BMXBMI'].quantile(0.99)].index\n",
        "Delete_di = df[df['BPXDI1'] <= df['BPXDI1'].quantile(0.01) ].index\n",
        "Delete_di2 = df[df['BPXDI1'] >= df['BPXDI1'].quantile(0.99)].index\n",
        "Delete_in = df[df['LBXIN'] <= df['LBXIN'].quantile(0.01) ].index\n",
        "Delete_in2 = df[df['LBXIN'] >= df['LBXIN'].quantile(0.99)].index\n",
        "Delete_glu = df[df['LBXGLU'] <= df['LBXGLU'].quantile(0.01) ].index\n",
        "Delete_glu2 = df[df['LBXGLU'] >= df['LBXGLU'].quantile(0.99)].index\n",
        "Delete_sy = df[df['BPXSY1'] <= df['BPXSY1'].quantile(0.01) ].index\n",
        "Delete_sy2 = df[df['BPXSY1'] >= df['BPXSY1'].quantile(0.99)].index\n",
        "df_v3 = df.drop(Delete_glu)\n",
        "df_v3 = df.drop(Delete_glu2)\n",
        "df_v3 = df.drop(Delete_in)\n",
        "df_v3 = df.drop(Delete_in2)\n",
        "df_v3 = df.drop(Delete_di)\n",
        "df_v3 = df.drop(Delete_di2)\n",
        "df_v3 = df.drop(Delete_bmi)\n",
        "df_v3 = df.drop(Delete_bmi2)\n",
        "df_v3 = df.drop(Delete_sy)\n",
        "df_v3 = df.drop(Delete_sy2)"
      ],
      "metadata": {
        "id": "czPQrfIs8i25"
      },
      "execution_count": null,
      "outputs": []
    },
    {
      "cell_type": "code",
      "source": [
        "df_v3['BMXBMI'].describe()"
      ],
      "metadata": {
        "colab": {
          "base_uri": "https://localhost:8080/"
        },
        "id": "W4aP8MXO9N5C",
        "outputId": "10009679-d938-4d10-daa6-bc0d12ac8940"
      },
      "execution_count": null,
      "outputs": [
        {
          "output_type": "execute_result",
          "data": {
            "text/plain": [
              "count    26845.000000\n",
              "mean        28.462703\n",
              "std          7.063674\n",
              "min         13.200000\n",
              "25%         23.500000\n",
              "50%         27.500000\n",
              "75%         31.900000\n",
              "max         86.200000\n",
              "Name: BMXBMI, dtype: float64"
            ]
          },
          "metadata": {},
          "execution_count": 31
        }
      ]
    },
    {
      "cell_type": "code",
      "source": [
        "df_v3.to_csv('df_v3.csv')"
      ],
      "metadata": {
        "id": "6LQBRyNm4El8"
      },
      "execution_count": null,
      "outputs": []
    },
    {
      "cell_type": "code",
      "source": [
        "df_v3.isna().sum()"
      ],
      "metadata": {
        "colab": {
          "base_uri": "https://localhost:8080/"
        },
        "id": "2XUWImh039H9",
        "outputId": "801210d5-b256-4e8a-8abf-e8cd60ff3beb"
      },
      "execution_count": null,
      "outputs": [
        {
          "output_type": "execute_result",
          "data": {
            "text/plain": [
              "SEQN               0\n",
              "DIQ010             0\n",
              "DIQ070             0\n",
              "INQ020             0\n",
              "INDFMMPI           0\n",
              "INDFMMPC           0\n",
              "BPXSY1             0\n",
              "BPXDI1             0\n",
              "BMXWT              0\n",
              "BMXHT              0\n",
              "BMXBMI             0\n",
              "BMXWAIST           0\n",
              "BPQ030             0\n",
              "BPQ040A            0\n",
              "BPQ050A            0\n",
              "BPQ090D            0\n",
              "LBXGLU             0\n",
              "LBXIN              0\n",
              "MCQ010             0\n",
              "MCQ080             0\n",
              "MCQ220             0\n",
              "MCQ300C            0\n",
              "HIQ011             0\n",
              "LBDHDD             0\n",
              "SMQ020             0\n",
              "LBXTR              0\n",
              "RIAGENDR           0\n",
              "RIDAGEYR           0\n",
              "RIDRETH3           0\n",
              "DMDEDUC2           0\n",
              "PAQ605             0\n",
              "PAQ620             0\n",
              "PAQ635             0\n",
              "PAQ650             0\n",
              "PAQ665             0\n",
              "HSD010             0\n",
              "ALQ130             0\n",
              "DBQ700             0\n",
              "SLQ050             0\n",
              "DPQ020             0\n",
              "DPQ030             0\n",
              "DPQ040             0\n",
              "DPQ050             0\n",
              "RIDAGEYR_Tramos    0\n",
              "Etnia_1.0          0\n",
              "Etnia_2.0          0\n",
              "Etnia_3.0          0\n",
              "Etnia_4.0          0\n",
              "Etnia_6.0          0\n",
              "Etnia_7.0          0\n",
              "WHI                0\n",
              "ALQ130_Tramos      0\n",
              "REQ1               0\n",
              "REQ2               0\n",
              "REQ3               0\n",
              "REQ4               0\n",
              "REQ5               0\n",
              "REQ_SUM            0\n",
              "MET_SYM            0\n",
              "dtype: int64"
            ]
          },
          "metadata": {},
          "execution_count": 7
        }
      ]
    },
    {
      "cell_type": "code",
      "source": [
        "#PERIMETRO ABDOMINAL\n",
        "#Presión sanguínea\n",
        "sns.set_theme(style=\"whitegrid\")\n",
        "fig, ax = plt.subplots(figsize = (20, 10))\n",
        "#df = sns.load_dataset(\"df\")\n",
        "ax = sns.boxplot(data = df_v3, orient = 'h', x=df[\"LBXGLU\"], palette=\"Set2\")"
      ],
      "metadata": {
        "colab": {
          "base_uri": "https://localhost:8080/",
          "height": 610
        },
        "id": "xYPxCL4I9PhD",
        "outputId": "9539be9e-1f84-4faf-8da3-09d2c119585d"
      },
      "execution_count": null,
      "outputs": [
        {
          "output_type": "display_data",
          "data": {
            "text/plain": [
              "<Figure size 1440x720 with 1 Axes>"
            ],
            "image/png": "[encoded data removed]"
          },
          "metadata": {}
        }
      ]
    },
    {
      "cell_type": "code",
      "source": [
        "df_v3 = df_v3.drop(['REQ1', 'REQ2', 'REQ3', 'REQ4', 'REQ5', 'REQ_SUM', 'MET_SYM'], axis = 1)"
      ],
      "metadata": {
        "id": "hVHfbeDn8wRd"
      },
      "execution_count": null,
      "outputs": []
    },
    {
      "cell_type": "code",
      "source": [
        "df_v3.isna().sum()"
      ],
      "metadata": {
        "colab": {
          "base_uri": "https://localhost:8080/"
        },
        "id": "zr07MbX19Xok",
        "outputId": "e791d1fb-2cc0-4be2-ff60-ded28e5caece"
      },
      "execution_count": null,
      "outputs": [
        {
          "output_type": "execute_result",
          "data": {
            "text/plain": [
              "SEQN               0\n",
              "DIQ010             0\n",
              "DIQ070             0\n",
              "INQ020             0\n",
              "INDFMMPI           0\n",
              "INDFMMPC           0\n",
              "BPXSY1             0\n",
              "BPXDI1             0\n",
              "BMXWT              0\n",
              "BMXHT              0\n",
              "BMXBMI             0\n",
              "BMXWAIST           0\n",
              "BPQ030             0\n",
              "BPQ040A            0\n",
              "BPQ050A            0\n",
              "BPQ090D            0\n",
              "LBXGLU             0\n",
              "LBXIN              0\n",
              "MCQ010             0\n",
              "MCQ080             0\n",
              "MCQ220             0\n",
              "MCQ300C            0\n",
              "HIQ011             0\n",
              "LBDHDD             0\n",
              "SMQ020             0\n",
              "LBXTR              0\n",
              "RIAGENDR           0\n",
              "RIDAGEYR           0\n",
              "RIDRETH3           0\n",
              "DMDEDUC2           0\n",
              "PAQ605             0\n",
              "PAQ620             0\n",
              "PAQ635             0\n",
              "PAQ650             0\n",
              "PAQ665             0\n",
              "HSD010             0\n",
              "ALQ130             0\n",
              "DBQ700             0\n",
              "SLQ050             0\n",
              "DPQ020             0\n",
              "DPQ030             0\n",
              "DPQ040             0\n",
              "DPQ050             0\n",
              "RIDAGEYR_Tramos    0\n",
              "Etnia_1.0          0\n",
              "Etnia_2.0          0\n",
              "Etnia_3.0          0\n",
              "Etnia_4.0          0\n",
              "Etnia_6.0          0\n",
              "Etnia_7.0          0\n",
              "WHI                0\n",
              "ALQ130_Tramos      0\n",
              "dtype: int64"
            ]
          },
          "metadata": {},
          "execution_count": 55
        }
      ]
    },
    {
      "cell_type": "markdown",
      "source": [
        "##PREVALENCIA SM\n"
      ],
      "metadata": {
        "id": "R7bPd-C78r4d"
      }
    },
    {
      "cell_type": "code",
      "source": [
        "df = df_v3\n",
        "df.shape"
      ],
      "metadata": {
        "id": "rYKoDl8w-Brj",
        "colab": {
          "base_uri": "https://localhost:8080/"
        },
        "outputId": "a1fcf98a-5589-463d-9c8e-5d249fe5b31b"
      },
      "execution_count": null,
      "outputs": [
        {
          "output_type": "execute_result",
          "data": {
            "text/plain": [
              "(26845, 52)"
            ]
          },
          "metadata": {},
          "execution_count": 57
        }
      ]
    },
    {
      "cell_type": "code",
      "source": [
        "#CONDICIONES DE SINDROME METABOLICO\n",
        "#CONDICIONES Y AÑADIR FILAS DE REQUISITOS\n",
        "\n",
        "#CONDICION REQUISITO 1\n",
        "\n",
        "condiciones_REQ1 = [((df['RIAGENDR'] == 2) & (df['BMXWAIST']>= 102)) | ((df['RIAGENDR'] == 1) & (df['BMXWAIST']>= 88)),\n",
        "                     ((df['RIAGENDR'] == 2) & (df['BMXWAIST']< 102)) | ((df['RIAGENDR'] == 1) & (df['BMXWAIST']< 88)),\n",
        "                    ]\n",
        "                                                  \n",
        "opciones_REQ1 = [1, 0]\n",
        "\n",
        "df['REQ1'] = np.select(condiciones_REQ1, opciones_REQ1)\n",
        "\n",
        "\n",
        "#CONDICION REQUISITO 2\n",
        "\n",
        "condiciones_REQ2 = [(df['LBXTR'] >= 150) | (df['BPQ090D'] == 1),\n",
        "                     (df['LBXTR'] < 150) | (df['BPQ090D'] == 2) \n",
        "                    ]\n",
        "                                                  \n",
        "opciones_REQ2 = [1, 0]\n",
        "\n",
        "df['REQ2'] = np.select(condiciones_REQ2, opciones_REQ2)\n",
        "\n",
        "#CONDICION REQUISITO 3\n",
        "\n",
        "condiciones_REQ3 = [((df['RIAGENDR'] == 2) & (df['LBDHDD']<= 50 )) | ((df['RIAGENDR'] == 1) & (df['LBDHDD'] <= 40)) | (df['BPQ040A'] == 1) ,\n",
        "                     ((df['RIAGENDR'] == 2) & (df['LBDHDD']> 50)) | ((df['RIAGENDR'] == 1) & (df['LBDHDD'] > 40)) | (df['BPQ040A'] == 2),\n",
        "                    ]\n",
        "                                                  \n",
        "opciones_REQ3 = [1, 0]\n",
        "\n",
        "df['REQ3'] = np.select(condiciones_REQ3, opciones_REQ3)\n",
        "\n",
        "\n",
        "\n",
        "#CONDICION REQUISITO 4\n",
        "\n",
        "\n",
        "condiciones_REQ4 = [(df['BPXSY1'] >= 130) | (df['BPXDI1'] >= 85) | (df['BPQ050A'] == 1),\n",
        "                     (df['BPXSY1'] < 130) | (df['BPXDI1'] < 85) | (df['BPQ050A'] == 2)\n",
        "                    ]\n",
        "                                                  \n",
        "opciones_REQ4 = [1, 0]\n",
        "\n",
        "df['REQ4'] = np.select(condiciones_REQ4, opciones_REQ4)\n",
        "\n",
        "#CONDICION REQUISITO 5\n",
        "\n",
        "condiciones_REQ5 = [(df['LBXGLU'] >= 100) | (df['DIQ070'] == 1),\n",
        "                     (df['LBXGLU'] < 100) | (df['DIQ070'] == 2)\n",
        "                    ]\n",
        "                                                  \n",
        "opciones_REQ5 = [1, 0]\n",
        "\n",
        "df['REQ5'] = np.select(condiciones_REQ5, opciones_REQ5)\n",
        "\n",
        "#SUMA DE REQUISITOS POR FILA\n",
        "df['REQ_SUM'] = df['REQ1'] + df['REQ2'] + df['REQ3'] + df['REQ4'] + df['REQ5']\n",
        "\n",
        "#ENCODING METSYM 1 ES QUE TIENE Y 0 ES QUE NO\n",
        "condiciones_METSYM = [(df['REQ_SUM'] >= 3),\n",
        "                     (df['REQ_SUM'] < 3)\n",
        "                    ]\n",
        "                                                  \n",
        "opciones_METSYM = [1, 0]\n",
        "\n",
        "df['MET_SYM'] = np.select(condiciones_METSYM, opciones_METSYM)\n"
      ],
      "metadata": {
        "id": "nyIMmD2szhQZ"
      },
      "execution_count": null,
      "outputs": []
    },
    {
      "cell_type": "code",
      "source": [
        "#PREVALENCIA EN PORCENTAJE\n",
        "\n",
        "#porcentaje de los que presentan sindrome metabolico\n",
        "porcentaje_METSYM_1112 = 100 * df['MET_SYM'].value_counts() / len(df['MET_SYM'])\n",
        "#conteo de valores\n",
        "df['MET_SYM'].value_counts()\n",
        "print(\"porcentaje SM: \", porcentaje_METSYM_1112)\n",
        "#df.to_csv('df.csv')"
      ],
      "metadata": {
        "colab": {
          "base_uri": "https://localhost:8080/"
        },
        "id": "lHNoCS5l-GSU",
        "outputId": "63e502d7-4845-432a-f181-f49efa36e772"
      },
      "execution_count": null,
      "outputs": [
        {
          "output_type": "stream",
          "name": "stdout",
          "text": [
            "porcentaje SM:  0    59.15068\n",
            "1    40.84932\n",
            "Name: MET_SYM, dtype: float64\n"
          ]
        }
      ]
    },
    {
      "cell_type": "code",
      "source": [
        "df.to_csv('df3_sinoutliersMS.csv')"
      ],
      "metadata": {
        "id": "farHomrq-Il2"
      },
      "execution_count": null,
      "outputs": []
    },
    {
      "cell_type": "markdown",
      "source": [
        "##Justificación de los outliers"
      ],
      "metadata": {
        "id": "RG2g96R-RN0x"
      }
    },
    {
      "cell_type": "code",
      "source": [
        "#PERIMETRO ABDOMINAL\n",
        "#Presión sanguínea\n",
        "sns.set_theme(style=\"whitegrid\")\n",
        "fig, ax = plt.subplots(figsize = (6, 8))\n",
        "#df = sns.load_dataset(\"df\")\n",
        "ax = sns.boxplot(data = df, x=df_raw['DIQ010'], y=df_raw[\"LBXIN\"], palette=\"Set2\", linewidth=0.5, width=0.3)"
      ],
      "metadata": {
        "colab": {
          "base_uri": "https://localhost:8080/",
          "height": 502
        },
        "id": "dkGuTPTGKjAL",
        "outputId": "bab4219b-c269-4411-fc30-95c50a0e5f27"
      },
      "execution_count": null,
      "outputs": [
        {
          "output_type": "display_data",
          "data": {
            "text/plain": [
              "<Figure size 432x576 with 1 Axes>"
            ],
            "image/png": "[encoded data removed]"
          },
          "metadata": {}
        }
      ]
    },
    {
      "cell_type": "code",
      "source": [
        "#PERIMETRO ABDOMINAL\n",
        "#Presión sanguínea\n",
        "sns.set_theme(style=\"whitegrid\")\n",
        "fig, ax = plt.subplots(figsize = (20, 12))\n",
        "#df = sns.load_dataset(\"df\")\n",
        "ax = sns.boxplot(data = df, x=df_raw['DIQ010'], y=df_raw[\"LBXIN\"], palette=\"Set2\")"
      ],
      "metadata": {
        "colab": {
          "base_uri": "https://localhost:8080/",
          "height": 720
        },
        "id": "sFr9xwmgS0i1",
        "outputId": "3e6a697c-d0d0-49e5-a95b-8f0f425e622e"
      },
      "execution_count": null,
      "outputs": [
        {
          "output_type": "display_data",
          "data": {
            "text/plain": [
              "<Figure size 1440x864 with 1 Axes>"
            ],
            "image/png": "[encoded data removed]"
          },
          "metadata": {}
        }
      ]
    },
    {
      "cell_type": "code",
      "source": [
        "df_v2.shape"
      ],
      "metadata": {
        "colab": {
          "base_uri": "https://localhost:8080/"
        },
        "id": "L_oNWEySTXWj",
        "outputId": "86d62ffb-ab95-418e-b2ed-f66460dc84b3"
      },
      "execution_count": null,
      "outputs": [
        {
          "output_type": "execute_result",
          "data": {
            "text/plain": [
              "(27148, 59)"
            ]
          },
          "metadata": {},
          "execution_count": 82
        }
      ]
    },
    {
      "cell_type": "code",
      "source": [
        "df.shape"
      ],
      "metadata": {
        "colab": {
          "base_uri": "https://localhost:8080/"
        },
        "id": "-hP5XAKETxnv",
        "outputId": "e779ab5f-af6b-41b6-8940-1b9dde55b4bf"
      },
      "execution_count": null,
      "outputs": [
        {
          "output_type": "execute_result",
          "data": {
            "text/plain": [
              "(26845, 59)"
            ]
          },
          "metadata": {},
          "execution_count": 85
        }
      ]
    },
    {
      "cell_type": "code",
      "source": [
        "df['DIQ010'].unique()"
      ],
      "metadata": {
        "colab": {
          "base_uri": "https://localhost:8080/"
        },
        "id": "KhYA-N4uUAs-",
        "outputId": "0850e177-ddd0-40bc-fe74-4e2bf38ede69"
      },
      "execution_count": null,
      "outputs": [
        {
          "output_type": "execute_result",
          "data": {
            "text/plain": [
              "array([0., 2.])"
            ]
          },
          "metadata": {},
          "execution_count": 89
        }
      ]
    },
    {
      "cell_type": "code",
      "source": [
        "df_v3['DIQ010'].unique()"
      ],
      "metadata": {
        "colab": {
          "base_uri": "https://localhost:8080/"
        },
        "id": "AmUcVH1HUili",
        "outputId": "700677fc-23db-4802-f4a6-69e674656247"
      },
      "execution_count": null,
      "outputs": [
        {
          "output_type": "execute_result",
          "data": {
            "text/plain": [
              "array([0., 2.])"
            ]
          },
          "metadata": {},
          "execution_count": 91
        }
      ]
    },
    {
      "cell_type": "code",
      "source": [
        "df_raw['DIQ010'].unique()\n",
        "df_raw['DIQ010'] = df_raw['DIQ010'].fillna(0)"
      ],
      "metadata": {
        "id": "LpWe776WUuxW"
      },
      "execution_count": null,
      "outputs": []
    },
    {
      "cell_type": "code",
      "source": [
        "\n",
        "#Limpieza DIQ010: el doctor te ha dicho que tienes diabetes (0 no 1 BORDERLINE 2 si)\n",
        "df_raw['DIQ010'] = df_raw['DIQ010'].fillna(0)\n",
        "df_raw['DIQ010'] = df_raw.DIQ010.replace({9: 0})\n",
        "df_raw['DIQ010'] = df_raw.DIQ010.replace({7: 0})\n",
        "df_raw['DIQ010'] = df_raw.DIQ010.replace({2: 0})\n",
        "df_raw['DIQ010'] = df_raw.DIQ010.replace({1: 2})\n",
        "df_raw['DIQ010'] = df_raw.DIQ010.replace({3: 1})\n",
        "\n"
      ],
      "metadata": {
        "id": "P0rHhvqRVAKr"
      },
      "execution_count": null,
      "outputs": []
    },
    {
      "cell_type": "code",
      "source": [
        "df_raw['DIQ010'].unique()"
      ],
      "metadata": {
        "colab": {
          "base_uri": "https://localhost:8080/"
        },
        "id": "xmtq-ScVVI5D",
        "outputId": "22edd2a3-f149-4d66-a6ad-db4de7bc3a70"
      },
      "execution_count": null,
      "outputs": [
        {
          "output_type": "execute_result",
          "data": {
            "text/plain": [
              "array([0., 2., 1.])"
            ]
          },
          "metadata": {},
          "execution_count": 101
        }
      ]
    }
  ]
}