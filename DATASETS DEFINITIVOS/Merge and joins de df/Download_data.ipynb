{
  "nbformat": 4,
  "nbformat_minor": 0,
  "metadata": {
    "colab": {
      "name": "Download_data.ipynb",
      "provenance": [],
      "collapsed_sections": []
    },
    "kernelspec": {
      "name": "python3",
      "display_name": "Python 3"
    },
    "language_info": {
      "name": "python"
    }
  },
  "cells": [
    {
      "cell_type": "markdown",
      "source": [
        "#Cuaderno auxiliar para elaboración de documentos csv y Joins de tablas\n"
      ],
      "metadata": {
        "id": "yDTIgQn25GrD"
      }
    },
    {
      "cell_type": "code",
      "source": [
        "#Si quiero borrar todo\n",
        "! rm -Rf sample_data\n",
        "! rm -Rf merged\n",
        "! rm -Rf raw\n",
        "! rm -Rf csv\n",
        "! rm download_v2.py\n"
      ],
      "metadata": {
        "id": "veDPJ9pp5ObV",
        "colab": {
          "base_uri": "https://localhost:8080/"
        },
        "outputId": "0439a290-a955-4a35-99ae-b2f00039f888"
      },
      "execution_count": null,
      "outputs": [
        {
          "output_type": "stream",
          "name": "stdout",
          "text": [
            "rm: cannot remove 'download_v2.py': No such file or directory\n"
          ]
        }
      ]
    },
    {
      "cell_type": "code",
      "source": [
        "#Si quiero volver a correr el script de python para hacer los csv\n",
        "%load download_v2.py\n",
        "!python3 download_v2.py"
      ],
      "metadata": {
        "id": "W1Ct23vPIVOn",
        "colab": {
          "base_uri": "https://localhost:8080/"
        },
        "outputId": "11f842fe-1975-4a1e-8011-c327e7560718"
      },
      "execution_count": null,
      "outputs": [
        {
          "output_type": "stream",
          "name": "stdout",
          "text": [
            "--2022-04-30 17:39:04--  https://wwwn.cdc.gov/Nchs/Nhanes/2017-2018/DEMO_J.XPT\n",
            "Resolving wwwn.cdc.gov (wwwn.cdc.gov)... 198.246.102.39\n",
            "Connecting to wwwn.cdc.gov (wwwn.cdc.gov)|198.246.102.39|:443... connected.\n",
            "HTTP request sent, awaiting response... 200 OK\n",
            "Length: 3412720 (3.3M) [application/octet-stream]\n",
            "Saving to: ‘raw/2017-2018/DEMO_J.XPT’\n",
            "\n",
            "DEMO_J.XPT          100%[===================>]   3.25M   362KB/s    in 9.7s    \n",
            "\n",
            "2022-04-30 17:39:14 (345 KB/s) - ‘raw/2017-2018/DEMO_J.XPT’ saved [3412720/3412720]\n",
            "\n",
            "download_v2.py:228: DeprecationWarning: `np.int` is a deprecated alias for the builtin `int`. To silence this warning, use `int` by itself. Doing this will not modify any behavior and is safe. When replacing `np.int`, you may wish to use e.g. `np.int64` or `np.int32` to specify the precision. If you wish to review your current use, check the release note link for additional information.\n",
            "Deprecated in NumPy 1.20; for more details and guidance: https://numpy.org/devdocs/release/1.20.0-notes.html#deprecations\n",
            "  da.SEQN = da.SEQN.astype(np.int)\n",
            "--2022-04-30 17:39:14--  https://wwwn.cdc.gov/Nchs/Nhanes/2011-2012/DEMO_G.XPT\n",
            "Resolving wwwn.cdc.gov (wwwn.cdc.gov)... 198.246.102.39\n",
            "Connecting to wwwn.cdc.gov (wwwn.cdc.gov)|198.246.102.39|:443... connected.\n",
            "HTTP request sent, awaiting response... 200 OK\n",
            "Length: 3753760 (3.6M) [application/octet-stream]\n",
            "Saving to: ‘raw/2011-2012/DEMO_G.XPT’\n",
            "\n",
            "DEMO_G.XPT          100%[===================>]   3.58M   365KB/s    in 11s     \n",
            "\n",
            "2022-04-30 17:39:26 (347 KB/s) - ‘raw/2011-2012/DEMO_G.XPT’ saved [3753760/3753760]\n",
            "\n",
            "--2022-04-30 17:39:26--  https://wwwn.cdc.gov/Nchs/Nhanes/2015-2016/DEMO_I.XPT\n",
            "Resolving wwwn.cdc.gov (wwwn.cdc.gov)... 198.246.102.39\n",
            "Connecting to wwwn.cdc.gov (wwwn.cdc.gov)|198.246.102.39|:443... connected.\n",
            "HTTP request sent, awaiting response... 200 OK\n",
            "Length: 3756480 (3.6M) [application/octet-stream]\n",
            "Saving to: ‘raw/2015-2016/DEMO_I.XPT’\n",
            "\n",
            "DEMO_I.XPT          100%[===================>]   3.58M   358KB/s    in 11s     \n",
            "\n",
            "2022-04-30 17:39:37 (349 KB/s) - ‘raw/2015-2016/DEMO_I.XPT’ saved [3756480/3756480]\n",
            "\n",
            "--2022-04-30 17:39:37--  https://wwwn.cdc.gov/Nchs/Nhanes/2013-2014/DEMO_H.XPT\n",
            "Resolving wwwn.cdc.gov (wwwn.cdc.gov)... 198.246.102.39\n",
            "Connecting to wwwn.cdc.gov (wwwn.cdc.gov)|198.246.102.39|:443... connected.\n",
            "HTTP request sent, awaiting response... 200 OK\n",
            "Length: 3833200 (3.7M) [application/octet-stream]\n",
            "Saving to: ‘raw/2013-2014/DEMO_H.XPT’\n",
            "\n",
            "DEMO_H.XPT          100%[===================>]   3.66M   360KB/s    in 11s     \n",
            "\n",
            "2022-04-30 17:39:49 (348 KB/s) - ‘raw/2013-2014/DEMO_H.XPT’ saved [3833200/3833200]\n",
            "\n",
            "--2022-04-30 17:39:49--  https://wwwn.cdc.gov/Nchs/Nhanes/2017-2018/BPX_J.XPT\n",
            "Resolving wwwn.cdc.gov (wwwn.cdc.gov)... 198.246.102.39\n",
            "Connecting to wwwn.cdc.gov (wwwn.cdc.gov)|198.246.102.39|:443... connected.\n",
            "HTTP request sent, awaiting response... 200 OK\n",
            "Length: 1466000 (1.4M) [application/octet-stream]\n",
            "Saving to: ‘raw/2017-2018/BPX_J.XPT’\n",
            "\n",
            "BPX_J.XPT           100%[===================>]   1.40M   367KB/s    in 4.1s    \n",
            "\n",
            "2022-04-30 17:39:54 (348 KB/s) - ‘raw/2017-2018/BPX_J.XPT’ saved [1466000/1466000]\n",
            "\n",
            "--2022-04-30 17:39:54--  https://wwwn.cdc.gov/Nchs/Nhanes/2011-2012/BPX_G.XPT\n",
            "Resolving wwwn.cdc.gov (wwwn.cdc.gov)... 198.246.102.39\n",
            "Connecting to wwwn.cdc.gov (wwwn.cdc.gov)|198.246.102.39|:443... connected.\n",
            "HTTP request sent, awaiting response... 200 OK\n",
            "Length: 2021600 (1.9M) [application/octet-stream]\n",
            "Saving to: ‘raw/2011-2012/BPX_G.XPT’\n",
            "\n",
            "BPX_G.XPT           100%[===================>]   1.93M   365KB/s    in 5.7s    \n",
            "\n",
            "2022-04-30 17:40:00 (347 KB/s) - ‘raw/2011-2012/BPX_G.XPT’ saved [2021600/2021600]\n",
            "\n",
            "--2022-04-30 17:40:01--  https://wwwn.cdc.gov/Nchs/Nhanes/2015-2016/BPX_I.XPT\n",
            "Resolving wwwn.cdc.gov (wwwn.cdc.gov)... 198.246.102.39\n",
            "Connecting to wwwn.cdc.gov (wwwn.cdc.gov)|198.246.102.39|:443... connected.\n",
            "HTTP request sent, awaiting response... 200 OK\n",
            "Length: 1607120 (1.5M) [application/octet-stream]\n",
            "Saving to: ‘raw/2015-2016/BPX_I.XPT’\n",
            "\n",
            "BPX_I.XPT           100%[===================>]   1.53M   360KB/s    in 4.7s    \n",
            "\n",
            "2022-04-30 17:40:06 (337 KB/s) - ‘raw/2015-2016/BPX_I.XPT’ saved [1607120/1607120]\n",
            "\n",
            "--2022-04-30 17:40:06--  https://wwwn.cdc.gov/Nchs/Nhanes/2013-2014/BPX_H.XPT\n",
            "Resolving wwwn.cdc.gov (wwwn.cdc.gov)... 198.246.102.39\n",
            "Connecting to wwwn.cdc.gov (wwwn.cdc.gov)|198.246.102.39|:443... connected.\n",
            "HTTP request sent, awaiting response... 200 OK\n",
            "Length: 1809600 (1.7M) [application/octet-stream]\n",
            "Saving to: ‘raw/2013-2014/BPX_H.XPT’\n",
            "\n",
            "BPX_H.XPT           100%[===================>]   1.73M   355KB/s    in 5.2s    \n",
            "\n",
            "2022-04-30 17:40:12 (341 KB/s) - ‘raw/2013-2014/BPX_H.XPT’ saved [1809600/1809600]\n",
            "\n",
            "--2022-04-30 17:40:12--  https://wwwn.cdc.gov/Nchs/Nhanes/2017-2018/BMX_J.XPT\n",
            "Resolving wwwn.cdc.gov (wwwn.cdc.gov)... 198.246.102.39\n",
            "Connecting to wwwn.cdc.gov (wwwn.cdc.gov)|198.246.102.39|:443... connected.\n",
            "HTTP request sent, awaiting response... 200 OK\n",
            "Length: 1466000 (1.4M) [application/octet-stream]\n",
            "Saving to: ‘raw/2017-2018/BMX_J.XPT’\n",
            "\n",
            "BMX_J.XPT           100%[===================>]   1.40M   368KB/s    in 4.1s    \n",
            "\n",
            "2022-04-30 17:40:17 (350 KB/s) - ‘raw/2017-2018/BMX_J.XPT’ saved [1466000/1466000]\n",
            "\n",
            "--2022-04-30 17:40:17--  https://wwwn.cdc.gov/Nchs/Nhanes/2011-2012/BMX_G.XPT\n",
            "Resolving wwwn.cdc.gov (wwwn.cdc.gov)... 198.246.102.39\n",
            "Connecting to wwwn.cdc.gov (wwwn.cdc.gov)|198.246.102.39|:443... connected.\n",
            "HTTP request sent, awaiting response... 200 OK\n",
            "Length: 1946720 (1.9M) [application/octet-stream]\n",
            "Saving to: ‘raw/2011-2012/BMX_G.XPT’\n",
            "\n",
            "BMX_G.XPT           100%[===================>]   1.86M   357KB/s    in 5.7s    \n",
            "\n",
            "2022-04-30 17:40:24 (334 KB/s) - ‘raw/2011-2012/BMX_G.XPT’ saved [1946720/1946720]\n",
            "\n",
            "--2022-04-30 17:40:24--  https://wwwn.cdc.gov/Nchs/Nhanes/2015-2016/BMX_I.XPT\n",
            "Resolving wwwn.cdc.gov (wwwn.cdc.gov)... 198.246.102.39\n",
            "Connecting to wwwn.cdc.gov (wwwn.cdc.gov)|198.246.102.39|:443... connected.\n",
            "HTTP request sent, awaiting response... 200 OK\n",
            "Length: 1989600 (1.9M) [application/octet-stream]\n",
            "Saving to: ‘raw/2015-2016/BMX_I.XPT’\n",
            "\n",
            "BMX_I.XPT           100%[===================>]   1.90M   360KB/s    in 5.7s    \n",
            "\n",
            "2022-04-30 17:40:30 (339 KB/s) - ‘raw/2015-2016/BMX_I.XPT’ saved [1989600/1989600]\n",
            "\n",
            "--2022-04-30 17:40:30--  https://wwwn.cdc.gov/Nchs/Nhanes/2013-2014/BMX_H.XPT\n",
            "Resolving wwwn.cdc.gov (wwwn.cdc.gov)... 198.246.102.39\n",
            "Connecting to wwwn.cdc.gov (wwwn.cdc.gov)|198.246.102.39|:443... connected.\n",
            "HTTP request sent, awaiting response... 200 OK\n",
            "Length: 2045520 (2.0M) [application/octet-stream]\n",
            "Saving to: ‘raw/2013-2014/BMX_H.XPT’\n",
            "\n",
            "BMX_H.XPT           100%[===================>]   1.95M   359KB/s    in 5.9s    \n",
            "\n",
            "2022-04-30 17:40:37 (340 KB/s) - ‘raw/2013-2014/BMX_H.XPT’ saved [2045520/2045520]\n",
            "\n",
            "--2022-04-30 17:40:37--  https://wwwn.cdc.gov/Nchs/Nhanes/2017-2018/ALQ_J.XPT\n",
            "Resolving wwwn.cdc.gov (wwwn.cdc.gov)... 198.246.102.39\n",
            "Connecting to wwwn.cdc.gov (wwwn.cdc.gov)|198.246.102.39|:443... connected.\n",
            "HTTP request sent, awaiting response... 200 OK\n",
            "Length: 444800 (434K) [application/octet-stream]\n",
            "Saving to: ‘raw/2017-2018/ALQ_J.XPT’\n",
            "\n",
            "ALQ_J.XPT           100%[===================>] 434.38K   303KB/s    in 1.4s    \n",
            "\n",
            "2022-04-30 17:40:39 (303 KB/s) - ‘raw/2017-2018/ALQ_J.XPT’ saved [444800/444800]\n",
            "\n",
            "--2022-04-30 17:40:39--  https://wwwn.cdc.gov/Nchs/Nhanes/2011-2012/ALQ_G.XPT\n",
            "Resolving wwwn.cdc.gov (wwwn.cdc.gov)... 198.246.102.39\n",
            "Connecting to wwwn.cdc.gov (wwwn.cdc.gov)|198.246.102.39|:443... connected.\n",
            "HTTP request sent, awaiting response... 200 OK\n",
            "Length: 451360 (441K) [application/octet-stream]\n",
            "Saving to: ‘raw/2011-2012/ALQ_G.XPT’\n",
            "\n",
            "ALQ_G.XPT           100%[===================>] 440.78K   309KB/s    in 1.4s    \n",
            "\n",
            "2022-04-30 17:40:42 (309 KB/s) - ‘raw/2011-2012/ALQ_G.XPT’ saved [451360/451360]\n",
            "\n",
            "--2022-04-30 17:40:42--  https://wwwn.cdc.gov/Nchs/Nhanes/2015-2016/ALQ_I.XPT\n",
            "Resolving wwwn.cdc.gov (wwwn.cdc.gov)... 198.246.102.39\n",
            "Connecting to wwwn.cdc.gov (wwwn.cdc.gov)|198.246.102.39|:443... connected.\n",
            "HTTP request sent, awaiting response... 200 OK\n",
            "Length: 460960 (450K) [application/octet-stream]\n",
            "Saving to: ‘raw/2015-2016/ALQ_I.XPT’\n",
            "\n",
            "ALQ_I.XPT           100%[===================>] 450.16K   315KB/s    in 1.4s    \n",
            "\n",
            "2022-04-30 17:40:44 (315 KB/s) - ‘raw/2015-2016/ALQ_I.XPT’ saved [460960/460960]\n",
            "\n",
            "--2022-04-30 17:40:44--  https://wwwn.cdc.gov/Nchs/Nhanes/2013-2014/ALQ_H.XPT\n",
            "Resolving wwwn.cdc.gov (wwwn.cdc.gov)... 198.246.102.39\n",
            "Connecting to wwwn.cdc.gov (wwwn.cdc.gov)|198.246.102.39|:443... connected.\n",
            "HTTP request sent, awaiting response... 200 OK\n",
            "Length: 476080 (465K) [application/octet-stream]\n",
            "Saving to: ‘raw/2013-2014/ALQ_H.XPT’\n",
            "\n",
            "ALQ_H.XPT           100%[===================>] 464.92K   324KB/s    in 1.4s    \n",
            "\n",
            "2022-04-30 17:40:46 (324 KB/s) - ‘raw/2013-2014/ALQ_H.XPT’ saved [476080/476080]\n",
            "\n",
            "--2022-04-30 17:40:46--  https://wwwn.cdc.gov/Nchs/Nhanes/2017-2018/SMQ_J.XPT\n",
            "Resolving wwwn.cdc.gov (wwwn.cdc.gov)... 198.246.102.39\n",
            "Connecting to wwwn.cdc.gov (wwwn.cdc.gov)|198.246.102.39|:443... connected.\n",
            "HTTP request sent, awaiting response... 200 OK\n",
            "Length: 2305600 (2.2M) [application/octet-stream]\n",
            "Saving to: ‘raw/2017-2018/SMQ_J.XPT’\n",
            "\n",
            "SMQ_J.XPT           100%[===================>]   2.20M   352KB/s    in 6.6s    \n",
            "\n",
            "2022-04-30 17:40:53 (340 KB/s) - ‘raw/2017-2018/SMQ_J.XPT’ saved [2305600/2305600]\n",
            "\n",
            "--2022-04-30 17:40:54--  https://wwwn.cdc.gov/Nchs/Nhanes/2011-2012/SMQ_G.XPT\n",
            "Resolving wwwn.cdc.gov (wwwn.cdc.gov)... 198.246.102.39\n",
            "Connecting to wwwn.cdc.gov (wwwn.cdc.gov)|198.246.102.39|:443... connected.\n",
            "HTTP request sent, awaiting response... 200 OK\n",
            "Length: 1946960 (1.9M) [application/octet-stream]\n",
            "Saving to: ‘raw/2011-2012/SMQ_G.XPT’\n",
            "\n",
            "SMQ_G.XPT           100%[===================>]   1.86M   358KB/s    in 5.5s    \n",
            "\n",
            "2022-04-30 17:41:00 (343 KB/s) - ‘raw/2011-2012/SMQ_G.XPT’ saved [1946960/1946960]\n",
            "\n",
            "--2022-04-30 17:41:00--  https://wwwn.cdc.gov/Nchs/Nhanes/2015-2016/SMQ_I.XPT\n",
            "Resolving wwwn.cdc.gov (wwwn.cdc.gov)... 198.246.102.39\n",
            "Connecting to wwwn.cdc.gov (wwwn.cdc.gov)|198.246.102.39|:443... connected.\n",
            "HTTP request sent, awaiting response... 200 OK\n",
            "Length: 2681040 (2.6M) [application/octet-stream]\n",
            "Saving to: ‘raw/2015-2016/SMQ_I.XPT’\n",
            "\n",
            "SMQ_I.XPT           100%[===================>]   2.56M   360KB/s    in 7.7s    \n",
            "\n",
            "2022-04-30 17:41:08 (342 KB/s) - ‘raw/2015-2016/SMQ_I.XPT’ saved [2681040/2681040]\n",
            "\n",
            "--2022-04-30 17:41:08--  https://wwwn.cdc.gov/Nchs/Nhanes/2013-2014/SMQ_H.XPT\n",
            "Resolving wwwn.cdc.gov (wwwn.cdc.gov)... 198.246.102.39\n",
            "Connecting to wwwn.cdc.gov (wwwn.cdc.gov)|198.246.102.39|:443... connected.\n",
            "HTTP request sent, awaiting response... 200 OK\n",
            "Length: 2170000 (2.1M) [application/octet-stream]\n",
            "Saving to: ‘raw/2013-2014/SMQ_H.XPT’\n",
            "\n",
            "SMQ_H.XPT           100%[===================>]   2.07M   368KB/s    in 6.1s    \n",
            "\n",
            "2022-04-30 17:41:15 (349 KB/s) - ‘raw/2013-2014/SMQ_H.XPT’ saved [2170000/2170000]\n",
            "\n",
            "--2022-04-30 17:41:15--  https://wwwn.cdc.gov/Nchs/Nhanes/2017-2018/HIQ_J.XPT\n",
            "Resolving wwwn.cdc.gov (wwwn.cdc.gov)... 198.246.102.39\n",
            "Connecting to wwwn.cdc.gov (wwwn.cdc.gov)|198.246.102.39|:443... connected.\n",
            "HTTP request sent, awaiting response... 200 OK\n",
            "Length: 1187520 (1.1M) [application/octet-stream]\n",
            "Saving to: ‘raw/2017-2018/HIQ_J.XPT’\n",
            "\n",
            "HIQ_J.XPT           100%[===================>]   1.13M   341KB/s    in 3.4s    \n",
            "\n",
            "2022-04-30 17:41:19 (341 KB/s) - ‘raw/2017-2018/HIQ_J.XPT’ saved [1187520/1187520]\n",
            "\n",
            "--2022-04-30 17:41:19--  https://wwwn.cdc.gov/Nchs/Nhanes/2011-2012/HIQ_G.XPT\n",
            "Resolving wwwn.cdc.gov (wwwn.cdc.gov)... 198.246.102.39\n",
            "Connecting to wwwn.cdc.gov (wwwn.cdc.gov)|198.246.102.39|:443... connected.\n",
            "HTTP request sent, awaiting response... 200 OK\n",
            "Length: 1330000 (1.3M) [application/octet-stream]\n",
            "Saving to: ‘raw/2011-2012/HIQ_G.XPT’\n",
            "\n",
            "HIQ_G.XPT           100%[===================>]   1.27M   351KB/s    in 3.8s    \n",
            "\n",
            "2022-04-30 17:41:24 (345 KB/s) - ‘raw/2011-2012/HIQ_G.XPT’ saved [1330000/1330000]\n",
            "\n",
            "--2022-04-30 17:41:24--  https://wwwn.cdc.gov/Nchs/Nhanes/2015-2016/HIQ_I.XPT\n",
            "Resolving wwwn.cdc.gov (wwwn.cdc.gov)... 198.246.102.39\n",
            "Connecting to wwwn.cdc.gov (wwwn.cdc.gov)|198.246.102.39|:443... connected.\n",
            "HTTP request sent, awaiting response... 200 OK\n",
            "Length: 1359200 (1.3M) [application/octet-stream]\n",
            "Saving to: ‘raw/2015-2016/HIQ_I.XPT’\n",
            "\n",
            "HIQ_I.XPT           100%[===================>]   1.30M   350KB/s    in 3.9s    \n",
            "\n",
            "2022-04-30 17:41:29 (337 KB/s) - ‘raw/2015-2016/HIQ_I.XPT’ saved [1359200/1359200]\n",
            "\n",
            "--2022-04-30 17:41:29--  https://wwwn.cdc.gov/Nchs/Nhanes/2013-2014/HIQ_H.XPT\n",
            "Resolving wwwn.cdc.gov (wwwn.cdc.gov)... 198.246.102.39\n",
            "Connecting to wwwn.cdc.gov (wwwn.cdc.gov)|198.246.102.39|:443... connected.\n",
            "HTTP request sent, awaiting response... 200 OK\n",
            "Length: 1386960 (1.3M) [application/octet-stream]\n",
            "Saving to: ‘raw/2013-2014/HIQ_H.XPT’\n",
            "\n",
            "HIQ_H.XPT           100%[===================>]   1.32M   360KB/s    in 3.9s    \n",
            "\n",
            "2022-04-30 17:41:33 (346 KB/s) - ‘raw/2013-2014/HIQ_H.XPT’ saved [1386960/1386960]\n",
            "\n",
            "--2022-04-30 17:41:34--  https://wwwn.cdc.gov/Nchs/Nhanes/2017-2018/TRIGLY_J.XPT\n",
            "Resolving wwwn.cdc.gov (wwwn.cdc.gov)... 198.246.102.39\n",
            "Connecting to wwwn.cdc.gov (wwwn.cdc.gov)|198.246.102.39|:443... connected.\n",
            "HTTP request sent, awaiting response... 200 OK\n",
            "Length: 245040 (239K) [application/octet-stream]\n",
            "Saving to: ‘raw/2017-2018/TRIGLY_J.XPT’\n",
            "\n",
            "TRIGLY_J.XPT        100%[===================>] 239.30K   269KB/s    in 0.9s    \n",
            "\n",
            "2022-04-30 17:41:35 (269 KB/s) - ‘raw/2017-2018/TRIGLY_J.XPT’ saved [245040/245040]\n",
            "\n",
            "--2022-04-30 17:41:35--  https://wwwn.cdc.gov/Nchs/Nhanes/2011-2012/TRIGLY_G.XPT\n",
            "Resolving wwwn.cdc.gov (wwwn.cdc.gov)... 198.246.102.39\n",
            "Connecting to wwwn.cdc.gov (wwwn.cdc.gov)|198.246.102.39|:443... connected.\n",
            "HTTP request sent, awaiting response... 200 OK\n",
            "Length: 157120 (153K) [application/octet-stream]\n",
            "Saving to: ‘raw/2011-2012/TRIGLY_G.XPT’\n",
            "\n",
            "TRIGLY_G.XPT        100%[===================>] 153.44K   286KB/s    in 0.5s    \n",
            "\n",
            "2022-04-30 17:41:36 (286 KB/s) - ‘raw/2011-2012/TRIGLY_G.XPT’ saved [157120/157120]\n",
            "\n",
            "--2022-04-30 17:41:36--  https://wwwn.cdc.gov/Nchs/Nhanes/2015-2016/TRIGLY_I.XPT\n",
            "Resolving wwwn.cdc.gov (wwwn.cdc.gov)... 198.246.102.39\n",
            "Connecting to wwwn.cdc.gov (wwwn.cdc.gov)|198.246.102.39|:443... connected.\n",
            "HTTP request sent, awaiting response... 200 OK\n",
            "Length: 154800 (151K) [application/octet-stream]\n",
            "Saving to: ‘raw/2015-2016/TRIGLY_I.XPT’\n",
            "\n",
            "TRIGLY_I.XPT        100%[===================>] 151.17K   283KB/s    in 0.5s    \n",
            "\n",
            "2022-04-30 17:41:38 (283 KB/s) - ‘raw/2015-2016/TRIGLY_I.XPT’ saved [154800/154800]\n",
            "\n",
            "--2022-04-30 17:41:38--  https://wwwn.cdc.gov/Nchs/Nhanes/2013-2014/TRIGLY_H.XPT\n",
            "Resolving wwwn.cdc.gov (wwwn.cdc.gov)... 198.246.102.39\n",
            "Connecting to wwwn.cdc.gov (wwwn.cdc.gov)|198.246.102.39|:443... connected.\n",
            "HTTP request sent, awaiting response... 200 OK\n",
            "Length: 161440 (158K) [application/octet-stream]\n",
            "Saving to: ‘raw/2013-2014/TRIGLY_H.XPT’\n",
            "\n",
            "TRIGLY_H.XPT        100%[===================>] 157.66K   294KB/s    in 0.5s    \n",
            "\n",
            "2022-04-30 17:41:39 (294 KB/s) - ‘raw/2013-2014/TRIGLY_H.XPT’ saved [161440/161440]\n",
            "\n",
            "--2022-04-30 17:41:39--  https://wwwn.cdc.gov/Nchs/Nhanes/2017-2018/INS_J.XPT\n",
            "Resolving wwwn.cdc.gov (wwwn.cdc.gov)... 198.246.102.39\n",
            "Connecting to wwwn.cdc.gov (wwwn.cdc.gov)|198.246.102.39|:443... connected.\n",
            "HTTP request sent, awaiting response... 200 OK\n",
            "Length: 122880 (120K) [application/octet-stream]\n",
            "Saving to: ‘raw/2017-2018/INS_J.XPT’\n",
            "\n",
            "INS_J.XPT           100%[===================>] 120.00K   336KB/s    in 0.4s    \n",
            "\n",
            "2022-04-30 17:41:40 (336 KB/s) - ‘raw/2017-2018/INS_J.XPT’ saved [122880/122880]\n",
            "\n",
            "--2022-04-30 17:41:40--  https://wwwn.cdc.gov/Nchs/Nhanes/2015-2016/INS_I.XPT\n",
            "Resolving wwwn.cdc.gov (wwwn.cdc.gov)... 198.246.102.39\n",
            "Connecting to wwwn.cdc.gov (wwwn.cdc.gov)|198.246.102.39|:443... connected.\n",
            "HTTP request sent, awaiting response... 200 OK\n",
            "Length: 180480 (176K) [application/octet-stream]\n",
            "Saving to: ‘raw/2015-2016/INS_I.XPT’\n",
            "\n",
            "INS_I.XPT           100%[===================>] 176.25K   246KB/s    in 0.7s    \n",
            "\n",
            "2022-04-30 17:41:42 (246 KB/s) - ‘raw/2015-2016/INS_I.XPT’ saved [180480/180480]\n",
            "\n",
            "--2022-04-30 17:41:42--  https://wwwn.cdc.gov/Nchs/Nhanes/2013-2014/INS_H.XPT\n",
            "Resolving wwwn.cdc.gov (wwwn.cdc.gov)... 198.246.102.39\n",
            "Connecting to wwwn.cdc.gov (wwwn.cdc.gov)|198.246.102.39|:443... connected.\n",
            "HTTP request sent, awaiting response... 200 OK\n",
            "Length: 161440 (158K) [application/octet-stream]\n",
            "Saving to: ‘raw/2013-2014/INS_H.XPT’\n",
            "\n",
            "INS_H.XPT           100%[===================>] 157.66K   294KB/s    in 0.5s    \n",
            "\n",
            "2022-04-30 17:41:43 (294 KB/s) - ‘raw/2013-2014/INS_H.XPT’ saved [161440/161440]\n",
            "\n",
            "--2022-04-30 17:41:43--  https://wwwn.cdc.gov/Nchs/Nhanes/2017-2018/GLU_J.XPT\n",
            "Resolving wwwn.cdc.gov (wwwn.cdc.gov)... 198.246.102.39\n",
            "Connecting to wwwn.cdc.gov (wwwn.cdc.gov)|198.246.102.39|:443... connected.\n",
            "HTTP request sent, awaiting response... 200 OK\n",
            "Length: 98480 (96K) [application/octet-stream]\n",
            "Saving to: ‘raw/2017-2018/GLU_J.XPT’\n",
            "\n",
            "GLU_J.XPT           100%[===================>]  96.17K   270KB/s    in 0.4s    \n",
            "\n",
            "2022-04-30 17:41:44 (270 KB/s) - ‘raw/2017-2018/GLU_J.XPT’ saved [98480/98480]\n",
            "\n",
            "--2022-04-30 17:41:44--  https://wwwn.cdc.gov/Nchs/Nhanes/2011-2012/GLU_G.XPT\n",
            "Resolving wwwn.cdc.gov (wwwn.cdc.gov)... 198.246.102.39\n",
            "Connecting to wwwn.cdc.gov (wwwn.cdc.gov)|198.246.102.39|:443... connected.\n",
            "HTTP request sent, awaiting response... 200 OK\n",
            "Length: 209200 (204K) [application/octet-stream]\n",
            "Saving to: ‘raw/2011-2012/GLU_G.XPT’\n",
            "\n",
            "GLU_G.XPT           100%[===================>] 204.30K   287KB/s    in 0.7s    \n",
            "\n",
            "2022-04-30 17:41:46 (287 KB/s) - ‘raw/2011-2012/GLU_G.XPT’ saved [209200/209200]\n",
            "\n",
            "--2022-04-30 17:41:46--  https://wwwn.cdc.gov/Nchs/Nhanes/2015-2016/GLU_I.XPT\n",
            "Resolving wwwn.cdc.gov (wwwn.cdc.gov)... 198.246.102.39\n",
            "Connecting to wwwn.cdc.gov (wwwn.cdc.gov)|198.246.102.39|:443... connected.\n",
            "HTTP request sent, awaiting response... 200 OK\n",
            "Length: 103440 (101K) [application/octet-stream]\n",
            "Saving to: ‘raw/2015-2016/GLU_I.XPT’\n",
            "\n",
            "GLU_I.XPT           100%[===================>] 101.02K   283KB/s    in 0.4s    \n",
            "\n",
            "2022-04-30 17:41:47 (283 KB/s) - ‘raw/2015-2016/GLU_I.XPT’ saved [103440/103440]\n",
            "\n",
            "--2022-04-30 17:41:47--  https://wwwn.cdc.gov/Nchs/Nhanes/2013-2014/GLU_H.XPT\n",
            "Resolving wwwn.cdc.gov (wwwn.cdc.gov)... 198.246.102.39\n",
            "Connecting to wwwn.cdc.gov (wwwn.cdc.gov)|198.246.102.39|:443... connected.\n",
            "HTTP request sent, awaiting response... 200 OK\n",
            "Length: 161440 (158K) [application/octet-stream]\n",
            "Saving to: ‘raw/2013-2014/GLU_H.XPT’\n",
            "\n",
            "GLU_H.XPT           100%[===================>] 157.66K   295KB/s    in 0.5s    \n",
            "\n",
            "2022-04-30 17:41:48 (295 KB/s) - ‘raw/2013-2014/GLU_H.XPT’ saved [161440/161440]\n",
            "\n",
            "--2022-04-30 17:41:48--  https://wwwn.cdc.gov/Nchs/Nhanes/2017-2018/HDL_J.XPT\n",
            "Resolving wwwn.cdc.gov (wwwn.cdc.gov)... 198.246.102.39\n",
            "Connecting to wwwn.cdc.gov (wwwn.cdc.gov)|198.246.102.39|:443... connected.\n",
            "HTTP request sent, awaiting response... 200 OK\n",
            "Length: 179680 (175K) [application/octet-stream]\n",
            "Saving to: ‘raw/2017-2018/HDL_J.XPT’\n",
            "\n",
            "HDL_J.XPT           100%[===================>] 175.47K   247KB/s    in 0.7s    \n",
            "\n",
            "2022-04-30 17:41:49 (247 KB/s) - ‘raw/2017-2018/HDL_J.XPT’ saved [179680/179680]\n",
            "\n",
            "--2022-04-30 17:41:49--  https://wwwn.cdc.gov/Nchs/Nhanes/2011-2012/HDL_G.XPT\n",
            "Resolving wwwn.cdc.gov (wwwn.cdc.gov)... 198.246.102.39\n",
            "Connecting to wwwn.cdc.gov (wwwn.cdc.gov)|198.246.102.39|:443... connected.\n",
            "HTTP request sent, awaiting response... 200 OK\n",
            "Length: 188960 (185K) [application/octet-stream]\n",
            "Saving to: ‘raw/2011-2012/HDL_G.XPT’\n",
            "\n",
            "HDL_G.XPT           100%[===================>] 184.53K   258KB/s    in 0.7s    \n",
            "\n",
            "2022-04-30 17:41:51 (258 KB/s) - ‘raw/2011-2012/HDL_G.XPT’ saved [188960/188960]\n",
            "\n",
            "--2022-04-30 17:41:51--  https://wwwn.cdc.gov/Nchs/Nhanes/2015-2016/HDL_I.XPT\n",
            "Resolving wwwn.cdc.gov (wwwn.cdc.gov)... 198.246.102.39\n",
            "Connecting to wwwn.cdc.gov (wwwn.cdc.gov)|198.246.102.39|:443... connected.\n",
            "HTTP request sent, awaiting response... 200 OK\n",
            "Length: 193760 (189K) [application/octet-stream]\n",
            "Saving to: ‘raw/2015-2016/HDL_I.XPT’\n",
            "\n",
            "HDL_I.XPT           100%[===================>] 189.22K   264KB/s    in 0.7s    \n",
            "\n",
            "2022-04-30 17:41:52 (264 KB/s) - ‘raw/2015-2016/HDL_I.XPT’ saved [193760/193760]\n",
            "\n",
            "--2022-04-30 17:41:52--  https://wwwn.cdc.gov/Nchs/Nhanes/2013-2014/HDL_H.XPT\n",
            "Resolving wwwn.cdc.gov (wwwn.cdc.gov)... 198.246.102.39\n",
            "Connecting to wwwn.cdc.gov (wwwn.cdc.gov)|198.246.102.39|:443... connected.\n",
            "HTTP request sent, awaiting response... 200 OK\n",
            "Length: 200240 (196K) [application/octet-stream]\n",
            "Saving to: ‘raw/2013-2014/HDL_H.XPT’\n",
            "\n",
            "HDL_H.XPT           100%[===================>] 195.55K   275KB/s    in 0.7s    \n",
            "\n",
            "2022-04-30 17:41:54 (275 KB/s) - ‘raw/2013-2014/HDL_H.XPT’ saved [200240/200240]\n",
            "\n",
            "--2022-04-30 17:41:54--  https://wwwn.cdc.gov/Nchs/Nhanes/2017-2018/MCQ_J.XPT\n",
            "Resolving wwwn.cdc.gov (wwwn.cdc.gov)... 198.246.102.39\n",
            "Connecting to wwwn.cdc.gov (wwwn.cdc.gov)|198.246.102.39|:443... connected.\n",
            "HTTP request sent, awaiting response... 200 OK\n",
            "Length: 5420800 (5.2M) [application/octet-stream]\n",
            "Saving to: ‘raw/2017-2018/MCQ_J.XPT’\n",
            "\n",
            "MCQ_J.XPT           100%[===================>]   5.17M   359KB/s    in 15s     \n",
            "\n",
            "2022-04-30 17:42:10 (348 KB/s) - ‘raw/2017-2018/MCQ_J.XPT’ saved [5420800/5420800]\n",
            "\n",
            "--2022-04-30 17:42:10--  https://wwwn.cdc.gov/Nchs/Nhanes/2011-2012/MCQ_G.XPT\n",
            "Resolving wwwn.cdc.gov (wwwn.cdc.gov)... 198.246.102.39\n",
            "Connecting to wwwn.cdc.gov (wwwn.cdc.gov)|198.246.102.39|:443... connected.\n",
            "HTTP request sent, awaiting response... 200 OK\n",
            "Length: 6905520 (6.6M) [application/octet-stream]\n",
            "Saving to: ‘raw/2011-2012/MCQ_G.XPT’\n",
            "\n",
            "MCQ_G.XPT           100%[===================>]   6.58M   356KB/s    in 19s     \n",
            "\n",
            "2022-04-30 17:42:30 (347 KB/s) - ‘raw/2011-2012/MCQ_G.XPT’ saved [6905520/6905520]\n",
            "\n",
            "--2022-04-30 17:42:31--  https://wwwn.cdc.gov/Nchs/Nhanes/2015-2016/MCQ_I.XPT\n",
            "Resolving wwwn.cdc.gov (wwwn.cdc.gov)... 198.246.102.39\n",
            "Connecting to wwwn.cdc.gov (wwwn.cdc.gov)|198.246.102.39|:443... connected.\n",
            "HTTP request sent, awaiting response... 200 OK\n",
            "Length: 6907360 (6.6M) [application/octet-stream]\n",
            "Saving to: ‘raw/2015-2016/MCQ_I.XPT’\n",
            "\n",
            "MCQ_I.XPT           100%[===================>]   6.59M   362KB/s    in 19s     \n",
            "\n",
            "2022-04-30 17:42:51 (349 KB/s) - ‘raw/2015-2016/MCQ_I.XPT’ saved [6907360/6907360]\n",
            "\n",
            "--2022-04-30 17:42:51--  https://wwwn.cdc.gov/Nchs/Nhanes/2013-2014/MCQ_H.XPT\n",
            "Resolving wwwn.cdc.gov (wwwn.cdc.gov)... 198.246.102.39\n",
            "Connecting to wwwn.cdc.gov (wwwn.cdc.gov)|198.246.102.39|:443... connected.\n",
            "HTTP request sent, awaiting response... 200 OK\n",
            "Length: 7439280 (7.1M) [application/octet-stream]\n",
            "Saving to: ‘raw/2013-2014/MCQ_H.XPT’\n",
            "\n",
            "MCQ_H.XPT           100%[===================>]   7.09M   354KB/s    in 21s     \n",
            "\n",
            "2022-04-30 17:43:13 (347 KB/s) - ‘raw/2013-2014/MCQ_H.XPT’ saved [7439280/7439280]\n",
            "\n",
            "--2022-04-30 17:43:13--  https://wwwn.cdc.gov/Nchs/Nhanes/2017-2018/BPQ_J.XPT\n",
            "Resolving wwwn.cdc.gov (wwwn.cdc.gov)... 198.246.102.39\n",
            "Connecting to wwwn.cdc.gov (wwwn.cdc.gov)|198.246.102.39|:443... connected.\n",
            "HTTP request sent, awaiting response... 200 OK\n",
            "Length: 544560 (532K) [application/octet-stream]\n",
            "Saving to: ‘raw/2017-2018/BPQ_J.XPT’\n",
            "\n",
            "BPQ_J.XPT           100%[===================>] 531.80K   332KB/s    in 1.6s    \n",
            "\n",
            "2022-04-30 17:43:15 (332 KB/s) - ‘raw/2017-2018/BPQ_J.XPT’ saved [544560/544560]\n",
            "\n",
            "--2022-04-30 17:43:15--  https://wwwn.cdc.gov/Nchs/Nhanes/2011-2012/BPQ_G.XPT\n",
            "Resolving wwwn.cdc.gov (wwwn.cdc.gov)... 198.246.102.39\n",
            "Connecting to wwwn.cdc.gov (wwwn.cdc.gov)|198.246.102.39|:443... connected.\n",
            "HTTP request sent, awaiting response... 200 OK\n",
            "Length: 743920 (726K) [application/octet-stream]\n",
            "Saving to: ‘raw/2011-2012/BPQ_G.XPT’\n",
            "\n",
            "BPQ_G.XPT           100%[===================>] 726.48K   339KB/s    in 2.1s    \n",
            "\n",
            "2022-04-30 17:43:18 (339 KB/s) - ‘raw/2011-2012/BPQ_G.XPT’ saved [743920/743920]\n",
            "\n",
            "--2022-04-30 17:43:18--  https://wwwn.cdc.gov/Nchs/Nhanes/2015-2016/BPQ_I.XPT\n",
            "Resolving wwwn.cdc.gov (wwwn.cdc.gov)... 198.246.102.39\n",
            "Connecting to wwwn.cdc.gov (wwwn.cdc.gov)|198.246.102.39|:443... connected.\n",
            "HTTP request sent, awaiting response... 200 OK\n",
            "Length: 559120 (546K) [application/octet-stream]\n",
            "Saving to: ‘raw/2015-2016/BPQ_I.XPT’\n",
            "\n",
            "BPQ_I.XPT           100%[===================>] 546.02K   306KB/s    in 1.8s    \n",
            "\n",
            "2022-04-30 17:43:21 (306 KB/s) - ‘raw/2015-2016/BPQ_I.XPT’ saved [559120/559120]\n",
            "\n",
            "--2022-04-30 17:43:21--  https://wwwn.cdc.gov/Nchs/Nhanes/2013-2014/BPQ_H.XPT\n",
            "Resolving wwwn.cdc.gov (wwwn.cdc.gov)... 198.246.102.39\n",
            "Connecting to wwwn.cdc.gov (wwwn.cdc.gov)|198.246.102.39|:443... connected.\n",
            "HTTP request sent, awaiting response... 200 OK\n",
            "Length: 726720 (710K) [application/octet-stream]\n",
            "Saving to: ‘raw/2013-2014/BPQ_H.XPT’\n",
            "\n",
            "BPQ_H.XPT           100%[===================>] 709.69K   332KB/s    in 2.1s    \n",
            "\n",
            "2022-04-30 17:43:24 (332 KB/s) - ‘raw/2013-2014/BPQ_H.XPT’ saved [726720/726720]\n",
            "\n",
            "--2022-04-30 17:43:24--  https://wwwn.cdc.gov/Nchs/Nhanes/2017-2018/DIQ_J.XPT\n",
            "Resolving wwwn.cdc.gov (wwwn.cdc.gov)... 198.246.102.39\n",
            "Connecting to wwwn.cdc.gov (wwwn.cdc.gov)|198.246.102.39|:443... connected.\n",
            "HTTP request sent, awaiting response... 200 OK\n",
            "Length: 3851840 (3.7M) [application/octet-stream]\n",
            "Saving to: ‘raw/2017-2018/DIQ_J.XPT’\n",
            "\n",
            "DIQ_J.XPT           100%[===================>]   3.67M   357KB/s    in 11s     \n",
            "\n",
            "2022-04-30 17:43:36 (339 KB/s) - ‘raw/2017-2018/DIQ_J.XPT’ saved [3851840/3851840]\n",
            "\n",
            "--2022-04-30 17:43:36--  https://wwwn.cdc.gov/Nchs/Nhanes/2011-2012/DIQ_G.XPT\n",
            "Resolving wwwn.cdc.gov (wwwn.cdc.gov)... 198.246.102.39\n",
            "Connecting to wwwn.cdc.gov (wwwn.cdc.gov)|198.246.102.39|:443... connected.\n",
            "HTTP request sent, awaiting response... 200 OK\n",
            "Length: 3978560 (3.8M) [application/octet-stream]\n",
            "Saving to: ‘raw/2011-2012/DIQ_G.XPT’\n",
            "\n",
            "DIQ_G.XPT           100%[===================>]   3.79M   357KB/s    in 11s     \n",
            "\n",
            "2022-04-30 17:43:48 (344 KB/s) - ‘raw/2011-2012/DIQ_G.XPT’ saved [3978560/3978560]\n",
            "\n",
            "--2022-04-30 17:43:48--  https://wwwn.cdc.gov/Nchs/Nhanes/2015-2016/DIQ_I.XPT\n",
            "Resolving wwwn.cdc.gov (wwwn.cdc.gov)... 198.246.102.39\n",
            "Connecting to wwwn.cdc.gov (wwwn.cdc.gov)|198.246.102.39|:443... connected.\n",
            "HTTP request sent, awaiting response... 200 OK\n",
            "Length: 4144720 (4.0M) [application/octet-stream]\n",
            "Saving to: ‘raw/2015-2016/DIQ_I.XPT’\n",
            "\n",
            "DIQ_I.XPT           100%[===================>]   3.95M   354KB/s    in 12s     \n",
            "\n",
            "2022-04-30 17:44:00 (345 KB/s) - ‘raw/2015-2016/DIQ_I.XPT’ saved [4144720/4144720]\n",
            "\n",
            "--2022-04-30 17:44:00--  https://wwwn.cdc.gov/Nchs/Nhanes/2013-2014/DIQ_H.XPT\n",
            "Resolving wwwn.cdc.gov (wwwn.cdc.gov)... 198.246.102.39\n",
            "Connecting to wwwn.cdc.gov (wwwn.cdc.gov)|198.246.102.39|:443... connected.\n",
            "HTTP request sent, awaiting response... 200 OK\n",
            "Length: 4228960 (4.0M) [application/octet-stream]\n",
            "Saving to: ‘raw/2013-2014/DIQ_H.XPT’\n",
            "\n",
            "DIQ_H.XPT           100%[===================>]   4.03M   356KB/s    in 12s     \n",
            "\n",
            "2022-04-30 17:44:13 (344 KB/s) - ‘raw/2013-2014/DIQ_H.XPT’ saved [4228960/4228960]\n",
            "\n",
            "--2022-04-30 17:44:13--  https://wwwn.cdc.gov/Nchs/Nhanes/2017-2018/HSQ_J.XPT\n",
            "Resolving wwwn.cdc.gov (wwwn.cdc.gov)... 198.246.102.39\n",
            "Connecting to wwwn.cdc.gov (wwwn.cdc.gov)|198.246.102.39|:443... connected.\n",
            "HTTP request sent, awaiting response... 200 OK\n",
            "Length: 604400 (590K) [application/octet-stream]\n",
            "Saving to: ‘raw/2017-2018/HSQ_J.XPT’\n",
            "\n",
            "HSQ_J.XPT           100%[===================>] 590.23K   301KB/s    in 2.0s    \n",
            "\n",
            "2022-04-30 17:44:16 (301 KB/s) - ‘raw/2017-2018/HSQ_J.XPT’ saved [604400/604400]\n",
            "\n",
            "--2022-04-30 17:44:16--  https://wwwn.cdc.gov/Nchs/Nhanes/2011-2012/HSQ_G.XPT\n",
            "Resolving wwwn.cdc.gov (wwwn.cdc.gov)... 198.246.102.39\n",
            "Connecting to wwwn.cdc.gov (wwwn.cdc.gov)|198.246.102.39|:443... connected.\n",
            "HTTP request sent, awaiting response... 200 OK\n",
            "Length: 1005840 (982K) [application/octet-stream]\n",
            "Saving to: ‘raw/2011-2012/HSQ_G.XPT’\n",
            "\n",
            "HSQ_G.XPT           100%[===================>] 982.27K   323KB/s    in 3.0s    \n",
            "\n",
            "2022-04-30 17:44:20 (323 KB/s) - ‘raw/2011-2012/HSQ_G.XPT’ saved [1005840/1005840]\n",
            "\n",
            "--2022-04-30 17:44:20--  https://wwwn.cdc.gov/Nchs/Nhanes/2015-2016/HSQ_I.XPT\n",
            "Resolving wwwn.cdc.gov (wwwn.cdc.gov)... 198.246.102.39\n",
            "Connecting to wwwn.cdc.gov (wwwn.cdc.gov)|198.246.102.39|:443... connected.\n",
            "HTTP request sent, awaiting response... 200 OK\n",
            "Length: 661920 (646K) [application/octet-stream]\n",
            "Saving to: ‘raw/2015-2016/HSQ_I.XPT’\n",
            "\n",
            "HSQ_I.XPT           100%[===================>] 646.41K   328KB/s    in 2.0s    \n",
            "\n",
            "2022-04-30 17:44:23 (328 KB/s) - ‘raw/2015-2016/HSQ_I.XPT’ saved [661920/661920]\n",
            "\n",
            "--2022-04-30 17:44:23--  https://wwwn.cdc.gov/Nchs/Nhanes/2013-2014/HSQ_H.XPT\n",
            "Resolving wwwn.cdc.gov (wwwn.cdc.gov)... 198.246.102.39\n",
            "Connecting to wwwn.cdc.gov (wwwn.cdc.gov)|198.246.102.39|:443... connected.\n",
            "HTTP request sent, awaiting response... 200 OK\n",
            "Length: 680400 (664K) [application/octet-stream]\n",
            "Saving to: ‘raw/2013-2014/HSQ_H.XPT’\n",
            "\n",
            "HSQ_H.XPT           100%[===================>] 664.45K   338KB/s    in 2.0s    \n",
            "\n",
            "2022-04-30 17:44:25 (338 KB/s) - ‘raw/2013-2014/HSQ_H.XPT’ saved [680400/680400]\n",
            "\n",
            "--2022-04-30 17:44:25--  https://wwwn.cdc.gov/Nchs/Nhanes/2017-2018/DBQ_J.XPT\n",
            "Resolving wwwn.cdc.gov (wwwn.cdc.gov)... 198.246.102.39\n",
            "Connecting to wwwn.cdc.gov (wwwn.cdc.gov)|198.246.102.39|:443... connected.\n",
            "HTTP request sent, awaiting response... 200 OK\n",
            "Length: 3412720 (3.3M) [application/octet-stream]\n",
            "Saving to: ‘raw/2017-2018/DBQ_J.XPT’\n",
            "\n",
            "DBQ_J.XPT           100%[===================>]   3.25M   359KB/s    in 9.6s    \n",
            "\n",
            "2022-04-30 17:44:36 (347 KB/s) - ‘raw/2017-2018/DBQ_J.XPT’ saved [3412720/3412720]\n",
            "\n",
            "--2022-04-30 17:44:36--  https://wwwn.cdc.gov/Nchs/Nhanes/2011-2012/DBQ_G.XPT\n",
            "Resolving wwwn.cdc.gov (wwwn.cdc.gov)... 198.246.102.39\n",
            "Connecting to wwwn.cdc.gov (wwwn.cdc.gov)|198.246.102.39|:443... connected.\n",
            "HTTP request sent, awaiting response... 200 OK\n",
            "Length: 3362880 (3.2M) [application/octet-stream]\n",
            "Saving to: ‘raw/2011-2012/DBQ_G.XPT’\n",
            "\n",
            "DBQ_G.XPT           100%[===================>]   3.21M   355KB/s    in 9.7s    \n",
            "\n",
            "2022-04-30 17:44:46 (340 KB/s) - ‘raw/2011-2012/DBQ_G.XPT’ saved [3362880/3362880]\n",
            "\n",
            "--2022-04-30 17:44:46--  https://wwwn.cdc.gov/Nchs/Nhanes/2015-2016/DBQ_I.XPT\n",
            "Resolving wwwn.cdc.gov (wwwn.cdc.gov)... 198.246.102.39\n",
            "Connecting to wwwn.cdc.gov (wwwn.cdc.gov)|198.246.102.39|:443... connected.\n",
            "HTTP request sent, awaiting response... 200 OK\n",
            "Length: 4076160 (3.9M) [application/octet-stream]\n",
            "Saving to: ‘raw/2015-2016/DBQ_I.XPT’\n",
            "\n",
            "DBQ_I.XPT           100%[===================>]   3.89M   361KB/s    in 11s     \n",
            "\n",
            "2022-04-30 17:44:59 (347 KB/s) - ‘raw/2015-2016/DBQ_I.XPT’ saved [4076160/4076160]\n",
            "\n",
            "--2022-04-30 17:44:59--  https://wwwn.cdc.gov/Nchs/Nhanes/2013-2014/DBQ_H.XPT\n",
            "Resolving wwwn.cdc.gov (wwwn.cdc.gov)... 198.246.102.39\n",
            "Connecting to wwwn.cdc.gov (wwwn.cdc.gov)|198.246.102.39|:443... connected.\n",
            "HTTP request sent, awaiting response... 200 OK\n",
            "Length: 4159360 (4.0M) [application/octet-stream]\n",
            "Saving to: ‘raw/2013-2014/DBQ_H.XPT’\n",
            "\n",
            "DBQ_H.XPT           100%[===================>]   3.97M   366KB/s    in 12s     \n",
            "\n",
            "2022-04-30 17:45:11 (349 KB/s) - ‘raw/2013-2014/DBQ_H.XPT’ saved [4159360/4159360]\n",
            "\n",
            "--2022-04-30 17:45:11--  https://wwwn.cdc.gov/Nchs/Nhanes/2017-2018/DPQ_J.XPT\n",
            "Resolving wwwn.cdc.gov (wwwn.cdc.gov)... 198.246.102.39\n",
            "Connecting to wwwn.cdc.gov (wwwn.cdc.gov)|198.246.102.39|:443... connected.\n",
            "HTTP request sent, awaiting response... 200 OK\n",
            "Length: 489280 (478K) [application/octet-stream]\n",
            "Saving to: ‘raw/2017-2018/DPQ_J.XPT’\n",
            "\n",
            "DPQ_J.XPT           100%[===================>] 477.81K   333KB/s    in 1.4s    \n",
            "\n",
            "2022-04-30 17:45:13 (333 KB/s) - ‘raw/2017-2018/DPQ_J.XPT’ saved [489280/489280]\n",
            "\n",
            "--2022-04-30 17:45:14--  https://wwwn.cdc.gov/Nchs/Nhanes/2011-2012/DPQ_G.XPT\n",
            "Resolving wwwn.cdc.gov (wwwn.cdc.gov)... 198.246.102.39\n",
            "Connecting to wwwn.cdc.gov (wwwn.cdc.gov)|198.246.102.39|:443... connected.\n",
            "HTTP request sent, awaiting response... 200 OK\n",
            "Length: 496480 (485K) [application/octet-stream]\n",
            "Saving to: ‘raw/2011-2012/DPQ_G.XPT’\n",
            "\n",
            "DPQ_G.XPT           100%[===================>] 484.84K   302KB/s    in 1.6s    \n",
            "\n",
            "2022-04-30 17:45:16 (302 KB/s) - ‘raw/2011-2012/DPQ_G.XPT’ saved [496480/496480]\n",
            "\n",
            "--2022-04-30 17:45:16--  https://wwwn.cdc.gov/Nchs/Nhanes/2015-2016/DPQ_I.XPT\n",
            "Resolving wwwn.cdc.gov (wwwn.cdc.gov)... 198.246.102.39\n",
            "Connecting to wwwn.cdc.gov (wwwn.cdc.gov)|198.246.102.39|:443... connected.\n",
            "HTTP request sent, awaiting response... 200 OK\n",
            "Length: 507040 (495K) [application/octet-stream]\n",
            "Saving to: ‘raw/2015-2016/DPQ_I.XPT’\n",
            "\n",
            "DPQ_I.XPT           100%[===================>] 495.16K   307KB/s    in 1.6s    \n",
            "\n",
            "2022-04-30 17:45:18 (307 KB/s) - ‘raw/2015-2016/DPQ_I.XPT’ saved [507040/507040]\n",
            "\n",
            "--2022-04-30 17:45:18--  https://wwwn.cdc.gov/Nchs/Nhanes/2013-2014/DPQ_H.XPT\n",
            "Resolving wwwn.cdc.gov (wwwn.cdc.gov)... 198.246.102.39\n",
            "Connecting to wwwn.cdc.gov (wwwn.cdc.gov)|198.246.102.39|:443... connected.\n",
            "HTTP request sent, awaiting response... 200 OK\n",
            "Length: 523680 (511K) [application/octet-stream]\n",
            "Saving to: ‘raw/2013-2014/DPQ_H.XPT’\n",
            "\n",
            "DPQ_H.XPT           100%[===================>] 511.41K   317KB/s    in 1.6s    \n",
            "\n",
            "2022-04-30 17:45:21 (317 KB/s) - ‘raw/2013-2014/DPQ_H.XPT’ saved [523680/523680]\n",
            "\n",
            "--2022-04-30 17:45:21--  https://wwwn.cdc.gov/Nchs/Nhanes/2017-2018/PAQ_J.XPT\n",
            "Resolving wwwn.cdc.gov (wwwn.cdc.gov)... 198.246.102.39\n",
            "Connecting to wwwn.cdc.gov (wwwn.cdc.gov)|198.246.102.39|:443... connected.\n",
            "HTTP request sent, awaiting response... 200 OK\n",
            "Length: 799600 (781K) [application/octet-stream]\n",
            "Saving to: ‘raw/2017-2018/PAQ_J.XPT’\n",
            "\n",
            "PAQ_J.XPT           100%[===================>] 780.86K   313KB/s    in 2.5s    \n",
            "\n",
            "2022-04-30 17:45:24 (313 KB/s) - ‘raw/2017-2018/PAQ_J.XPT’ saved [799600/799600]\n",
            "\n",
            "--2022-04-30 17:45:24--  https://wwwn.cdc.gov/Nchs/Nhanes/2011-2012/PAQ_G.XPT\n",
            "Resolving wwwn.cdc.gov (wwwn.cdc.gov)... 198.246.102.39\n",
            "Connecting to wwwn.cdc.gov (wwwn.cdc.gov)|198.246.102.39|:443... connected.\n",
            "HTTP request sent, awaiting response... 200 OK\n",
            "Length: 1533680 (1.5M) [application/octet-stream]\n",
            "Saving to: ‘raw/2011-2012/PAQ_G.XPT’\n",
            "\n",
            "PAQ_G.XPT           100%[===================>]   1.46M   362KB/s    in 4.3s    \n",
            "\n",
            "2022-04-30 17:45:29 (349 KB/s) - ‘raw/2011-2012/PAQ_G.XPT’ saved [1533680/1533680]\n",
            "\n",
            "--2022-04-30 17:45:29--  https://wwwn.cdc.gov/Nchs/Nhanes/2015-2016/PAQ_I.XPT\n",
            "Resolving wwwn.cdc.gov (wwwn.cdc.gov)... 198.246.102.39\n",
            "Connecting to wwwn.cdc.gov (wwwn.cdc.gov)|198.246.102.39|:443... connected.\n",
            "HTTP request sent, awaiting response... 200 OK\n",
            "Length: 6973680 (6.7M) [application/octet-stream]\n",
            "Saving to: ‘raw/2015-2016/PAQ_I.XPT’\n",
            "\n",
            "PAQ_I.XPT           100%[===================>]   6.65M   364KB/s    in 20s     \n",
            "\n",
            "2022-04-30 17:45:50 (349 KB/s) - ‘raw/2015-2016/PAQ_I.XPT’ saved [6973680/6973680]\n",
            "\n",
            "--2022-04-30 17:45:50--  https://wwwn.cdc.gov/Nchs/Nhanes/2013-2014/PAQ_H.XPT\n",
            "Resolving wwwn.cdc.gov (wwwn.cdc.gov)... 198.246.102.39\n",
            "Connecting to wwwn.cdc.gov (wwwn.cdc.gov)|198.246.102.39|:443... connected.\n",
            "HTTP request sent, awaiting response... 200 OK\n",
            "Length: 7297920 (7.0M) [application/octet-stream]\n",
            "Saving to: ‘raw/2013-2014/PAQ_H.XPT’\n",
            "\n",
            "PAQ_H.XPT           100%[===================>]   6.96M   366KB/s    in 20s     \n",
            "\n",
            "2022-04-30 17:46:11 (349 KB/s) - ‘raw/2013-2014/PAQ_H.XPT’ saved [7297920/7297920]\n",
            "\n",
            "--2022-04-30 17:46:11--  https://wwwn.cdc.gov/Nchs/Nhanes/2017-2018/INQ_J.XPT\n",
            "Resolving wwwn.cdc.gov (wwwn.cdc.gov)... 198.246.102.39\n",
            "Connecting to wwwn.cdc.gov (wwwn.cdc.gov)|198.246.102.39|:443... connected.\n",
            "HTTP request sent, awaiting response... 200 OK\n",
            "Length: 1187520 (1.1M) [application/octet-stream]\n",
            "Saving to: ‘raw/2017-2018/INQ_J.XPT’\n",
            "\n",
            "INQ_J.XPT           100%[===================>]   1.13M   341KB/s    in 3.4s    \n",
            "\n",
            "2022-04-30 17:46:15 (341 KB/s) - ‘raw/2017-2018/INQ_J.XPT’ saved [1187520/1187520]\n",
            "\n",
            "--2022-04-30 17:46:16--  https://wwwn.cdc.gov/Nchs/Nhanes/2011-2012/INQ_G.XPT\n",
            "Resolving wwwn.cdc.gov (wwwn.cdc.gov)... 198.246.102.39\n",
            "Connecting to wwwn.cdc.gov (wwwn.cdc.gov)|198.246.102.39|:443... connected.\n",
            "HTTP request sent, awaiting response... 200 OK\n",
            "Length: 1173600 (1.1M) [application/octet-stream]\n",
            "Saving to: ‘raw/2011-2012/INQ_G.XPT’\n",
            "\n",
            "INQ_G.XPT           100%[===================>]   1.12M   337KB/s    in 3.4s    \n",
            "\n",
            "2022-04-30 17:46:20 (337 KB/s) - ‘raw/2011-2012/INQ_G.XPT’ saved [1173600/1173600]\n",
            "\n",
            "--2022-04-30 17:46:20--  https://wwwn.cdc.gov/Nchs/Nhanes/2015-2016/INQ_I.XPT\n",
            "Resolving wwwn.cdc.gov (wwwn.cdc.gov)... 198.246.102.39\n",
            "Connecting to wwwn.cdc.gov (wwwn.cdc.gov)|198.246.102.39|:443... connected.\n",
            "HTTP request sent, awaiting response... 200 OK\n",
            "Length: 1279280 (1.2M) [application/octet-stream]\n",
            "Saving to: ‘raw/2015-2016/INQ_I.XPT’\n",
            "\n",
            "INQ_I.XPT           100%[===================>]   1.22M   338KB/s    in 3.8s    \n",
            "\n",
            "2022-04-30 17:46:24 (332 KB/s) - ‘raw/2015-2016/INQ_I.XPT’ saved [1279280/1279280]\n",
            "\n",
            "--2022-04-30 17:46:25--  https://wwwn.cdc.gov/Nchs/Nhanes/2013-2014/INQ_H.XPT\n",
            "Resolving wwwn.cdc.gov (wwwn.cdc.gov)... 198.246.102.39\n",
            "Connecting to wwwn.cdc.gov (wwwn.cdc.gov)|198.246.102.39|:443... connected.\n",
            "HTTP request sent, awaiting response... 200 OK\n",
            "Length: 1223920 (1.2M) [application/octet-stream]\n",
            "Saving to: ‘raw/2013-2014/INQ_H.XPT’\n",
            "\n",
            "INQ_H.XPT           100%[===================>]   1.17M   334KB/s    in 3.6s    \n",
            "\n",
            "2022-04-30 17:46:29 (334 KB/s) - ‘raw/2013-2014/INQ_H.XPT’ saved [1223920/1223920]\n",
            "\n",
            "--2022-04-30 17:46:29--  https://wwwn.cdc.gov/Nchs/Nhanes/2017-2018/SLQ_J.XPT\n",
            "Resolving wwwn.cdc.gov (wwwn.cdc.gov)... 198.246.102.39\n",
            "Connecting to wwwn.cdc.gov (wwwn.cdc.gov)|198.246.102.39|:443... connected.\n",
            "HTTP request sent, awaiting response... 200 OK\n",
            "Length: 470560 (460K) [application/octet-stream]\n",
            "Saving to: ‘raw/2017-2018/SLQ_J.XPT’\n",
            "\n",
            "SLQ_J.XPT           100%[===================>] 459.53K   321KB/s    in 1.4s    \n",
            "\n",
            "2022-04-30 17:46:31 (321 KB/s) - ‘raw/2017-2018/SLQ_J.XPT’ saved [470560/470560]\n",
            "\n",
            "--2022-04-30 17:46:31--  https://wwwn.cdc.gov/Nchs/Nhanes/2011-2012/SLQ_G.XPT\n",
            "Resolving wwwn.cdc.gov (wwwn.cdc.gov)... 198.246.102.39\n",
            "Connecting to wwwn.cdc.gov (wwwn.cdc.gov)|198.246.102.39|:443... connected.\n",
            "HTTP request sent, awaiting response... 200 OK\n",
            "Length: 198880 (194K) [application/octet-stream]\n",
            "Saving to: ‘raw/2011-2012/SLQ_G.XPT’\n",
            "\n",
            "SLQ_G.XPT           100%[===================>] 194.22K   271KB/s    in 0.7s    \n",
            "\n",
            "2022-04-30 17:46:33 (271 KB/s) - ‘raw/2011-2012/SLQ_G.XPT’ saved [198880/198880]\n",
            "\n",
            "--2022-04-30 17:46:33--  https://wwwn.cdc.gov/Nchs/Nhanes/2015-2016/SLQ_I.XPT\n",
            "Resolving wwwn.cdc.gov (wwwn.cdc.gov)... 198.246.102.39\n",
            "Connecting to wwwn.cdc.gov (wwwn.cdc.gov)|198.246.102.39|:443... connected.\n",
            "HTTP request sent, awaiting response... 200 OK\n",
            "Length: 368880 (360K) [application/octet-stream]\n",
            "Saving to: ‘raw/2015-2016/SLQ_I.XPT’\n",
            "\n",
            "SLQ_I.XPT           100%[===================>] 360.23K   288KB/s    in 1.3s    \n",
            "\n",
            "2022-04-30 17:46:35 (288 KB/s) - ‘raw/2015-2016/SLQ_I.XPT’ saved [368880/368880]\n",
            "\n",
            "--2022-04-30 17:46:35--  https://wwwn.cdc.gov/Nchs/Nhanes/2013-2014/SLQ_H.XPT\n",
            "Resolving wwwn.cdc.gov (wwwn.cdc.gov)... 198.246.102.39\n",
            "Connecting to wwwn.cdc.gov (wwwn.cdc.gov)|198.246.102.39|:443... connected.\n",
            "HTTP request sent, awaiting response... 200 OK\n",
            "Length: 208160 (203K) [application/octet-stream]\n",
            "Saving to: ‘raw/2013-2014/SLQ_H.XPT’\n",
            "\n",
            "SLQ_H.XPT           100%[===================>] 203.28K   285KB/s    in 0.7s    \n",
            "\n",
            "2022-04-30 17:46:36 (285 KB/s) - ‘raw/2013-2014/SLQ_H.XPT’ saved [208160/208160]\n",
            "\n"
          ]
        }
      ]
    },
    {
      "cell_type": "code",
      "source": [
        "import pandas as pd\n",
        "dir=\"/content/merged/nhanes_2011_2012.csv\"\n",
        "data11_12_v2= pd.read_csv(dir)\n",
        "\n",
        "dir=\"/content/merged/nhanes_2013_2014.csv\"\n",
        "data13_14_v2= pd.read_csv(dir)\n",
        "\n",
        "dir=\"/content/merged/nhanes_2015_2016.csv\"\n",
        "data15_16_v2= pd.read_csv(dir)\n",
        "\n",
        "dir=\"/content/merged/nhanes_2017_2018.csv\"\n",
        "data17_18_v2= pd.read_csv(dir)"
      ],
      "metadata": {
        "id": "soRybtwjEIJU"
      },
      "execution_count": null,
      "outputs": []
    },
    {
      "cell_type": "code",
      "source": [
        "len(data11_12_v2.index)\n"
      ],
      "metadata": {
        "colab": {
          "base_uri": "https://localhost:8080/"
        },
        "id": "OV2dVpbP53An",
        "outputId": "44cc9767-838b-4df5-a809-161c91ef8c38"
      },
      "execution_count": null,
      "outputs": [
        {
          "output_type": "execute_result",
          "data": {
            "text/plain": [
              "9364"
            ]
          },
          "metadata": {},
          "execution_count": 17
        }
      ]
    },
    {
      "cell_type": "code",
      "source": [
        "print(data11_12_v2.shape)\n",
        "print(data13_14_v2.shape)\n",
        "print(data15_16_v2.shape)\n",
        "print(data17_18_v2.shape)\n",
        "print(\"suma total columnas: \", len(data11_12_v2.index) + len(data13_14_v2.index) + len(data15_16_v2.index)+ len(data17_18_v2.index)) \n",
        "#28231 columns"
      ],
      "metadata": {
        "colab": {
          "base_uri": "https://localhost:8080/"
        },
        "id": "Nq_VGFqCEVY9",
        "outputId": "5d6db956-319a-4c96-8456-e8929cfca290"
      },
      "execution_count": null,
      "outputs": [
        {
          "output_type": "stream",
          "name": "stdout",
          "text": [
            "(9364, 43)\n",
            "(9770, 43)\n",
            "(9575, 43)\n",
            "(8897, 43)\n",
            "suma total columnas:  37606\n"
          ]
        }
      ]
    },
    {
      "cell_type": "code",
      "source": [
        ""
      ],
      "metadata": {
        "id": "zzhjDy3sh8bM"
      },
      "execution_count": null,
      "outputs": []
    },
    {
      "cell_type": "code",
      "source": [
        "data11_12_v2.isna().sum()"
      ],
      "metadata": {
        "colab": {
          "base_uri": "https://localhost:8080/"
        },
        "id": "te8PNI9iTjVh",
        "outputId": "058a9bd3-548b-4f1c-dc3c-80206d7451a4"
      },
      "execution_count": null,
      "outputs": [
        {
          "output_type": "execute_result",
          "data": {
            "text/plain": [
              "SEQN           0\n",
              "DIQ010         1\n",
              "DIQ070      8286\n",
              "INQ020        47\n",
              "INDFMMPI    1121\n",
              "INDFMMPC     318\n",
              "BPXSY1      2608\n",
              "BPXDI1      2608\n",
              "BMXWT        503\n",
              "BMXHT        749\n",
              "BMXBMI       762\n",
              "BMXWAIST    1160\n",
              "BPQ030      7333\n",
              "BPQ040A     7333\n",
              "BPQ050A     7619\n",
              "BPQ090D     5277\n",
              "LBXGLU      6331\n",
              "LBXIN       6483\n",
              "MCQ010         1\n",
              "MCQ080      3190\n",
              "MCQ220      3805\n",
              "MCQ300C     3805\n",
              "HIQ011         0\n",
              "LBDHDD      2375\n",
              "SMQ020      3805\n",
              "LBXTR       6374\n",
              "RIAGENDR       0\n",
              "RIDAGEYR       0\n",
              "RIDRETH1       0\n",
              "RIDRETH3       0\n",
              "DMDEDUC2    3804\n",
              "PAQ605      2585\n",
              "PAQ620      2585\n",
              "PAQ635      2585\n",
              "PAQ650      2585\n",
              "PAQ665      2585\n",
              "HSD010      3472\n",
              "ALQ130      6030\n",
              "DBQ700      3190\n",
              "SLQ050      3190\n",
              "DPQ020      4415\n",
              "DPQ030      4416\n",
              "DPQ040      4417\n",
              "DPQ050      4417\n",
              "dtype: int64"
            ]
          },
          "metadata": {},
          "execution_count": 18
        }
      ]
    },
    {
      "cell_type": "markdown",
      "source": [
        ""
      ],
      "metadata": {
        "id": "xsudOFdidkQK"
      }
    },
    {
      "cell_type": "markdown",
      "source": [
        "#MERGED"
      ],
      "metadata": {
        "id": "kubKQdIDokwP"
      }
    },
    {
      "cell_type": "code",
      "source": [
        "df_merge1 = pd.merge(data11_12_v2, data13_14_v2, how = 'outer')\n",
        "df_merge2 = pd.merge(data15_16_v2, data17_18_v2, how = 'outer')\n",
        "df_mergeall = pd.merge(df_merge1, df_merge2, how = 'outer') #df pero en sucio"
      ],
      "metadata": {
        "id": "Gnh3vzpNonwO"
      },
      "execution_count": null,
      "outputs": []
    },
    {
      "cell_type": "code",
      "source": [
        "len(df_mergeall.index)"
      ],
      "metadata": {
        "colab": {
          "base_uri": "https://localhost:8080/"
        },
        "id": "6EyiKlRyQQY5",
        "outputId": "92aba1f6-3aac-445d-cefe-17ddeba3b074"
      },
      "execution_count": null,
      "outputs": [
        {
          "output_type": "execute_result",
          "data": {
            "text/plain": [
              "37606"
            ]
          },
          "metadata": {},
          "execution_count": 7
        }
      ]
    },
    {
      "cell_type": "code",
      "source": [
        "df_mergeall.isna().sum()"
      ],
      "metadata": {
        "colab": {
          "base_uri": "https://localhost:8080/"
        },
        "id": "To5ffrQzQTEp",
        "outputId": "1343ea3a-5a82-42e5-e2bf-b75608f74e6e"
      },
      "execution_count": null,
      "outputs": [
        {
          "output_type": "execute_result",
          "data": {
            "text/plain": [
              "SEQN            0\n",
              "DIQ010          2\n",
              "DIQ070      32139\n",
              "INQ020        948\n",
              "INDFMMPI     5332\n",
              "INDFMMPC     1856\n",
              "BPXSY1      10231\n",
              "BPXDI1      10231\n",
              "BMXWT        2104\n",
              "BMXHT        3139\n",
              "BMXBMI       3188\n",
              "BMXWAIST     4827\n",
              "BPQ030      29174\n",
              "BPQ040A     29174\n",
              "BPQ050A     30253\n",
              "BPQ090D     19718\n",
              "LBXGLU      25538\n",
              "LBXIN       25886\n",
              "MCQ010          2\n",
              "MCQ080      12480\n",
              "MCQ220      14990\n",
              "MCQ300C     14990\n",
              "HIQ011          0\n",
              "LBDHDD       8999\n",
              "SMQ020      14086\n",
              "LBXTR       25913\n",
              "RIAGENDR        0\n",
              "RIDAGEYR        0\n",
              "RIDRETH3        0\n",
              "DMDEDUC2    14989\n",
              "PAQ605      10857\n",
              "PAQ620      10858\n",
              "PAQ635      10859\n",
              "PAQ650      10861\n",
              "PAQ665      10863\n",
              "HSD010      13113\n",
              "ALQ130      23802\n",
              "DBQ700      12480\n",
              "SLQ050      12480\n",
              "DPQ020      17004\n",
              "DPQ030      17006\n",
              "DPQ040      17010\n",
              "DPQ050      17010\n",
              "dtype: int64"
            ]
          },
          "metadata": {},
          "execution_count": 10
        }
      ]
    },
    {
      "cell_type": "code",
      "source": [
        "df['SLD012'].describe()\n",
        "df.isna().sum()\n",
        "#grupos de 2 a 4 (incluido)\n",
        "#grupo de 4 (sin incluir) a 6 (incluido)\n",
        "#grupo de 6 (sin incluir) a 8 (incluido)\n",
        "#grupo de 8 (sin incluir) a 10 (incluido)\n",
        "#grupo de 10 (sin incluir) a 12 (incluido)\n",
        "#grupo de mas de 12"
      ],
      "metadata": {
        "colab": {
          "base_uri": "https://localhost:8080/"
        },
        "id": "9Y_pcNM7Qjub",
        "outputId": "728cc30e-a22d-473b-ccd7-d7ba3d721c0d"
      },
      "execution_count": null,
      "outputs": [
        {
          "output_type": "execute_result",
          "data": {
            "text/plain": [
              "SEQN            0\n",
              "DIQ010          2\n",
              "DIQ070      32139\n",
              "INQ020        948\n",
              "INDFMMPI     5332\n",
              "INDFMMPC     1856\n",
              "BPXSY1      10231\n",
              "BPXDI1      10231\n",
              "BMXWT        2104\n",
              "BMXHT        3139\n",
              "BMXBMI       3188\n",
              "BMXWAIST     4827\n",
              "BPQ030      29174\n",
              "BPQ040A     29174\n",
              "BPQ050A     30253\n",
              "BPQ090D     19718\n",
              "LBXGLU      25538\n",
              "LBXIN       25886\n",
              "MCQ010          2\n",
              "MCQ080      12480\n",
              "MCQ220      14990\n",
              "MCQ300C     14990\n",
              "HIQ011          0\n",
              "LBDHDD       8999\n",
              "SMQ020      14086\n",
              "LBXTR       25913\n",
              "RIAGENDR        0\n",
              "RIDAGEYR        0\n",
              "RIDRETH1        0\n",
              "RIDRETH3        0\n",
              "DMDEDUC2    14989\n",
              "PAQ605      10857\n",
              "PAQ620      10858\n",
              "PAQ635      10859\n",
              "PAQ650      10861\n",
              "PAQ665      10863\n",
              "HSD010      13113\n",
              "ALQ130      23802\n",
              "DBQ700      12480\n",
              "SLQ050      12480\n",
              "DPQ020      17004\n",
              "DPQ030      17006\n",
              "DPQ040      17010\n",
              "DPQ050      17010\n",
              "SLD012      25199\n",
              "INQ300      20311\n",
              "dtype: int64"
            ]
          },
          "metadata": {},
          "execution_count": 17
        }
      ]
    },
    {
      "cell_type": "code",
      "source": [
        "df['INDFMMPI']"
      ],
      "metadata": {
        "id": "pjGoWbNWS1bZ"
      },
      "execution_count": null,
      "outputs": []
    },
    {
      "cell_type": "code",
      "source": [
        "cdf_mergeall.to_csv('df_mergeall_raw.csv')"
      ],
      "metadata": {
        "id": "WOzc5fHBpkfv"
      },
      "execution_count": null,
      "outputs": []
    },
    {
      "cell_type": "code",
      "source": [
        "df_mergeall.columns"
      ],
      "metadata": {
        "colab": {
          "base_uri": "https://localhost:8080/"
        },
        "id": "-PPUqMMZpGhf",
        "outputId": "dbd979e5-8d35-4890-b4ba-07fbc1167ac2"
      },
      "execution_count": null,
      "outputs": [
        {
          "output_type": "execute_result",
          "data": {
            "text/plain": [
              "Index(['SEQN', 'SLQ050', 'DBQ700', 'HIQ011', 'RIAGENDR', 'RIDAGEYR',\n",
              "       'RIDRETH1', 'RIDRETH3', 'DMDEDUC2', 'LBXGLU', 'LBXIN', 'ALQ130',\n",
              "       'DPQ020', 'DPQ030', 'DPQ040', 'DPQ050', 'HSD010', 'BMXWT', 'BMXHT',\n",
              "       'BMXBMI', 'BMXWAIST', 'LBDHDD', 'PAQ605', 'PAQ620', 'PAQ635', 'PAQ650',\n",
              "       'PAQ665', 'SMQ020', 'LBXTR', 'BPXSY1', 'BPXDI1', 'MCQ010', 'MCQ080',\n",
              "       'MCQ220', 'MCQ300C', 'INQ020', 'INDFMMPI', 'INDFMMPC', 'BPQ030',\n",
              "       'BPQ040A', 'BPQ050A', 'BPQ090D', 'DIQ010', 'DIQ070', 'INQ300'],\n",
              "      dtype='object')"
            ]
          },
          "metadata": {},
          "execution_count": 79
        }
      ]
    },
    {
      "cell_type": "code",
      "source": [
        "6175 + 5924 + 9971 + 6161\n"
      ],
      "metadata": {
        "colab": {
          "base_uri": "https://localhost:8080/"
        },
        "id": "-dOG_ljhnzup",
        "outputId": "5c225bbb-f3d6-4553-f8b1-952e48e0e410"
      },
      "execution_count": null,
      "outputs": [
        {
          "output_type": "execute_result",
          "data": {
            "text/plain": [
              "28231"
            ]
          },
          "metadata": {},
          "execution_count": 78
        }
      ]
    },
    {
      "cell_type": "code",
      "source": [
        "27231 - 23678"
      ],
      "metadata": {
        "colab": {
          "base_uri": "https://localhost:8080/"
        },
        "id": "N3G5ltkpn73e",
        "outputId": "6278ebed-8ce5-43d1-82ea-2a00deed8eae"
      },
      "execution_count": null,
      "outputs": [
        {
          "output_type": "execute_result",
          "data": {
            "text/plain": [
              "3553"
            ]
          },
          "metadata": {},
          "execution_count": 75
        }
      ]
    },
    {
      "cell_type": "code",
      "source": [
        "print(data11_12_v2.columns)\n",
        "print(\" \")\n",
        "print(data13_14_v2.columns)\n",
        "print(\" \")\n",
        "print(data15_16_v2.columns)\n",
        "print(\" \")\n",
        "print(data17_18_v2.columns)"
      ],
      "metadata": {
        "colab": {
          "base_uri": "https://localhost:8080/"
        },
        "id": "5Y4OQS-MMyES",
        "outputId": "00d960e9-c4d5-4bea-e75f-f76efb92ca5b"
      },
      "execution_count": null,
      "outputs": [
        {
          "output_type": "stream",
          "name": "stdout",
          "text": [
            "Index(['SEQN', 'SLQ050', 'DBQ700', 'HIQ011', 'RIAGENDR', 'RIDAGEYR',\n",
            "       'RIDRETH1', 'RIDRETH3', 'DMDEDUC2', 'LBXGLU', 'LBXIN', 'ALQ130',\n",
            "       'DPQ020', 'DPQ030', 'DPQ040', 'DPQ050', 'HSD010', 'BMXWT', 'BMXHT',\n",
            "       'BMXBMI', 'BMXWAIST', 'LBDHDD', 'PAQ605', 'PAQ620', 'PAQ635', 'PAQ650',\n",
            "       'PAQ665', 'SMQ020', 'LBXTR', 'BPXSY1', 'BPXDI1', 'MCQ010', 'MCQ080',\n",
            "       'MCQ220', 'MCQ300C', 'INQ020', 'INDFMMPI', 'INDFMMPC', 'BPQ030',\n",
            "       'BPQ040A', 'BPQ050A', 'BPQ090D', 'DIQ010', 'DIQ070'],\n",
            "      dtype='object')\n",
            " \n",
            "Index(['SEQN', 'ALQ130', 'DPQ020', 'DPQ030', 'DPQ040', 'DPQ050', 'RIAGENDR',\n",
            "       'RIDAGEYR', 'RIDRETH1', 'RIDRETH3', 'DMDEDUC2', 'LBXIN', 'SMQ020',\n",
            "       'MCQ010', 'MCQ080', 'MCQ220', 'MCQ300C', 'LBXTR', 'DIQ010', 'DIQ070',\n",
            "       'LBXGLU', 'INQ020', 'INDFMMPI', 'INDFMMPC', 'DBQ700', 'PAQ605',\n",
            "       'PAQ620', 'PAQ635', 'PAQ650', 'PAQ665', 'BPXSY1', 'BPXDI1', 'HIQ011',\n",
            "       'HSD010', 'LBDHDD', 'SLQ050', 'BPQ030', 'BPQ040A', 'BPQ050A', 'BPQ090D',\n",
            "       'BMXWT', 'BMXHT', 'BMXBMI', 'BMXWAIST'],\n",
            "      dtype='object')\n",
            " \n",
            "Index(['SEQN', 'RIAGENDR', 'RIDAGEYR', 'RIDRETH1', 'RIDRETH3', 'DMDEDUC2',\n",
            "       'MCQ010', 'MCQ080', 'MCQ220', 'MCQ300C', 'LBDHDD', 'SLQ050', 'ALQ130',\n",
            "       'INQ020', 'INDFMMPI', 'INDFMMPC', 'INQ300', 'LBXGLU', 'DBQ700', 'BMXWT',\n",
            "       'BMXHT', 'BMXBMI', 'BMXWAIST', 'DIQ010', 'DIQ070', 'HSD010', 'PAQ605',\n",
            "       'PAQ620', 'PAQ635', 'PAQ650', 'PAQ665', 'DPQ020', 'DPQ030', 'DPQ040',\n",
            "       'DPQ050', 'SMQ020', 'HIQ011', 'BPXSY1', 'BPXDI1', 'BPQ030', 'BPQ040A',\n",
            "       'BPQ050A', 'BPQ090D', 'LBXIN', 'LBXTR'],\n",
            "      dtype='object')\n",
            " \n",
            "Index(['SEQN', 'BPQ030', 'BPQ040A', 'BPQ050A', 'BPQ090D', 'DBQ700', 'SMQ020',\n",
            "       'PAQ605', 'PAQ620', 'PAQ635', 'PAQ650', 'PAQ665', 'MCQ010', 'MCQ080',\n",
            "       'MCQ220', 'MCQ300C', 'DPQ020', 'DPQ030', 'DPQ040', 'DPQ050', 'LBDHDD',\n",
            "       'SLQ050', 'LBXGLU', 'BMXWT', 'BMXHT', 'BMXBMI', 'BMXWAIST', 'LBXTR',\n",
            "       'HIQ011', 'RIAGENDR', 'RIDAGEYR', 'RIDRETH1', 'RIDRETH3', 'DMDEDUC2',\n",
            "       'ALQ130', 'DIQ010', 'DIQ070', 'LBXIN', 'BPXSY1', 'BPXDI1', 'HSD010',\n",
            "       'INQ020', 'INDFMMPI', 'INDFMMPC', 'INQ300'],\n",
            "      dtype='object')\n"
          ]
        }
      ]
    },
    {
      "cell_type": "code",
      "source": [
        "race = ['SEQN', 'RIDRETH1', 'RIDRETH3']\n",
        "race11_12 = data11_12_v2[race]\n",
        "race13_14 = data13_14_v2[race]\n",
        "race15_16 = data15_16_v2[race]\n",
        "race17_18 = data17_18_v2[race]\n",
        "race_all_1 = pd.merge(race11_12, race13_14, how = 'outer')\n",
        "race_all_2 = pd.merge(race15_16, race17_18, how = 'outer')\n",
        "race_all = pd.merge(race_all_1, race_all_2, how = 'outer')"
      ],
      "metadata": {
        "id": "5oH7sm3MdOWJ"
      },
      "execution_count": null,
      "outputs": []
    },
    {
      "cell_type": "code",
      "source": [
        "\n",
        "url_df_all = \"https://raw.githubusercontent.com/AngelaBurgaleta/TFM_NHANES/main/METSYM_prevalence/df_all.csv\"\n",
        "df_all = pd.read_csv(url_df_all)"
      ],
      "metadata": {
        "id": "iXlSXdiGnU93"
      },
      "execution_count": null,
      "outputs": []
    },
    {
      "cell_type": "code",
      "source": [
        "df_all.shape"
      ],
      "metadata": {
        "colab": {
          "base_uri": "https://localhost:8080/"
        },
        "id": "HZRRWXaDefTW",
        "outputId": "b7e037ea-86e6-4b8a-bf91-6d9012c34ed0"
      },
      "execution_count": null,
      "outputs": [
        {
          "output_type": "execute_result",
          "data": {
            "text/plain": [
              "(23678, 50)"
            ]
          },
          "metadata": {},
          "execution_count": 74
        }
      ]
    },
    {
      "cell_type": "code",
      "source": [
        "race_all['RIDRETH1'].isna().mean()"
      ],
      "metadata": {
        "colab": {
          "base_uri": "https://localhost:8080/"
        },
        "id": "YMr5qMtkfchW",
        "outputId": "37dc9c87-c4f4-4f2d-f6fa-39d38be38236"
      },
      "execution_count": null,
      "outputs": [
        {
          "output_type": "execute_result",
          "data": {
            "text/plain": [
              "0.0"
            ]
          },
          "metadata": {},
          "execution_count": 63
        }
      ]
    },
    {
      "cell_type": "code",
      "source": [
        "url_df = \"https://raw.githubusercontent.com/AngelaBurgaleta/TFM_NHANES/main/dataframe_limpio/df.csv\"\n",
        "df = pd.read_csv(url_df)"
      ],
      "metadata": {
        "id": "DWsUuxXifh1e"
      },
      "execution_count": null,
      "outputs": []
    },
    {
      "cell_type": "code",
      "source": [
        "df.shape"
      ],
      "metadata": {
        "colab": {
          "base_uri": "https://localhost:8080/"
        },
        "id": "Jd6xFEMzkY0Y",
        "outputId": "b75bba0b-6b4f-4b69-f5a4-212229fce3f2"
      },
      "execution_count": null,
      "outputs": [
        {
          "output_type": "execute_result",
          "data": {
            "text/plain": [
              "(23678, 39)"
            ]
          },
          "metadata": {},
          "execution_count": 70
        }
      ]
    },
    {
      "cell_type": "code",
      "source": [
        "df_race = pd.merge(df_all, race_all, on = 'SEQN' )"
      ],
      "metadata": {
        "id": "dCnSKakWkpq3"
      },
      "execution_count": null,
      "outputs": []
    },
    {
      "cell_type": "code",
      "source": [
        "df_race.shape"
      ],
      "metadata": {
        "colab": {
          "base_uri": "https://localhost:8080/"
        },
        "id": "jSXytj-9k4tt",
        "outputId": "4c101606-26e6-486a-b7f7-5be45383dde8"
      },
      "execution_count": null,
      "outputs": [
        {
          "output_type": "execute_result",
          "data": {
            "text/plain": [
              "(17861, 52)"
            ]
          },
          "metadata": {},
          "execution_count": 65
        }
      ]
    },
    {
      "cell_type": "code",
      "source": [
        "race11_12.columns\n",
        "race11_12['RIDRETH1'].unique()"
      ],
      "metadata": {
        "colab": {
          "base_uri": "https://localhost:8080/"
        },
        "id": "W8PQ3ABMNJ_B",
        "outputId": "0f9bc33d-9bfc-415b-ca95-eb79e04fc5a1"
      },
      "execution_count": null,
      "outputs": [
        {
          "output_type": "execute_result",
          "data": {
            "text/plain": [
              "array([3., 5., 4., 1., 2.])"
            ]
          },
          "metadata": {},
          "execution_count": 18
        }
      ]
    },
    {
      "cell_type": "code",
      "source": [
        "data11_12_v2['IN']"
      ],
      "metadata": {
        "colab": {
          "base_uri": "https://localhost:8080/"
        },
        "id": "QIaYQbEHJajR",
        "outputId": "040aa30b-2c49-4919-a858-70ec64d138bc"
      },
      "execution_count": null,
      "outputs": [
        {
          "output_type": "execute_result",
          "data": {
            "text/plain": [
              "0        92.0\n",
              "1        82.0\n",
              "2        88.0\n",
              "3       107.0\n",
              "4        99.0\n",
              "        ...  \n",
              "3234     91.0\n",
              "3235     99.0\n",
              "3236    100.0\n",
              "3237     91.0\n",
              "3238      NaN\n",
              "Name: LBXGLU, Length: 3239, dtype: float64"
            ]
          },
          "metadata": {},
          "execution_count": 25
        }
      ]
    },
    {
      "cell_type": "code",
      "source": [
        "#Importar y leer desde github con pandas\n",
        "import pandas as pd\n",
        "\n",
        "url11_12 = \"https://raw.githubusercontent.com/AngelaBurgaleta/TFM_NHANES/main/download_data/merged/nhanes_2011_2012.csv\"\n",
        "url15_16 = \"https://raw.githubusercontent.com/AngelaBurgaleta/TFM_NHANES/main/download_data/merged/nhanes_2015_2016.csv\"\n",
        "url17_18 = \"https://raw.githubusercontent.com/AngelaBurgaleta/TFM_NHANES/main/download_data/merged/nhanes_2017_2018.csv\"\n",
        "\n",
        "data11_12 = pd.read_csv(url11_12)\n",
        "data15_16 = pd.read_csv(url15_16)\n",
        "data17_18 = pd.read_csv(url17_18)\n"
      ],
      "metadata": {
        "id": "BGg8fux15gAM"
      },
      "execution_count": null,
      "outputs": []
    },
    {
      "cell_type": "code",
      "source": [
        "print(data11_12.shape)\n",
        "print(data15_16.shape)\n",
        "print(data17_18.shape)\n"
      ],
      "metadata": {
        "colab": {
          "base_uri": "https://localhost:8080/"
        },
        "id": "_Bz3yicn6ou9",
        "outputId": "8a755e6c-b7d0-4fd0-a83c-16978c8c6dd6"
      },
      "execution_count": null,
      "outputs": [
        {
          "output_type": "stream",
          "name": "stdout",
          "text": [
            "(9338, 38)\n",
            "(5735, 38)\n",
            "(6161, 40)\n"
          ]
        }
      ]
    },
    {
      "cell_type": "code",
      "source": [
        "data11_12.columns\n"
      ],
      "metadata": {
        "colab": {
          "base_uri": "https://localhost:8080/"
        },
        "id": "vYEq42Ng69CT",
        "outputId": "74baa250-7af2-42e8-d8d3-06d12b72c79a"
      },
      "execution_count": null,
      "outputs": [
        {
          "output_type": "execute_result",
          "data": {
            "text/plain": [
              "Index(['SEQN', 'BPXSY1', 'BPXDI1', 'INQ020', 'DBQ700', 'RIAGENDR', 'RIDAGEYR',\n",
              "       'DMDEDUC2', 'MCQ010', 'MCQ080', 'MCQ220', 'MCQ300C', 'PAQ605', 'PAQ620',\n",
              "       'PAQ635', 'PAQ650', 'PAQ665', 'HIQ011', 'HSD010', 'LBXTR', 'BPQ030',\n",
              "       'BPQ040A', 'BPQ050A', 'BPQ090D', 'ALQ130', 'BMXWT', 'BMXHT', 'BMXBMI',\n",
              "       'BMXWAIST', 'DPQ020', 'DPQ030', 'DPQ040', 'DPQ050', 'DIQ010', 'DIQ070',\n",
              "       'SLQ050', 'LBDHDD', 'SMQ020'],\n",
              "      dtype='object')"
            ]
          },
          "metadata": {},
          "execution_count": 8
        }
      ]
    },
    {
      "cell_type": "code",
      "source": [
        "data11_12.duplicated('RIDAGEYR').sum()"
      ],
      "metadata": {
        "colab": {
          "base_uri": "https://localhost:8080/"
        },
        "id": "GHhwemGg7QL8",
        "outputId": "7b798d5b-9b5a-4307-f498-320b0cb31485"
      },
      "execution_count": null,
      "outputs": [
        {
          "output_type": "execute_result",
          "data": {
            "text/plain": [
              "9257"
            ]
          },
          "metadata": {},
          "execution_count": 9
        }
      ]
    },
    {
      "cell_type": "code",
      "source": [
        "data11_12.pivot_table(index = ['RIDAGEYR'], aggfunc ='size')"
      ],
      "metadata": {
        "colab": {
          "base_uri": "https://localhost:8080/"
        },
        "id": "qnsR2f9O7oAn",
        "outputId": "ae5c3600-a529-4618-9037-75c529e46e39"
      },
      "execution_count": null,
      "outputs": [
        {
          "output_type": "execute_result",
          "data": {
            "text/plain": [
              "RIDAGEYR\n",
              "5.397605e-79    382\n",
              "1.000000e+00    219\n",
              "2.000000e+00    302\n",
              "3.000000e+00    215\n",
              "4.000000e+00    220\n",
              "               ... \n",
              "7.600000e+01     39\n",
              "7.700000e+01     36\n",
              "7.800000e+01     41\n",
              "7.900000e+01     42\n",
              "8.000000e+01    326\n",
              "Length: 81, dtype: int64"
            ]
          },
          "metadata": {},
          "execution_count": 10
        }
      ]
    },
    {
      "cell_type": "code",
      "source": [
        "data11_12['RIDAGEYR'].isna().sum()\n"
      ],
      "metadata": {
        "colab": {
          "base_uri": "https://localhost:8080/"
        },
        "id": "tyyS8ctC8OjD",
        "outputId": "b0667093-988f-4551-df4e-8126fcb1a2e3"
      },
      "execution_count": null,
      "outputs": [
        {
          "output_type": "execute_result",
          "data": {
            "text/plain": [
              "0"
            ]
          },
          "metadata": {},
          "execution_count": 11
        }
      ]
    },
    {
      "cell_type": "code",
      "source": [
        "data_merge=pd.merge(data11_12, data15_16)"
      ],
      "metadata": {
        "id": "KF9V6fKE8rZv"
      },
      "execution_count": null,
      "outputs": []
    },
    {
      "cell_type": "code",
      "source": [
        "data_merge.size"
      ],
      "metadata": {
        "colab": {
          "base_uri": "https://localhost:8080/"
        },
        "id": "qoEfupeY-LHu",
        "outputId": "13991ad9-177c-41e4-8778-b22ac142e630"
      },
      "execution_count": null,
      "outputs": [
        {
          "output_type": "execute_result",
          "data": {
            "text/plain": [
              "0"
            ]
          },
          "metadata": {},
          "execution_count": 13
        }
      ]
    },
    {
      "cell_type": "code",
      "source": [
        "data_outerjoin = pd.merge(data11_12, data15_16, how='outer')"
      ],
      "metadata": {
        "id": "v-3OoANZ-c7h"
      },
      "execution_count": null,
      "outputs": []
    },
    {
      "cell_type": "code",
      "source": [
        "data_outerjoin.size"
      ],
      "metadata": {
        "colab": {
          "base_uri": "https://localhost:8080/"
        },
        "id": "9iDl3ZZg_LCc",
        "outputId": "36694da4-b1c2-404b-d56d-672e394c5f10"
      },
      "execution_count": null,
      "outputs": [
        {
          "output_type": "execute_result",
          "data": {
            "text/plain": [
              "572774"
            ]
          },
          "metadata": {},
          "execution_count": 15
        }
      ]
    },
    {
      "cell_type": "code",
      "source": [
        "data_outerjoin.head()"
      ],
      "metadata": {
        "colab": {
          "base_uri": "https://localhost:8080/",
          "height": 288
        },
        "id": "sOkVIuGZ_Mhe",
        "outputId": "83e0fc0a-ce67-462e-97ec-c6078f00c684"
      },
      "execution_count": null,
      "outputs": [
        {
          "output_type": "execute_result",
          "data": {
            "text/html": [
              "\n",
              "  <div id=\"df-e22c72da-3eba-48a7-8ac2-0cba02d03504\">\n",
              "    <div class=\"colab-df-container\">\n",
              "      <div>\n",
              "<style scoped>\n",
              "    .dataframe tbody tr th:only-of-type {\n",
              "        vertical-align: middle;\n",
              "    }\n",
              "\n",
              "    .dataframe tbody tr th {\n",
              "        vertical-align: top;\n",
              "    }\n",
              "\n",
              "    .dataframe thead th {\n",
              "        text-align: right;\n",
              "    }\n",
              "</style>\n",
              "<table border=\"1\" class=\"dataframe\">\n",
              "  <thead>\n",
              "    <tr style=\"text-align: right;\">\n",
              "      <th></th>\n",
              "      <th>SEQN</th>\n",
              "      <th>BPXSY1</th>\n",
              "      <th>BPXDI1</th>\n",
              "      <th>INQ020</th>\n",
              "      <th>DBQ700</th>\n",
              "      <th>RIAGENDR</th>\n",
              "      <th>RIDAGEYR</th>\n",
              "      <th>DMDEDUC2</th>\n",
              "      <th>MCQ010</th>\n",
              "      <th>MCQ080</th>\n",
              "      <th>MCQ220</th>\n",
              "      <th>MCQ300C</th>\n",
              "      <th>PAQ605</th>\n",
              "      <th>PAQ620</th>\n",
              "      <th>PAQ635</th>\n",
              "      <th>PAQ650</th>\n",
              "      <th>PAQ665</th>\n",
              "      <th>HIQ011</th>\n",
              "      <th>HSD010</th>\n",
              "      <th>LBXTR</th>\n",
              "      <th>BPQ030</th>\n",
              "      <th>BPQ040A</th>\n",
              "      <th>BPQ050A</th>\n",
              "      <th>BPQ090D</th>\n",
              "      <th>ALQ130</th>\n",
              "      <th>BMXWT</th>\n",
              "      <th>BMXHT</th>\n",
              "      <th>BMXBMI</th>\n",
              "      <th>BMXWAIST</th>\n",
              "      <th>DPQ020</th>\n",
              "      <th>DPQ030</th>\n",
              "      <th>DPQ040</th>\n",
              "      <th>DPQ050</th>\n",
              "      <th>DIQ010</th>\n",
              "      <th>DIQ070</th>\n",
              "      <th>SLQ050</th>\n",
              "      <th>LBDHDD</th>\n",
              "      <th>SMQ020</th>\n",
              "    </tr>\n",
              "  </thead>\n",
              "  <tbody>\n",
              "    <tr>\n",
              "      <th>0</th>\n",
              "      <td>62161</td>\n",
              "      <td>110.0</td>\n",
              "      <td>82.0</td>\n",
              "      <td>1.0</td>\n",
              "      <td>2.0</td>\n",
              "      <td>1.0</td>\n",
              "      <td>22.0</td>\n",
              "      <td>3.0</td>\n",
              "      <td>2.0</td>\n",
              "      <td>2.0</td>\n",
              "      <td>2.0</td>\n",
              "      <td>1.0</td>\n",
              "      <td>2.0</td>\n",
              "      <td>2.0</td>\n",
              "      <td>2.0</td>\n",
              "      <td>2.0</td>\n",
              "      <td>2.0</td>\n",
              "      <td>1.0</td>\n",
              "      <td>3.0</td>\n",
              "      <td>84.0</td>\n",
              "      <td>NaN</td>\n",
              "      <td>NaN</td>\n",
              "      <td>NaN</td>\n",
              "      <td>NaN</td>\n",
              "      <td>NaN</td>\n",
              "      <td>69.2</td>\n",
              "      <td>172.3</td>\n",
              "      <td>23.3</td>\n",
              "      <td>81.0</td>\n",
              "      <td>5.397605e-79</td>\n",
              "      <td>5.397605e-79</td>\n",
              "      <td>5.397605e-79</td>\n",
              "      <td>5.397605e-79</td>\n",
              "      <td>2.0</td>\n",
              "      <td>NaN</td>\n",
              "      <td>2.0</td>\n",
              "      <td>41.0</td>\n",
              "      <td>2.0</td>\n",
              "    </tr>\n",
              "    <tr>\n",
              "      <th>1</th>\n",
              "      <td>62162</td>\n",
              "      <td>NaN</td>\n",
              "      <td>NaN</td>\n",
              "      <td>1.0</td>\n",
              "      <td>NaN</td>\n",
              "      <td>2.0</td>\n",
              "      <td>3.0</td>\n",
              "      <td>NaN</td>\n",
              "      <td>2.0</td>\n",
              "      <td>NaN</td>\n",
              "      <td>NaN</td>\n",
              "      <td>NaN</td>\n",
              "      <td>NaN</td>\n",
              "      <td>NaN</td>\n",
              "      <td>NaN</td>\n",
              "      <td>NaN</td>\n",
              "      <td>NaN</td>\n",
              "      <td>1.0</td>\n",
              "      <td>NaN</td>\n",
              "      <td>NaN</td>\n",
              "      <td>NaN</td>\n",
              "      <td>NaN</td>\n",
              "      <td>NaN</td>\n",
              "      <td>NaN</td>\n",
              "      <td>NaN</td>\n",
              "      <td>12.7</td>\n",
              "      <td>94.7</td>\n",
              "      <td>14.2</td>\n",
              "      <td>45.4</td>\n",
              "      <td>NaN</td>\n",
              "      <td>NaN</td>\n",
              "      <td>NaN</td>\n",
              "      <td>NaN</td>\n",
              "      <td>2.0</td>\n",
              "      <td>NaN</td>\n",
              "      <td>NaN</td>\n",
              "      <td>NaN</td>\n",
              "      <td>NaN</td>\n",
              "    </tr>\n",
              "    <tr>\n",
              "      <th>2</th>\n",
              "      <td>62163</td>\n",
              "      <td>112.0</td>\n",
              "      <td>38.0</td>\n",
              "      <td>1.0</td>\n",
              "      <td>NaN</td>\n",
              "      <td>1.0</td>\n",
              "      <td>14.0</td>\n",
              "      <td>NaN</td>\n",
              "      <td>2.0</td>\n",
              "      <td>NaN</td>\n",
              "      <td>NaN</td>\n",
              "      <td>NaN</td>\n",
              "      <td>2.0</td>\n",
              "      <td>2.0</td>\n",
              "      <td>1.0</td>\n",
              "      <td>2.0</td>\n",
              "      <td>2.0</td>\n",
              "      <td>1.0</td>\n",
              "      <td>3.0</td>\n",
              "      <td>NaN</td>\n",
              "      <td>NaN</td>\n",
              "      <td>NaN</td>\n",
              "      <td>NaN</td>\n",
              "      <td>NaN</td>\n",
              "      <td>NaN</td>\n",
              "      <td>49.4</td>\n",
              "      <td>168.9</td>\n",
              "      <td>17.3</td>\n",
              "      <td>64.6</td>\n",
              "      <td>NaN</td>\n",
              "      <td>NaN</td>\n",
              "      <td>NaN</td>\n",
              "      <td>NaN</td>\n",
              "      <td>2.0</td>\n",
              "      <td>NaN</td>\n",
              "      <td>NaN</td>\n",
              "      <td>44.0</td>\n",
              "      <td>NaN</td>\n",
              "    </tr>\n",
              "    <tr>\n",
              "      <th>3</th>\n",
              "      <td>62164</td>\n",
              "      <td>116.0</td>\n",
              "      <td>56.0</td>\n",
              "      <td>1.0</td>\n",
              "      <td>1.0</td>\n",
              "      <td>2.0</td>\n",
              "      <td>44.0</td>\n",
              "      <td>4.0</td>\n",
              "      <td>2.0</td>\n",
              "      <td>2.0</td>\n",
              "      <td>2.0</td>\n",
              "      <td>2.0</td>\n",
              "      <td>1.0</td>\n",
              "      <td>2.0</td>\n",
              "      <td>2.0</td>\n",
              "      <td>1.0</td>\n",
              "      <td>1.0</td>\n",
              "      <td>1.0</td>\n",
              "      <td>NaN</td>\n",
              "      <td>56.0</td>\n",
              "      <td>NaN</td>\n",
              "      <td>NaN</td>\n",
              "      <td>NaN</td>\n",
              "      <td>NaN</td>\n",
              "      <td>NaN</td>\n",
              "      <td>67.2</td>\n",
              "      <td>170.1</td>\n",
              "      <td>23.2</td>\n",
              "      <td>80.1</td>\n",
              "      <td>NaN</td>\n",
              "      <td>NaN</td>\n",
              "      <td>NaN</td>\n",
              "      <td>NaN</td>\n",
              "      <td>2.0</td>\n",
              "      <td>NaN</td>\n",
              "      <td>1.0</td>\n",
              "      <td>28.0</td>\n",
              "      <td>2.0</td>\n",
              "    </tr>\n",
              "    <tr>\n",
              "      <th>4</th>\n",
              "      <td>62165</td>\n",
              "      <td>110.0</td>\n",
              "      <td>64.0</td>\n",
              "      <td>2.0</td>\n",
              "      <td>NaN</td>\n",
              "      <td>2.0</td>\n",
              "      <td>14.0</td>\n",
              "      <td>NaN</td>\n",
              "      <td>2.0</td>\n",
              "      <td>NaN</td>\n",
              "      <td>NaN</td>\n",
              "      <td>NaN</td>\n",
              "      <td>2.0</td>\n",
              "      <td>2.0</td>\n",
              "      <td>1.0</td>\n",
              "      <td>1.0</td>\n",
              "      <td>1.0</td>\n",
              "      <td>2.0</td>\n",
              "      <td>4.0</td>\n",
              "      <td>71.0</td>\n",
              "      <td>NaN</td>\n",
              "      <td>NaN</td>\n",
              "      <td>NaN</td>\n",
              "      <td>NaN</td>\n",
              "      <td>NaN</td>\n",
              "      <td>69.1</td>\n",
              "      <td>159.4</td>\n",
              "      <td>27.2</td>\n",
              "      <td>86.7</td>\n",
              "      <td>NaN</td>\n",
              "      <td>NaN</td>\n",
              "      <td>NaN</td>\n",
              "      <td>NaN</td>\n",
              "      <td>2.0</td>\n",
              "      <td>NaN</td>\n",
              "      <td>NaN</td>\n",
              "      <td>63.0</td>\n",
              "      <td>NaN</td>\n",
              "    </tr>\n",
              "  </tbody>\n",
              "</table>\n",
              "</div>\n",
              "      <button class=\"colab-df-convert\" onclick=\"convertToInteractive('df-e22c72da-3eba-48a7-8ac2-0cba02d03504')\"\n",
              "              title=\"Convert this dataframe to an interactive table.\"\n",
              "              style=\"display:none;\">\n",
              "        \n",
              "  <svg xmlns=\"http://www.w3.org/2000/svg\" height=\"24px\"viewBox=\"0 0 24 24\"\n",
              "       width=\"24px\">\n",
              "    <path d=\"M0 0h24v24H0V0z\" fill=\"none\"/>\n",
              "    <path d=\"M18.56 5.44l.94 2.06.94-2.06 2.06-.94-2.06-.94-.94-2.06-.94 2.06-2.06.94zm-11 1L8.5 8.5l.94-2.06 2.06-.94-2.06-.94L8.5 2.5l-.94 2.06-2.06.94zm10 10l.94 2.06.94-2.06 2.06-.94-2.06-.94-.94-2.06-.94 2.06-2.06.94z\"/><path d=\"M17.41 7.96l-1.37-1.37c-.4-.4-.92-.59-1.43-.59-.52 0-1.04.2-1.43.59L10.3 9.45l-7.72 7.72c-.78.78-.78 2.05 0 2.83L4 21.41c.39.39.9.59 1.41.59.51 0 1.02-.2 1.41-.59l7.78-7.78 2.81-2.81c.8-.78.8-2.07 0-2.86zM5.41 20L4 18.59l7.72-7.72 1.47 1.35L5.41 20z\"/>\n",
              "  </svg>\n",
              "      </button>\n",
              "      \n",
              "  <style>\n",
              "    .colab-df-container {\n",
              "      display:flex;\n",
              "      flex-wrap:wrap;\n",
              "      gap: 12px;\n",
              "    }\n",
              "\n",
              "    .colab-df-convert {\n",
              "      background-color: #E8F0FE;\n",
              "      border: none;\n",
              "      border-radius: 50%;\n",
              "      cursor: pointer;\n",
              "      display: none;\n",
              "      fill: #1967D2;\n",
              "      height: 32px;\n",
              "      padding: 0 0 0 0;\n",
              "      width: 32px;\n",
              "    }\n",
              "\n",
              "    .colab-df-convert:hover {\n",
              "      background-color: #E2EBFA;\n",
              "      box-shadow: 0px 1px 2px rgba(60, 64, 67, 0.3), 0px 1px 3px 1px rgba(60, 64, 67, 0.15);\n",
              "      fill: #174EA6;\n",
              "    }\n",
              "\n",
              "    [theme=dark] .colab-df-convert {\n",
              "      background-color: #3B4455;\n",
              "      fill: #D2E3FC;\n",
              "    }\n",
              "\n",
              "    [theme=dark] .colab-df-convert:hover {\n",
              "      background-color: #434B5C;\n",
              "      box-shadow: 0px 1px 3px 1px rgba(0, 0, 0, 0.15);\n",
              "      filter: drop-shadow(0px 1px 2px rgba(0, 0, 0, 0.3));\n",
              "      fill: #FFFFFF;\n",
              "    }\n",
              "  </style>\n",
              "\n",
              "      <script>\n",
              "        const buttonEl =\n",
              "          document.querySelector('#df-e22c72da-3eba-48a7-8ac2-0cba02d03504 button.colab-df-convert');\n",
              "        buttonEl.style.display =\n",
              "          google.colab.kernel.accessAllowed ? 'block' : 'none';\n",
              "\n",
              "        async function convertToInteractive(key) {\n",
              "          const element = document.querySelector('#df-e22c72da-3eba-48a7-8ac2-0cba02d03504');\n",
              "          const dataTable =\n",
              "            await google.colab.kernel.invokeFunction('convertToInteractive',\n",
              "                                                     [key], {});\n",
              "          if (!dataTable) return;\n",
              "\n",
              "          const docLinkHtml = 'Like what you see? Visit the ' +\n",
              "            '<a target=\"_blank\" href=https://colab.research.google.com/notebooks/data_table.ipynb>data table notebook</a>'\n",
              "            + ' to learn more about interactive tables.';\n",
              "          element.innerHTML = '';\n",
              "          dataTable['output_type'] = 'display_data';\n",
              "          await google.colab.output.renderOutput(dataTable, element);\n",
              "          const docLink = document.createElement('div');\n",
              "          docLink.innerHTML = docLinkHtml;\n",
              "          element.appendChild(docLink);\n",
              "        }\n",
              "      </script>\n",
              "    </div>\n",
              "  </div>\n",
              "  "
            ],
            "text/plain": [
              "    SEQN  BPXSY1  BPXDI1  INQ020  ...  DIQ070  SLQ050  LBDHDD  SMQ020\n",
              "0  62161   110.0    82.0     1.0  ...     NaN     2.0    41.0     2.0\n",
              "1  62162     NaN     NaN     1.0  ...     NaN     NaN     NaN     NaN\n",
              "2  62163   112.0    38.0     1.0  ...     NaN     NaN    44.0     NaN\n",
              "3  62164   116.0    56.0     1.0  ...     NaN     1.0    28.0     2.0\n",
              "4  62165   110.0    64.0     2.0  ...     NaN     NaN    63.0     NaN\n",
              "\n",
              "[5 rows x 38 columns]"
            ]
          },
          "metadata": {},
          "execution_count": 16
        }
      ]
    },
    {
      "cell_type": "code",
      "source": [
        "data_outerjoin.shape"
      ],
      "metadata": {
        "colab": {
          "base_uri": "https://localhost:8080/"
        },
        "id": "HC8M15dw_QdE",
        "outputId": "4a7f1c1f-11d9-492f-d5be-5f672f2149bc"
      },
      "execution_count": null,
      "outputs": [
        {
          "output_type": "execute_result",
          "data": {
            "text/plain": [
              "(15073, 38)"
            ]
          },
          "metadata": {},
          "execution_count": 17
        }
      ]
    },
    {
      "cell_type": "code",
      "source": [
        "9338 + 5735"
      ],
      "metadata": {
        "colab": {
          "base_uri": "https://localhost:8080/"
        },
        "id": "ZoHAQkXe_aTx",
        "outputId": "a286aaf6-5ee4-45d6-af73-84f1719c6209"
      },
      "execution_count": null,
      "outputs": [
        {
          "output_type": "execute_result",
          "data": {
            "text/plain": [
              "15073"
            ]
          },
          "metadata": {},
          "execution_count": 18
        }
      ]
    },
    {
      "cell_type": "code",
      "source": [
        "data_outerjoin.duplicated().sum()"
      ],
      "metadata": {
        "id": "hfBM1eFn_h_r",
        "colab": {
          "base_uri": "https://localhost:8080/"
        },
        "outputId": "2a09d6ce-e563-4baf-fe7b-c8621db09d11"
      },
      "execution_count": null,
      "outputs": [
        {
          "output_type": "execute_result",
          "data": {
            "text/plain": [
              "0"
            ]
          },
          "metadata": {},
          "execution_count": 19
        }
      ]
    },
    {
      "cell_type": "code",
      "source": [
        "data_outerjoin.duplicated('INQ020')"
      ],
      "metadata": {
        "colab": {
          "base_uri": "https://localhost:8080/"
        },
        "id": "hg-e2DvAgwcz",
        "outputId": "8c61dd9d-e7ad-440c-c27c-ea3ba97e66ca"
      },
      "execution_count": null,
      "outputs": [
        {
          "output_type": "execute_result",
          "data": {
            "text/plain": [
              "0        False\n",
              "1         True\n",
              "2         True\n",
              "3         True\n",
              "4        False\n",
              "         ...  \n",
              "15068     True\n",
              "15069     True\n",
              "15070     True\n",
              "15071     True\n",
              "15072     True\n",
              "Length: 15073, dtype: bool"
            ]
          },
          "metadata": {},
          "execution_count": 22
        }
      ]
    },
    {
      "cell_type": "code",
      "source": [
        "data_outerjoin.groupby(['INQ020']).count()"
      ],
      "metadata": {
        "colab": {
          "base_uri": "https://localhost:8080/",
          "height": 270
        },
        "id": "iEMXpNQOhFCW",
        "outputId": "c1428c61-bdf5-4a48-b922-fe47294c01b7"
      },
      "execution_count": null,
      "outputs": [
        {
          "output_type": "execute_result",
          "data": {
            "text/html": [
              "\n",
              "  <div id=\"df-f3c82afe-9829-4769-8e42-61323c6bf0ab\">\n",
              "    <div class=\"colab-df-container\">\n",
              "      <div>\n",
              "<style scoped>\n",
              "    .dataframe tbody tr th:only-of-type {\n",
              "        vertical-align: middle;\n",
              "    }\n",
              "\n",
              "    .dataframe tbody tr th {\n",
              "        vertical-align: top;\n",
              "    }\n",
              "\n",
              "    .dataframe thead th {\n",
              "        text-align: right;\n",
              "    }\n",
              "</style>\n",
              "<table border=\"1\" class=\"dataframe\">\n",
              "  <thead>\n",
              "    <tr style=\"text-align: right;\">\n",
              "      <th></th>\n",
              "      <th>SEQN</th>\n",
              "      <th>BPXSY1</th>\n",
              "      <th>BPXDI1</th>\n",
              "      <th>DBQ700</th>\n",
              "      <th>RIAGENDR</th>\n",
              "      <th>RIDAGEYR</th>\n",
              "      <th>DMDEDUC2</th>\n",
              "      <th>MCQ010</th>\n",
              "      <th>MCQ080</th>\n",
              "      <th>MCQ220</th>\n",
              "      <th>MCQ300C</th>\n",
              "      <th>PAQ605</th>\n",
              "      <th>PAQ620</th>\n",
              "      <th>PAQ635</th>\n",
              "      <th>PAQ650</th>\n",
              "      <th>PAQ665</th>\n",
              "      <th>HIQ011</th>\n",
              "      <th>HSD010</th>\n",
              "      <th>LBXTR</th>\n",
              "      <th>BPQ030</th>\n",
              "      <th>BPQ040A</th>\n",
              "      <th>BPQ050A</th>\n",
              "      <th>BPQ090D</th>\n",
              "      <th>ALQ130</th>\n",
              "      <th>BMXWT</th>\n",
              "      <th>BMXHT</th>\n",
              "      <th>BMXBMI</th>\n",
              "      <th>BMXWAIST</th>\n",
              "      <th>DPQ020</th>\n",
              "      <th>DPQ030</th>\n",
              "      <th>DPQ040</th>\n",
              "      <th>DPQ050</th>\n",
              "      <th>DIQ010</th>\n",
              "      <th>DIQ070</th>\n",
              "      <th>SLQ050</th>\n",
              "      <th>LBDHDD</th>\n",
              "      <th>SMQ020</th>\n",
              "    </tr>\n",
              "    <tr>\n",
              "      <th>INQ020</th>\n",
              "      <th></th>\n",
              "      <th></th>\n",
              "      <th></th>\n",
              "      <th></th>\n",
              "      <th></th>\n",
              "      <th></th>\n",
              "      <th></th>\n",
              "      <th></th>\n",
              "      <th></th>\n",
              "      <th></th>\n",
              "      <th></th>\n",
              "      <th></th>\n",
              "      <th></th>\n",
              "      <th></th>\n",
              "      <th></th>\n",
              "      <th></th>\n",
              "      <th></th>\n",
              "      <th></th>\n",
              "      <th></th>\n",
              "      <th></th>\n",
              "      <th></th>\n",
              "      <th></th>\n",
              "      <th></th>\n",
              "      <th></th>\n",
              "      <th></th>\n",
              "      <th></th>\n",
              "      <th></th>\n",
              "      <th></th>\n",
              "      <th></th>\n",
              "      <th></th>\n",
              "      <th></th>\n",
              "      <th></th>\n",
              "      <th></th>\n",
              "      <th></th>\n",
              "      <th></th>\n",
              "      <th></th>\n",
              "      <th></th>\n",
              "    </tr>\n",
              "  </thead>\n",
              "  <tbody>\n",
              "    <tr>\n",
              "      <th>1.0</th>\n",
              "      <td>11628</td>\n",
              "      <td>9190</td>\n",
              "      <td>9190</td>\n",
              "      <td>8661</td>\n",
              "      <td>11628</td>\n",
              "      <td>11628</td>\n",
              "      <td>7981</td>\n",
              "      <td>11281</td>\n",
              "      <td>8661</td>\n",
              "      <td>7980</td>\n",
              "      <td>7980</td>\n",
              "      <td>9196</td>\n",
              "      <td>9196</td>\n",
              "      <td>9196</td>\n",
              "      <td>9196</td>\n",
              "      <td>9196</td>\n",
              "      <td>11628</td>\n",
              "      <td>8301</td>\n",
              "      <td>4008</td>\n",
              "      <td>2401</td>\n",
              "      <td>2401</td>\n",
              "      <td>2024</td>\n",
              "      <td>5916</td>\n",
              "      <td>5225</td>\n",
              "      <td>11529</td>\n",
              "      <td>10966</td>\n",
              "      <td>10959</td>\n",
              "      <td>10526</td>\n",
              "      <td>7469</td>\n",
              "      <td>7468</td>\n",
              "      <td>7467</td>\n",
              "      <td>7467</td>\n",
              "      <td>11281</td>\n",
              "      <td>1571</td>\n",
              "      <td>8661</td>\n",
              "      <td>9430</td>\n",
              "      <td>8183</td>\n",
              "    </tr>\n",
              "    <tr>\n",
              "      <th>2.0</th>\n",
              "      <td>3075</td>\n",
              "      <td>2655</td>\n",
              "      <td>2655</td>\n",
              "      <td>2666</td>\n",
              "      <td>3075</td>\n",
              "      <td>3075</td>\n",
              "      <td>2524</td>\n",
              "      <td>3043</td>\n",
              "      <td>2666</td>\n",
              "      <td>2524</td>\n",
              "      <td>2524</td>\n",
              "      <td>2728</td>\n",
              "      <td>2728</td>\n",
              "      <td>2728</td>\n",
              "      <td>2728</td>\n",
              "      <td>2728</td>\n",
              "      <td>3075</td>\n",
              "      <td>2522</td>\n",
              "      <td>1198</td>\n",
              "      <td>1441</td>\n",
              "      <td>1441</td>\n",
              "      <td>1334</td>\n",
              "      <td>2135</td>\n",
              "      <td>1339</td>\n",
              "      <td>3017</td>\n",
              "      <td>2964</td>\n",
              "      <td>2951</td>\n",
              "      <td>2719</td>\n",
              "      <td>2376</td>\n",
              "      <td>2376</td>\n",
              "      <td>2374</td>\n",
              "      <td>2374</td>\n",
              "      <td>3043</td>\n",
              "      <td>819</td>\n",
              "      <td>2666</td>\n",
              "      <td>2649</td>\n",
              "      <td>2558</td>\n",
              "    </tr>\n",
              "    <tr>\n",
              "      <th>7.0</th>\n",
              "      <td>85</td>\n",
              "      <td>63</td>\n",
              "      <td>63</td>\n",
              "      <td>60</td>\n",
              "      <td>85</td>\n",
              "      <td>85</td>\n",
              "      <td>57</td>\n",
              "      <td>84</td>\n",
              "      <td>60</td>\n",
              "      <td>57</td>\n",
              "      <td>57</td>\n",
              "      <td>67</td>\n",
              "      <td>67</td>\n",
              "      <td>67</td>\n",
              "      <td>67</td>\n",
              "      <td>67</td>\n",
              "      <td>85</td>\n",
              "      <td>57</td>\n",
              "      <td>33</td>\n",
              "      <td>20</td>\n",
              "      <td>20</td>\n",
              "      <td>17</td>\n",
              "      <td>43</td>\n",
              "      <td>21</td>\n",
              "      <td>83</td>\n",
              "      <td>80</td>\n",
              "      <td>79</td>\n",
              "      <td>71</td>\n",
              "      <td>49</td>\n",
              "      <td>49</td>\n",
              "      <td>49</td>\n",
              "      <td>49</td>\n",
              "      <td>84</td>\n",
              "      <td>10</td>\n",
              "      <td>60</td>\n",
              "      <td>65</td>\n",
              "      <td>59</td>\n",
              "    </tr>\n",
              "    <tr>\n",
              "      <th>9.0</th>\n",
              "      <td>66</td>\n",
              "      <td>55</td>\n",
              "      <td>55</td>\n",
              "      <td>56</td>\n",
              "      <td>66</td>\n",
              "      <td>66</td>\n",
              "      <td>46</td>\n",
              "      <td>65</td>\n",
              "      <td>56</td>\n",
              "      <td>46</td>\n",
              "      <td>46</td>\n",
              "      <td>57</td>\n",
              "      <td>57</td>\n",
              "      <td>57</td>\n",
              "      <td>57</td>\n",
              "      <td>57</td>\n",
              "      <td>66</td>\n",
              "      <td>54</td>\n",
              "      <td>26</td>\n",
              "      <td>15</td>\n",
              "      <td>15</td>\n",
              "      <td>14</td>\n",
              "      <td>31</td>\n",
              "      <td>26</td>\n",
              "      <td>66</td>\n",
              "      <td>64</td>\n",
              "      <td>64</td>\n",
              "      <td>64</td>\n",
              "      <td>53</td>\n",
              "      <td>53</td>\n",
              "      <td>53</td>\n",
              "      <td>53</td>\n",
              "      <td>65</td>\n",
              "      <td>7</td>\n",
              "      <td>56</td>\n",
              "      <td>57</td>\n",
              "      <td>50</td>\n",
              "    </tr>\n",
              "  </tbody>\n",
              "</table>\n",
              "</div>\n",
              "      <button class=\"colab-df-convert\" onclick=\"convertToInteractive('df-f3c82afe-9829-4769-8e42-61323c6bf0ab')\"\n",
              "              title=\"Convert this dataframe to an interactive table.\"\n",
              "              style=\"display:none;\">\n",
              "        \n",
              "  <svg xmlns=\"http://www.w3.org/2000/svg\" height=\"24px\"viewBox=\"0 0 24 24\"\n",
              "       width=\"24px\">\n",
              "    <path d=\"M0 0h24v24H0V0z\" fill=\"none\"/>\n",
              "    <path d=\"M18.56 5.44l.94 2.06.94-2.06 2.06-.94-2.06-.94-.94-2.06-.94 2.06-2.06.94zm-11 1L8.5 8.5l.94-2.06 2.06-.94-2.06-.94L8.5 2.5l-.94 2.06-2.06.94zm10 10l.94 2.06.94-2.06 2.06-.94-2.06-.94-.94-2.06-.94 2.06-2.06.94z\"/><path d=\"M17.41 7.96l-1.37-1.37c-.4-.4-.92-.59-1.43-.59-.52 0-1.04.2-1.43.59L10.3 9.45l-7.72 7.72c-.78.78-.78 2.05 0 2.83L4 21.41c.39.39.9.59 1.41.59.51 0 1.02-.2 1.41-.59l7.78-7.78 2.81-2.81c.8-.78.8-2.07 0-2.86zM5.41 20L4 18.59l7.72-7.72 1.47 1.35L5.41 20z\"/>\n",
              "  </svg>\n",
              "      </button>\n",
              "      \n",
              "  <style>\n",
              "    .colab-df-container {\n",
              "      display:flex;\n",
              "      flex-wrap:wrap;\n",
              "      gap: 12px;\n",
              "    }\n",
              "\n",
              "    .colab-df-convert {\n",
              "      background-color: #E8F0FE;\n",
              "      border: none;\n",
              "      border-radius: 50%;\n",
              "      cursor: pointer;\n",
              "      display: none;\n",
              "      fill: #1967D2;\n",
              "      height: 32px;\n",
              "      padding: 0 0 0 0;\n",
              "      width: 32px;\n",
              "    }\n",
              "\n",
              "    .colab-df-convert:hover {\n",
              "      background-color: #E2EBFA;\n",
              "      box-shadow: 0px 1px 2px rgba(60, 64, 67, 0.3), 0px 1px 3px 1px rgba(60, 64, 67, 0.15);\n",
              "      fill: #174EA6;\n",
              "    }\n",
              "\n",
              "    [theme=dark] .colab-df-convert {\n",
              "      background-color: #3B4455;\n",
              "      fill: #D2E3FC;\n",
              "    }\n",
              "\n",
              "    [theme=dark] .colab-df-convert:hover {\n",
              "      background-color: #434B5C;\n",
              "      box-shadow: 0px 1px 3px 1px rgba(0, 0, 0, 0.15);\n",
              "      filter: drop-shadow(0px 1px 2px rgba(0, 0, 0, 0.3));\n",
              "      fill: #FFFFFF;\n",
              "    }\n",
              "  </style>\n",
              "\n",
              "      <script>\n",
              "        const buttonEl =\n",
              "          document.querySelector('#df-f3c82afe-9829-4769-8e42-61323c6bf0ab button.colab-df-convert');\n",
              "        buttonEl.style.display =\n",
              "          google.colab.kernel.accessAllowed ? 'block' : 'none';\n",
              "\n",
              "        async function convertToInteractive(key) {\n",
              "          const element = document.querySelector('#df-f3c82afe-9829-4769-8e42-61323c6bf0ab');\n",
              "          const dataTable =\n",
              "            await google.colab.kernel.invokeFunction('convertToInteractive',\n",
              "                                                     [key], {});\n",
              "          if (!dataTable) return;\n",
              "\n",
              "          const docLinkHtml = 'Like what you see? Visit the ' +\n",
              "            '<a target=\"_blank\" href=https://colab.research.google.com/notebooks/data_table.ipynb>data table notebook</a>'\n",
              "            + ' to learn more about interactive tables.';\n",
              "          element.innerHTML = '';\n",
              "          dataTable['output_type'] = 'display_data';\n",
              "          await google.colab.output.renderOutput(dataTable, element);\n",
              "          const docLink = document.createElement('div');\n",
              "          docLink.innerHTML = docLinkHtml;\n",
              "          element.appendChild(docLink);\n",
              "        }\n",
              "      </script>\n",
              "    </div>\n",
              "  </div>\n",
              "  "
            ],
            "text/plain": [
              "         SEQN  BPXSY1  BPXDI1  DBQ700  ...  DIQ070  SLQ050  LBDHDD  SMQ020\n",
              "INQ020                                 ...                                \n",
              "1.0     11628    9190    9190    8661  ...    1571    8661    9430    8183\n",
              "2.0      3075    2655    2655    2666  ...     819    2666    2649    2558\n",
              "7.0        85      63      63      60  ...      10      60      65      59\n",
              "9.0        66      55      55      56  ...       7      56      57      50\n",
              "\n",
              "[4 rows x 37 columns]"
            ]
          },
          "metadata": {},
          "execution_count": 26
        }
      ]
    },
    {
      "cell_type": "code",
      "source": [
        "data_outerjoin['RIAGENDR'].value_counts()"
      ],
      "metadata": {
        "colab": {
          "base_uri": "https://localhost:8080/"
        },
        "id": "jpXKGoUIhYS9",
        "outputId": "a77578b6-808b-4166-9af2-b50f3b60228a"
      },
      "execution_count": null,
      "outputs": [
        {
          "output_type": "execute_result",
          "data": {
            "text/plain": [
              "2.0    7663\n",
              "1.0    7410\n",
              "Name: RIAGENDR, dtype: int64"
            ]
          },
          "metadata": {},
          "execution_count": 30
        }
      ]
    },
    {
      "cell_type": "markdown",
      "source": [
        "##DESCARGA DE CSVs"
      ],
      "metadata": {
        "id": "DSli-XLgdnum"
      }
    },
    {
      "cell_type": "code",
      "source": [
        "df_mergeall.to_csv('df_raw.csv')\n",
        "data11_12_v2.to_csv('data11_12_raw.csv')\n",
        "data13_14_v2.to_csv('data13_14_raw.csv')\n",
        "data15_16_v2.to_csv('data15_16_raw.csv')\n",
        "data17_18_v2.to_csv('data17_18_raw.csv')"
      ],
      "metadata": {
        "id": "ZEWBO3iyiFFV"
      },
      "execution_count": null,
      "outputs": []
    },
    {
      "cell_type": "code",
      "source": [
        "df_mergeall.shape"
      ],
      "metadata": {
        "colab": {
          "base_uri": "https://localhost:8080/"
        },
        "id": "q_c-CInTfBuj",
        "outputId": "4fcb9a45-f13f-4fa5-a6ad-fa5bf6ad7981"
      },
      "execution_count": null,
      "outputs": [
        {
          "output_type": "execute_result",
          "data": {
            "text/plain": [
              "(37606, 46)"
            ]
          },
          "metadata": {},
          "execution_count": 29
        }
      ]
    },
    {
      "cell_type": "code",
      "source": [
        ""
      ],
      "metadata": {
        "id": "sZvVFyFkfEjF"
      },
      "execution_count": null,
      "outputs": []
    }
  ]
}