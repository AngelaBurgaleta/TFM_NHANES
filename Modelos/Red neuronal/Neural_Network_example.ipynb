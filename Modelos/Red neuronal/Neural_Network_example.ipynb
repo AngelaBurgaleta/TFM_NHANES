{
  "nbformat": 4,
  "nbformat_minor": 0,
  "metadata": {
    "colab": {
      "name": "Neural Network_example.ipynb",
      "provenance": [],
      "collapsed_sections": []
    },
    "kernelspec": {
      "name": "python3",
      "display_name": "Python 3"
    },
    "language_info": {
      "name": "python"
    }
  },
  "cells": [
    {
      "cell_type": "code",
      "execution_count": 101,
      "metadata": {
        "id": "UyTWgdMVyLYh"
      },
      "outputs": [],
      "source": [
        "import tensorflow as tf\n",
        "from tensorflow import keras\n",
        "import matplotlib.pyplot as plt\n",
        "import matplotlib as mpl\n",
        "import numpy as np\n",
        "import pandas as pd\n",
        "import seaborn as sns\n",
        "from sklearn.preprocessing import StandardScaler\n",
        "from sklearn.preprocessing import MinMaxScaler \n",
        "from sklearn.decomposition import PCA\n",
        "from sklearn.model_selection import train_test_split\n",
        "from sklearn.linear_model import LogisticRegression\n",
        "%matplotlib inline\n",
        "\n",
        "url_df = \"https://raw.githubusercontent.com/AngelaBurgaleta/TFM_NHANES/main/dataframe_limpio/df.csv\"\n",
        "\n",
        "df_original = pd.read_csv(url_df)\n",
        "df = df_original\n",
        "df_corr = df_original\n",
        "df_corr = df_corr.drop(columns=['SEQN', 'REQ1', 'REQ2', 'REQ3', 'REQ4', 'REQ5', 'Unnamed: 0', 'Unnamed: 0.1'])\n",
        "\n",
        "X = df.drop(columns=['SEQN', 'MET_SYM', 'REQ1', 'REQ2', 'REQ3', 'REQ4', 'REQ5', 'Unnamed: 0', 'Unnamed: 0.1'])\n",
        "y = df['MET_SYM']"
      ]
    },
    {
      "cell_type": "markdown",
      "source": [
        "#NHANES"
      ],
      "metadata": {
        "id": "bc-xjyr2FvN9"
      }
    },
    {
      "cell_type": "code",
      "source": [
        "#LO INTRERESANTE\n",
        "\n",
        "#1. NORMALIZACION\n",
        "scaler = StandardScaler()\n",
        "X_scaled = scaler.fit_transform(X)\n",
        "X_scaled\n",
        "\n",
        "#2. fijamos componentes\n",
        "pca = PCA(n_components=20)\n",
        "X_pca = pca.fit_transform(X)\n",
        "X_pca.shape\n",
        "\n",
        "# 3. Separar datos en train, test, entrada y salida despues del PCA\n",
        "X_train, X_test, y_train, y_test = train_test_split(X_pca, y, test_size=0.2, random_state=100)"
      ],
      "metadata": {
        "id": "RnCaGkqNFwwo"
      },
      "execution_count": 102,
      "outputs": []
    },
    {
      "cell_type": "code",
      "source": [
        "print('Class Distribution (positive to negative): {:.1f}% / {:.1f}%' .format(y_train.mean() * 100, (1-y_train.mean()) * 100))"
      ],
      "metadata": {
        "colab": {
          "base_uri": "https://localhost:8080/"
        },
        "id": "e-k-pJb6GFKg",
        "outputId": "15f53ed3-0aa0-4aca-b683-ecb6dad95af4"
      },
      "execution_count": 110,
      "outputs": [
        {
          "output_type": "stream",
          "name": "stdout",
          "text": [
            "Class Distribution (positive to negative): 31.6% / 68.4%\n"
          ]
        }
      ]
    },
    {
      "cell_type": "code",
      "source": [
        "X_train.shape"
      ],
      "metadata": {
        "colab": {
          "base_uri": "https://localhost:8080/"
        },
        "id": "toTAkOZsGIdv",
        "outputId": "5c0f4dd9-6411-481b-8e5f-781638a48562"
      },
      "execution_count": 103,
      "outputs": [
        {
          "output_type": "execute_result",
          "data": {
            "text/plain": [
              "(18942, 20)"
            ]
          },
          "metadata": {},
          "execution_count": 103
        }
      ]
    },
    {
      "cell_type": "code",
      "source": [
        "#Gabriel Atkin\n",
        "\n",
        "inputs = tf.keras.Input(shape=(X_pca.shape[1], ))\n",
        "x = tf.keras.layers.Dense(1024, activation = 'relu')(inputs)\n",
        "x = tf.keras.layers.Dense(1024, activation = 'relu')(x)\n",
        "outputs = tf.keras.layers.Dense(1, activation='sigmoid')(x)\n",
        "\n",
        "model = tf.keras.Model(inputs, outputs)\n",
        "\n",
        "model.compile(\n",
        "    optimizer= 'adam',\n",
        "    loss = 'binary_crossentropy',\n",
        "    metrics = [\n",
        "               'accuracy',\n",
        "               tf.keras.metrics.AUC(name = 'auc')\n",
        "    ]\n",
        ")\n",
        "\n",
        "batch_size = 64\n",
        "epochs = 12\n",
        "\n",
        "history = model.fit(\n",
        "    X_train,\n",
        "    y_train,\n",
        "    validation_split = 0.2,\n",
        "    batch_size = batch_size,\n",
        "    epochs = epochs,\n",
        "    callbacks = [\n",
        "              tf.keras.callbacks.ReduceLROnPlateau()\n",
        "    ]\n",
        ")"
      ],
      "metadata": {
        "colab": {
          "base_uri": "https://localhost:8080/"
        },
        "id": "0GuHWoJLaU4T",
        "outputId": "ff45653a-0343-48c6-936f-032c5106e30c"
      },
      "execution_count": 118,
      "outputs": [
        {
          "output_type": "stream",
          "name": "stdout",
          "text": [
            "Epoch 1/12\n",
            "237/237 [==============================] - 11s 42ms/step - loss: 0.3856 - accuracy: 0.8277 - auc: 0.9031 - val_loss: 0.3244 - val_accuracy: 0.8533 - val_auc: 0.9244 - lr: 0.0010\n",
            "Epoch 2/12\n",
            "237/237 [==============================] - 8s 35ms/step - loss: 0.3077 - accuracy: 0.8563 - auc: 0.9310 - val_loss: 0.3104 - val_accuracy: 0.8548 - val_auc: 0.9281 - lr: 0.0010\n",
            "Epoch 3/12\n",
            "237/237 [==============================] - 8s 35ms/step - loss: 0.3001 - accuracy: 0.8618 - auc: 0.9345 - val_loss: 0.3077 - val_accuracy: 0.8570 - val_auc: 0.9311 - lr: 0.0010\n",
            "Epoch 4/12\n",
            "237/237 [==============================] - 8s 35ms/step - loss: 0.2940 - accuracy: 0.8641 - auc: 0.9373 - val_loss: 0.3109 - val_accuracy: 0.8564 - val_auc: 0.9287 - lr: 0.0010\n",
            "Epoch 5/12\n",
            "237/237 [==============================] - 8s 35ms/step - loss: 0.2924 - accuracy: 0.8642 - auc: 0.9382 - val_loss: 0.3355 - val_accuracy: 0.8451 - val_auc: 0.9313 - lr: 0.0010\n",
            "Epoch 6/12\n",
            "237/237 [==============================] - 9s 36ms/step - loss: 0.2884 - accuracy: 0.8644 - auc: 0.9397 - val_loss: 0.3080 - val_accuracy: 0.8614 - val_auc: 0.9325 - lr: 0.0010\n",
            "Epoch 7/12\n",
            "237/237 [==============================] - 9s 38ms/step - loss: 0.2853 - accuracy: 0.8696 - auc: 0.9412 - val_loss: 0.2990 - val_accuracy: 0.8622 - val_auc: 0.9342 - lr: 0.0010\n",
            "Epoch 8/12\n",
            "237/237 [==============================] - 9s 36ms/step - loss: 0.2843 - accuracy: 0.8696 - auc: 0.9414 - val_loss: 0.3028 - val_accuracy: 0.8641 - val_auc: 0.9346 - lr: 0.0010\n",
            "Epoch 9/12\n",
            "237/237 [==============================] - 8s 34ms/step - loss: 0.2806 - accuracy: 0.8710 - auc: 0.9433 - val_loss: 0.3059 - val_accuracy: 0.8599 - val_auc: 0.9320 - lr: 0.0010\n",
            "Epoch 10/12\n",
            "237/237 [==============================] - 6s 24ms/step - loss: 0.2770 - accuracy: 0.8749 - auc: 0.9450 - val_loss: 0.2956 - val_accuracy: 0.8596 - val_auc: 0.9359 - lr: 0.0010\n",
            "Epoch 11/12\n",
            "237/237 [==============================] - 6s 24ms/step - loss: 0.2764 - accuracy: 0.8732 - auc: 0.9449 - val_loss: 0.3016 - val_accuracy: 0.8577 - val_auc: 0.9355 - lr: 0.0010\n",
            "Epoch 12/12\n",
            "237/237 [==============================] - 6s 24ms/step - loss: 0.2745 - accuracy: 0.8719 - auc: 0.9455 - val_loss: 0.3121 - val_accuracy: 0.8593 - val_auc: 0.9354 - lr: 0.0010\n"
          ]
        }
      ]
    },
    {
      "cell_type": "code",
      "source": [
        "#RESULTS \n",
        "plt.figure(figsize = (12,6))\n",
        "\n",
        "plt.plot(range(epochs), history.history['accuracy'], label = \"Training Accuracy\")\n",
        "\n",
        "plt.plot(range(epochs), history.history['val_accuracy'], label = \"Validation Accuracy\")\n",
        "\n",
        "plt.xlabel(\"Epoch\")\n",
        "plt.ylabel(\"Accuracy\")\n",
        "\n",
        "plt.show()"
      ],
      "metadata": {
        "colab": {
          "base_uri": "https://localhost:8080/",
          "height": 388
        },
        "id": "tQ4qNkKCap-L",
        "outputId": "b97d8b14-f552-498c-e18d-f3d5566d3b25"
      },
      "execution_count": 119,
      "outputs": [
        {
          "output_type": "display_data",
          "data": {
            "text/plain": [
              "<Figure size 864x432 with 1 Axes>"
            ],
            "image/png": "[encoded data removed]"
          },
          "metadata": {
            "needs_background": "light"
          }
        }
      ]
    },
    {
      "cell_type": "code",
      "source": [
        "model.evaluate(X_test, y_test)"
      ],
      "metadata": {
        "colab": {
          "base_uri": "https://localhost:8080/"
        },
        "id": "lVOIqmDqdUW-",
        "outputId": "9edbcbaa-2590-43ff-c6a5-51616be51ef7"
      },
      "execution_count": 120,
      "outputs": [
        {
          "output_type": "stream",
          "name": "stdout",
          "text": [
            "148/148 [==============================] - 2s 9ms/step - loss: 0.3099 - accuracy: 0.8617 - auc: 0.9376\n"
          ]
        },
        {
          "output_type": "execute_result",
          "data": {
            "text/plain": [
              "[0.309856653213501, 0.8616976141929626, 0.9376395344734192]"
            ]
          },
          "metadata": {},
          "execution_count": 120
        }
      ]
    },
    {
      "cell_type": "markdown",
      "source": [
        "##tro modelo\n"
      ],
      "metadata": {
        "id": "NPPhgSN_euJ7"
      }
    },
    {
      "cell_type": "code",
      "source": [
        "model = tf.keras.models.Sequential([\n",
        "                                    tf.keras.layers.Dense(128, activation = 'relu'),\n",
        "                                    tf.keras.layers.Dropout(0.2),\n",
        "                                    tf.keras.layers.Dense(10, activation = 'softmax')\n",
        "                                   ])"
      ],
      "metadata": {
        "id": "TBAdn_WDGUi7"
      },
      "execution_count": 91,
      "outputs": []
    },
    {
      "cell_type": "code",
      "source": [
        "model.compile(\n",
        "    optimizer = \"adam\",\n",
        "    loss = 'sparse_categorical_crossentropy',\n",
        "    metrics = ['mse', 'accuracy']\n",
        ")"
      ],
      "metadata": {
        "id": "bVvl2dUiGiuZ"
      },
      "execution_count": 92,
      "outputs": []
    },
    {
      "cell_type": "code",
      "source": [
        "model.fit(X_train, y_train, epochs =8)"
      ],
      "metadata": {
        "colab": {
          "base_uri": "https://localhost:8080/"
        },
        "id": "SEJhLNOZGlEX",
        "outputId": "7b6fafce-e0ec-431d-c17d-178fcb93cb3c"
      },
      "execution_count": 93,
      "outputs": [
        {
          "output_type": "stream",
          "name": "stdout",
          "text": [
            "Epoch 1/8\n",
            "592/592 [==============================] - 2s 3ms/step - loss: 0.5135 - mse: 0.3344 - accuracy: 0.8002\n",
            "Epoch 2/8\n",
            "592/592 [==============================] - 1s 2ms/step - loss: 0.3476 - mse: 0.3332 - accuracy: 0.8398\n",
            "Epoch 3/8\n",
            "592/592 [==============================] - 1s 2ms/step - loss: 0.3260 - mse: 0.3330 - accuracy: 0.8511\n",
            "Epoch 4/8\n",
            "592/592 [==============================] - 1s 2ms/step - loss: 0.3148 - mse: 0.3334 - accuracy: 0.8562\n",
            "Epoch 5/8\n",
            "592/592 [==============================] - 1s 2ms/step - loss: 0.3120 - mse: 0.3332 - accuracy: 0.8553\n",
            "Epoch 6/8\n",
            "592/592 [==============================] - 1s 2ms/step - loss: 0.3059 - mse: 0.3335 - accuracy: 0.8600\n",
            "Epoch 7/8\n",
            "592/592 [==============================] - 1s 2ms/step - loss: 0.3049 - mse: 0.3335 - accuracy: 0.8609\n",
            "Epoch 8/8\n",
            "592/592 [==============================] - 1s 2ms/step - loss: 0.3025 - mse: 0.3336 - accuracy: 0.8591\n"
          ]
        },
        {
          "output_type": "execute_result",
          "data": {
            "text/plain": [
              "<keras.callbacks.History at 0x7fccc52757d0>"
            ]
          },
          "metadata": {},
          "execution_count": 93
        }
      ]
    },
    {
      "cell_type": "code",
      "source": [
        "model.evaluate(X_test, y_test)"
      ],
      "metadata": {
        "colab": {
          "base_uri": "https://localhost:8080/"
        },
        "id": "kvV-apyuHkBw",
        "outputId": "9647a4f8-248d-451f-ca57-cec9bdc392b7"
      },
      "execution_count": 94,
      "outputs": [
        {
          "output_type": "stream",
          "name": "stdout",
          "text": [
            "148/148 [==============================] - 0s 2ms/step - loss: 0.2966 - mse: 0.3360 - accuracy: 0.8625\n"
          ]
        },
        {
          "output_type": "execute_result",
          "data": {
            "text/plain": [
              "[0.29655221104621887, 0.33604493737220764, 0.8625422120094299]"
            ]
          },
          "metadata": {},
          "execution_count": 94
        }
      ]
    },
    {
      "cell_type": "markdown",
      "source": [
        "#LOGISTIC REGRESSION"
      ],
      "metadata": {
        "id": "PZ1vJUI0JjPg"
      }
    },
    {
      "cell_type": "code",
      "source": [
        "model = LogisticRegression(max_iter=1000)\n",
        "model.fit(X_train, y_train)\n",
        "model.score(X_test, y_test)"
      ],
      "metadata": {
        "colab": {
          "base_uri": "https://localhost:8080/"
        },
        "id": "6mzXe8SXJlQ2",
        "outputId": "53535c5e-1297-4203-8165-003afa8f2ac2"
      },
      "execution_count": 100,
      "outputs": [
        {
          "output_type": "execute_result",
          "data": {
            "text/plain": [
              "0.8591638513513513"
            ]
          },
          "metadata": {},
          "execution_count": 100
        }
      ]
    },
    {
      "cell_type": "markdown",
      "source": [
        "#TUTORIAL\n"
      ],
      "metadata": {
        "id": "O4NNF7aEFtnW"
      }
    },
    {
      "cell_type": "code",
      "source": [
        "fashiondata = tf.keras.datasets.mnist"
      ],
      "metadata": {
        "id": "P-C79vivyRVZ"
      },
      "execution_count": 4,
      "outputs": []
    },
    {
      "cell_type": "code",
      "source": [
        "(x_train, y_train), (x_test, y_test) = fashiondata.load_data()"
      ],
      "metadata": {
        "id": "0zaSC9IdyYsW"
      },
      "execution_count": 13,
      "outputs": []
    },
    {
      "cell_type": "code",
      "source": [
        "y_train.shape"
      ],
      "metadata": {
        "colab": {
          "base_uri": "https://localhost:8080/"
        },
        "id": "yAEWlPq9ydjG",
        "outputId": "05f7a9af-3eb1-43ab-88d9-1c1bdbdfeb5f"
      },
      "execution_count": 16,
      "outputs": [
        {
          "output_type": "execute_result",
          "data": {
            "text/plain": [
              "(60000,)"
            ]
          },
          "metadata": {},
          "execution_count": 16
        }
      ]
    },
    {
      "cell_type": "code",
      "source": [
        "x_train.shape"
      ],
      "metadata": {
        "colab": {
          "base_uri": "https://localhost:8080/"
        },
        "id": "_OtKrEVgzLF6",
        "outputId": "01e1ec3b-e924-43a0-deb0-f110e45b5662"
      },
      "execution_count": 15,
      "outputs": [
        {
          "output_type": "execute_result",
          "data": {
            "text/plain": [
              "(60000, 28, 28)"
            ]
          },
          "metadata": {},
          "execution_count": 15
        }
      ]
    },
    {
      "cell_type": "code",
      "source": [
        "x_train, x_test = x_train/255, x_test/255"
      ],
      "metadata": {
        "id": "snv2Cu3gyr6h"
      },
      "execution_count": 14,
      "outputs": []
    },
    {
      "cell_type": "code",
      "source": [
        "model = tf.keras.models.Sequential([\n",
        "                                    tf.keras.layers.Dense(2, activation = 'relu'),\n",
        "                                    tf.keras.layers.Dense(3, activation = 'relu'),\n",
        "                                   tf.keras.layers.Dense(4),\n",
        "                                   ])"
      ],
      "metadata": {
        "id": "VuAzrw7AzJyq"
      },
      "execution_count": 45,
      "outputs": []
    },
    {
      "cell_type": "code",
      "source": [
        "model.compile(\n",
        "    optimizer = \"adam\",\n",
        "    loss = 'sparse_categorical_crossentropy',\n",
        "    metrics = ['accuracy']\n",
        ")"
      ],
      "metadata": {
        "id": "BrjxjI1mzVHu"
      },
      "execution_count": 46,
      "outputs": []
    },
    {
      "cell_type": "code",
      "source": [
        "model.fit(X_train, y_train, epochs =5)"
      ],
      "metadata": {
        "colab": {
          "base_uri": "https://localhost:8080/"
        },
        "id": "bO4PqRTu05xZ",
        "outputId": "17e528e9-9ad1-403a-f963-fa5a1a414d3d"
      },
      "execution_count": 48,
      "outputs": [
        {
          "output_type": "stream",
          "name": "stdout",
          "text": [
            "Epoch 1/5\n",
            "592/592 [==============================] - 2s 2ms/step - loss: 6.1010 - accuracy: 0.3946\n",
            "Epoch 2/5\n",
            "592/592 [==============================] - 1s 2ms/step - loss: 3.5673 - accuracy: 0.5405\n",
            "Epoch 3/5\n",
            "592/592 [==============================] - 1s 2ms/step - loss: 1.4813 - accuracy: 0.5773\n",
            "Epoch 4/5\n",
            "592/592 [==============================] - 1s 2ms/step - loss: 1.3863 - accuracy: 0.5774\n",
            "Epoch 5/5\n",
            "592/592 [==============================] - 1s 2ms/step - loss: 1.3863 - accuracy: 0.5774\n"
          ]
        },
        {
          "output_type": "execute_result",
          "data": {
            "text/plain": [
              "<keras.callbacks.History at 0x7fccce5564d0>"
            ]
          },
          "metadata": {},
          "execution_count": 48
        }
      ]
    },
    {
      "cell_type": "code",
      "source": [
        "model.evaluate(X_test, y_test)"
      ],
      "metadata": {
        "colab": {
          "base_uri": "https://localhost:8080/"
        },
        "id": "2VOjQwPT18Un",
        "outputId": "edd6b96d-55e7-47ae-d7fb-089ab31f04e2"
      },
      "execution_count": 49,
      "outputs": [
        {
          "output_type": "stream",
          "name": "stdout",
          "text": [
            "148/148 [==============================] - 1s 3ms/step - loss: 1.3863 - accuracy: 0.5758\n"
          ]
        },
        {
          "output_type": "execute_result",
          "data": {
            "text/plain": [
              "[1.3862926959991455, 0.5758023858070374]"
            ]
          },
          "metadata": {},
          "execution_count": 49
        }
      ]
    },
    {
      "cell_type": "code",
      "source": [
        ""
      ],
      "metadata": {
        "id": "Fbh_kmBl1-eP"
      },
      "execution_count": null,
      "outputs": []
    }
  ]
}